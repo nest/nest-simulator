{
  "cells": [
    {
      "cell_type": "code",
      "execution_count": null,
      "metadata": {
        "collapsed": false
      },
      "outputs": [],
      "source": [
        "%matplotlib inline"
      ]
    },
    {
      "cell_type": "markdown",
      "metadata": {},
      "source": [
        "# PyNEST Microcircuit: Simulation Parameters\n\nA dictionary with parameters defining the simulation.\n"
      ]
    },
    {
      "cell_type": "code",
      "execution_count": null,
      "metadata": {
        "collapsed": false
      },
      "outputs": [],
      "source": [
        "import os\n\nsim_dict = {\n    # The full simulation time is the sum of a presimulation time and the main\n    # simulation time.\n    # presimulation time (in ms)\n    't_presim': 500.0,\n    # simulation time (in ms)\n    't_sim': 1000.0,\n    # resolution of the simulation (in ms)\n    'sim_resolution': 0.1,\n    # list of recording devices, default is 'spike_recorder'. A 'voltmeter' can\n    # be added to record membrane voltages of the neurons. Nothing will be\n    # recorded if an empty list is given.\n    'rec_dev': ['spike_recorder'],\n    # path to save the output data\n    'data_path': os.path.join(os.getcwd(), 'data/'),\n    # Seed for NEST\n    'rng_seed': 55,\n    # number of threads per MPI process\n    'local_num_threads': 1,\n    # recording interval of the membrane potential (in ms)\n    'rec_V_int': 1.0,\n    # if True, data will be overwritten,\n    # if False, a NESTError is raised if the files already exist\n    'overwrite_files': True,\n    # print the time progress. This should only be used when the simulation\n    # is run on a local machine.\n    'print_time': True}"
      ]
    }
  ],
  "metadata": {
    "kernelspec": {
      "display_name": "Python 3",
      "language": "python",
      "name": "python3"
    },
    "language_info": {
      "codemirror_mode": {
        "name": "ipython",
        "version": 3
      },
      "file_extension": ".py",
      "mimetype": "text/x-python",
      "name": "python",
      "nbconvert_exporter": "python",
      "pygments_lexer": "ipython3",
      "version": "3.9.13"
    }
  },
  "nbformat": 4,
  "nbformat_minor": 0
}