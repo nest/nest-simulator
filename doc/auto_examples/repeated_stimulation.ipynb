{
  "cells": [
    {
      "cell_type": "code",
      "execution_count": null,
      "metadata": {
        "collapsed": false
      },
      "outputs": [],
      "source": [
        "%matplotlib inline"
      ]
    },
    {
      "cell_type": "markdown",
      "metadata": {},
      "source": [
        "\nRepeated Stimulation\n--------------------\n\nSimple example for how to repeat a stimulation protocol\nusing the 'origin' property of devices.\n\nIn this example, a poisson_generator generates a spike train that is\nrecorded directly by a spike_detector, using the following paradigm:\n\n1. A single trial last for 1000ms.\n2. Within each trial, the poisson_generator is active from 100ms to 500ms.\n\nWe achieve this by defining the 'start' and 'stop' properties of the\ngenerator to 100ms and 500ms, respectively, and setting the 'origin' to the\nsimulation time at the beginning of each trial. Start and stop are interpreted\nrelative to the origin.\n\nKEYWORDS:examples plot repeated stimulatioy \n\n"
      ]
    },
    {
      "cell_type": "code",
      "execution_count": null,
      "metadata": {
        "collapsed": false
      },
      "outputs": [],
      "source": [
        "import nest\nimport nest.raster_plot\n\n\n\nrate = 1000.0  # generator rate in spikes/s\nstart = 100.0  # start of simulation relative to trial start, in ms\nstop = 500.0  # end of simulation relative to trial start, in ms\n\n\n\ntrial_duration = 1000.0  # trial duration, in ms\nnum_trials = 5      # number of trials to perform\n\n\n\nnest.ResetKernel()\npg = nest.Create('poisson_generator',\n                 params={'rate': rate,\n                         'start': start,\n                         'stop': stop}\n                 )\n\n\n\nsd = nest.Create('spike_detector')\n\n\n\nnest.Connect(pg, sd)\n\n\n\nfor n in range(num_trials):\n    nest.SetStatus(pg, {'origin': nest.GetKernelStatus()['time']})\n    nest.Simulate(trial_duration)\n\n\nnest.raster_plot.from_device(sd, hist=True, hist_binwidth=100.,\n                             title='Repeated stimulation by Poisson generator')"
      ]
    }
  ],
  "metadata": {
    "kernelspec": {
      "display_name": "Python 3",
      "language": "python",
      "name": "python3"
    },
    "language_info": {
      "codemirror_mode": {
        "name": "ipython",
        "version": 3
      },
      "file_extension": ".py",
      "mimetype": "text/x-python",
      "name": "python",
      "nbconvert_exporter": "python",
      "pygments_lexer": "ipython3",
      "version": "3.6.1"
    }
  },
  "nbformat": 4,
  "nbformat_minor": 0
}