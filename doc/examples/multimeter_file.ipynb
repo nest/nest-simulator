{
 "cells": [
   {
  "cell_type": "markdown",
  "metadata": {},
  "source": [
    "\n\n"
  ]
},{
 "cell_type": "code",
 "execution_count": null,
 "metadata": {
  "collapsed": false
 },
 "outputs": [],
 "source": [
   "    \n    \n"
 ]
},{
  "cell_type": "markdown",
  "metadata": {},
  "source": [
    "Multimeter to file example\n--------------------------\n\nThis file demonstrates recording from an `iaf_cond_alpha` neuron using a\nmultimeter and writing data to file.\n\n"
  ]
},{
 "cell_type": "code",
 "execution_count": null,
 "metadata": {
  "collapsed": false
 },
 "outputs": [],
 "source": [
   "    \n"
 ]
},{
  "cell_type": "markdown",
  "metadata": {},
  "source": [
    "First, the necessary modules for simulation and plotting are imported.\n\nThe simulation kernel is put back to its initial state using `ResetKernel`.\n\n"
  ]
},{
 "cell_type": "code",
 "execution_count": null,
 "metadata": {
  "collapsed": false
 },
 "outputs": [],
 "source": [
   "    \n    import nest\n    import numpy\n    import pylab\n    \n    nest.ResetKernel()\n    \n"
 ]
},{
  "cell_type": "markdown",
  "metadata": {},
  "source": [
    "With `SetKernelStatus`, global properties of the simulation kernel can be\nspecified. The following properties are related to writing to file:\n\n* `overwrite_files` is set to True to permit overwriting of an existing file.\n* `data_path` is the path to which all data is written. It is given relative to\n  the current working directory.\n* 'data_prefix' allows to specify a common prefix for all data files.\n\n"
  ]
},{
 "cell_type": "code",
 "execution_count": null,
 "metadata": {
  "collapsed": false
 },
 "outputs": [],
 "source": [
   "    \n    nest.SetKernelStatus({\"overwrite_files\": True,\n                          \"data_path\": \"\",\n                          \"data_prefix\": \"\"})\n    \n"
 ]
},{
  "cell_type": "markdown",
  "metadata": {},
  "source": [
    "For illustration, the recordables of the `iaf_cond_alpha` neuron model are\ndisplayed. This model is an implementation of a spiking neuron using\nintegrate-and-fire dynamics with conductance-based synapses. Incoming spike\nevents induce a post-synaptic change of conductance modelled by an alpha\nfunction.\n\n"
  ]
},{
 "cell_type": "code",
 "execution_count": null,
 "metadata": {
  "collapsed": false
 },
 "outputs": [],
 "source": [
   "    \n    print(\"iaf_cond_alpha recordables: {0}\".format(\n          nest.GetDefaults(\"iaf_cond_alpha\")[\"recordables\"]))\n    \n"
 ]
},{
  "cell_type": "markdown",
  "metadata": {},
  "source": [
    "A neuron, a multimeter as recording device and two spike generators for\nexcitatory and inhibitory stimulation are instantiated. The command `Create`\nexpects a model type and, optionally, the desired number of nodes and a\ndictionary of parameters to overwrite the default values of the model.\n\n* For the neuron, the rise time of the excitatory synaptic alpha function\n  in ms `tau_syn_ex` and the reset potential of the membrane in mV `V_reset`\n  are specified.\n* For the multimeter, the time interval for recording in ms `interval` and a\n  selection of measures to record (the membrane voltage in mV `V_m` and the\n  excitatory `g_ex` and inhibitoy `g_in` synaptic conductances in nS) are set.\n\n  In addition, more parameters can be modified for writing to file:\n\n  - `withgid` is set to True to record the global id of the observed node(s).\n    (default: False).\n  - `to_file` indicates whether to write the recordings to file and is set\n    to True.\n  - `label` specifies an arbitrary label for the device. It is used instead of\n    the name of the model in the output file name.\n\n* For the spike generators, the spike times in ms `spike_times` are given\n  explicitly.\n\n"
  ]
},{
 "cell_type": "code",
 "execution_count": null,
 "metadata": {
  "collapsed": false
 },
 "outputs": [],
 "source": [
   "    \n    n = nest.Create(\"iaf_cond_alpha\",\n                    params={\"tau_syn_ex\": 1.0, \"V_reset\": -70.0})\n    \n    m = nest.Create(\"multimeter\",\n                    params={\"interval\": 0.1,\n                            \"record_from\": [\"V_m\", \"g_ex\", \"g_in\"],\n                            \"withgid\": True,\n                            \"to_file\": True,\n                            \"label\": \"my_multimeter\"})\n    \n    s_ex = nest.Create(\"spike_generator\",\n                       params={\"spike_times\": numpy.array([10.0, 20.0, 50.0])})\n    s_in = nest.Create(\"spike_generator\",\n                       params={\"spike_times\": numpy.array([15.0, 25.0, 55.0])})\n    \n"
 ]
},{
  "cell_type": "markdown",
  "metadata": {},
  "source": [
    "Next, the spike generators are connected to the neuron with `Connect`. Synapse\nspecifications can be provided in a dictionary. In this example of a\nconductance-based neuron, the synaptic weight `weight` is given in nS.\nNote that it is positive for excitatory and negative for inhibitory\nconnections.\n\n"
  ]
},{
 "cell_type": "code",
 "execution_count": null,
 "metadata": {
  "collapsed": false
 },
 "outputs": [],
 "source": [
   "    \n    nest.Connect(s_ex, n, syn_spec={\"weight\": 40.0})\n    nest.Connect(s_in, n, syn_spec={\"weight\": -20.0})\n    nest.Connect(m, n)\n    \n"
 ]
},{
  "cell_type": "markdown",
  "metadata": {},
  "source": [
    "A network simulation with a duration of 100 ms is started with `Simulate`.\n\n"
  ]
},{
 "cell_type": "code",
 "execution_count": null,
 "metadata": {
  "collapsed": false
 },
 "outputs": [],
 "source": [
   "    \n    nest.Simulate(100.)\n    \n"
 ]
},{
  "cell_type": "markdown",
  "metadata": {},
  "source": [
    "After the simulation, the recordings are obtained from the multimeter via the\nkey `events` of the status dictionary accessed by `GetStatus`. `times`\nindicates the recording times stored for each data point. They are recorded\nif the parameter `withtime` of the multimeter is set to True which is the\ndefault case.\n\n"
  ]
},{
 "cell_type": "code",
 "execution_count": null,
 "metadata": {
  "collapsed": false
 },
 "outputs": [],
 "source": [
   "    \n    events = nest.GetStatus(m)[0][\"events\"]\n    t = events[\"times\"]\n    \n"
 ]
},{
  "cell_type": "markdown",
  "metadata": {},
  "source": [
    "Finally, the time courses of the membrane voltage and the synaptic\nconductance are displayed.\n\n"
  ]
},{
 "cell_type": "code",
 "execution_count": null,
 "metadata": {
  "collapsed": false
 },
 "outputs": [],
 "source": [
   "    \n    pylab.clf()\n    \n    pylab.subplot(211)\n    pylab.plot(t, events[\"V_m\"])\n    pylab.axis([0, 100, -75, -53])\n    pylab.ylabel(\"membrane potential (mV)\")\n    \n    pylab.subplot(212)\n    pylab.plot(t, events[\"g_ex\"], t, events[\"g_in\"])\n    pylab.axis([0, 100, 0, 45])\n    pylab.xlabel(\"time (ms)\")\n    pylab.ylabel(\"synaptic conductance (nS)\")\n    pylab.legend((\"g_exc\", \"g_inh\"))\n    \n    \n"
 ]
},{
  "cell_type": "markdown",
  "metadata": {},
  "source": [
    "\n\n"
  ]
},{
 "cell_type": "code",
 "execution_count": null,
 "metadata": {
  "collapsed": false
 },
 "outputs": [],
 "source": [
   "\n"
 ]
}
],
 "metadata": {
  "kernelspec": {
   "display_name": "Python 2",
   "language": "python",
   "name": "python2"
  },
  "language_info": {
   "codemirror_mode": {
    "name": "ipython",
    "version": 2
   },
   "file_extension": ".py",
   "mimetype": "text/x-python",
   "name": "python",
   "nbconvert_exporter": "python",
   "pygments_lexer": "ipython2",
   "version": "2.7.3"
  }
 },
 "nbformat": 4,
 "nbformat_minor": 0
}