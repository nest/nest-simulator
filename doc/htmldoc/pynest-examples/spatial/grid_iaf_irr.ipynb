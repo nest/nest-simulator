{
 "cells": [
  {
   "cell_type": "code",
   "execution_count": null,
   "metadata": {
    "collapsed": false
   },
   "outputs": [],
   "source": [
    "%matplotlib inline"
   ]
  },
  {
   "cell_type": "markdown",
   "metadata": {},
   "source": [
    "\n",
    "# Freely placed neurons\n",
    "\n",
    "Create 12 freely placed iaf_psc_alpha neurons.\n",
    "\n",
    "BCCN Tutorial @ CNS*09\n",
    "Hans Ekkehard Plesser, UMB\n"
   ]
  },
  {
   "cell_type": "code",
   "execution_count": null,
   "metadata": {
    "collapsed": false
   },
   "outputs": [],
   "source": [
    "import nest\n",
    "import matplotlib.pyplot as plt\n",
    "\n",
    "nest.ResetKernel()\n",
    "\n",
    "pos = nest.spatial.free([nest.random.uniform(-0.75, 0.75), nest.random.uniform(-0.5, 0.5)], extent=[2., 1.5])\n",
    "\n",
    "l1 = nest.Create('iaf_psc_alpha', 12, positions=pos)\n",
    "\n",
    "nest.PrintNodes()\n",
    "\n",
    "nest.PlotLayer(l1, nodesize=50)\n",
    "\n",
    "# beautify\n",
    "plt.axis([-1.0, 1.0, -0.75, 0.75])\n",
    "plt.axes().set_aspect('equal', 'box')\n",
    "plt.axes().set_xticks((-0.75, -0.25, 0.25, 0.75))\n",
    "plt.axes().set_yticks((-0.5, 0, 0.5))\n",
    "plt.grid(True)\n",
    "plt.xlabel('Extent: 2.0')\n",
    "plt.ylabel('Extent: 1.5')\n",
    "\n",
    "plt.show()\n",
    "\n",
    "# plt.savefig('grid_iaf_irr.png')"
   ]
  },
  {
   "cell_type": "markdown",
   "metadata": {},
   "source": [
    "[![EBRAINS Notebook](https://nest-simulator.org/TryItOnEBRAINS.png)](https://lab.ebrains.eu/hub/user-redirect/git-pull?repo=https%3A%2F%2Fgithub.com%2Fjessica-mitchell%2Fnest-simulator&urlpath=lab%2Ftree%2Fnest-simulator%2Fdoc%2Fhtmldoc%2Fpynest-examples%2Fspatial%2Fgrid_iaf_irr.ipynb&branch=ebrains-button)\n"
   ]
  }
 ],
 "metadata": {
  "kernelspec": {
   "display_name": "EBRAINS-22.10",
   "language": "python",
   "name": "spack_python_kernel_release_202210"
  },
  "language_info": {
   "codemirror_mode": {
    "name": "ipython",
    "version": 3
   },
   "file_extension": ".py",
   "mimetype": "text/x-python",
   "name": "python",
   "nbconvert_exporter": "python",
   "pygments_lexer": "ipython3",
   "version": "3.9.13"
  }
 },
 "nbformat": 4,
 "nbformat_minor": 5
}
