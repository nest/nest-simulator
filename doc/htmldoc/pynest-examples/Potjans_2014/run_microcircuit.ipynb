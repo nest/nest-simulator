{
 "cells": [
  {
   "cell_type": "code",
   "execution_count": null,
   "metadata": {
    "collapsed": false
   },
   "outputs": [],
   "source": [
    "%matplotlib inline"
   ]
  },
  {
   "cell_type": "markdown",
   "metadata": {},
   "source": [
    "# PyNEST Microcircuit: Run Simulation\n",
    "\n",
    "This is an example script for running the microcircuit model and generating\n",
    "basic plots of the network activity.\n"
   ]
  },
  {
   "cell_type": "markdown",
   "metadata": {},
   "source": [
    "Import the necessary modules and start the time measurements.\n",
    "\n"
   ]
  },
  {
   "cell_type": "code",
   "execution_count": null,
   "metadata": {
    "collapsed": false
   },
   "outputs": [],
   "source": [
    "from stimulus_params import stim_dict\n",
    "from network_params import net_dict\n",
    "from sim_params import sim_dict\n",
    "import network\n",
    "import nest\n",
    "import numpy as np\n",
    "import time\n",
    "time_start = time.time()"
   ]
  },
  {
   "cell_type": "markdown",
   "metadata": {},
   "source": [
    "Initialize the network with simulation, network and stimulation parameters,\n",
    "then create and connect all nodes, and finally simulate.\n",
    "The times for a presimulation and the main simulation are taken\n",
    "independently. A presimulation is useful because the spike activity typically\n",
    "exhibits a startup transient. In benchmark simulations, this transient should\n",
    "be excluded from a time measurement of the state propagation phase. Besides,\n",
    "statistical measures of the spike activity should only be computed after the\n",
    "transient has passed.\n",
    "\n"
   ]
  },
  {
   "cell_type": "code",
   "execution_count": null,
   "metadata": {
    "collapsed": false
   },
   "outputs": [],
   "source": [
    "net = network.Network(sim_dict, net_dict, stim_dict)\n",
    "time_network = time.time()\n",
    "\n",
    "net.create()\n",
    "time_create = time.time()\n",
    "\n",
    "net.connect()\n",
    "time_connect = time.time()\n",
    "\n",
    "net.simulate(sim_dict['t_presim'])\n",
    "time_presimulate = time.time()\n",
    "\n",
    "net.simulate(sim_dict['t_sim'])\n",
    "time_simulate = time.time()"
   ]
  },
  {
   "cell_type": "markdown",
   "metadata": {},
   "source": [
    "Plot a spike raster of the simulated neurons and a box plot of the firing\n",
    "rates for each population.\n",
    "For visual purposes only, spikes 100 ms before and 100 ms after the thalamic\n",
    "stimulus time are plotted here by default.\n",
    "The computation of spike rates discards the presimulation time to exclude\n",
    "initialization artifacts.\n",
    "\n"
   ]
  },
  {
   "cell_type": "code",
   "execution_count": null,
   "metadata": {
    "collapsed": false
   },
   "outputs": [],
   "source": [
    "raster_plot_interval = np.array([stim_dict['th_start'] - 100.0,\n",
    "                                 stim_dict['th_start'] + 100.0])\n",
    "firing_rates_interval = np.array([sim_dict['t_presim'],\n",
    "                                  sim_dict['t_presim'] + sim_dict['t_sim']])\n",
    "net.evaluate(raster_plot_interval, firing_rates_interval)\n",
    "time_evaluate = time.time()"
   ]
  },
  {
   "cell_type": "markdown",
   "metadata": {},
   "source": [
    "Summarize time measurements. Rank 0 usually takes longest because of the\n",
    "data evaluation and print calls.\n",
    "\n"
   ]
  },
  {
   "cell_type": "code",
   "execution_count": null,
   "metadata": {
    "collapsed": false
   },
   "outputs": [],
   "source": [
    "print(\n",
    "    '\\nTimes of Rank {}:\\n'.format(\n",
    "        nest.Rank()) +\n",
    "    '  Total time:          {:.3f} s\\n'.format(\n",
    "        time_evaluate -\n",
    "        time_start) +\n",
    "    '  Time to initialize:  {:.3f} s\\n'.format(\n",
    "        time_network -\n",
    "        time_start) +\n",
    "    '  Time to create:      {:.3f} s\\n'.format(\n",
    "        time_create -\n",
    "        time_network) +\n",
    "    '  Time to connect:     {:.3f} s\\n'.format(\n",
    "        time_connect -\n",
    "        time_create) +\n",
    "    '  Time to presimulate: {:.3f} s\\n'.format(\n",
    "        time_presimulate -\n",
    "        time_connect) +\n",
    "    '  Time to simulate:    {:.3f} s\\n'.format(\n",
    "        time_simulate -\n",
    "        time_presimulate) +\n",
    "    '  Time to evaluate:    {:.3f} s\\n'.format(\n",
    "        time_evaluate -\n",
    "        time_simulate))"
   ]
  }
 ],
 "metadata": {
  "kernelspec": {
   "display_name": "EBRAINS-22.10",
   "language": "python",
   "name": "spack_python_kernel_release_202210"
  },
  "language_info": {
   "codemirror_mode": {
    "name": "ipython",
    "version": 3
   },
   "file_extension": ".py",
   "mimetype": "text/x-python",
   "name": "python",
   "nbconvert_exporter": "python",
   "pygments_lexer": "ipython3",
   "version": "3.9.13"
  }
 },
 "nbformat": 4,
 "nbformat_minor": 5
}
