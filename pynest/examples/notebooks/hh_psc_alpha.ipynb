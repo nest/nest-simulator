{
 "cells": [
  {
   "cell_type": "code",
   "execution_count": null,
   "metadata": {
    "collapsed": false
   },
   "outputs": [],
   "source": [
    "%matplotlib inline"
   ]
  },
  {
   "cell_type": "markdown",
   "metadata": {},
   "source": [
    "\n",
    "# Example using Hodgkin-Huxley neuron\n",
    "\n",
    "This example produces a rate-response (FI) curve of the Hodgkin-Huxley\n",
    "neuron ``hh_psc_alpha`` in response to a range of different current (DC) stimulations.\n",
    "The result is plotted using matplotlib.\n",
    "\n",
    "Since a DC input affects only the neuron's channel dynamics, this routine\n",
    "does not yet check correctness of synaptic response.\n"
   ]
  },
  {
   "cell_type": "code",
   "execution_count": null,
   "metadata": {
    "collapsed": false
   },
   "outputs": [],
   "source": [
    "import nest\n",
    "import numpy as np\n",
    "import matplotlib.pyplot as plt\n",
    "\n",
    "nest.set_verbosity('M_WARNING')\n",
    "nest.ResetKernel()\n",
    "\n",
    "simtime = 1000\n",
    "\n",
    "# Amplitude range, in pA\n",
    "dcfrom = 0\n",
    "dcstep = 20\n",
    "dcto = 2000\n",
    "\n",
    "h = 0.1  # simulation step size in mS\n",
    "\n",
    "neuron = nest.Create('hh_psc_alpha')\n",
    "sr = nest.Create('spike_recorder')\n",
    "\n",
    "sr.record_to = 'memory'\n",
    "\n",
    "nest.Connect(neuron, sr, syn_spec={'weight': 1.0, 'delay': h})\n",
    "\n",
    "# Simulation loop\n",
    "n_data = int(dcto / float(dcstep))\n",
    "amplitudes = np.zeros(n_data)\n",
    "event_freqs = np.zeros(n_data)\n",
    "for i, amp in enumerate(range(dcfrom, dcto, dcstep)):\n",
    "    neuron.I_e = float(amp)\n",
    "    print(f\"Simulating with current I={amp} pA\")\n",
    "    nest.Simulate(1000)  # one second warm-up time for equilibrium state\n",
    "    sr.n_events = 0  # then reset spike counts\n",
    "    nest.Simulate(simtime)  # another simulation call to record firing rate\n",
    "\n",
    "    n_events = sr.n_events\n",
    "    amplitudes[i] = amp\n",
    "    event_freqs[i] = n_events / (simtime / 1000.)\n",
    "\n",
    "plt.plot(amplitudes, event_freqs)\n",
    "plt.show()"
   ]
  },
  {
   "cell_type": "markdown",
   "metadata": {},
   "source": [
    "[![EBRAINS Notebook](https://nest-simulator.org/TryItOnEBRAINS.png)](https://lab.ebrains.eu/hub/user-redirect/git-pull?repo=https%3A%2F%2Fgithub.com%2Fjessica-mitchell%2Fnest-simulator&urlpath=lab%2Ftree%2Fnest-simulator%2Fpynest%2Fexamples%2Fnotebooks%2Fnotebooks%2Fhh_psc_alpha.ipynb&branch=ebrains-button)\n"
   ]
  }
 ],
 "metadata": {
  "kernelspec": {
   "display_name": "EBRAINS-22.10",
   "language": "python",
   "name": "spack_python_kernel_release_202210"
  },
  "language_info": {
   "codemirror_mode": {
    "name": "ipython",
    "version": 3
   },
   "file_extension": ".py",
   "mimetype": "text/x-python",
   "name": "python",
   "nbconvert_exporter": "python",
   "pygments_lexer": "ipython3",
   "version": "3.9.6"
  }
 },
 "nbformat": 4,
 "nbformat_minor": 5
}
