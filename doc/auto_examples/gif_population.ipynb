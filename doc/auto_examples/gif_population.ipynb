{
  "cells": [
    {
      "cell_type": "code",
      "execution_count": null,
      "metadata": {
        "collapsed": false
      },
      "outputs": [],
      "source": [
        "%matplotlib inline"
      ]
    },
    {
      "cell_type": "markdown",
      "metadata": {},
      "source": [
        "\nPopulation of GIF neuron model with oscillatory behavior\n--------------------------------------------------------\n\nThis script simulates a population of generalized integrate-and-fire (GIF)\nmodel neurons driven by noise from a group of Poisson generators.\n\nDue to spike-frequency adaptation, the GIF neurons tend to show oscillatory\nbehavior on the time scale comparable with the time constant of adaptation\nelements (stc and sfa).\n\nPopulation dynamics are visualized by raster plot and as average firing rate.\n\n"
      ]
    },
    {
      "cell_type": "code",
      "execution_count": null,
      "metadata": {
        "collapsed": false
      },
      "outputs": [],
      "source": [
        "'''\nImport all necessary modules for simulation and plotting.\n'''\n\nimport nest\nimport nest.raster_plot\nimport matplotlib.pyplot as plt\n\nnest.ResetKernel()\n\n'''\nAssigning the simulation parameters to variables.\n'''\n\ndt = 0.1\nsimtime = 2000.0\n\n'''\nDefinition of neural parameters for the GIF model. These parameters are\nextracted by fitting the model to experimental data: Mensi, S., Naud, R.,\nPozzorini, C., Avermann, M., Petersen, C.C. and Gerstner, W., 2012. Parameter\nextraction and classification of three cortical neuron types reveals two\ndistinct adaptation mechanisms. Journal of Neurophysiology, 107(6),\npp.1756-1775.\n'''\n\nneuron_params = {\"C_m\": 83.1,\n                 \"g_L\": 3.7,\n                 \"E_L\": -67.0,\n                 \"Delta_V\": 1.4,\n                 \"V_T_star\": -39.6,\n                 \"t_ref\": 4.0,\n                 \"V_reset\": -36.7,\n                 \"lambda_0\": 1.0,\n                 \"q_stc\": [56.7, -6.9],\n                 \"tau_stc\": [57.8, 218.2],\n                 \"q_sfa\": [11.7, 1.8],\n                 \"tau_sfa\": [53.8, 640.0],\n                 \"tau_syn_ex\": 10.0,\n                 }\n\n'''\nDefinition of the parameters for the population of GIF neurons.\n'''\n\nN_ex = 100  # size of the population\np_ex = 0.3  # connection probability inside the population\nw_ex = 30.0  # synaptic weights inside the population (pA)\n\n'''\nDefinition of the parameters for the Poisson group and its connection with GIF\nneurons population.\n'''\n\nN_noise = 50  # size of Poisson group\nrate_noise = 10.0  # firing rate of Poisson neurons (Hz)\nw_noise = 20.0  # synaptic weights from Poisson to population neurons (pA)\n\n'''\nConfiguration of the simulation kernel with the previously defined time\nresolution.\n'''\n\nnest.SetKernelStatus({\"resolution\": dt})\n\n'''\nBuilding a population of GIF neurons, a group of Poisson neurons and a\nspike detector device for capturing spike times of the population.\n'''\n\npopulation = nest.Create(\"gif_psc_exp\", N_ex, params=neuron_params)\n\nnoise = nest.Create(\"poisson_generator\", N_noise, params={'rate': rate_noise})\n\nspike_det = nest.Create(\"spike_detector\")\n\n\n'''\nBuild connections inside the population of GIF neurons population, between\nPoisson group and the population, and also connecting spike detector to the\npopulation.\n'''\n\nnest.Connect(\n    population, population, {'rule': 'pairwise_bernoulli', 'p': p_ex},\n    syn_spec={\"weight\": w_ex}\n    )\n\nnest.Connect(noise, population, 'all_to_all', syn_spec={\"weight\": w_noise})\n\nnest.Connect(population, spike_det)\n\n'''\nSimulation of the network.\n'''\n\nnest.Simulate(simtime)\n\n'''\nPlotting the results of simulation including raster plot and histogram of\npopulation activity.\n'''\n\nnest.raster_plot.from_device(spike_det, hist=True)\nplt.title('Population dynamics')"
      ]
    }
  ],
  "metadata": {
    "kernelspec": {
      "display_name": "Python 3",
      "language": "python",
      "name": "python3"
    },
    "language_info": {
      "codemirror_mode": {
        "name": "ipython",
        "version": 3
      },
      "file_extension": ".py",
      "mimetype": "text/x-python",
      "name": "python",
      "nbconvert_exporter": "python",
      "pygments_lexer": "ipython3",
      "version": "3.6.1"
    }
  },
  "nbformat": 4,
  "nbformat_minor": 0
}