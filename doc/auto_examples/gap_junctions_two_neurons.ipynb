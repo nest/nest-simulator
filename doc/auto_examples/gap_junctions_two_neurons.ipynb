{
  "cells": [
    {
      "cell_type": "code",
      "execution_count": null,
      "metadata": {
        "collapsed": false
      },
      "outputs": [],
      "source": [
        "%matplotlib inline"
      ]
    },
    {
      "cell_type": "markdown",
      "metadata": {},
      "source": [
        "\nGap Junctions: Two neuron example\n------------------\n\nThis script simulates two Hodgkin-Huxley neurons of type `hh_psc_alpha_gap`\nconnected by a gap junction. Both neurons receive a constant current of\n100.0 pA. The neurons are initialized with different membrane potentials and\nsynchronize over time due to the gap-junction connection.\n\n"
      ]
    },
    {
      "cell_type": "code",
      "execution_count": null,
      "metadata": {
        "collapsed": false
      },
      "outputs": [],
      "source": [
        "import nest\nimport pylab as pl\nimport numpy\n\nnest.ResetKernel()\n\n\"\"\"\nFirst we set the resolution of the simulation, create two neurons and\ncreate a `voltmeter` for recording.\n\"\"\"\nnest.SetKernelStatus({'resolution': 0.05})\n\nneuron = nest.Create('hh_psc_alpha_gap', 2)\n\nvm = nest.Create('voltmeter', params={'to_file': False,\n                                      'withgid': True,\n                                      'withtime': True,\n                                      'interval': 0.1})\n\n\"\"\"\nThen we set the constant current input, modify the inital membrane\npotential of one of the neurons and connect the neurons to the `voltmeter`.\n\"\"\"\nnest.SetStatus(neuron, {'I_e': 100.})\nnest.SetStatus([neuron[0]], {'V_m': -10.})\n\nnest.Connect(vm, neuron, 'all_to_all')\n\n\"\"\"\nIn order to create the `gap_junction` connection we employ the `all_to_all`\nconnection rule: Gap junctions are bidirectional connections, therefore we\nneed to connect `neuron[0]` to `neuron[1]` and `neuron[1]` to `neuron[0]`:\n\"\"\"\nnest.Connect(neuron, neuron,\n             {'rule': 'all_to_all', 'autapses': False},\n             {'model': 'gap_junction', 'weight': 0.5})\n\n\"\"\"\nFinally we start the simulation and plot the membrane potentials of\nboth neurons.\n\"\"\"\nnest.Simulate(351.)\n\nsenders = nest.GetStatus(vm, 'events')[0]['senders']\ntimes = nest.GetStatus(vm, 'events')[0]['times']\nV = nest.GetStatus(vm, 'events')[0]['V_m']\n\npl.figure(1)\npl.plot(times[numpy.where(senders == 1)],\n        V[numpy.where(senders == 1)], 'r-')\npl.plot(times[numpy.where(senders == 2)],\n        V[numpy.where(senders == 2)], 'g-')\npl.xlabel('time (ms)')\npl.ylabel('membrane potential (mV)')\npl.show()"
      ]
    }
  ],
  "metadata": {
    "kernelspec": {
      "display_name": "Python 3",
      "language": "python",
      "name": "python3"
    },
    "language_info": {
      "codemirror_mode": {
        "name": "ipython",
        "version": 3
      },
      "file_extension": ".py",
      "mimetype": "text/x-python",
      "name": "python",
      "nbconvert_exporter": "python",
      "pygments_lexer": "ipython3",
      "version": "3.6.1"
    }
  },
  "nbformat": 4,
  "nbformat_minor": 0
}