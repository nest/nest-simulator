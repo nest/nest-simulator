{
 "cells": [
  {
   "cell_type": "code",
   "execution_count": null,
   "metadata": {
    "collapsed": false
   },
   "outputs": [],
   "source": [
    "%matplotlib inline"
   ]
  },
  {
   "cell_type": "markdown",
   "metadata": {},
   "source": [
    "\n",
    "# Convergent projection and rectangular mask, from target perspective\n",
    "\n",
    "Create two populations of iaf_psc_alpha neurons on a 30x30 grid\n",
    "\n",
    "Connect the two populations with convergent projection and rectangular mask, and isualize connection from target perspective.\n",
    "\n",
    "BCCN Tutorial @ CNS*09\n",
    "Hans Ekkehard Plesser, UMB\n"
   ]
  },
  {
   "cell_type": "code",
   "execution_count": null,
   "metadata": {
    "collapsed": false
   },
   "outputs": [],
   "source": [
    "import nest\n",
    "import matplotlib.pyplot as plt\n",
    "import numpy as np\n",
    "\n",
    "nest.ResetKernel()\n",
    "nest.set_verbosity('M_WARNING')\n",
    "\n",
    "pos = nest.spatial.grid(shape=[30, 30], extent=[3., 3.], edge_wrap=True)"
   ]
  },
  {
   "cell_type": "markdown",
   "metadata": {},
   "source": [
    "create and connect two populations\n",
    "\n"
   ]
  },
  {
   "cell_type": "code",
   "execution_count": null,
   "metadata": {
    "collapsed": false
   },
   "outputs": [],
   "source": [
    "a = nest.Create('iaf_psc_alpha', positions=pos)\n",
    "b = nest.Create('iaf_psc_alpha', positions=pos)\n",
    "\n",
    "nest.Connect(a, b,\n",
    "             conn_spec={'rule': 'pairwise_bernoulli',\n",
    "                        'p': 0.5,\n",
    "                        'use_on_source': True,\n",
    "                        'mask': {'rectangular': {'lower_left': [-0.2, -0.5],\n",
    "                                                 'upper_right': [0.2, 0.5]}}},\n",
    "             syn_spec={'weight': nest.random.uniform(0.5, 2.)})\n",
    "plt.clf()"
   ]
  },
  {
   "cell_type": "markdown",
   "metadata": {},
   "source": [
    "plot sources of neurons in different grid locations\n",
    "\n"
   ]
  },
  {
   "cell_type": "code",
   "execution_count": null,
   "metadata": {
    "collapsed": false
   },
   "outputs": [],
   "source": [
    "for tgt_index in [30 * 15 + 15, 0]:\n",
    "    # obtain node id for center\n",
    "    tgt = a[tgt_index:tgt_index + 1]\n",
    "\n",
    "    # obtain list of outgoing connections for ctr\n",
    "    spos = nest.GetTargetPositions(tgt, b)[0]\n",
    "\n",
    "    spos_x = np.array([x for x, y in spos])\n",
    "    spos_y = np.array([y for x, y in spos])\n",
    "\n",
    "    print(spos_x)\n",
    "    print(spos_y)\n",
    "\n",
    "    # scatter-plot\n",
    "    plt.scatter(spos_x, spos_y, 20, zorder=10)\n",
    "\n",
    "    # mark sender position with transparent red circle\n",
    "    ctrpos = np.array(nest.GetPosition(tgt))\n",
    "    plt.gca().add_patch(plt.Circle(ctrpos, radius=0.1, zorder=99,\n",
    "                                   fc='r', alpha=0.4, ec='none'))\n",
    "\n",
    "    # mark mask position with open red rectangle\n",
    "    plt.gca().add_patch(\n",
    "        plt.Rectangle(ctrpos - (0.2, 0.5), 0.4, 1.0, zorder=1,\n",
    "                      fc='none', ec='r', lw=3))\n",
    "\n",
    "# mark layer edge\n",
    "plt.gca().add_patch(plt.Rectangle((-1.5, -1.5), 3.0, 3.0, zorder=1,\n",
    "                                  fc='none', ec='k', lw=3))\n",
    "\n",
    "# beautify\n",
    "plt.axes().set_xticks(np.arange(-1.5, 1.55, 0.5))\n",
    "plt.axes().set_yticks(np.arange(-1.5, 1.55, 0.5))\n",
    "plt.grid(True)\n",
    "plt.axis([-2.0, 2.0, -2.0, 2.0])\n",
    "plt.axes().set_aspect('equal', 'box')\n",
    "plt.title('Connection sources')\n",
    "plt.show()"
   ]
  },
  {
   "cell_type": "markdown",
   "metadata": {},
   "source": [
    "[![EBRAINS Notebook](https://nest-simulator.org/TryItOnEBRAINS.png)](https://lab.ebrains.eu/hub/user-redirect/git-pull?repo=https%3A%2F%2Fgithub.com%2Fjessica-mitchell%2Fnest-simulator&urlpath=lab%2Ftree%2Fnest-simulator%2Fpynest%2Fexamples%2Fnotebooks%2Fspatial%2Fconncon_sources.ipynb&branch=ebrains-button)\n"
   ]
  }
 ],
 "metadata": {
  "kernelspec": {
   "display_name": "EBRAINS-22.10",
   "language": "python",
   "name": "spack_python_kernel_release_202210"
  },
  "language_info": {
   "codemirror_mode": {
    "name": "ipython",
    "version": 3
   },
   "file_extension": ".py",
   "mimetype": "text/x-python",
   "name": "python",
   "nbconvert_exporter": "python",
   "pygments_lexer": "ipython3",
   "version": "3.9.13"
  }
 },
 "nbformat": 4,
 "nbformat_minor": 5
}
