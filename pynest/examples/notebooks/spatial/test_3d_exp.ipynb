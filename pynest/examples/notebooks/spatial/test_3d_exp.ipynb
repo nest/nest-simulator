{
  "cells": [
    {
      "cell_type": "code",
      "execution_count": null,
      "metadata": {
        "collapsed": false
      },
      "outputs": [],
      "source": [
        "%matplotlib inline"
      ]
    },
    {
      "cell_type": "markdown",
      "metadata": {},
      "source": [
        "\n# A spatial network in 3D with exponential connection probabilities\n\nHans Ekkehard Plesser, UMB\n"
      ]
    },
    {
      "cell_type": "code",
      "execution_count": null,
      "metadata": {
        "collapsed": false
      },
      "outputs": [],
      "source": [
        "import nest\nimport matplotlib.pyplot as plt\nfrom mpl_toolkits.mplot3d import Axes3D\n\nnest.ResetKernel()\n\npos = nest.spatial.free(nest.random.uniform(-0.5, 0.5), extent=[1.5, 1.5, 1.5])\n\nl1 = nest.Create('iaf_psc_alpha', 1000, positions=pos)\n\n# visualize\n\n# extract position information, transpose to list of x, y and z positions\nxpos, ypos, zpos = zip(*nest.GetPosition(l1))\nfig = plt.figure()\nax = fig.add_subplot(111, projection='3d')\nax.scatter(xpos, ypos, zpos, s=15, facecolor='b')\n\n# Exponential connections in full box volume [-0.75,0.75]**3\nnest.Connect(l1, l1,\n             {'rule': 'pairwise_bernoulli',\n              'p': nest.spatial_distributions.exponential(nest.spatial.distance,\n                                                          beta=0.25),\n              'allow_autapses': False,\n              'mask': {'box': {'lower_left': [-0.75, -0.75, -0.75],\n                               'upper_right': [0.75, 0.75, 0.75]}}})\n\n# show connections from center element\n# sender shown in red, targets in green\nctr = nest.FindCenterElement(l1)\nxtgt, ytgt, ztgt = zip(*nest.GetTargetPositions(ctr, l1)[0])\nxctr, yctr, zctr = nest.GetPosition(ctr)\nax.scatter([xctr], [yctr], [zctr], s=40, facecolor='r')\nax.scatter(xtgt, ytgt, ztgt, s=40, facecolor='g', edgecolor='g')\n\ntgts = nest.GetTargetNodes(ctr, l1)[0]\ndistances = nest.Distance(ctr, l1)\ntgt_distances = [d for i, d in enumerate(distances) if i + 1 in tgts]\n\nplt.figure()\nplt.hist(tgt_distances, 25)\nplt.show()"
      ]
    }
  ],
  "metadata": {
    "kernelspec": {
      "display_name": "Python 3",
      "language": "python",
      "name": "python3"
    },
    "language_info": {
      "codemirror_mode": {
        "name": "ipython",
        "version": 3
      },
      "file_extension": ".py",
      "mimetype": "text/x-python",
      "name": "python",
      "nbconvert_exporter": "python",
      "pygments_lexer": "ipython3",
      "version": "3.9.13"
    }
  },
  "nbformat": 4,
  "nbformat_minor": 0
}