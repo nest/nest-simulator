{
 "cells": [
   {
  "cell_type": "markdown",
  "metadata": {},
  "source": [
    "\n\n"
  ]
},{
 "cell_type": "code",
 "execution_count": null,
 "metadata": {
  "collapsed": false
 },
 "outputs": [],
 "source": [
   "    \n    \n"
 ]
},{
  "cell_type": "markdown",
  "metadata": {},
  "source": [
    "correlospinmatrix_detector example\n-----------------------------------\n\nThis scripts simulates two connected binary neurons, similar\nas in Ginzburg & Sompolinsky (1994) PRE, 50(4) p. 3771. Fig. 1.\nIt measures and plots the auto- and cross covariance funcitons\nof the individual neurons and between them, repsectively.\n\n\n"
  ]
},{
 "cell_type": "code",
 "execution_count": null,
 "metadata": {
  "collapsed": false
 },
 "outputs": [],
 "source": [
   "    \n    import pylab as pl\n    import nest\n    import numpy as np\n    \n    m_x = 0.5\n    tau_m = 10.\n    h = 0.1\n    T = 1000000.\n    tau_max = 100.\n    \n    csd = nest.Create(\"correlospinmatrix_detector\")\n    nest.SetStatus(csd, {\"N_channels\": 2, \"tau_max\": tau_max, \"Tstart\": tau_max,\n                         \"delta_tau\": h})\n    \n    nest.SetDefaults('ginzburg_neuron', {'theta': 0.0, 'tau_m': tau_m,\n                                         'c_1': 0.0, 'c_2': 2. * m_x, 'c_3': 1.0})\n    n1 = nest.Create(\"ginzburg_neuron\")\n    \n    nest.SetDefaults(\"mcculloch_pitts_neuron\", {'theta': 0.5, 'tau_m': tau_m})\n    n2 = nest.Create(\"mcculloch_pitts_neuron\")\n    \n    nest.Connect(n1, n2, syn_spec={\"weight\": 1.0})\n    \n    nest.Connect(n1, csd, syn_spec={\"receptor_type\": 0})\n    nest.Connect(n2, csd, syn_spec={\"receptor_type\": 1})\n    \n    nest.Simulate(T)\n    \n    stat = nest.GetStatus(csd)[0]\n    \n    c = stat[\"count_covariance\"]\n    \n    m = np.zeros(2, dtype=float)\n    for i in range(2):\n        m[i] = c[i][i][int(tau_max / h)] * (h / T)\n    \n    print('mean activities =', m)\n    \n    cmat = np.zeros((2, 2, int(2 * tau_max / h) + 1), dtype=float)\n    for i in range(2):\n        for j in range(2):\n            cmat[i, j] = c[i][j] * (h / T) - m[i] * m[j]\n    \n    ts = np.arange(-tau_max, tau_max + h, h)\n    \n    pl.title(\"auto- and cross covariance functions\")\n    \n    pl.plot(ts, cmat[0, 1], 'r', label=r\"$c_{12}$\")\n    pl.plot(ts, cmat[1, 0], 'b', label=r\"$c_{21}$\")\n    pl.plot(ts, cmat[0, 0], 'g', label=r\"$c_{11}$\")\n    pl.plot(ts, cmat[1, 1], 'y', label=r\"$c_{22}$\")\n    pl.xlabel(\"time $t \\; \\mathrm{ms}$\")\n    pl.ylabel(r\"$c$\")\n    pl.legend()\n    \n    pl.show()\n    \n    \n"
 ]
},{
  "cell_type": "markdown",
  "metadata": {},
  "source": [
    "\n\n"
  ]
},{
 "cell_type": "code",
 "execution_count": null,
 "metadata": {
  "collapsed": false
 },
 "outputs": [],
 "source": [
   "\n"
 ]
}
],
 "metadata": {
  "kernelspec": {
   "display_name": "Python 2",
   "language": "python",
   "name": "python2"
  },
  "language_info": {
   "codemirror_mode": {
    "name": "ipython",
    "version": 2
   },
   "file_extension": ".py",
   "mimetype": "text/x-python",
   "name": "python",
   "nbconvert_exporter": "python",
   "pygments_lexer": "ipython2",
   "version": "2.7.3"
  }
 },
 "nbformat": 4,
 "nbformat_minor": 0
}