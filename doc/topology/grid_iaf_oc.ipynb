{
  "cells": [
    {
      "cell_type": "code",
      "execution_count": null,
      "metadata": {
        "collapsed": false
      },
      "outputs": [],
      "source": [
        "%matplotlib inline"
      ]
    },
    {
      "cell_type": "markdown",
      "metadata": {},
      "source": [
        "\nNEST Topology Module Example\n\nCreate three layers of 4x3 iaf_psc_alpha neurons, each with different center.\n\nBCCN Tutorial @ CNS*09\nHans Ekkehard Plesser, UMB\n\n"
      ]
    },
    {
      "cell_type": "code",
      "execution_count": null,
      "metadata": {
        "collapsed": false
      },
      "outputs": [],
      "source": [
        "import pylab\nimport time\nimport nest\nimport nest.topology as topo\n\npylab.ion()\n\nfor ctr in [(0.0, 0.0), (-2.0, 2.0), (0.5, 1.0)]:\n    nest.ResetKernel()\n    pylab.clf()\n    l1 = topo.CreateLayer({'columns': 4, 'rows': 3,\n                           'extent': [2.0, 1.5],\n                           'center': ctr,\n                           'elements': 'iaf_psc_alpha'})\n\n    topo.PlotLayer(l1, nodesize=50, fig=pylab.gcf())\n\n    # beautify\n    pylab.axis([-3, 3, -3, 3])\n    pylab.axes().set_aspect('equal', 'box')\n    pylab.axes().set_xticks(pylab.arange(-3.0, 3.1, 1.0))\n    pylab.axes().set_yticks(pylab.arange(-3.0, 3.1, 1.0))\n    pylab.grid(True)\n    pylab.xlabel('4 Columns, Extent: 1.5, Center: %.1f' % ctr[0])\n    pylab.ylabel('2 Rows, Extent: 1.0, Center: %.1f' % ctr[1])\n\n    pylab.draw()"
      ]
    }
  ],
  "metadata": {
    "kernelspec": {
      "display_name": "Python 3",
      "language": "python",
      "name": "python3"
    },
    "language_info": {
      "codemirror_mode": {
        "name": "ipython",
        "version": 3
      },
      "file_extension": ".py",
      "mimetype": "text/x-python",
      "name": "python",
      "nbconvert_exporter": "python",
      "pygments_lexer": "ipython3",
      "version": "3.6.1"
    }
  },
  "nbformat": 4,
  "nbformat_minor": 0
}