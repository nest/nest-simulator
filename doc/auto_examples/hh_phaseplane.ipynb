{
  "cells": [
    {
      "cell_type": "code",
      "execution_count": null,
      "metadata": {
        "collapsed": false
      },
      "outputs": [],
      "source": [
        "%matplotlib inline"
      ]
    },
    {
      "cell_type": "markdown",
      "metadata": {},
      "source": [
        "\n  hh_phaseplane makes a numerical phase-plane analysis of the Hodgkin-Huxley\n  neuron (iaf_psc_alpha). Dynamics is investigated in the V-n space (see remark\n  below). A constant DC can be specified  and its influence on the nullclines\n  can be studied.\n\n  REMARK\n  To make the two-dimensional analysis possible, the (four-dimensional)\n  Hodgkin-Huxley formalism needs to be artificially reduced to two dimensions,\n  in this case by 'clamping' the two other variables, m an h, to\n  constant values (m_eq and h_eq).\n\n"
      ]
    },
    {
      "cell_type": "code",
      "execution_count": null,
      "metadata": {
        "collapsed": false
      },
      "outputs": [],
      "source": [
        "import nest\nfrom matplotlib import pyplot as plt\n\n\namplitude = 100.  # Set externally applied current amplitude in pA\ndt = 0.1  # simulation step length [ms]\n\nnest.ResetKernel()\nnest.set_verbosity('M_ERROR')\n\nnest.SetKernelStatus({'resolution': dt})\nneuron = nest.Create('hh_psc_alpha')\n\n# Numerically obtain equilibrium state\nnest.Simulate(1000)\n\nm_eq = nest.GetStatus(neuron)[0]['Act_m']\nh_eq = nest.GetStatus(neuron)[0]['Act_h']\n\nnest.SetStatus(neuron, {'I_e': amplitude})  # Apply external current\n\n# Scan state space\nprint('Scanning phase space')\n\nV_new_vec = []\nn_new_vec = []\n# x will contain the phase-plane data as a vector field\nx = []\ncount = 0\nfor V in range(-100, 42, 2):\n    n_V = []\n    n_n = []\n    for n in range(10, 81):\n        # Set V_m and n\n        nest.SetStatus(neuron, {'V_m': V*1.0, 'Inact_n': n/100.0,\n                                'Act_m': m_eq, 'Act_h': h_eq})\n        # Find state\n        V_m = nest.GetStatus(neuron)[0]['V_m']\n        Inact_n = nest.GetStatus(neuron)[0]['Inact_n']\n\n        # Simulate a short while\n        nest.Simulate(dt)\n\n        # Find difference between new state and old state\n        V_m_new = nest.GetStatus(neuron)[0]['V_m'] - V*1.0\n        Inact_n_new = nest.GetStatus(neuron)[0]['Inact_n'] - n/100.0\n\n        # Store in vector for later analysis\n        n_V.append(abs(V_m_new))\n        n_n.append(abs(Inact_n_new))\n        x.append([V_m, Inact_n, V_m_new, Inact_n_new])\n\n        if count % 10 == 0:\n            # Write updated state next to old state\n            print('')\n            print('Vm:  \\t', V_m)\n            print('new Vm:\\t', V_m_new)\n            print('Inact_n:', Inact_n)\n            print('new Inact_n:', Inact_n_new)\n\n        count += 1\n    # Store in vector for later analysis\n    V_new_vec.append(n_V)\n    n_new_vec.append(n_n)\n\n# Set state for AP generation\nnest.SetStatus(neuron, {'V_m': -34., 'Inact_n': 0.2,\n                        'Act_m': m_eq, 'Act_h': h_eq})\n\nprint('')\nprint('AP-trajectory')\n# ap will contain the trace of a single action potential as one possible\n# numerical solution in the vector field\nap = []\nfor i in range(1, 1001):\n    # Find state\n    V_m = nest.GetStatus(neuron)[0]['V_m']\n    Inact_n = nest.GetStatus(neuron)[0]['Inact_n']\n\n    if i % 10 == 0:\n        # Write new state next to old state\n        print('Vm: \\t', V_m)\n        print('Inact_n:', Inact_n)\n    ap.append([V_m, Inact_n])\n\n    # Simulate again\n    nest.SetStatus(neuron, {'Act_m': m_eq, 'Act_h': h_eq})\n    nest.Simulate(dt)\n\n# Make analysis\nprint('')\nprint('Plot analysis')\n\nV_matrix = [list(x) for x in zip(*V_new_vec)]\nn_matrix = [list(x) for x in zip(*n_new_vec)]\nn_vec = [x/100. for x in range(10, 81)]\nV_vec = [x*1. for x in range(-100, 42, 2)]\n\nnullcline_V = []\nnullcline_n = []\n\nprint('Searching nullclines')\nfor i in range(0, len(V_vec)):\n    index = V_matrix[:][i].index(min(V_matrix[:][i]))\n    if index != 0 and index != len(n_vec):\n        nullcline_V.append([V_vec[i], n_vec[index]])\n\n    index = n_matrix[:][i].index(min(n_matrix[:][i]))\n    if index != 0 and index != len(n_vec):\n        nullcline_n.append([V_vec[i], n_vec[index]])\n\nprint('Plotting vector field')\nfactor = 0.1\nfor i in range(0, count, 3):\n    plt.plot([x[i][0], x[i][0] + factor*x[i][2]],\n             [x[i][1], x[i][1] + factor*x[i][3]], color=[0.6, 0.6, 0.6])\n\nplt.plot(nullcline_V[:][0], nullcline_V[:][1], linewidth=2.0)\nplt.plot(nullcline_n[:][0], nullcline_n[:][1], linewidth=2.0)\n\nplt.xlim([V_vec[0], V_vec[-1]])\nplt.ylim([n_vec[0], n_vec[-1]])\n\nplt.plot(ap[:][0], ap[:][1], color='black', linewidth=1.0)\n\nplt.xlabel('Membrane potential V [mV]')\nplt.ylabel('Inactivation variable n')\nplt.title('Phase space of the Hodgkin-Huxley Neuron')\n\nplt.show()"
      ]
    }
  ],
  "metadata": {
    "kernelspec": {
      "display_name": "Python 3",
      "language": "python",
      "name": "python3"
    },
    "language_info": {
      "codemirror_mode": {
        "name": "ipython",
        "version": 3
      },
      "file_extension": ".py",
      "mimetype": "text/x-python",
      "name": "python",
      "nbconvert_exporter": "python",
      "pygments_lexer": "ipython3",
      "version": "3.6.1"
    }
  },
  "nbformat": 4,
  "nbformat_minor": 0
}