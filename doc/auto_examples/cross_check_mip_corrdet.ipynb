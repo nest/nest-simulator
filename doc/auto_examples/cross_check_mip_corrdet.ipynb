{
  "cells": [
    {
      "cell_type": "code",
      "execution_count": null,
      "metadata": {
        "collapsed": false
      },
      "outputs": [],
      "source": [
        "%matplotlib inline"
      ]
    },
    {
      "cell_type": "markdown",
      "metadata": {},
      "source": [
        "\nAuto- and crosscorrelation functions for spike trains.\n\nA time bin of size tbin is centered around the time difference it\nrepresents. If the correlation function is calculated for tau in\n[-tau_max, tau_max], the pair events contributing to the left-most\nbin are those for which tau in [-tau_max-tbin/2, tau_max+tbin/2) and\nso on.\n\nCorrelate two spike trains with each other assumes spike times to be ordered in\ntime. tau > 0 means spike2 is later than spike1\n\ntau_max: maximum time lag in ms correlation function\ntbin:    bin size\nspike1:  first spike train [tspike...]\nspike2:  second spike train [tspike...]\n\n"
      ]
    },
    {
      "cell_type": "code",
      "execution_count": null,
      "metadata": {
        "collapsed": false
      },
      "outputs": [],
      "source": [
        "import nest\nfrom matplotlib.pylab import *\n\n\ndef corr_spikes_sorted(spike1, spike2, tbin, tau_max, h):\n    tau_max_i = int(tau_max / h)\n    tbin_i = int(tbin / h)\n\n    cross = zeros(int(2 * tau_max_i / tbin_i + 1), 'd')\n\n    j0 = 0\n\n    for spki in spike1:\n        j = j0\n        while j < len(spike2) and spike2[j] - spki < -tau_max_i - tbin_i / 2.0:\n            j += 1\n        j0 = j\n\n        while j < len(spike2) and spike2[j] - spki < tau_max_i + tbin_i / 2.0:\n            cross[int(\n                (spike2[j] - spki + tau_max_i + 0.5 * tbin_i) / tbin_i)] += 1.0\n            j += 1\n\n    return cross\n\nnest.ResetKernel()\n\nh = 0.1             # Computation step size in ms\nT = 100000.0        # Total duration\ndelta_tau = 10.0\ntau_max = 100.0\npc = 0.5\nnu = 100.0\n\n# grng_seed is 0 because test data was produced for seed = 0\nnest.SetKernelStatus({'local_num_threads': 1, 'resolution': h,\n                      'overwrite_files': True, 'grng_seed': 0})\n\n# Set up network, connect and simulate\nmg = nest.Create('mip_generator')\nnest.SetStatus(mg, {'rate': nu, 'p_copy': pc})\n\ncd = nest.Create('correlation_detector')\nnest.SetStatus(cd, {'tau_max': tau_max, 'delta_tau': delta_tau})\n\nsd = nest.Create('spike_detector')\nnest.SetStatus(sd, {'withtime': True,\n                    'withgid': True, 'time_in_steps': True})\n\npn1 = nest.Create('parrot_neuron')\npn2 = nest.Create('parrot_neuron')\n\nnest.Connect(mg, pn1)\nnest.Connect(mg, pn2)\nnest.Connect(pn1, sd)\nnest.Connect(pn2, sd)\n\nnest.SetDefaults('static_synapse', {'weight': 1.0, 'receptor_type': 0})\nnest.Connect(pn1, cd)\n\nnest.SetDefaults('static_synapse', {'weight': 1.0, 'receptor_type': 1})\nnest.Connect(pn2, cd)\n\nnest.Simulate(T)\n\nn_events = nest.GetStatus(cd)[0]['n_events']\nn1 = n_events[0]\nn2 = n_events[1]\n\nlmbd1 = (n1 / (T - tau_max)) * 1000.0\nlmbd2 = (n2 / (T - tau_max)) * 1000.0\n\nh = 0.1\ntau_max = 100.0  # ms correlation window\nt_bin = 10.0  # ms bin size\n\nspikes = nest.GetStatus(sd)[0]['events']['senders']\n\nsp1 = find(spikes[:] == 4)\nsp2 = find(spikes[:] == 5)\n\n# Find crosscorrolation\ncross = corr_spikes_sorted(sp1, sp2, t_bin, tau_max, h)\n\nprint(\"Crosscorrelation:\")\nprint(cross)\nprint(\"Sum of crosscorrelation:\")\nprint(sum(cross))"
      ]
    }
  ],
  "metadata": {
    "kernelspec": {
      "display_name": "Python 3",
      "language": "python",
      "name": "python3"
    },
    "language_info": {
      "codemirror_mode": {
        "name": "ipython",
        "version": 3
      },
      "file_extension": ".py",
      "mimetype": "text/x-python",
      "name": "python",
      "nbconvert_exporter": "python",
      "pygments_lexer": "ipython3",
      "version": "3.6.1"
    }
  },
  "nbformat": 4,
  "nbformat_minor": 0
}