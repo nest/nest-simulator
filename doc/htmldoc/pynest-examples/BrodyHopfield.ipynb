{
 "cells": [
  {
   "cell_type": "code",
   "execution_count": null,
   "metadata": {
    "collapsed": false
   },
   "outputs": [],
   "source": [
    "%matplotlib inline"
   ]
  },
  {
   "cell_type": "markdown",
   "metadata": {},
   "source": [
    "\n",
    "# Spike synchronization through subthreshold oscillation\n",
    "\n",
    "This script reproduces the spike synchronization behavior\n",
    "of integrate-and-fire neurons in response to a subthreshold\n",
    "oscillation. This phenomenon is shown in Fig. 1 of [1]_\n",
    "\n",
    "Neurons receive a weak 35 Hz oscillation, a gaussian noise current\n",
    "and an increasing DC. The time-locking capability is shown to\n",
    "depend on the input current given. The result is then plotted using\n",
    "matplotlib. All parameters are taken from the above paper.\n",
    "\n",
    "## References\n",
    "\n",
    ".. [1] Brody CD and Hopfield JJ (2003). Simple networks for\n",
    "       spike-timing-based computation, with application to olfactory\n",
    "       processing. Neuron 37, 843-852.\n"
   ]
  },
  {
   "cell_type": "markdown",
   "metadata": {},
   "source": [
    "First, we import all necessary modules for simulation, analysis, and plotting.\n",
    "\n"
   ]
  },
  {
   "cell_type": "code",
   "execution_count": null,
   "metadata": {
    "collapsed": false
   },
   "outputs": [],
   "source": [
    "import nest\n",
    "import nest.raster_plot\n",
    "import matplotlib.pyplot as plt"
   ]
  },
  {
   "cell_type": "markdown",
   "metadata": {},
   "source": [
    "Second, the simulation parameters are assigned to variables.\n",
    "\n"
   ]
  },
  {
   "cell_type": "code",
   "execution_count": null,
   "metadata": {
    "collapsed": false
   },
   "outputs": [],
   "source": [
    "N = 1000           # number of neurons\n",
    "bias_begin = 140.  # minimal value for the bias current injection [pA]\n",
    "bias_end = 200.    # maximal value for the bias current injection [pA]\n",
    "T = 600            # simulation time (ms)\n",
    "\n",
    "# parameters for the alternating-current generator\n",
    "driveparams = {'amplitude': 50., 'frequency': 35.}\n",
    "# parameters for the noise generator\n",
    "noiseparams = {'mean': 0.0, 'std': 200.}\n",
    "neuronparams = {'tau_m': 20.,  # membrane time constant\n",
    "                'V_th': 20.,  # threshold potential\n",
    "                'E_L': 10.,  # membrane resting potential\n",
    "                't_ref': 2.,  # refractory period\n",
    "                'V_reset': 0.,  # reset potential\n",
    "                'C_m': 200.,  # membrane capacitance\n",
    "                'V_m': 0.}      # initial membrane potential"
   ]
  },
  {
   "cell_type": "markdown",
   "metadata": {},
   "source": [
    "Third, the nodes are created using ``Create``. We store the returned handles\n",
    "in variables for later reference.\n",
    "\n"
   ]
  },
  {
   "cell_type": "code",
   "execution_count": null,
   "metadata": {
    "collapsed": false
   },
   "outputs": [],
   "source": [
    "neurons = nest.Create('iaf_psc_alpha', N)\n",
    "sr = nest.Create('spike_recorder')\n",
    "noise = nest.Create('noise_generator')\n",
    "drive = nest.Create('ac_generator')"
   ]
  },
  {
   "cell_type": "markdown",
   "metadata": {},
   "source": [
    "Set the parameters specified above for the generators using ``set``.\n",
    "\n"
   ]
  },
  {
   "cell_type": "code",
   "execution_count": null,
   "metadata": {
    "collapsed": false
   },
   "outputs": [],
   "source": [
    "drive.set(driveparams)\n",
    "noise.set(noiseparams)"
   ]
  },
  {
   "cell_type": "markdown",
   "metadata": {},
   "source": [
    "Set the parameters specified above for the neurons. Neurons get an internal\n",
    "current. The first neuron additionally receives the current with amplitude\n",
    "`bias_begin`, the last neuron with amplitude `bias_end`.\n",
    "\n"
   ]
  },
  {
   "cell_type": "code",
   "execution_count": null,
   "metadata": {
    "collapsed": false
   },
   "outputs": [],
   "source": [
    "neurons.set(neuronparams)\n",
    "neurons.I_e = [(n * (bias_end - bias_begin) / N + bias_begin)\n",
    "               for n in range(1, len(neurons) + 1)]"
   ]
  },
  {
   "cell_type": "markdown",
   "metadata": {},
   "source": [
    "Connect alternating current and noise generators as well as\n",
    "`spike_recorder`s to neurons\n",
    "\n"
   ]
  },
  {
   "cell_type": "code",
   "execution_count": null,
   "metadata": {
    "collapsed": false
   },
   "outputs": [],
   "source": [
    "nest.Connect(drive, neurons)\n",
    "nest.Connect(noise, neurons)\n",
    "nest.Connect(neurons, sr)"
   ]
  },
  {
   "cell_type": "markdown",
   "metadata": {},
   "source": [
    "Simulate the network for time `T`.\n",
    "\n"
   ]
  },
  {
   "cell_type": "code",
   "execution_count": null,
   "metadata": {
    "collapsed": false
   },
   "outputs": [],
   "source": [
    "nest.Simulate(T)"
   ]
  },
  {
   "cell_type": "markdown",
   "metadata": {},
   "source": [
    "Plot the raster plot of the neuronal spiking activity.\n",
    "\n"
   ]
  },
  {
   "cell_type": "code",
   "execution_count": null,
   "metadata": {
    "collapsed": false
   },
   "outputs": [],
   "source": [
    "nest.raster_plot.from_device(sr, hist=True)\n",
    "plt.show()"
   ]
  },
  {
   "cell_type": "markdown",
   "metadata": {},
   "source": [
    "[![EBRAINS Notebook](https://nest-simulator.org/TryItOnEBRAINS.png)](https://lab.ebrains.eu/hub/user-redirect/git-pull?repo=https%3A%2F%2Fgithub.com%2Fjessica-mitchell%2Fnest-simulator&urlpath=lab%2Ftree%2Fnest-simulator%2Fpynest%2Fexamples%2Fnotebooks%2FBrodyHopfield.ipynb&branch=ebrains-button)\n"
   ]
  }
 ],
 "metadata": {
  "kernelspec": {
   "display_name": "EBRAINS-22.10",
   "language": "python",
   "name": "spack_python_kernel_release_202210"
  },
  "language_info": {
   "codemirror_mode": {
    "name": "ipython",
    "version": 3
   },
   "file_extension": ".py",
   "mimetype": "text/x-python",
   "name": "python",
   "nbconvert_exporter": "python",
   "pygments_lexer": "ipython3",
   "version": "3.9.6"
  }
 },
 "nbformat": 4,
 "nbformat_minor": 5
}
