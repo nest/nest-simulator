{
  "cells": [
    {
      "cell_type": "code",
      "execution_count": null,
      "metadata": {
        "collapsed": false
      },
      "outputs": [],
      "source": [
        "%matplotlib inline"
      ]
    },
    {
      "cell_type": "markdown",
      "metadata": {},
      "source": [
        "\nNEST Topology Module Example\n\nCreate two 30x30 layers with nodes composed of one pyramidal cell\nand one interneuron. Connect with two projections, one pyr->pyr, one\npyr->in, and visualize.\n\nBCCN Tutorial @ CNS*09\nHans Ekkehard Plesser, UMB\n\n"
      ]
    },
    {
      "cell_type": "code",
      "execution_count": null,
      "metadata": {
        "collapsed": false
      },
      "outputs": [],
      "source": [
        "import nest\nimport nest.topology as topo\nimport pylab\n\npylab.ion()\n\n\nnest.ResetKernel()\nnest.set_verbosity('M_WARNING')\n\n# create two test layers\nnest.CopyModel('iaf_psc_alpha', 'pyr')\nnest.CopyModel('iaf_psc_alpha', 'in')\n\na = topo.CreateLayer({'columns': 30, 'rows': 30, 'extent': [3.0, 3.0],\n                      'elements': ['pyr', 'in']})\nb = topo.CreateLayer({'columns': 30, 'rows': 30, 'extent': [3.0, 3.0],\n                      'elements': ['pyr', 'in']})\n\ntopo.ConnectLayers(a, b, {'connection_type': 'divergent',\n                          'sources': {'model': 'pyr'},\n                          'targets': {'model': 'pyr'},\n                          'mask': {'circular': {'radius': 0.5}},\n                          'kernel': 0.5,\n                          'weights': 1.0,\n                          'delays': 1.0})\ntopo.ConnectLayers(a, b, {'connection_type': 'divergent',\n                          'sources': {'model': 'pyr'},\n                          'targets': {'model': 'in'},\n                          'mask': {'circular': {'radius': 1.0}},\n                          'kernel': 0.2,\n                          'weights': 1.0,\n                          'delays': 1.0})\n\npylab.clf()\n\n# plot targets of neurons in different grid locations\nfor ctr in [[15, 15]]:\n    # obtain node id for center: pick first node of composite\n    ctr_id = topo.GetElement(a, ctr)\n\n    # get all projection targets of center neuron\n    tgts = [ci[1] for ci in nest.GetConnections(ctr_id)]\n\n    # get positions of targets\n    tpyr = pylab.array(tuple(zip(*[topo.GetPosition([n])[0] for n in tgts\n                                   if\n                                   nest.GetStatus([n], 'model')[0] == 'pyr'])))\n    tin = pylab.array(tuple(zip(*[topo.GetPosition([n])[0] for n in tgts\n                                  if\n                                  nest.GetStatus([n], 'model')[0] == 'in'])))\n\n    # scatter-plot\n    pylab.scatter(tpyr[0] - 0.02, tpyr[1] - 0.02, 20, 'b', zorder=10)\n    pylab.scatter(tin[0] + 0.02, tin[1] + 0.02, 20, 'r', zorder=10)\n\n    # mark locations with background grey circle\n    pylab.plot(tpyr[0], tpyr[1], 'o', markerfacecolor=(0.7, 0.7, 0.7),\n               markersize=10, markeredgewidth=0, zorder=1, label='_nolegend_')\n    pylab.plot(tin[0], tin[1], 'o', markerfacecolor=(0.7, 0.7, 0.7),\n               markersize=10, markeredgewidth=0, zorder=1, label='_nolegend_')\n\n    # mark sender position with transparent red circle\n    ctrpos = topo.GetPosition(ctr_id)[0]\n    pylab.gca().add_patch(pylab.Circle(ctrpos, radius=0.15, zorder=99,\n                                       fc='r', alpha=0.4, ec='none'))\n\n    # mark mask positions with open red/blue circles\n    pylab.gca().add_patch(pylab.Circle(ctrpos, radius=0.5, zorder=2,\n                                       fc='none', ec='b', lw=3))\n    pylab.gca().add_patch(pylab.Circle(ctrpos, radius=1.0, zorder=2,\n                                       fc='none', ec='r', lw=3))\n\n# mark layer edge\npylab.gca().add_patch(pylab.Rectangle((-1.5, -1.5), 3.0, 3.0, zorder=1,\n                                      fc='none', ec='k', lw=3))\n\n# beautify\npylab.axes().set_xticks(pylab.arange(-1.5, 1.55, 0.5))\npylab.axes().set_yticks(pylab.arange(-1.5, 1.55, 0.5))\npylab.grid(True)\npylab.axis([-1.6, 1.6, -1.6, 1.6])\npylab.axes().set_aspect('equal', 'box')"
      ]
    }
  ],
  "metadata": {
    "kernelspec": {
      "display_name": "Python 3",
      "language": "python",
      "name": "python3"
    },
    "language_info": {
      "codemirror_mode": {
        "name": "ipython",
        "version": 3
      },
      "file_extension": ".py",
      "mimetype": "text/x-python",
      "name": "python",
      "nbconvert_exporter": "python",
      "pygments_lexer": "ipython3",
      "version": "3.6.1"
    }
  },
  "nbformat": 4,
  "nbformat_minor": 0
}