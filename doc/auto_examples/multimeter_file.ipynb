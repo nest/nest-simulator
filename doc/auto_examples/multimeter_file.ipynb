{
  "cells": [
    {
      "cell_type": "code",
      "execution_count": null,
      "metadata": {
        "collapsed": false
      },
      "outputs": [],
      "source": [
        "%matplotlib inline"
      ]
    },
    {
      "cell_type": "markdown",
      "metadata": {},
      "source": [
        "\nMultimeter to file example\n--------------------------\n\nThis file demonstrates recording from an `iaf_cond_alpha` neuron using a\nmultimeter and writing data to file.\n\n"
      ]
    },
    {
      "cell_type": "code",
      "execution_count": null,
      "metadata": {
        "collapsed": false
      },
      "outputs": [],
      "source": [
        "'''\nFirst, the necessary modules for simulation and plotting are imported.\n\nThe simulation kernel is put back to its initial state using `ResetKernel`.\n'''\n\nimport nest\nimport numpy\nimport pylab\n\nnest.ResetKernel()\n\n'''\nWith `SetKernelStatus`, global properties of the simulation kernel can be\nspecified. The following properties are related to writing to file:\n\n* `overwrite_files` is set to True to permit overwriting of an existing file.\n* `data_path` is the path to which all data is written. It is given relative to\n  the current working directory.\n* 'data_prefix' allows to specify a common prefix for all data files.\n'''\n\nnest.SetKernelStatus({\"overwrite_files\": True,\n                      \"data_path\": \"\",\n                      \"data_prefix\": \"\"})\n\n'''\nFor illustration, the recordables of the `iaf_cond_alpha` neuron model are\ndisplayed. This model is an implementation of a spiking neuron using\nintegrate-and-fire dynamics with conductance-based synapses. Incoming spike\nevents induce a post-synaptic change of conductance modelled by an alpha\nfunction.\n'''\n\nprint(\"iaf_cond_alpha recordables: {0}\".format(\n      nest.GetDefaults(\"iaf_cond_alpha\")[\"recordables\"]))\n\n'''\nA neuron, a multimeter as recording device and two spike generators for\nexcitatory and inhibitory stimulation are instantiated. The command `Create`\nexpects a model type and, optionally, the desired number of nodes and a\ndictionary of parameters to overwrite the default values of the model.\n\n* For the neuron, the rise time of the excitatory synaptic alpha function\n  in ms `tau_syn_ex` and the reset potential of the membrane in mV `V_reset`\n  are specified.\n* For the multimeter, the time interval for recording in ms `interval` and a\n  selection of measures to record (the membrane voltage in mV `V_m` and the\n  excitatory `g_ex` and inhibitoy `g_in` synaptic conductances in nS) are set.\n\n  In addition, more parameters can be modified for writing to file:\n\n  - `withgid` is set to True to record the global id of the observed node(s).\n    (default: False).\n  - `to_file` indicates whether to write the recordings to file and is set\n    to True.\n  - `label` specifies an arbitrary label for the device. It is used instead of\n    the name of the model in the output file name.\n\n* For the spike generators, the spike times in ms `spike_times` are given\n  explicitly.\n'''\n\nn = nest.Create(\"iaf_cond_alpha\",\n                params={\"tau_syn_ex\": 1.0, \"V_reset\": -70.0})\n\nm = nest.Create(\"multimeter\",\n                params={\"interval\": 0.1,\n                        \"record_from\": [\"V_m\", \"g_ex\", \"g_in\"],\n                        \"withgid\": True,\n                        \"to_file\": True,\n                        \"label\": \"my_multimeter\"})\n\ns_ex = nest.Create(\"spike_generator\",\n                   params={\"spike_times\": numpy.array([10.0, 20.0, 50.0])})\ns_in = nest.Create(\"spike_generator\",\n                   params={\"spike_times\": numpy.array([15.0, 25.0, 55.0])})\n\n'''\nNext, the spike generators are connected to the neuron with `Connect`. Synapse\nspecifications can be provided in a dictionary. In this example of a\nconductance-based neuron, the synaptic weight `weight` is given in nS.\nNote that it is positive for excitatory and negative for inhibitory\nconnections.\n'''\n\nnest.Connect(s_ex, n, syn_spec={\"weight\": 40.0})\nnest.Connect(s_in, n, syn_spec={\"weight\": -20.0})\nnest.Connect(m, n)\n\n'''\nA network simulation with a duration of 100 ms is started with `Simulate`.\n'''\n\nnest.Simulate(100.)\n\n'''\nAfter the simulation, the recordings are obtained from the multimeter via the\nkey `events` of the status dictionary accessed by `GetStatus`. `times`\nindicates the recording times stored for each data point. They are recorded\nif the parameter `withtime` of the multimeter is set to True which is the\ndefault case.\n'''\n\nevents = nest.GetStatus(m)[0][\"events\"]\nt = events[\"times\"]\n\n'''\nFinally, the time courses of the membrane voltage and the synaptic\nconductance are displayed.\n'''\n\npylab.clf()\n\npylab.subplot(211)\npylab.plot(t, events[\"V_m\"])\npylab.axis([0, 100, -75, -53])\npylab.ylabel(\"membrane potential (mV)\")\n\npylab.subplot(212)\npylab.plot(t, events[\"g_ex\"], t, events[\"g_in\"])\npylab.axis([0, 100, 0, 45])\npylab.xlabel(\"time (ms)\")\npylab.ylabel(\"synaptic conductance (nS)\")\npylab.legend((\"g_exc\", \"g_inh\"))"
      ]
    }
  ],
  "metadata": {
    "kernelspec": {
      "display_name": "Python 3",
      "language": "python",
      "name": "python3"
    },
    "language_info": {
      "codemirror_mode": {
        "name": "ipython",
        "version": 3
      },
      "file_extension": ".py",
      "mimetype": "text/x-python",
      "name": "python",
      "nbconvert_exporter": "python",
      "pygments_lexer": "ipython3",
      "version": "3.6.1"
    }
  },
  "nbformat": 4,
  "nbformat_minor": 0
}