{
  "cells": [
    {
      "cell_type": "code",
      "execution_count": null,
      "metadata": {
        "collapsed": false
      },
      "outputs": [],
      "source": [
        "%matplotlib inline"
      ]
    },
    {
      "cell_type": "markdown",
      "metadata": {},
      "source": [
        "\nTest of the adapting exponential integrate and fire model in NEST\n-----------------------------------------------------------------\n\nThis example tests the adaptive integrate and fire model (AdEx) according to\nBrette and Gerstner (2005) J. Neurophysiology and\nreproduces figure 2.C of the paper.\n\nNote that Brette&Gerstner give the value for b in nA.\nTo be consistent with the other parameters in the equations, b must be\nconverted to pA (pico Ampere).\n\n"
      ]
    },
    {
      "cell_type": "code",
      "execution_count": null,
      "metadata": {
        "collapsed": false
      },
      "outputs": [],
      "source": [
        "import nest\nimport nest.voltage_trace\nimport pylab\n\nnest.ResetKernel()\n\n'''\nFirst we make sure that the resolution of the simulation is 0.1 ms.\nThis is important, since the slop of the action potential is very steep.\n'''\n\nres = 0.1\nnest.SetKernelStatus({\"resolution\": res})\nneuron = nest.Create(\"aeif_cond_alpha\")\n\n'''\na and b are parameters of the adex model.\nTheir values come from the publication.\n'''\n\nnest.SetStatus(neuron, {\"a\": 4.0, \"b\": 80.5})\n\n'''\nNext we define the stimulus protocol. There are two DC generators,\nproducing stimulus currents during two time-intervals.\n'''\n\ndc = nest.Create(\"dc_generator\", 2)\n\nnest.SetStatus(dc, [{\"amplitude\": 500.0, \"start\": 0.0, \"stop\": 200.0},\n                    {\"amplitude\": 800.0, \"start\": 500.0, \"stop\": 1000.0}])\n\n'''\nWe connect the DC generators.\n'''\nnest.Connect(dc, neuron, 'all_to_all')\n\n'''\nAnd add a voltmeter to record the membrane potentials.\n'''\n\nvoltmeter = nest.Create(\"voltmeter\")\n\n'''\nWe set the voltmeter to record in small intervals of 0.1 ms and\nconnect the voltmeter to the neuron.\n'''\nnest.SetStatus(voltmeter, {'interval': 0.1, \"withgid\": True, \"withtime\": True})\n\nnest.Connect(voltmeter, neuron)\n\n'''\nFinally, we simulate for 1000 ms and plot a voltage trace\nto produce the figure.\n'''\nnest.Simulate(1000.0)\n\nnest.voltage_trace.from_device(voltmeter)\npylab.axis([0, 1000, -80, -20])"
      ]
    }
  ],
  "metadata": {
    "kernelspec": {
      "display_name": "Python 3",
      "language": "python",
      "name": "python3"
    },
    "language_info": {
      "codemirror_mode": {
        "name": "ipython",
        "version": 3
      },
      "file_extension": ".py",
      "mimetype": "text/x-python",
      "name": "python",
      "nbconvert_exporter": "python",
      "pygments_lexer": "ipython3",
      "version": "3.6.1"
    }
  },
  "nbformat": 4,
  "nbformat_minor": 0
}