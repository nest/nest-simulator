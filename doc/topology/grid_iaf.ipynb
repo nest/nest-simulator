{
  "cells": [
    {
      "cell_type": "code",
      "execution_count": null,
      "metadata": {
        "collapsed": false
      },
      "outputs": [],
      "source": [
        "%matplotlib inline"
      ]
    },
    {
      "cell_type": "markdown",
      "metadata": {},
      "source": [
        "\nNEST Topology Module Example\n\nCreate layer of 4x3 iaf_psc_alpha neurons, visualize\n\nBCCN Tutorial @ CNS*09\nHans Ekkehard Plesser, UMB\n\n"
      ]
    },
    {
      "cell_type": "code",
      "execution_count": null,
      "metadata": {
        "collapsed": false
      },
      "outputs": [],
      "source": [
        "import nest\nimport pylab\nimport nest.topology as topo\n\npylab.ion()\n\nnest.ResetKernel()\n\nl1 = topo.CreateLayer({'columns': 4, 'rows': 3,\n                       'extent': [2.0, 1.5],\n                       'elements': 'iaf_psc_alpha'})\n\nnest.PrintNetwork()\nnest.PrintNetwork(2)\nnest.PrintNetwork(2, l1)\n\ntopo.PlotLayer(l1, nodesize=50)\n\n# beautify\npylab.axis([-1.0, 1.0, -0.75, 0.75])\npylab.axes().set_aspect('equal', 'box')\npylab.axes().set_xticks((-0.75, -0.25, 0.25, 0.75))\npylab.axes().set_yticks((-0.5, 0, 0.5))\npylab.grid(True)\npylab.xlabel('4 Columns, Extent: 1.5')\npylab.ylabel('2 Rows, Extent: 1.0')\n\n# pylab.savefig('grid_iaf.png')"
      ]
    }
  ],
  "metadata": {
    "kernelspec": {
      "display_name": "Python 3",
      "language": "python",
      "name": "python3"
    },
    "language_info": {
      "codemirror_mode": {
        "name": "ipython",
        "version": 3
      },
      "file_extension": ".py",
      "mimetype": "text/x-python",
      "name": "python",
      "nbconvert_exporter": "python",
      "pygments_lexer": "ipython3",
      "version": "3.6.1"
    }
  },
  "nbformat": 4,
  "nbformat_minor": 0
}