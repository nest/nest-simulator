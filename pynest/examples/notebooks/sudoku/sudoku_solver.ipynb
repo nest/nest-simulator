{
  "cells": [
    {
      "cell_type": "code",
      "execution_count": null,
      "metadata": {
        "collapsed": false
      },
      "outputs": [],
      "source": [
        "%matplotlib inline"
      ]
    },
    {
      "cell_type": "markdown",
      "metadata": {},
      "source": [
        "# Script controlling the simulation of a single game of Sudoku\n\nThis script instantiates a network and configures it to solve\na Sudoku puzzle. It then simulates the network until it either\nconverges on a solution or a maximum simulation time has been\nreached.\n\nThe output shows the solved Sudoku puzzle in black and white if\nthe network converges within the specified timeframe. If it does\nnot, the output indicates which of the rows, columns and boxes\nare invalid by highlighting them in red.\n\nCredit to the original SpiNNaker implementation of the network used here goes\nto Steve Furber and Andrew Rowley from the University of Manchester.\n\n## See Also\n[Original implementation of this Network on SpiNNaker](https://github.com/SpiNNakerManchester/IntroLab/tree/master/sudoku)\n\n:doc:`Network class <sudoku_net>`\n\n:doc:`Script for generating output gifs <plot_progress>`\n\n:doc:`Helper functions <helpers>`\n\n## Notes\nTerminology used in variable names and documentation:\ncell:       One of the 81 squares that make up the sudoku field\nbox:        One of the 9 collections of 3x3 cells necessary to solve a Sudoku\ndigit:      Number between 1 and 9\npopulation: Collection of neurons coding for a single digit in a cell\n\n:Authors: J Gille, S Furber, A Rowley\n"
      ]
    },
    {
      "cell_type": "code",
      "execution_count": null,
      "metadata": {
        "collapsed": false
      },
      "outputs": [],
      "source": [
        "import nest\nimport sudoku_net\nimport numpy as np\nimport logging\nimport pickle\nfrom helpers import get_puzzle, validate_solution, plot_field\n\nnest.SetKernelStatus({'local_num_threads': 8})\nnest.set_verbosity(\"M_WARNING\")\nlogging.basicConfig(level=logging.INFO)\n\npuzzle_index = 4\nnoise_rate = 350\nsim_time = 100\nmax_sim_time = 10000\nmax_iterations = max_sim_time//sim_time\n\npuzzle = get_puzzle(puzzle_index)\nnetwork = sudoku_net.SudokuNet(pop_size=5, input=puzzle, noise_rate=noise_rate)\n\nsolution_states = np.zeros((max_iterations, 9, 9), dtype=int)\n\nrun = 0\nvalid = False\n\nwhile not valid:\n    network.reset_spike_recorders()\n    nest.Simulate(sim_time)\n\n    spiketrains = network.get_spike_trains()\n    solution = np.zeros((9, 9), dtype=np.uint8)\n\n    for row in range(9):\n        for col in range(9):\n            # obtain indices of the spike recorders coding for digits in\n            # the current cell\n            spike_recorders = network.io_indices[row, col]\n\n            # spiketrains for all digits in the current cells\n            cell_spikes = spiketrains[spike_recorders]\n            spike_counts = np.array(\n                [len(s[\"times\"]) for s in cell_spikes])\n\n            # if two digits have the same activation, pick one at random\n            winning_digit = int(np.random.choice(\n                np.flatnonzero(spike_counts == spike_counts.max()))) + 1\n            solution[row, col] = winning_digit\n\n    solution_states[run] = solution\n    valid, cells, rows, cols = validate_solution(puzzle, solution)\n\n    if not valid:\n        ratio_correct = (np.sum(cells) + np.sum(rows) + np.sum(cols)) / 27\n        logging.info(f\"{run*sim_time}ms, performance: \"\n                     f\"{np.round(ratio_correct, 3)}\")\n    else:\n        logging.info(f\"{run*sim_time}ms, valid solution found.\")\n        break\n\n    run += 1\n    if run >= max_iterations:\n        logging.info(f\"no solution found after {run*sim_time}ms, aborting.\")\n        break\n\nimg_name = \"sudoku_solution.png\"\nlogging.info(f\"storing final state to: {img_name}...\")\nout_image = plot_field(puzzle, solution, True)\nout_image.show()\nout_image.save(img_name)\n\nout_name = f\"{noise_rate}Hz_puzzle_{puzzle_index}.pkl\"\nlogging.info(f\"storing simulation data to {out_name}...\")\noutput = {}\noutput[\"noise_rate\"] = noise_rate\noutput[\"sim_time\"] = sim_time\noutput[\"max_sim_time\"] = max_sim_time\noutput[\"solution_states\"] = solution_states[:run+1]\noutput[\"puzzle\"] = puzzle\n\nwith open(out_name, \"wb\") as f:\n    pickle.dump(output, f)\n\nprint(\"done.\")"
      ]
    }
  ],
  "metadata": {
    "kernelspec": {
      "display_name": "Python 3",
      "language": "python",
      "name": "python3"
    },
    "language_info": {
      "codemirror_mode": {
        "name": "ipython",
        "version": 3
      },
      "file_extension": ".py",
      "mimetype": "text/x-python",
      "name": "python",
      "nbconvert_exporter": "python",
      "pygments_lexer": "ipython3",
      "version": "3.9.13"
    }
  },
  "nbformat": 4,
  "nbformat_minor": 0
}