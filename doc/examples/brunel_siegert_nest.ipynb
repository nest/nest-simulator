{
 "cells": [
   {
  "cell_type": "markdown",
  "metadata": {},
  "source": [
    "\n\n"
  ]
},{
 "cell_type": "code",
 "execution_count": null,
 "metadata": {
  "collapsed": false
 },
 "outputs": [],
 "source": [
   "    \n    \n"
 ]
},{
  "cell_type": "markdown",
  "metadata": {},
  "source": [
    "Mean-field theory for random balanced network\n---------------------------------------------\n\nThis script performs a mean-field analysis of the spiking network of\nexcitatory and an inhibitory population of leaky-integrate-and-fire\nneurons simulated in brunel_delta_nest.py. We refer to this spiking\nnetwork of LIF neurons with 'SLIFN'.\n\nThe self-consistent equation for the population-averaged firing rates\n(eq.27 in [1], [2]) is solved by integrating a pseudo-time dynamics\n(eq.30 in [1]). The latter constitutes a network of rate neurons, which is\nsimulated here. The asymptotic rates, i.e., the fixed points of the\ndynamics (eq.30), are the prediction for the population and\ntime-averaged from the spiking simulation.\n\n[1] Hahne, J., Dahmen, D., Schuecker, J., Frommer, A.,\n Bolten, M., Helias, M. and Diesmann, M. (2017).\n Integration of Continuous-Time Dynamics in a\n Spiking Neural Network Simulator.\n Front. Neuroinform. 11:34. doi: 10.3389/fninf.2017.00034\n\n[2] Schuecker, J., Schmidt, M., van Albada, S.J., Diesmann, M.\nand Helias, M. (2017). Fundamental Activity Constraints Lead\nto Specific Interpretations of the Connectome.\nPLOS Computational Biology 13(2): e1005179.\nhttps://doi.org/10.1371/journal.pcbi.1005179\n\n"
  ]
},{
 "cell_type": "code",
 "execution_count": null,
 "metadata": {
  "collapsed": false
 },
 "outputs": [],
 "source": [
   "    \n    import nest\n    import pylab\n    import numpy\n    \n    nest.ResetKernel()\n    \n"
 ]
},{
  "cell_type": "markdown",
  "metadata": {},
  "source": [
    "Assigning the simulation parameters to variables.\n\n"
  ]
},{
 "cell_type": "code",
 "execution_count": null,
 "metadata": {
  "collapsed": false
 },
 "outputs": [],
 "source": [
   "    \n    dt = 0.1  # the resolution in ms\n    simtime = 50.0  # Simulation time in ms\n    \n"
 ]
},{
  "cell_type": "markdown",
  "metadata": {},
  "source": [
    "Definition of the network parameters in the SLIFN\n\n"
  ]
},{
 "cell_type": "code",
 "execution_count": null,
 "metadata": {
  "collapsed": false
 },
 "outputs": [],
 "source": [
   "    \n    g = 5.0  # ratio inhibitory weight/excitatory weight\n    eta = 2.0  # external rate relative to threshold rate\n    epsilon = 0.1  # connection probability\n    \n"
 ]
},{
  "cell_type": "markdown",
  "metadata": {},
  "source": [
    "Definition of the number of neurons and connections in the\nSLIFN, needed for the connection strength in the siegert neuron network\n\n"
  ]
},{
 "cell_type": "code",
 "execution_count": null,
 "metadata": {
  "collapsed": false
 },
 "outputs": [],
 "source": [
   "    \n    order = 2500\n    NE = 4 * order  # number of excitatory neurons\n    NI = 1 * order  # number of inhibitory neurons\n    CE = int(epsilon * NE)  # number of excitatory synapses per neuron\n    CI = int(epsilon * NI)  # number of inhibitory synapses per neuron\n    C_tot = int(CI + CE)  # total number of synapses per neuron\n    \n"
 ]
},{
  "cell_type": "markdown",
  "metadata": {},
  "source": [
    "Initialization of the parameters of the siegert neuron and the\nconnection strength. The parameter are equivalent to the LIF-neurons\nin the SLIFN.\n\n"
  ]
},{
 "cell_type": "code",
 "execution_count": null,
 "metadata": {
  "collapsed": false
 },
 "outputs": [],
 "source": [
   "    \n    tauMem = 20.0  # time constant of membrane potential in ms\n    theta = 20.0  # membrane threshold potential in mV\n    neuron_params = {'tau_m': tauMem,\n                     't_ref': 2.0,\n                     'theta': theta,\n                     'V_reset': 0.0,\n                     }\n    \n    J = 0.1  # postsynaptic amplitude in mV in the SLIFN\n    J_ex = J  # amplitude of excitatory postsynaptic potential\n    J_in = -g * J_ex  # amplitude of inhibitory postsynaptic potential\n    drift_factor_ext = tauMem * 1e-3 * J_ex\n    drift_factor_ex = tauMem * 1e-3 * CE * J_ex\n    drift_factor_in = tauMem * 1e-3 * CI * J_in\n    diffusion_factor_ext = tauMem * 1e-3 * J_ex ** 2\n    diffusion_factor_ex = tauMem * 1e-3 * CE * J_ex ** 2\n    diffusion_factor_in = tauMem * 1e-3 * CI * J_in ** 2\n    \n"
 ]
},{
  "cell_type": "markdown",
  "metadata": {},
  "source": [
    "External drive, this is equivalent to the drive in the SLIFN\n\n"
  ]
},{
 "cell_type": "code",
 "execution_count": null,
 "metadata": {
  "collapsed": false
 },
 "outputs": [],
 "source": [
   "    \n    nu_th = theta / (J * CE * tauMem)\n    nu_ex = eta * nu_th\n    p_rate = 1000.0 * nu_ex * CE\n    \n"
 ]
},{
  "cell_type": "markdown",
  "metadata": {},
  "source": [
    "Configuration of the simulation kernel by the previously defined time\nresolution used in the simulation. Setting \"print_time\" to True prints\nthe already processed simulation time as well as its percentage of the\ntotal simulation time.\n\n"
  ]
},{
 "cell_type": "code",
 "execution_count": null,
 "metadata": {
  "collapsed": false
 },
 "outputs": [],
 "source": [
   "    \n    nest.SetKernelStatus({\"resolution\": dt, \"print_time\": True,\n                          \"overwrite_files\": True})\n    \n    print(\"Building network\")\n    \n"
 ]
},{
  "cell_type": "markdown",
  "metadata": {},
  "source": [
    "Configuration of the model `siegert_neuron` using SetDefaults().\n\n"
  ]
},{
 "cell_type": "code",
 "execution_count": null,
 "metadata": {
  "collapsed": false
 },
 "outputs": [],
 "source": [
   "    \n    nest.SetDefaults(\"siegert_neuron\", neuron_params)\n    \n"
 ]
},{
  "cell_type": "markdown",
  "metadata": {},
  "source": [
    "Creation of the nodes using `Create`. One rate neuron represents\nthe excitatory population of LIF-neurons in the SLIFN and one the\ninhibitory population assuming homogeneity of the populations.\n\n"
  ]
},{
 "cell_type": "code",
 "execution_count": null,
 "metadata": {
  "collapsed": false
 },
 "outputs": [],
 "source": [
   "    \n    siegert_ex = nest.Create(\"siegert_neuron\", 1)\n    siegert_in = nest.Create(\"siegert_neuron\", 1)\n    \n"
 ]
},{
  "cell_type": "markdown",
  "metadata": {},
  "source": [
    "The Poisson drive in the SLIFN is replaced by a driving rate neuron, which\ndoes not receive input from other neurons. The activity of the rate\nneuron is controlled by setting `mean` to the rate of the corresponding\npoisson generator in the SLIFN.\n\n"
  ]
},{
 "cell_type": "code",
 "execution_count": null,
 "metadata": {
  "collapsed": false
 },
 "outputs": [],
 "source": [
   "    \n    siegert_drive = nest.Create('siegert_neuron', 1, params={'mean': p_rate})\n    \n"
 ]
},{
  "cell_type": "markdown",
  "metadata": {},
  "source": [
    "To record from the rate neurons a multimeter is created and the\nparameter `record_from` is set to `'rate'` as well as the recording\ninterval to `dt`\n\n"
  ]
},{
 "cell_type": "code",
 "execution_count": null,
 "metadata": {
  "collapsed": false
 },
 "outputs": [],
 "source": [
   "    \n    multimeter = nest.Create(\n        'multimeter', params={'record_from': ['rate'], 'interval': dt})\n    \n"
 ]
},{
  "cell_type": "markdown",
  "metadata": {},
  "source": [
    "Connections between `siegert neurons` are realized with the\nsynapse model 'diffusion_connection'. These two parameters reflect the\nprefactors in front of the rate variable in eq. 27-29 in [1].\n\n"
  ]
},{
 "cell_type": "code",
 "execution_count": null,
 "metadata": {
  "collapsed": false
 },
 "outputs": [],
 "source": [
   "    \n"
 ]
},{
  "cell_type": "markdown",
  "metadata": {},
  "source": [
    "Connections originating from the driving neuron\n\n"
  ]
},{
 "cell_type": "code",
 "execution_count": null,
 "metadata": {
  "collapsed": false
 },
 "outputs": [],
 "source": [
   "    \n    syn_dict = {'drift_factor': drift_factor_ext,\n                'diffusion_factor': diffusion_factor_ext,\n                'model': 'diffusion_connection'}\n    \n    nest.Connect(\n        siegert_drive, siegert_ex + siegert_in, 'all_to_all', syn_dict)\n    nest.Connect(multimeter, siegert_ex + siegert_in)\n    \n"
 ]
},{
  "cell_type": "markdown",
  "metadata": {},
  "source": [
    "Connections originating from the excitatory neuron\n\n"
  ]
},{
 "cell_type": "code",
 "execution_count": null,
 "metadata": {
  "collapsed": false
 },
 "outputs": [],
 "source": [
   "    \n    syn_dict = {'drift_factor': drift_factor_ex, 'diffusion_factor':\n                diffusion_factor_ex, 'model': 'diffusion_connection'}\n    nest.Connect(siegert_ex, siegert_ex + siegert_in, 'all_to_all', syn_dict)\n    \n"
 ]
},{
  "cell_type": "markdown",
  "metadata": {},
  "source": [
    "Connections originating from the inhibitory neuron\n\n"
  ]
},{
 "cell_type": "code",
 "execution_count": null,
 "metadata": {
  "collapsed": false
 },
 "outputs": [],
 "source": [
   "    \n    syn_dict = {'drift_factor': drift_factor_in, 'diffusion_factor':\n                diffusion_factor_in, 'model': 'diffusion_connection'}\n    nest.Connect(siegert_in, siegert_ex + siegert_in, 'all_to_all', syn_dict)\n    \n"
 ]
},{
  "cell_type": "markdown",
  "metadata": {},
  "source": [
    "Simulate the network\n\n"
  ]
},{
 "cell_type": "code",
 "execution_count": null,
 "metadata": {
  "collapsed": false
 },
 "outputs": [],
 "source": [
   "    \n    nest.Simulate(simtime)\n    \n"
 ]
},{
  "cell_type": "markdown",
  "metadata": {},
  "source": [
    "Analyze the activity data. The asymptotic rate of the siegert\nneuron corresponds to the population- and time-averaged activity in\nthe SLIFN.  For the symmetric network setup used here, the excitatory\nand inhibitory rates are identical. For comparison execute the\nexample brunel_delta_nest.py.\n\n"
  ]
},{
 "cell_type": "code",
 "execution_count": null,
 "metadata": {
  "collapsed": false
 },
 "outputs": [],
 "source": [
   "    \n    data = nest.GetStatus(multimeter)[0]['events']\n    rates_ex = data['rate'][numpy.where(data['senders'] == siegert_ex)]\n    rates_in = data['rate'][numpy.where(data['senders'] == siegert_in)]\n    times = data['times'][numpy.where(data['senders'] == siegert_in)]\n    print(\"Excitatory rate   : %.2f Hz\" % rates_ex[-1])\n    print(\"Inhibitory rate   : %.2f Hz\" % rates_in[-1])\n    \n    \n"
 ]
},{
  "cell_type": "markdown",
  "metadata": {},
  "source": [
    "\n\n"
  ]
},{
 "cell_type": "code",
 "execution_count": null,
 "metadata": {
  "collapsed": false
 },
 "outputs": [],
 "source": [
   "\n"
 ]
}
],
 "metadata": {
  "kernelspec": {
   "display_name": "Python 2",
   "language": "python",
   "name": "python2"
  },
  "language_info": {
   "codemirror_mode": {
    "name": "ipython",
    "version": 2
   },
   "file_extension": ".py",
   "mimetype": "text/x-python",
   "name": "python",
   "nbconvert_exporter": "python",
   "pygments_lexer": "ipython2",
   "version": "2.7.3"
  }
 },
 "nbformat": 4,
 "nbformat_minor": 0
}