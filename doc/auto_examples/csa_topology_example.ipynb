{
  "cells": [
    {
      "cell_type": "code",
      "execution_count": null,
      "metadata": {
        "collapsed": false
      },
      "outputs": [],
      "source": [
        "%matplotlib inline"
      ]
    },
    {
      "cell_type": "markdown",
      "metadata": {},
      "source": [
        "\nUsing CSA with Topology layers\n------------------------------\n\nThis example shows a brute-force way of specifying connections between\nNEST Topology layers using Connection Set Algebra instead of the\nbuilt-in connection routines.\n\nUsing the CSA requires NEST to be compiled with support for\nlibneurosim. For details, see Djurfeldt M, Davison AP and Eppler JM\n(2014) **Efficient generation of connectivity in neuronal networks\nfrom simulator-independent descriptions**, *Front. Neuroinform.*\nhttp://dx.doi.org/10.3389/fninf.2014.00043\n\nFor a related example, see csa_example.py\n\nThis example uses the function GetLeaves, which is deprecated. A deprecation\nwarning is therefore issued. For details about deprecated functions, see\ndocumentation.\n\n"
      ]
    },
    {
      "cell_type": "code",
      "execution_count": null,
      "metadata": {
        "collapsed": false
      },
      "outputs": [],
      "source": [
        "\"\"\"\nFirst, we import all necessary modules.\n\"\"\"\n\nimport nest\nimport nest.topology as topo\n\n\"\"\"\nNext, we check for the availability of the CSA Python module. If it\ndoes not import, we exit with an error message.\n\"\"\"\n\ntry:\n    import csa\n    haveCSA = True\nexcept ImportError:\n    print(\"This example requires CSA to be installed in order to run.\\n\" +\n          \"Please make sure you compiled NEST using\\n\" +\n          \"  -Dwith-libneurosim=[OFF|ON|</path/to/libneurosim>]\\n\" +\n          \"and CSA and libneurosim are available from PYTHONPATH.\")\n    import sys\n    sys.exit()\n\n\"\"\"\nWe define a factory that returns a CSA-style geometry function for\nthe given layer. The function returned will return for each CSA-index\nthe position in space of the given neuron as a 2- or 3-element list.\n\nThis function stores a copy of the neuron positions internally,\nentailing memory overhead.\n\"\"\"\n\n\ndef geometryFunction(topologyLayer):\n\n    positions = topo.GetPosition(nest.GetLeaves(topologyLayer)[0])\n\n    def geometry_function(idx):\n        return positions[idx]\n\n    return geometry_function\n\n\"\"\"\nWe create two layers that have 20x20 neurons of type `iaf_psc_alpha`.\n\"\"\"\n\npop1 = topo.CreateLayer({'elements': 'iaf_psc_alpha',\n                         'rows': 20, 'columns': 20})\npop2 = topo.CreateLayer({'elements': 'iaf_psc_alpha',\n                         'rows': 20, 'columns': 20})\n\n\"\"\"\nFor each layer, we create a CSA-style geometry function and a CSA\nmetric based on them.\n\"\"\"\n\ng1 = geometryFunction(pop1)\ng2 = geometryFunction(pop2)\nd = csa.euclidMetric2d(g1, g2)\n\n\"\"\"\nThe connection set ``cs`` describes a Gaussian connectivity profile\nwith sigma = 0.2 and cutoff at 0.5, and two values (10000.0 and 1.0)\nused as weight and delay, respectively.\n\"\"\"\n\ncs = csa.cset(csa.random * (csa.gaussian(0.2, 0.5) * d), 10000.0, 1.0)\n\n\"\"\"\nWe can now connect the populations using the `CGConnect` function.\nIt takes the IDs of pre- and postsynaptic neurons (``pop1`` and\n``pop2``), the connection set (``cs``) and a dictionary that maps\nthe parameters weight and delay to positions in the value set\nassociated with the connection set.\n\"\"\"\n\n# This is a work-around until NEST 3.0 is released. It will issue a deprecation\n# warning.\npop1_gids = nest.GetLeaves(pop1)[0]\npop2_gids = nest.GetLeaves(pop2)[0]\n\nnest.CGConnect(pop1_gids, pop2_gids, cs, {\"weight\": 0, \"delay\": 1})\n\n\"\"\"\nFinally, we use the `PlotTargets` function to show all targets in\n``pop2`` starting at the center neuron of ``pop1``.\n\"\"\"\n\ntopo.PlotTargets(topo.FindCenterElement(pop1), pop2)"
      ]
    }
  ],
  "metadata": {
    "kernelspec": {
      "display_name": "Python 3",
      "language": "python",
      "name": "python3"
    },
    "language_info": {
      "codemirror_mode": {
        "name": "ipython",
        "version": 3
      },
      "file_extension": ".py",
      "mimetype": "text/x-python",
      "name": "python",
      "nbconvert_exporter": "python",
      "pygments_lexer": "ipython3",
      "version": "3.6.1"
    }
  },
  "nbformat": 4,
  "nbformat_minor": 0
}