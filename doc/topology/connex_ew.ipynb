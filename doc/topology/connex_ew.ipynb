{
  "cells": [
    {
      "cell_type": "code",
      "execution_count": null,
      "metadata": {
        "collapsed": false
      },
      "outputs": [],
      "source": [
        "%matplotlib inline"
      ]
    },
    {
      "cell_type": "markdown",
      "metadata": {},
      "source": [
        "\nNEST Topology Module Example\n\nCreate two 30x30 layers of iaf_psc_alpha neurons with edge_wrap,\nconnect with circular mask, flat probability,\nvisualize.\n\nBCCN Tutorial @ CNS*09\nHans Ekkehard Plesser, UMB\n\n"
      ]
    },
    {
      "cell_type": "code",
      "execution_count": null,
      "metadata": {
        "collapsed": false
      },
      "outputs": [],
      "source": [
        "import pylab\nimport nest\nimport nest.topology as topo\n\npylab.ion()\n\nnest.ResetKernel()\n\n# create two test layers\na = topo.CreateLayer({'columns': 30, 'rows': 30, 'extent': [3.0, 3.0],\n                      'elements': 'iaf_psc_alpha'})\nb = topo.CreateLayer({'columns': 30, 'rows': 30, 'extent': [3.0, 3.0],\n                      'elements': 'iaf_psc_alpha', 'edge_wrap': True})\n\nconndict = {'connection_type': 'divergent',\n            'mask': {'circular': {'radius': 0.5}},\n            'kernel': 0.5,\n            'weights': {'uniform': {'min': 0.5, 'max': 2.0}},\n            'delays': 1.0}\ntopo.ConnectLayers(a, b, conndict)\n\npylab.clf()\n\n# plot targets of neurons in different grid locations\n\n# first, clear existing figure, get current figure\npylab.clf()\nfig = pylab.gcf()\n\n# plot targets of two source neurons into same figure, with mask\nfor src_pos in [[15, 15], [0, 0]]:\n    # obtain node id for center\n    src = topo.GetElement(a, src_pos)\n    topo.PlotTargets(src, b, mask=conndict['mask'], fig=fig)\n\n# beautify\npylab.axes().set_xticks(pylab.arange(-1.5, 1.55, 0.5))\npylab.axes().set_yticks(pylab.arange(-1.5, 1.55, 0.5))\npylab.grid(True)\npylab.axis([-2.0, 2.0, -2.0, 2.0])\npylab.axes().set_aspect('equal', 'box')\npylab.title('Connection targets')\n\n# pylab.savefig('connex_ew.pdf')"
      ]
    }
  ],
  "metadata": {
    "kernelspec": {
      "display_name": "Python 3",
      "language": "python",
      "name": "python3"
    },
    "language_info": {
      "codemirror_mode": {
        "name": "ipython",
        "version": 3
      },
      "file_extension": ".py",
      "mimetype": "text/x-python",
      "name": "python",
      "nbconvert_exporter": "python",
      "pygments_lexer": "ipython3",
      "version": "3.6.1"
    }
  },
  "nbformat": 4,
  "nbformat_minor": 0
}