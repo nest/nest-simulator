{
 "cells": [
  {
   "cell_type": "code",
   "execution_count": null,
   "metadata": {
    "collapsed": false
   },
   "outputs": [],
   "source": [
    "%matplotlib inline"
   ]
  },
  {
   "cell_type": "markdown",
   "metadata": {},
   "source": [
    "\n",
    "# Synapse Collection usage example\n",
    "\n",
    "Example script to show some of the possibilities of the SynapseCollection class. We\n",
    "connect neurons, and get the SynapseCollection with a GetConnections call. To get\n",
    "a better understanding of the connections, we plot the weights between the\n",
    "source and targets.\n"
   ]
  },
  {
   "cell_type": "code",
   "execution_count": null,
   "metadata": {
    "collapsed": false
   },
   "outputs": [],
   "source": [
    "import nest\n",
    "import matplotlib.pyplot as plt\n",
    "import numpy as np\n",
    "\n",
    "\n",
    "def makeMatrix(sources, targets, weights):\n",
    "    \"\"\"\n",
    "    Returns a matrix with the weights between the source and target node_ids.\n",
    "    \"\"\"\n",
    "    aa = np.zeros((max(sources) + 1, max(targets) + 1))\n",
    "\n",
    "    for src, trg, wght in zip(sources, targets, weights):\n",
    "        aa[src, trg] += wght\n",
    "\n",
    "    return aa\n",
    "\n",
    "\n",
    "def plotMatrix(srcs, tgts, weights, title, pos):\n",
    "    \"\"\"\n",
    "    Plots weight matrix.\n",
    "    \"\"\"\n",
    "    plt.subplot(pos)\n",
    "    plt.matshow(makeMatrix(srcs, tgts, weights), fignum=False)\n",
    "    plt.xlim([min(tgts) - 0.5, max(tgts) + 0.5])\n",
    "    plt.xlabel('target')\n",
    "    plt.ylim([max(srcs) + 0.5, min(srcs) - 0.5])\n",
    "    plt.ylabel('source')\n",
    "    plt.title(title)\n",
    "    plt.colorbar(fraction=0.046, pad=0.04)"
   ]
  },
  {
   "cell_type": "markdown",
   "metadata": {},
   "source": [
    "Start with a simple, one_to_one example.\n",
    "We create the neurons, connect them, and get the connections. From this we can\n",
    "get the connected sources, targets, and weights. The corresponding matrix will\n",
    "be the identity matrix, as we have a one_to_one connection.\n",
    "\n"
   ]
  },
  {
   "cell_type": "code",
   "execution_count": null,
   "metadata": {
    "collapsed": false
   },
   "outputs": [],
   "source": [
    "nest.ResetKernel()\n",
    "\n",
    "nrns = nest.Create('iaf_psc_alpha', 10)\n",
    "\n",
    "nest.Connect(nrns, nrns, 'one_to_one')\n",
    "conns = nest.GetConnections(nrns, nrns)  # This returns a SynapseCollection"
   ]
  },
  {
   "cell_type": "markdown",
   "metadata": {},
   "source": [
    "We can get desired information of the SynapseCollection with simple get() call.\n",
    "\n"
   ]
  },
  {
   "cell_type": "code",
   "execution_count": null,
   "metadata": {
    "collapsed": false
   },
   "outputs": [],
   "source": [
    "g = conns.get(['source', 'target', 'weight'])\n",
    "srcs = g['source']\n",
    "tgts = g['target']\n",
    "weights = g['weight']"
   ]
  },
  {
   "cell_type": "markdown",
   "metadata": {},
   "source": [
    "Plot the matrix consisting of the weights between the sources and targets\n",
    "\n"
   ]
  },
  {
   "cell_type": "code",
   "execution_count": null,
   "metadata": {
    "collapsed": false
   },
   "outputs": [],
   "source": [
    "plt.figure(figsize=(12, 10))\n",
    "plotMatrix(srcs, tgts, weights, 'Uniform weight', 121)"
   ]
  },
  {
   "cell_type": "markdown",
   "metadata": {},
   "source": [
    "Add some weights to the connections, and plot the updated weight matrix.\n",
    "\n"
   ]
  },
  {
   "cell_type": "markdown",
   "metadata": {},
   "source": [
    "We can set data of the connections with a simple set() call.\n",
    "\n"
   ]
  },
  {
   "cell_type": "code",
   "execution_count": null,
   "metadata": {
    "collapsed": false
   },
   "outputs": [],
   "source": [
    "w = [{'weight': x * 1.0} for x in range(1, 11)]\n",
    "conns.set(w)\n",
    "weights = conns.weight\n",
    "\n",
    "plotMatrix(srcs, tgts, weights, 'Set weight', 122)"
   ]
  },
  {
   "cell_type": "markdown",
   "metadata": {},
   "source": [
    "We can also plot an all_to_all connection, with uniformly distributed weights,\n",
    "and different number of sources and targets.\n",
    "\n"
   ]
  },
  {
   "cell_type": "code",
   "execution_count": null,
   "metadata": {
    "collapsed": false
   },
   "outputs": [],
   "source": [
    "nest.ResetKernel()\n",
    "\n",
    "pre = nest.Create('iaf_psc_alpha', 10)\n",
    "post = nest.Create('iaf_psc_delta', 5)\n",
    "nest.Connect(pre, post, syn_spec={'weight': nest.random.uniform(min=0.5, max=4.5)})"
   ]
  },
  {
   "cell_type": "markdown",
   "metadata": {},
   "source": [
    "Get a SynapseCollection with all connections\n",
    "\n"
   ]
  },
  {
   "cell_type": "code",
   "execution_count": null,
   "metadata": {
    "collapsed": false
   },
   "outputs": [],
   "source": [
    "conns = nest.GetConnections()\n",
    "srcs = conns.source\n",
    "tgts = conns.target\n",
    "weights = conns.weight\n",
    "\n",
    "plt.figure(figsize=(12, 10))\n",
    "plotMatrix(srcs, tgts, weights, 'All to all connection', 111)"
   ]
  },
  {
   "cell_type": "markdown",
   "metadata": {},
   "source": [
    "Lastly, we'll do an exmple that is a bit more complex. We connect different\n",
    "neurons with different rules, synapse models and weight distributions, and get\n",
    "different SynapseCollections by calling GetConnections with different inputs.\n",
    "\n"
   ]
  },
  {
   "cell_type": "code",
   "execution_count": null,
   "metadata": {
    "collapsed": false
   },
   "outputs": [],
   "source": [
    "nest.ResetKernel()\n",
    "\n",
    "nrns = nest.Create('iaf_psc_alpha', 15)\n",
    "nest.Connect(nrns[:5], nrns[:5],\n",
    "             'one_to_one',\n",
    "             {'synapse_model': 'stdp_synapse', 'weight': nest.random.normal(mean=5.0, std=2.0)})\n",
    "nest.Connect(nrns[:10], nrns[5:12],\n",
    "             {'rule': 'pairwise_bernoulli', 'p': 0.4},\n",
    "             {'weight': 4.0})\n",
    "nest.Connect(nrns[5:10], nrns[:5],\n",
    "             {'rule': 'fixed_total_number', 'N': 5},\n",
    "             {'weight': 3.0})\n",
    "nest.Connect(nrns[10:], nrns[:12],\n",
    "             'all_to_all',\n",
    "             {'synapse_model': 'stdp_synapse', 'weight': nest.random.uniform(min=1., max=5.)})\n",
    "nest.Connect(nrns, nrns[12:],\n",
    "             {'rule': 'fixed_indegree', 'indegree': 3})"
   ]
  },
  {
   "cell_type": "markdown",
   "metadata": {},
   "source": [
    "First get a SynapseCollection consisting of all the connections\n",
    "\n"
   ]
  },
  {
   "cell_type": "code",
   "execution_count": null,
   "metadata": {
    "collapsed": false
   },
   "outputs": [],
   "source": [
    "conns = nest.GetConnections()\n",
    "srcs = conns.source\n",
    "tgts = conns.target\n",
    "weights = conns.weight\n",
    "\n",
    "plt.figure(figsize=(14, 12))\n",
    "plotMatrix(list(srcs), list(tgts), weights, 'All connections', 221)"
   ]
  },
  {
   "cell_type": "markdown",
   "metadata": {},
   "source": [
    "Get SynapseCollection consisting of a subset of connections\n",
    "\n"
   ]
  },
  {
   "cell_type": "code",
   "execution_count": null,
   "metadata": {
    "collapsed": false
   },
   "outputs": [],
   "source": [
    "conns = nest.GetConnections(nrns[:10], nrns[:10])\n",
    "g = conns.get(['source', 'target', 'weight'])\n",
    "srcs = g['source']\n",
    "tgts = g['target']\n",
    "weights = g['weight']\n",
    "\n",
    "plotMatrix(srcs, tgts, weights, 'Connections of the first ten neurons', 222)"
   ]
  },
  {
   "cell_type": "markdown",
   "metadata": {},
   "source": [
    "Get SynapseCollection consisting of just the stdp_synapses\n",
    "\n"
   ]
  },
  {
   "cell_type": "code",
   "execution_count": null,
   "metadata": {
    "collapsed": false
   },
   "outputs": [],
   "source": [
    "conns = nest.GetConnections(synapse_model='stdp_synapse')\n",
    "g = conns.get(['source', 'target', 'weight'])\n",
    "srcs = g['source']\n",
    "tgts = g['target']\n",
    "weights = g['weight']\n",
    "\n",
    "plotMatrix(srcs, tgts, weights, 'Connections with stdp_synapse', 223)"
   ]
  },
  {
   "cell_type": "markdown",
   "metadata": {},
   "source": [
    "Get SynapseCollection consisting of the fixed_total_number connections, but set\n",
    "weight before plotting\n",
    "\n"
   ]
  },
  {
   "cell_type": "code",
   "execution_count": null,
   "metadata": {
    "collapsed": false
   },
   "outputs": [],
   "source": [
    "conns = nest.GetConnections(nrns[5:10], nrns[:5])\n",
    "w = [{'weight': x * 1.0} for x in range(1, 6)]\n",
    "conns.set(w)\n",
    "g = conns.get(['source', 'target', 'weight'])\n",
    "srcs = g['source']\n",
    "tgts = g['target']\n",
    "weights = g['weight']\n",
    "\n",
    "plotMatrix(srcs, tgts, weights, 'fixed_total_number, set weight', 224)\n",
    "\n",
    "\n",
    "plt.show()"
   ]
  },
  {
   "cell_type": "markdown",
   "metadata": {},
   "source": [
    "[![EBRAINS Notebook](https://nest-simulator.org/TryItOnEBRAINS.png)](https://lab.ebrains.eu/hub/user-redirect/git-pull?repo=https%3A%2F%2Fgithub.com%2Fjessica-mitchell%2Fnest-simulator&urlpath=lab%2Ftree%2Fnest-simulator%2Fpynest%2Fexamples%2Fnotebooks%2Fsynapsecollection.ipynb&branch=ebrains-button)\n"
   ]
  }
 ],
 "metadata": {
  "kernelspec": {
   "display_name": "EBRAINS-22.10",
   "language": "python",
   "name": "spack_python_kernel_release_202210"
  },
  "language_info": {
   "codemirror_mode": {
    "name": "ipython",
    "version": 3
   },
   "file_extension": ".py",
   "mimetype": "text/x-python",
   "name": "python",
   "nbconvert_exporter": "python",
   "pygments_lexer": "ipython3",
   "version": "3.9.6"
  }
 },
 "nbformat": 4,
 "nbformat_minor": 5
}
