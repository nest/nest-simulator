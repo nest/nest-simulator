{
 "cells": [
  {
   "cell_type": "code",
   "execution_count": null,
   "metadata": {
    "collapsed": false
   },
   "outputs": [],
   "source": [
    "%matplotlib inline"
   ]
  },
  {
   "cell_type": "markdown",
   "metadata": {},
   "source": [
    "\n",
    "# Sinusoidal poisson generator example\n",
    "\n",
    "This script demonstrates the use of the ``sinusoidal_poisson_generator``\n",
    "and its different parameters and modes. The source code of the model\n",
    "can be found in ``models/sinusoidal_poisson_generator.h``.\n",
    "\n",
    "The script is structured into two parts and creates one common figure.\n",
    "In Part 1, two instances of the ``sinusoidal_poisson_generator`` are\n",
    "created with different parameters. Part 2 illustrates the effect of\n",
    "the ``individual_spike_trains`` switch.\n"
   ]
  },
  {
   "cell_type": "markdown",
   "metadata": {},
   "source": [
    "We import the modules required to simulate, analyze and plot this example.\n",
    "\n"
   ]
  },
  {
   "cell_type": "code",
   "execution_count": null,
   "metadata": {
    "collapsed": false
   },
   "outputs": [],
   "source": [
    "import nest\n",
    "import matplotlib.pyplot as plt\n",
    "import numpy as np\n",
    "\n",
    "nest.ResetKernel()   # in case we run the script multiple times from iPython"
   ]
  },
  {
   "cell_type": "markdown",
   "metadata": {},
   "source": [
    "We create two instances of the ``sinusoidal_poisson_generator`` with two\n",
    "different parameter sets using ``Create``. Moreover, we create devices to\n",
    "record firing rates (``multimeter``) and spikes (``spike_recorder``) and connect\n",
    "them to the generators using ``Connect``.\n",
    "\n"
   ]
  },
  {
   "cell_type": "code",
   "execution_count": null,
   "metadata": {
    "collapsed": false
   },
   "outputs": [],
   "source": [
    "nest.resolution = 0.01\n",
    "\n",
    "num_nodes = 2\n",
    "g = nest.Create('sinusoidal_poisson_generator', n=num_nodes,\n",
    "                params={'rate': [10000.0, 0.0],\n",
    "                        'amplitude': [5000.0, 10000.0],\n",
    "                        'frequency': [10.0, 5.0],\n",
    "                        'phase': [0.0, 90.0]})\n",
    "\n",
    "m = nest.Create('multimeter', num_nodes, {'interval': 0.1, 'record_from': ['rate']})\n",
    "s = nest.Create('spike_recorder', num_nodes)\n",
    "\n",
    "nest.Connect(m, g, 'one_to_one')\n",
    "nest.Connect(g, s, 'one_to_one')\n",
    "print(m.get())\n",
    "nest.Simulate(200)"
   ]
  },
  {
   "cell_type": "markdown",
   "metadata": {},
   "source": [
    "After simulating, the spikes are extracted from the ``spike_recorder`` and\n",
    "plots are created with panels for the PST and ISI histograms.\n",
    "\n"
   ]
  },
  {
   "cell_type": "code",
   "execution_count": null,
   "metadata": {
    "collapsed": false
   },
   "outputs": [],
   "source": [
    "colors = ['b', 'g']\n",
    "\n",
    "for j in range(num_nodes):\n",
    "\n",
    "    ev = m[j].events\n",
    "    t = ev['times']\n",
    "    r = ev['rate']\n",
    "\n",
    "    spike_times = s[j].events['times']\n",
    "    plt.subplot(221)\n",
    "    h, e = np.histogram(spike_times, bins=np.arange(0., 201., 5.))\n",
    "    plt.plot(t, r, color=colors[j])\n",
    "    plt.step(e[:-1], h * 1000 / 5., color=colors[j], where='post')\n",
    "    plt.title('PST histogram and firing rates')\n",
    "    plt.ylabel('Spikes per second')\n",
    "\n",
    "    plt.subplot(223)\n",
    "    plt.hist(np.diff(spike_times), bins=np.arange(0., 1.005, 0.02),\n",
    "             histtype='step', color=colors[j])\n",
    "    plt.title('ISI histogram')"
   ]
  },
  {
   "cell_type": "markdown",
   "metadata": {},
   "source": [
    "The kernel is reset and the number of threads set to 4.\n",
    "\n"
   ]
  },
  {
   "cell_type": "code",
   "execution_count": null,
   "metadata": {
    "collapsed": false
   },
   "outputs": [],
   "source": [
    "nest.ResetKernel()\n",
    "nest.local_num_threads = 4"
   ]
  },
  {
   "cell_type": "markdown",
   "metadata": {},
   "source": [
    "A ``sinusoidal_poisson_generator`` with  ``individual_spike_trains`` set to\n",
    "`True` is created and connected to 20 parrot neurons whose spikes are\n",
    "recorded by a ``spike_recorder``. After simulating, a raster plot of the spikes\n",
    "is created.\n",
    "\n"
   ]
  },
  {
   "cell_type": "code",
   "execution_count": null,
   "metadata": {
    "collapsed": false
   },
   "outputs": [],
   "source": [
    "g = nest.Create('sinusoidal_poisson_generator',\n",
    "                params={'rate': 100.0, 'amplitude': 50.0,\n",
    "                        'frequency': 10.0, 'phase': 0.0,\n",
    "                        'individual_spike_trains': True})\n",
    "p = nest.Create('parrot_neuron', 20)\n",
    "s = nest.Create('spike_recorder')\n",
    "\n",
    "nest.Connect(g, p, 'all_to_all')\n",
    "nest.Connect(p, s, 'all_to_all')\n",
    "\n",
    "nest.Simulate(200)\n",
    "ev = s.events\n",
    "plt.subplot(222)\n",
    "plt.plot(ev['times'], ev['senders'] - min(ev['senders']), 'o')\n",
    "plt.ylim([-0.5, 19.5])\n",
    "plt.yticks([])\n",
    "plt.title('Individual spike trains for each target')"
   ]
  },
  {
   "cell_type": "markdown",
   "metadata": {},
   "source": [
    "The kernel is reset again and the whole procedure is repeated for a\n",
    "``sinusoidal_poisson_generator`` with `individual_spike_trains` set to\n",
    "`False`. The plot shows that in this case, all neurons receive the same\n",
    "spike train from the ``sinusoidal_poisson_generator``.\n",
    "\n"
   ]
  },
  {
   "cell_type": "code",
   "execution_count": null,
   "metadata": {
    "collapsed": false
   },
   "outputs": [],
   "source": [
    "nest.ResetKernel()\n",
    "nest.local_num_threads = 4\n",
    "\n",
    "g = nest.Create('sinusoidal_poisson_generator',\n",
    "                params={'rate': 100.0, 'amplitude': 50.0,\n",
    "                        'frequency': 10.0, 'phase': 0.0,\n",
    "                        'individual_spike_trains': False})\n",
    "p = nest.Create('parrot_neuron', 20)\n",
    "s = nest.Create('spike_recorder')\n",
    "\n",
    "nest.Connect(g, p, 'all_to_all')\n",
    "nest.Connect(p, s, 'all_to_all')\n",
    "\n",
    "nest.Simulate(200)\n",
    "ev = s.events\n",
    "plt.subplot(224)\n",
    "plt.plot(ev['times'], ev['senders'] - min(ev['senders']), 'o')\n",
    "plt.ylim([-0.5, 19.5])\n",
    "plt.yticks([])\n",
    "plt.title('One spike train for all targets')\n",
    "plt.show()"
   ]
  },
  {
   "cell_type": "markdown",
   "metadata": {},
   "source": [
    "[![EBRAINS Notebook](https://nest-simulator.org/TryItOnEBRAINS.png)](https://lab.ebrains.eu/hub/user-redirect/git-pull?repo=https%3A%2F%2Fgithub.com%2Fjessica-mitchell%2Fnest-simulator&urlpath=lab%2Ftree%2Fnest-simulator%2Fpynest%2Fexamples%2Fnotebooks%2Fsinusoidal_poisson_generator.ipynb&branch=ebrains-button)\n"
   ]
  }
 ],
 "metadata": {
  "kernelspec": {
   "display_name": "EBRAINS-22.10",
   "language": "python",
   "name": "spack_python_kernel_release_202210"
  },
  "language_info": {
   "codemirror_mode": {
    "name": "ipython",
    "version": 3
   },
   "file_extension": ".py",
   "mimetype": "text/x-python",
   "name": "python",
   "nbconvert_exporter": "python",
   "pygments_lexer": "ipython3",
   "version": "3.9.6"
  }
 },
 "nbformat": 4,
 "nbformat_minor": 5
}
