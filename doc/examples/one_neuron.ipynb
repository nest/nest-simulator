{
 "cells": [
   {
  "cell_type": "markdown",
  "metadata": {},
  "source": [
    "\n\n"
  ]
},{
 "cell_type": "code",
 "execution_count": null,
 "metadata": {
  "collapsed": false
 },
 "outputs": [],
 "source": [
   "    \n    \n"
 ]
},{
  "cell_type": "markdown",
  "metadata": {},
  "source": [
    "One neuron example\n------------------\n\nThis script simulates a neuron driven by a constant external current\nand records its membrane potential.\n\n"
  ]
},{
 "cell_type": "code",
 "execution_count": null,
 "metadata": {
  "collapsed": false
 },
 "outputs": [],
 "source": [
   "    \n    import nest\n    import nest.voltage_trace\n    nest.set_verbosity(\"M_WARNING\")\n    nest.ResetKernel()\n    \n    neuron = nest.Create(\"iaf_psc_alpha\")\n    voltmeter = nest.Create(\"voltmeter\")\n    \n    nest.SetStatus(neuron, \"I_e\", 376.0)\n    nest.SetStatus(voltmeter, [{\"withgid\": True}])\n    \n    nest.Connect(voltmeter, neuron)\n    \n    nest.Simulate(1000.0)\n    \n    nest.voltage_trace.from_device(voltmeter)\n    \n    \n"
 ]
},{
  "cell_type": "markdown",
  "metadata": {},
  "source": [
    "\n\n"
  ]
},{
 "cell_type": "code",
 "execution_count": null,
 "metadata": {
  "collapsed": false
 },
 "outputs": [],
 "source": [
   "\n"
 ]
}
],
 "metadata": {
  "kernelspec": {
   "display_name": "Python 2",
   "language": "python",
   "name": "python2"
  },
  "language_info": {
   "codemirror_mode": {
    "name": "ipython",
    "version": 2
   },
   "file_extension": ".py",
   "mimetype": "text/x-python",
   "name": "python",
   "nbconvert_exporter": "python",
   "pygments_lexer": "ipython2",
   "version": "2.7.3"
  }
 },
 "nbformat": 4,
 "nbformat_minor": 0
}