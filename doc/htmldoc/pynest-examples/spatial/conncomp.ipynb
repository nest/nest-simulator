{
 "cells": [
  {
   "cell_type": "code",
   "execution_count": null,
   "metadata": {
    "collapsed": false
   },
   "outputs": [],
   "source": [
    "%matplotlib inline"
   ]
  },
  {
   "cell_type": "markdown",
   "metadata": {},
   "source": [
    "\n",
    "# Pyramidal cells and interneurons\n",
    "\n",
    "Create two populations of pyramidal cells and two populations of interneurons\n",
    "on a 30x30 grid. Connect with two projections, one pyr->pyr, one pyr->in, and\n",
    "visualize.\n",
    "\n",
    "BCCN Tutorial @ CNS*09\n",
    "Hans Ekkehard Plesser, UMB\n"
   ]
  },
  {
   "cell_type": "code",
   "execution_count": null,
   "metadata": {
    "collapsed": false
   },
   "outputs": [],
   "source": [
    "import nest\n",
    "import matplotlib.pyplot as plt\n",
    "import numpy as np\n",
    "\n",
    "nest.ResetKernel()\n",
    "nest.set_verbosity('M_WARNING')\n",
    "\n",
    "nest.CopyModel('iaf_psc_alpha', 'pyr')\n",
    "nest.CopyModel('iaf_psc_alpha', 'in')"
   ]
  },
  {
   "cell_type": "markdown",
   "metadata": {},
   "source": [
    "same positions for all populations\n",
    "\n"
   ]
  },
  {
   "cell_type": "code",
   "execution_count": null,
   "metadata": {
    "collapsed": false
   },
   "outputs": [],
   "source": [
    "pos = nest.spatial.grid(shape=[30, 30], extent=[3., 3.])\n",
    "\n",
    "a_pyr = nest.Create('pyr', positions=pos)\n",
    "a_in = nest.Create('in', positions=pos)\n",
    "\n",
    "b_pyr = nest.Create('pyr', positions=pos)\n",
    "b_in = nest.Create('in', positions=pos)\n",
    "\n",
    "nest.Connect(a_pyr, b_pyr, {'rule': 'pairwise_bernoulli',\n",
    "                            'p': 0.5,\n",
    "                            'mask': {'circular': {'radius': 0.5}}})\n",
    "\n",
    "nest.Connect(a_pyr, b_in, {'rule': 'pairwise_bernoulli',\n",
    "                           'p': 0.2,\n",
    "                           'mask': {'circular': {'radius': 1.}}})\n",
    "\n",
    "plt.clf()"
   ]
  },
  {
   "cell_type": "markdown",
   "metadata": {},
   "source": [
    "plot targets of neurons in different grid locations\n",
    "obtain node id for center: pick first node of composite\n",
    "\n"
   ]
  },
  {
   "cell_type": "code",
   "execution_count": null,
   "metadata": {
    "collapsed": false
   },
   "outputs": [],
   "source": [
    "ctr_index = 30 * 15 + 15\n",
    "ctr_id = a_pyr[ctr_index:ctr_index + 1]\n",
    "\n",
    "# get all projection targets of center neuron\n",
    "conn = nest.GetConnections(ctr_id)\n",
    "tgts = conn.get('target')\n",
    "\n",
    "tpyr = nest.GetTargetPositions(ctr_id, b_pyr)[0]\n",
    "tin = nest.GetTargetPositions(ctr_id, b_in)[0]\n",
    "\n",
    "tpyr_x = np.array([x for x, y in tpyr])\n",
    "tpyr_y = np.array([y for x, y in tpyr])\n",
    "tin_x = np.array([x for x, y in tin])\n",
    "tin_y = np.array([y for x, y in tin])\n",
    "\n",
    "# scatter-plot\n",
    "plt.scatter(tpyr_x - 0.02, tpyr_y - 0.02, 20, 'b', zorder=10)\n",
    "plt.scatter(tin_x + 0.02, tin_y + 0.02, 20, 'r', zorder=10)\n",
    "\n",
    "# mark locations with background grey circle\n",
    "plt.plot(tpyr_x, tpyr_y, 'o', markerfacecolor=(0.7, 0.7, 0.7),\n",
    "         markersize=10, markeredgewidth=0, zorder=1, label='_nolegend_')\n",
    "plt.plot(tin_x, tin_y, 'o', markerfacecolor=(0.7, 0.7, 0.7),\n",
    "         markersize=10, markeredgewidth=0, zorder=1, label='_nolegend_')\n",
    "\n",
    "# mark sender position with transparent red circle\n",
    "ctrpos = nest.GetPosition(ctr_id)\n",
    "plt.gca().add_patch(plt.Circle(ctrpos, radius=0.15, zorder=99,\n",
    "                               fc='r', alpha=0.4, ec='none'))\n",
    "\n",
    "# mark mask positions with open red/blue circles\n",
    "plt.gca().add_patch(plt.Circle(ctrpos, radius=0.5, zorder=2,\n",
    "                               fc='none', ec='b', lw=3))\n",
    "plt.gca().add_patch(plt.Circle(ctrpos, radius=1.0, zorder=2,\n",
    "                               fc='none', ec='r', lw=3))\n",
    "\n",
    "# mark layer edge\n",
    "plt.gca().add_patch(plt.Rectangle((-1.5, -1.5), 3.0, 3.0, zorder=1,\n",
    "                                  fc='none', ec='k', lw=3))\n",
    "\n",
    "# beautify\n",
    "plt.axes().set_xticks(np.arange(-1.5, 1.55, 0.5))\n",
    "plt.axes().set_yticks(np.arange(-1.5, 1.55, 0.5))\n",
    "plt.grid(True)\n",
    "plt.axis([-1.6, 1.6, -1.6, 1.6])\n",
    "plt.axes().set_aspect('equal', 'box')\n",
    "plt.show()"
   ]
  },
  {
   "cell_type": "markdown",
   "metadata": {},
   "source": [
    "[![EBRAINS Notebook](https://nest-simulator.org/TryItOnEBRAINS.png)](https://lab.ebrains.eu/hub/user-redirect/git-pull?repo=https%3A%2F%2Fgithub.com%2Fjessica-mitchell%2Fnest-simulator&urlpath=lab%2Ftree%2Fnest-simulator%2Fdoc%2Fhtmldoc%2Fpynest-examples%2Fspatial%2Fconncomp.ipynb&branch=ebrains-button)\n"
   ]
  }
 ],
 "metadata": {
  "kernelspec": {
   "display_name": "EBRAINS-22.10",
   "language": "python",
   "name": "spack_python_kernel_release_202210"
  },
  "language_info": {
   "codemirror_mode": {
    "name": "ipython",
    "version": 3
   },
   "file_extension": ".py",
   "mimetype": "text/x-python",
   "name": "python",
   "nbconvert_exporter": "python",
   "pygments_lexer": "ipython3",
   "version": "3.9.13"
  }
 },
 "nbformat": 4,
 "nbformat_minor": 5
}
