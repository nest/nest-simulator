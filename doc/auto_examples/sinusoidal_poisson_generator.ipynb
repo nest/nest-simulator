{
  "cells": [
    {
      "cell_type": "code",
      "execution_count": null,
      "metadata": {
        "collapsed": false
      },
      "outputs": [],
      "source": [
        "%matplotlib inline"
      ]
    },
    {
      "cell_type": "markdown",
      "metadata": {},
      "source": [
        "\nSinusoidal poisson generator example\n------------------------------------\n\nThis script demonstrates the use of the `sinusoidal_poisson_generator`\nand its different parameters and modes. The source code of the model\ncan be found in models/sinusoidal_poisson_generator.h.\n\nThe script is structured into two parts and creates one common figure.\nIn Part 1, two instances of the `sinusoidal_poisson_generator` are\ncreated with different parameters. Part 2 illustrates the effect of\nthe ``individual_spike_trains`` switch.\n\n"
      ]
    },
    {
      "cell_type": "code",
      "execution_count": null,
      "metadata": {
        "collapsed": false
      },
      "outputs": [],
      "source": [
        "'''\nWe import nest and modules required for analysis and plotting.\n'''\n\nimport nest\nimport matplotlib.pyplot as plt\nimport numpy as np\n\nnest.ResetKernel()   # in case we run the script multiple times from iPython\n\n'''\nWe create two instances of the `sinusoidal_poisson_generator`\nwith two different parameter sets using `Create`. Moreover, we create\ndevices to record firing rates (`multimeter`) and spikes\n(`spike_detector`) and connect them to the generators using `Connect`.\n'''\n\nnest.SetKernelStatus({'resolution': 0.01})\n\ng = nest.Create('sinusoidal_poisson_generator', n=2,\n                params=[{'rate': 10000.0,\n                         'amplitude': 5000.0,\n                         'frequency': 10.0,\n                         'phase': 0.0},\n                        {'rate': 0.0,\n                         'amplitude': 10000.0,\n                         'frequency': 5.0,\n                         'phase': 90.0}])\n\nm = nest.Create('multimeter', n=2, params={'interval': 0.1, 'withgid': False,\n                                           'record_from': ['rate']})\ns = nest.Create('spike_detector', n=2, params={'withgid': False})\n\nnest.Connect(m, g, 'one_to_one')\nnest.Connect(g, s, 'one_to_one')\nprint(nest.GetStatus(m))\nnest.Simulate(200)\n\n'''\nAfter simulating, the spikes are extracted from the\n`spike_detector` using `GetStatus` and plots are created with panels\nfor the PST and ISI histograms.\n'''\n\ncolors = ['b', 'g']\n\nfor j in range(2):\n\n    ev = nest.GetStatus([m[j]])[0]['events']\n    t = ev['times']\n    r = ev['rate']\n\n    sp = nest.GetStatus([s[j]])[0]['events']['times']\n    plt.subplot(221)\n    h, e = np.histogram(sp, bins=np.arange(0., 201., 5.))\n    plt.plot(t, r, color=colors[j])\n    plt.step(e[:-1], h * 1000 / 5., color=colors[j], where='post')\n    plt.title('PST histogram and firing rates')\n    plt.ylabel('Spikes per second')\n\n    plt.subplot(223)\n    plt.hist(np.diff(sp), bins=np.arange(0., 1.005, 0.02),\n             histtype='step', color=colors[j])\n    plt.title('ISI histogram')\n\n'''\nThe kernel is reset and the number of threads set to 4.\n'''\n\nnest.ResetKernel()\nnest.SetKernelStatus({'local_num_threads': 4})\n\n'''\nFirst, a `sinusoidal_poisson_generator` with\n`individual_spike_trains` set to ``True`` is created and connected to\n20 parrot neurons whose spikes are recorded by a spike detector. After\nsimulating, a raster plot of the spikes is created.\n'''\n\ng = nest.Create('sinusoidal_poisson_generator',\n                params={'rate': 100.0, 'amplitude': 50.0,\n                        'frequency': 10.0, 'phase': 0.0,\n                        'individual_spike_trains': True})\np = nest.Create('parrot_neuron', 20)\ns = nest.Create('spike_detector')\n\nnest.Connect(g, p, 'all_to_all')\nnest.Connect(p, s, 'all_to_all')\n\nnest.Simulate(200)\nev = nest.GetStatus(s)[0]['events']\nplt.subplot(222)\nplt.plot(ev['times'], ev['senders'] - min(ev['senders']), 'o')\nplt.ylim([-0.5, 19.5])\nplt.yticks([])\nplt.title('Individual spike trains for each target')\n\n'''\nThe kernel is reset again and the whole procedure is repeated for\na `sinusoidal_poisson_generator` with `individual_spike_trains`\nset to ``False``. The plot shows that in this case, all neurons\nreceive the same spike train from the `sinusoidal_poisson_generator`.\n'''\n\nnest.ResetKernel()\nnest.SetKernelStatus({'local_num_threads': 4})\n\ng = nest.Create('sinusoidal_poisson_generator',\n                params={'rate': 100.0, 'amplitude': 50.0,\n                        'frequency': 10.0, 'phase': 0.0,\n                        'individual_spike_trains': False})\np = nest.Create('parrot_neuron', 20)\ns = nest.Create('spike_detector')\n\nnest.Connect(g, p, 'all_to_all')\nnest.Connect(p, s, 'all_to_all')\n\nnest.Simulate(200)\nev = nest.GetStatus(s)[0]['events']\nplt.subplot(224)\nplt.plot(ev['times'], ev['senders'] - min(ev['senders']), 'o')\nplt.ylim([-0.5, 19.5])\nplt.yticks([])\nplt.title('One spike train for all targets')"
      ]
    }
  ],
  "metadata": {
    "kernelspec": {
      "display_name": "Python 3",
      "language": "python",
      "name": "python3"
    },
    "language_info": {
      "codemirror_mode": {
        "name": "ipython",
        "version": 3
      },
      "file_extension": ".py",
      "mimetype": "text/x-python",
      "name": "python",
      "nbconvert_exporter": "python",
      "pygments_lexer": "ipython3",
      "version": "3.6.1"
    }
  },
  "nbformat": 4,
  "nbformat_minor": 0
}