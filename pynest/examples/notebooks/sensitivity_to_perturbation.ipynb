{
 "cells": [
  {
   "cell_type": "code",
   "execution_count": null,
   "metadata": {
    "collapsed": false
   },
   "outputs": [],
   "source": [
    "%matplotlib inline"
   ]
  },
  {
   "cell_type": "markdown",
   "metadata": {},
   "source": [
    "\n",
    "# Sensitivity to perturbation\n",
    "\n",
    "This script simulates a network in two successive trials, which are identical\n",
    "except for one extra input spike in the second realization (a small\n",
    "perturbation). The network consists of recurrent, randomly connected excitatory\n",
    "and inhibitory neurons. Its activity is driven by an external Poisson input\n",
    "provided to all neurons independently. In order to ensure that the network is\n",
    "reset appropriately between the trials, we do the following steps:\n",
    "\n",
    "- resetting the network\n",
    "- resetting the random network generator\n",
    "- resetting the internal clock\n",
    "- deleting all entries in the spike recorder\n",
    "- introducing a hyperpolarization phase between the trials\n",
    "  (in order to avoid that spikes remaining in the NEST memory\n",
    "  after the first simulation are fed into the second simulation)\n"
   ]
  },
  {
   "cell_type": "markdown",
   "metadata": {},
   "source": [
    "Importing all necessary modules for simulation, analysis and plotting.\n",
    "\n"
   ]
  },
  {
   "cell_type": "code",
   "execution_count": null,
   "metadata": {
    "collapsed": false
   },
   "outputs": [],
   "source": [
    "import numpy\n",
    "import matplotlib.pyplot as plt\n",
    "import nest"
   ]
  },
  {
   "cell_type": "markdown",
   "metadata": {},
   "source": [
    "Here we define all parameters necessary for building and simulating the\n",
    "network.\n",
    "\n"
   ]
  },
  {
   "cell_type": "code",
   "execution_count": null,
   "metadata": {
    "collapsed": false
   },
   "outputs": [],
   "source": [
    "# We start with the global network parameters.\n",
    "\n",
    "\n",
    "NE = 1000      # number of excitatory neurons\n",
    "NI = 250       # number of inhibitory neurons\n",
    "N = NE + NI    # total number of neurons\n",
    "KE = 100       # excitatory in-degree\n",
    "KI = 25        # inhibitory in-degree"
   ]
  },
  {
   "cell_type": "markdown",
   "metadata": {},
   "source": [
    "Parameters specific for the neurons in the network. The  default values of\n",
    "the reset potential ``E_L`` and the spiking threshold ``V_th`` are used to set\n",
    "the limits of the initial potential of the neurons.\n",
    "\n"
   ]
  },
  {
   "cell_type": "code",
   "execution_count": null,
   "metadata": {
    "collapsed": false
   },
   "outputs": [],
   "source": [
    "neuron_model = 'iaf_psc_delta'\n",
    "neuron_params = nest.GetDefaults(neuron_model)\n",
    "Vmin = neuron_params['E_L']   # minimum of initial potential distribution (mV)\n",
    "Vmax = neuron_params['V_th']  # maximum of initial potential distribution (mV)"
   ]
  },
  {
   "cell_type": "markdown",
   "metadata": {},
   "source": [
    "Synapse parameters. Changing the weights `J` in the network can lead to\n",
    "qualitatively different behaviors. If `J` is small (e.g. ``J = 0.1``), we\n",
    "are likely to observe a non-chaotic network behavior (after perturbation\n",
    "the network returns to its original activity). Increasing `J`\n",
    "(e.g ``J = 5.5``) leads to rather chaotic activity. Given that in this\n",
    "example the transition to chaos is probabilistic, we sometimes observe\n",
    "chaotic behavior for small weights (e.g. ``J = 0.5``) and non-chaotic\n",
    "behavior for strong weights (e.g. ``J = 5.4``).\n",
    "\n"
   ]
  },
  {
   "cell_type": "code",
   "execution_count": null,
   "metadata": {
    "collapsed": false
   },
   "outputs": [],
   "source": [
    "J = 0.5                   # excitatory synaptic weight (mV)\n",
    "g = 6.                    # relative inhibitory weight\n",
    "delay = 0.1               # spike transmission delay (ms)\n",
    "\n",
    "\n",
    "# External input parameters.\n",
    "\n",
    "\n",
    "Jext = 0.2                # PSP amplitude for external Poisson input (mV)\n",
    "rate_ext = 6500.          # rate of the external Poisson input\n",
    "\n",
    "\n",
    "# Perturbation parameters.\n",
    "\n",
    "\n",
    "t_stim = 400.             # perturbation time (time of the extra spike)\n",
    "Jstim = Jext              # perturbation amplitude (mV)\n",
    "\n",
    "\n",
    "# Simulation parameters.\n",
    "\n",
    "\n",
    "T = 1000.                 # simulation time per trial (ms)\n",
    "fade_out = 2. * delay     # fade out time (ms)\n",
    "dt = 0.01                 # simulation time resolution (ms)\n",
    "seed_NEST = 30            # seed of random number generator in Nest\n",
    "seed_numpy = 30           # seed of random number generator in NumPy\n",
    "\n",
    "senders = []\n",
    "spiketimes = []"
   ]
  },
  {
   "cell_type": "code",
   "execution_count": null,
   "metadata": {
    "collapsed": false
   },
   "outputs": [],
   "source": [
    "# we run the two simulations successively. After each simulation the\n",
    "# sender ids and spiketimes are stored in a list (``senders``, ``spiketimes``).\n",
    "\n",
    "for trial in [0, 1]:\n",
    "\n",
    "    ###############################################################################\n",
    "    # Before we build the network, we reset the simulation kernel to ensure\n",
    "    # that previous NEST simulations in the Python shell will not disturb this\n",
    "    # simulation and set the simulation resolution (later defined\n",
    "    # synaptic delays cannot be smaller than the simulation resolution).\n",
    "\n",
    "    nest.ResetKernel()\n",
    "    nest.resolution = dt\n",
    "\n",
    "    ###############################################################################\n",
    "    # Now we start building the network and create excitatory and inhibitory nodes\n",
    "    # and connect them. According to the connectivity specification, each neuron\n",
    "    # is assigned random KE synapses from the excitatory population and random KI\n",
    "    # synapses from the inhibitory population.\n",
    "\n",
    "    nodes_ex = nest.Create(neuron_model, NE)\n",
    "    nodes_in = nest.Create(neuron_model, NI)\n",
    "    allnodes = nodes_ex + nodes_in\n",
    "\n",
    "    nest.Connect(nodes_ex, allnodes,\n",
    "                 conn_spec={'rule': 'fixed_indegree', 'indegree': KE},\n",
    "                 syn_spec={'weight': J, 'delay': dt})\n",
    "    nest.Connect(nodes_in, allnodes,\n",
    "                 conn_spec={'rule': 'fixed_indegree', 'indegree': KI},\n",
    "                 syn_spec={'weight': -g * J, 'delay': dt})\n",
    "\n",
    "    ###############################################################################\n",
    "    # Afterwards we create a ``poisson_generator`` that provides spikes (the external\n",
    "    # input) to the neurons until time ``T`` is reached.\n",
    "    # Afterwards a ``dc_generator``, which is also connected to the whole population,\n",
    "    # provides a strong hyperpolarization step for a short time period ``fade_out``.\n",
    "    #\n",
    "    # The ``fade_out`` period has to last at least twice as long as the simulation\n",
    "    # resolution to suppress the neurons from firing.\n",
    "\n",
    "    ext = nest.Create(\"poisson_generator\",\n",
    "                      params={'rate': rate_ext, 'stop': T})\n",
    "    nest.Connect(ext, allnodes,\n",
    "                 syn_spec={'weight': Jext, 'delay': dt})\n",
    "\n",
    "    suppr = nest.Create(\"dc_generator\",\n",
    "                        params={'amplitude': -1e16, 'start': T,\n",
    "                                'stop': T + fade_out})\n",
    "    nest.Connect(suppr, allnodes)\n",
    "\n",
    "    spikerecorder = nest.Create(\"spike_recorder\")\n",
    "    nest.Connect(allnodes, spikerecorder)\n",
    "\n",
    "    ###############################################################################\n",
    "    # We then create the ``spike_generator``, which provides the extra spike\n",
    "    # (perturbation).\n",
    "\n",
    "    stimulus = nest.Create(\"spike_generator\")\n",
    "    stimulus.spike_times = []\n",
    "\n",
    "    ###############################################################################\n",
    "    # We need to reset the random number generator and the clock of\n",
    "    # the simulation Kernel. In addition, we ensure that there is no spike left in\n",
    "    # the spike recorder.\n",
    "\n",
    "    nest.rng_seed = seed_NEST\n",
    "\n",
    "    spikerecorder.n_events = 0\n",
    "\n",
    "    # We assign random initial membrane potentials to all neurons\n",
    "\n",
    "    numpy.random.seed(seed_numpy)\n",
    "    Vms = Vmin + (Vmax - Vmin) * numpy.random.rand(N)\n",
    "    allnodes.V_m = Vms\n",
    "\n",
    "    ##############################################################################\n",
    "    # In the second trial, we add an extra input spike at time ``t_stim`` to the\n",
    "    # neuron that fires first after perturbation time ``t_stim``. Thus, we make sure\n",
    "    # that the perturbation is transmitted to the network before it fades away in\n",
    "    # the perturbed neuron. (Single IAF-neurons are not chaotic.)\n",
    "\n",
    "    if trial == 1:\n",
    "        id_stim = [senders[0][spiketimes[0] > t_stim][0]]\n",
    "        nest.Connect(stimulus, nest.NodeCollection(id_stim),\n",
    "                     syn_spec={'weight': Jstim, 'delay': dt})\n",
    "        stimulus.spike_times = [t_stim]\n",
    "\n",
    "    # Now we simulate the network and add a fade out period to discard\n",
    "    # remaining spikes.\n",
    "\n",
    "    nest.Simulate(T)\n",
    "    nest.Simulate(fade_out)\n",
    "\n",
    "    # Storing the data.\n",
    "\n",
    "    senders += [spikerecorder.get('events', 'senders')]\n",
    "    spiketimes += [spikerecorder.get('events', 'times')]"
   ]
  },
  {
   "cell_type": "markdown",
   "metadata": {},
   "source": [
    "We plot the spiking activity of the network (first trial in red, second trial\n",
    "in black).\n",
    "\n"
   ]
  },
  {
   "cell_type": "code",
   "execution_count": null,
   "metadata": {
    "collapsed": false
   },
   "outputs": [],
   "source": [
    "plt.figure(1)\n",
    "plt.clf()\n",
    "plt.plot(spiketimes[0], senders[0], 'ro', ms=4.)\n",
    "plt.plot(spiketimes[1], senders[1], 'ko', ms=2.)\n",
    "plt.xlabel('time (ms)')\n",
    "plt.ylabel('neuron id')\n",
    "plt.xlim((0, T))\n",
    "plt.ylim((0, N))\n",
    "plt.show()"
   ]
  },
  {
   "cell_type": "markdown",
   "metadata": {},
   "source": [
    "[![EBRAINS Notebook](https://nest-simulator.org/TryItOnEBRAINS.png)](https://lab.ebrains.eu/hub/user-redirect/git-pull?repo=https%3A%2F%2Fgithub.com%2Fjessica-mitchell%2Fnest-simulator&urlpath=lab%2Ftree%2Fnest-simulator%2Fpynest%2Fexamples%2Fnotebooks%2Fnotebooks%2Fsensitivity_to_perturbation.ipynb&branch=ebrains-button)\n"
   ]
  }
 ],
 "metadata": {
  "kernelspec": {
   "display_name": "EBRAINS-22.10",
   "language": "python",
   "name": "spack_python_kernel_release_202210"
  },
  "language_info": {
   "codemirror_mode": {
    "name": "ipython",
    "version": 3
   },
   "file_extension": ".py",
   "mimetype": "text/x-python",
   "name": "python",
   "nbconvert_exporter": "python",
   "pygments_lexer": "ipython3",
   "version": "3.9.6"
  }
 },
 "nbformat": 4,
 "nbformat_minor": 5
}
