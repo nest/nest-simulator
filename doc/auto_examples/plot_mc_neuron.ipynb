{
  "cells": [
    {
      "cell_type": "code",
      "execution_count": null,
      "metadata": {
        "collapsed": false
      },
      "outputs": [],
      "source": [
        "%matplotlib inline"
      ]
    },
    {
      "cell_type": "markdown",
      "metadata": {},
      "source": [
        "\nMulti-compartment neuron example\n--------------------------------\n\nSimple example of how to use the three-compartment `iaf_cond_alpha_mc model`\nneuron.\n\nThree stimulation paradigms are illustrated:\n - externally applied current, one compartment at a time\n - spikes impinging on each compartment, one at a time\n - rheobase current injected to soma causing output spikes\n\nVoltage and synaptic conductance traces are shown for all compartments.\n\n"
      ]
    },
    {
      "cell_type": "code",
      "execution_count": null,
      "metadata": {
        "collapsed": false
      },
      "outputs": [],
      "source": [
        "'''\nFirst, we import all necessary modules for simulation, analysis and\nplotting.\n'''\n\nimport nest\nimport pylab\n\nnest.ResetKernel()\n\n'''\nSecond, extract from the dictionary with receptor types and the list of\nrecordable quantities from the neuron model. Receptor types and\nrecordable quantities uniquely define the receptor type and the compartment\nwhile establishing synaptic connections or assigning multimeters.\n'''\n\nsyns = nest.GetDefaults('iaf_cond_alpha_mc')['receptor_types']\nprint(\"iaf_cond_alpha_mc receptor_types: {0}\".format(syns))\n\nrqs = nest.GetDefaults('iaf_cond_alpha_mc')['recordables']\nprint(\"iaf_cond_alpha_mc recordables   : {0}\".format(rqs))\n\n'''\nThird, the simulation parameters are assigned to variables.\n'''\n\nnest.SetDefaults('iaf_cond_alpha_mc',\n                 {'V_th': -60.0,  # threshold potential\n                  'V_reset': -65.0,  # reset potential\n                  't_ref': 10.0,  # refractory period\n                  'g_sp': 5.0,  # somato-proximal coupling conductance\n                  'soma': {'g_L': 12.0},  # somatic leak conductance\n                  # proximal excitatory and inhibitory synaptic time constants\n                  'proximal': {'tau_syn_ex': 1.0,\n                               'tau_syn_in': 5.0},\n                  'distal': {'C_m': 90.0}  # distal capacitance\n                  })\n\n'''\nFourth, the nodes are created using `Create`. We store the returned\nhandles in variables for later reference.\n'''\n\nn = nest.Create('iaf_cond_alpha_mc')\n\n'''\nFifth, `multimeter`s are created and connected to the neurons.\nThe parameters specified for the multimeter include the list of quantities\nthat should be recorded and the time interval at which quantities are measured.\n'''\n\nmm = nest.Create('multimeter',\n                 params={'record_from': rqs,\n                         'interval': 0.1})\nnest.Connect(mm, n)\n\n'''\nSixth, create one current generator per compartment and configure\nstimulus regime that drives distal, proximal and soma, in that order.\nConfiguration of the current generator includes the definition of\nthe start,stop times and the amplitude of the injected current.\n'''\n\ncgs = nest.Create('dc_generator', 3)\nnest.SetStatus(cgs,\n               [{'start': 250.0, 'stop': 300.0, 'amplitude': 50.0},   # soma\n                {'start': 150.0, 'stop': 200.0, 'amplitude': -50.0},  # proxim.\n                {'start': 50.0, 'stop': 100.0, 'amplitude': 100.0}])  # distal\n\n'''\nGenerators are connected to the correct compartments.\nSpecification of the ``receptor_type`` uniquely defines the target\ncompartment and receptor.\n'''\n\nnest.Connect([cgs[0]], n, syn_spec={'receptor_type': syns['soma_curr']})\nnest.Connect([cgs[1]], n, syn_spec={'receptor_type': syns['proximal_curr']})\nnest.Connect([cgs[2]], n, syn_spec={'receptor_type': syns['distal_curr']})\n\n'''\nCreate one excitatory and one inhibitory spike generator per compartment.\nConfigure regime that drives distal, proximal and soma, in that order,\nexcitation and inhibition alternating.\n'''\n\nsgs = nest.Create('spike_generator', 6)\nnest.SetStatus(sgs,\n               [{'spike_times': [600.0, 620.0]},  # soma excitatory\n                {'spike_times': [610.0, 630.0]},  # soma inhibitory\n                {'spike_times': [500.0, 520.0]},  # proximal excitatory\n                {'spike_times': [510.0, 530.0]},  # proximal inhibitory\n                {'spike_times': [400.0, 420.0]},  # distal excitatory\n                {'spike_times': [410.0, 430.0]}])  # distal inhibitory\n\n'''\nConnect generators to correct compartments in the same way as in case of\ncurrent generator\n'''\n\nnest.Connect([sgs[0]], n, syn_spec={'receptor_type': syns['soma_exc']})\nnest.Connect([sgs[1]], n, syn_spec={'receptor_type': syns['soma_inh']})\nnest.Connect([sgs[2]], n, syn_spec={'receptor_type': syns['proximal_exc']})\nnest.Connect([sgs[3]], n, syn_spec={'receptor_type': syns['proximal_inh']})\nnest.Connect([sgs[4]], n, syn_spec={'receptor_type': syns['distal_exc']})\nnest.Connect([sgs[5]], n, syn_spec={'receptor_type': syns['distal_inh']})\n\n'''\nRun the simulation for 700ms.\n'''\n\nnest.Simulate(700)\n\n'''\nNow turn on intrinsic current in soma to make neuron to spike.\n'''\n\nnest.SetStatus(n, {'soma': {'I_e': 150.0}})\n\n'''\nSimulate the network for another 300ms.\n'''\n\nnest.Simulate(300)\n\n'''\nRetrieve recorded data from the multimeters\n'''\n\nrec = nest.GetStatus(mm)[0]['events']\n\n'''\nCreate an array with the time points when the quantities were actually\nrecorded\n'''\n\nt = rec['times']\n\n'''\nPlot time traces of the membrane potential measured in different compartments.\nV_m.s,V_m.p,V_m.d state for the membrane potential in soma, proximal and\ndistal dendrites.\n'''\n\npylab.figure()\npylab.subplot(211)\npylab.plot(t, rec['V_m.s'], t, rec['V_m.p'], t, rec['V_m.d'])\npylab.legend(('Soma', 'Proximal dendrite', 'Distal dendrite'),\n             loc='lower right')\npylab.axis([0, 1000, -76, -59])\npylab.ylabel('Membrane potential [mV]')\npylab.title('Responses of iaf_cond_alpha_mc neuron')\n\n'''\nPlot time traces of the synaptic conductance measured\nin different compartments.\n'''\n\npylab.subplot(212)\npylab.plot(t, rec['g_ex.s'], 'b-', t, rec['g_ex.p'], 'g-',\n           t, rec['g_ex.d'], 'r-')\npylab.plot(t, rec['g_in.s'], 'b--', t, rec['g_in.p'], 'g--',\n           t, rec['g_in.d'], 'r--')\npylab.legend(('g_ex.s', 'g_ex.p', 'g_in.d', 'g_in.s', 'g_in.p', 'g_in.d'))\npylab.axis([350, 700, 0, 1.15])\npylab.xlabel('Time [ms]')\npylab.ylabel('Synaptic conductance [nS]')"
      ]
    }
  ],
  "metadata": {
    "kernelspec": {
      "display_name": "Python 3",
      "language": "python",
      "name": "python3"
    },
    "language_info": {
      "codemirror_mode": {
        "name": "ipython",
        "version": 3
      },
      "file_extension": ".py",
      "mimetype": "text/x-python",
      "name": "python",
      "nbconvert_exporter": "python",
      "pygments_lexer": "ipython3",
      "version": "3.6.1"
    }
  },
  "nbformat": 4,
  "nbformat_minor": 0
}