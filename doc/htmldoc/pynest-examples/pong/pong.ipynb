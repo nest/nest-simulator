{
  "cells": [
    {
      "cell_type": "code",
      "execution_count": null,
      "metadata": {
        "collapsed": false
      },
      "outputs": [],
      "source": [
        "%matplotlib inline"
      ]
    },
    {
      "cell_type": "markdown",
      "metadata": {},
      "source": [
        "# Classes for running simulations of the classic game Pong\nThe Class GameOfPong contains all necessary functionality for running simple\nsimulations of Pong games.\n\n# See Also\n[Original implementation](https://github.com/electronicvisions/model-sw-pong)\n\n# References\n.. [1] Wunderlich T., et al (2019). Demonstrating advantages of\n       neuromorphic computation: a pilot study. Frontiers in neuroscience, 13,\n       260. https://doi.org/10.3389/fnins.2019.00260\n\n:Authors: T Wunderlich, Electronic Vision(s), J Gille\n"
      ]
    },
    {
      "cell_type": "code",
      "execution_count": null,
      "metadata": {
        "collapsed": false
      },
      "outputs": [],
      "source": [
        "import numpy as np\n\nLEFT_SCORE = -1\nRIGHT_SCORE = +1\nGAME_CONTINUES = 0\n\nMOVE_DOWN = -1\nMOVE_UP = +1\nDONT_MOVE = 0\n\n\nclass GameObject:\n    def __init__(self, game, x_pos=0.5, y_pos=0.5, velocity=0.2,\n                 direction=(0, 0)):\n        \"\"\"Base class for Ball and Paddle that contains basic functionality for\n        an object inside a game.\n\n        Args:\n            game (GameOfPong): Instance of Pong game.\n            x_pos (float, optional): Initial x position. Defaults to 0.5.\n            y_pos (float, optional): Initial y position. Defaults to 0.5.\n            velocity (float, optional): Change in position per iteration.\n            Defaults to 0.2.\n            direction (list, optional): direction vector. Defaults to [0,0].\n        \"\"\"\n        self.x_pos = x_pos\n        self.y_pos = y_pos\n        self.velocity = velocity\n        self.direction = direction\n        self.game = game\n        self.update_cell()\n\n    def get_cell(self):\n        return self.cell\n\n    def get_pos(self):\n        return self.x_pos, self.y_pos\n\n    def update_cell(self):\n        \"\"\"Updates the cell in the game grid based on position.\n        \"\"\"\n        x_cell = int(np.floor(\n            (self.x_pos / self.game.x_length) * self.game.x_grid))\n        y_cell = int(np.floor(\n            (self.y_pos / self.game.y_length) * self.game.y_grid))\n        self.cell = [x_cell, y_cell]\n\n\nclass Ball(GameObject):\n    \"\"\"Class representing the ball.\n\n        Args:\n            radius (float): Radius of ball in unit length.\n\n        For other args, see :class:`GameObject`.\n    \"\"\"\n\n    def __init__(self, game, x_pos=0.8, y_pos=0.5, velocity=0.025,\n                 direction=(-1 / 2., 1 / 2.), radius=0.025):\n        super().__init__(game, x_pos, y_pos, velocity, direction)\n        self.ball_radius = radius  # Unit length\n        self.update_cell()\n\n\nclass Paddle(GameObject):\n    \"\"\"Class representing the paddles on either end of the playing field.\n\n        Args:\n            direction (int, optional): Either -1, 0, or 1 for downward, neutral\n            or upwards motion, respectively. Defaults to 0.\n            left (boolean): If True, paddle is placed on the left side of the\n            board, otherwise on the right side.\n\n        For other args, see :class:`GameObject`.\n    \"\"\"\n    length = 0.2  # Paddle length in the scale of GameOfPong.y_length\n\n    def __init__(self, game, left, y_pos=0.5, velocity=0.05, direction=0):\n        x_pos = 0. if left else game.x_length\n        super().__init__(game, x_pos, y_pos, velocity,\n                         direction)\n        self.update_cell()\n\n    def move_up(self):\n        self.direction = MOVE_UP\n\n    def move_down(self):\n        self.direction = MOVE_DOWN\n\n    def dont_move(self):\n        self.direction = DONT_MOVE\n\n\nclass GameOfPong(object):\n    \"\"\"Class representing a game of Pong. Playing field is 1.6 by 1.0 units\n    in size, discretized into x_grid*y_grid cells.\n    \"\"\"\n    x_grid = 32\n    y_grid = 20\n    x_length = 1.6\n    y_length = 1.0\n\n    def __init__(self):\n        self.r_paddle = Paddle(self, False)\n        self.l_paddle = Paddle(self, True)\n\n        self.reset_ball()\n        self.result = 0\n\n    def reset_ball(self, towards_left=False):\n        \"\"\"Resets the ball position to the center of the field after a goal.\n\n        Args:\n            towards_left (bool, optional): if True, ball direction is\n            initialized towards the left side of the field, otherwise towards\n            the right. Defaults to False.\n        \"\"\"\n        initial_vx = 0.5 + 0.5 * np.random.random()\n        initial_vy = 1. - initial_vx\n        if towards_left:\n            initial_vx *= -1\n        initial_vy *= np.random.choice([-1., 1.])\n\n        self.ball = Ball(self, direction=[initial_vx, initial_vy])\n        self.ball.y_pos = np.random.random() * self.y_length\n\n    def update_ball_direction(self):\n        \"\"\"In case of a collision, updates the direction of the ball. Also\n        determines if the ball is in either player's net.\n\n        Returns:\n            Either GAME_CONTINUES, LEFT_SCORE or RIGHT_SCORE depending on ball\n            and paddle position.\n        \"\"\"\n        if self.ball.y_pos + self.ball.ball_radius >= self.y_length:\n            # Ball on upper edge\n            self.ball.direction[1] = -1 * abs(self.ball.direction[1])\n        elif self.ball.y_pos - self.ball.ball_radius <= 0:\n            # Ball on lower edge\n            self.ball.direction[1] = abs(self.ball.direction[1])\n\n        if self.ball.x_pos - self.ball.ball_radius <= 0:\n            # Ball on left edge\n            if abs(self.l_paddle.y_pos - self.ball.y_pos) <= Paddle.length / 2:\n                # Ball hits left paddle\n                self.ball.direction[0] = abs(self.ball.direction[0])\n            else:\n                return RIGHT_SCORE\n        elif self.ball.x_pos + self.ball.ball_radius >= self.x_length:\n            # Ball on right edge\n            if abs(self.r_paddle.y_pos - self.ball.y_pos) <= Paddle.length / 2:\n                # Ball hits right paddle\n                self.ball.direction[0] = -1 * abs(self.ball.direction[0])\n            else:\n                return LEFT_SCORE\n        return GAME_CONTINUES\n\n    def propagate_ball_and_paddles(self):\n        \"\"\"Updates ball and paddle coordinates based on direction and velocity.\n        \"\"\"\n        for paddle in [self.r_paddle, self.l_paddle]:\n            paddle.y_pos += paddle.direction * paddle.velocity\n            if paddle.y_pos < 0:\n                paddle.y_pos = 0\n            if paddle.y_pos > self.y_length:\n                paddle.y_pos = self.y_length\n            paddle.update_cell()\n        self.ball.y_pos += self.ball.velocity * self.ball.direction[1]\n        self.ball.x_pos += self.ball.velocity * self.ball.direction[0]\n        self.ball.update_cell()\n\n    def get_ball_cell(self):\n        return self.ball.get_cell()\n\n    def step(self):\n        \"\"\"Performs one game step by handling collisions, propagating all game\n        objects and returning the new game state.\n\n        Returns:\n            Either GAME_CONTINUES, LEFT_SCORE or RIGHT_SCORE depending on ball\n            and paddle position. see update_ball_direction()\n        \"\"\"\n        ball_status = self.update_ball_direction()\n        self.propagate_ball_and_paddles()\n        self.result = ball_status\n        return ball_status"
      ]
    }
  ],
  "metadata": {
    "kernelspec": {
      "display_name": "Python 3",
      "language": "python",
      "name": "python3"
    },
    "language_info": {
      "codemirror_mode": {
        "name": "ipython",
        "version": 3
      },
      "file_extension": ".py",
      "mimetype": "text/x-python",
      "name": "python",
      "nbconvert_exporter": "python",
      "pygments_lexer": "ipython3",
      "version": "3.8.6"
    }
  },
  "nbformat": 4,
  "nbformat_minor": 0
}