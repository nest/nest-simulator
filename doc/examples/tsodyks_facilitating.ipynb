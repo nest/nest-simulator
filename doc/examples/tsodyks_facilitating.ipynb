{
 "cells": [
   {
  "cell_type": "markdown",
  "metadata": {},
  "source": [
    "\n\n"
  ]
},{
 "cell_type": "code",
 "execution_count": null,
 "metadata": {
  "collapsed": false
 },
 "outputs": [],
 "source": [
   "    \n    \n"
 ]
},{
  "cell_type": "markdown",
  "metadata": {},
  "source": [
    "tsodyks facilitating example\n-----------------------\n\nThis scripts simulates two neurons. One is driven with dc-input and\nconnected to the other one with a facilitating tsodyks synapse. The\nmembrane potential trace of the second neuron is recorded.\n\n\nThis example reproduces figure 1B of Tsodyks et al. (1998)\n**Neural Networks with Dynamic Synapses**.\n*Neural computation*, http://dx.doi.org/10.1162/089976698300017502\nThis example is analog to ``tsodyks_depressing.py``, except that\ndifferent synapse parameters are used. Here, a small facilitation\nparameter ``U`` causes a slow saturation of the synaptic efficacy\n(Eq. 2.2), enabling a facilitating behavior.\n\n"
  ]
},{
 "cell_type": "code",
 "execution_count": null,
 "metadata": {
  "collapsed": false
 },
 "outputs": [],
 "source": [
   "    \n"
 ]
},{
  "cell_type": "markdown",
  "metadata": {},
  "source": [
    "First, we import all necessary modules for simulation and plotting.\n\n"
  ]
},{
 "cell_type": "code",
 "execution_count": null,
 "metadata": {
  "collapsed": false
 },
 "outputs": [],
 "source": [
   "    \n    import nest\n    import nest.voltage_trace\n    import pylab\n    from numpy import exp\n    \n"
 ]
},{
  "cell_type": "markdown",
  "metadata": {},
  "source": [
    "Second, the simulation parameters are assigned to variables. The\nneuron and synapse parameters are stored into a dictionary.\n\n"
  ]
},{
 "cell_type": "code",
 "execution_count": null,
 "metadata": {
  "collapsed": false
 },
 "outputs": [],
 "source": [
   "    \n    h = 0.1    # simulation step size (ms)\n    Tau = 40.    # membrane time constant\n    Theta = 15.    # threshold\n    E_L = 0.     # reset potential of membrane potential\n    R = 1.     # membrane resistance (GOhm)\n    C = Tau / R  # Tau (ms)/R in NEST units\n    TauR = 2.     # refractory time\n    Tau_psc = 1.5    # time constant of PSC (= Tau_inact)\n    Tau_rec = 130.   # recovery time\n    Tau_fac = 530.   # facilitation time\n    U = 0.03   # facilitation parameter U\n    A = 1540.  # PSC weight in pA\n    f = 20. / 1000.  # frequency in Hz converted to 1/ms\n    Tend = 1200.  # simulation time\n    TIstart = 50.    # start time of dc\n    TIend = 1050.  # end time of dc\n    I0 = Theta * C / Tau / (1 - exp(-(1 / f - TauR) / Tau))  # dc amplitude\n    \n    neuron_param = {\"tau_m\": Tau,\n                    \"t_ref\": TauR,\n                    \"tau_syn_ex\": Tau_psc,\n                    \"tau_syn_in\": Tau_psc,\n                    \"C_m\": C,\n                    \"V_reset\": E_L,\n                    \"E_L\": E_L,\n                    \"V_m\": E_L,\n                    \"V_th\": Theta}\n    \n    syn_param = {\"tau_psc\": Tau_psc,\n                 \"tau_rec\": Tau_rec,\n                 \"tau_fac\": Tau_fac,\n                 \"U\": U,\n                 \"delay\": 0.1,\n                 \"weight\": A,\n                 \"u\": 0.0,\n                 \"x\": 1.0}\n    \n"
 ]
},{
  "cell_type": "markdown",
  "metadata": {},
  "source": [
    "Third, we reset the kernel and set the resolution using `SetKernelStatus`.\n\n"
  ]
},{
 "cell_type": "code",
 "execution_count": null,
 "metadata": {
  "collapsed": false
 },
 "outputs": [],
 "source": [
   "    \n    nest.ResetKernel()\n    nest.SetKernelStatus({\"resolution\": h})\n    \n"
 ]
},{
  "cell_type": "markdown",
  "metadata": {},
  "source": [
    "Fourth, the nodes are created using `Create`. We store the returned\nhandles in variables for later reference.\n\n"
  ]
},{
 "cell_type": "code",
 "execution_count": null,
 "metadata": {
  "collapsed": false
 },
 "outputs": [],
 "source": [
   "    \n    neurons = nest.Create(\"iaf_psc_exp\", 2)\n    dc_gen = nest.Create(\"dc_generator\")\n    volts = nest.Create(\"voltmeter\")\n    \n"
 ]
},{
  "cell_type": "markdown",
  "metadata": {},
  "source": [
    "Fifth, the `iaf_psc_exp`-neurons, the `dc_generator` and the\n`voltmeter` are configured using `SetStatus`, which expects a list of\nnode handles and a parameter dictionary or a list of parameter\ndictionaries.\n\n"
  ]
},{
 "cell_type": "code",
 "execution_count": null,
 "metadata": {
  "collapsed": false
 },
 "outputs": [],
 "source": [
   "    \n    nest.SetStatus(neurons, neuron_param)\n    nest.SetStatus(dc_gen, {\"amplitude\": I0, \"start\": TIstart, \"stop\": TIend})\n    nest.SetStatus(volts, {\"label\": \"voltmeter\", \"withtime\": True, \"withgid\": True,\n                           \"interval\": 1.})\n    \n"
 ]
},{
  "cell_type": "markdown",
  "metadata": {},
  "source": [
    "Sixth, the `dc_generator` is connected to the first neuron\n(``neurons[0]``) and the `voltmeter` is connected to the second neuron\n(``neurons[1]``). The command `Connect` has different variants. Plain\n`Connect` just takes the handles of pre- and post-synaptic nodes and\nuses the default values for weight and delay. Note that the connection\ndirection for the `voltmeter` reflects the signal flow in the\nsimulation kernel, because it observes the neuron instead of receiving\nevents from it.\n\n\n"
  ]
},{
 "cell_type": "code",
 "execution_count": null,
 "metadata": {
  "collapsed": false
 },
 "outputs": [],
 "source": [
   "    \n    nest.Connect(dc_gen, [neurons[0]])\n    nest.Connect(volts, [neurons[1]])\n    \n"
 ]
},{
  "cell_type": "markdown",
  "metadata": {},
  "source": [
    "Seventh, the first neuron (``neurons[0]``) is connected to the\nsecond neuron (``neurons[1]``).  The command `CopyModel` copies the\n`tsodyks_synapse` model to the new name ``syn`` with parameters\n``syn_param``.  The manually defined model ``syn`` is used in the\nconnection routine via the ``syn_spec`` parameter.\n\n"
  ]
},{
 "cell_type": "code",
 "execution_count": null,
 "metadata": {
  "collapsed": false
 },
 "outputs": [],
 "source": [
   "    \n    nest.CopyModel(\"tsodyks_synapse\", \"syn\", syn_param)\n    nest.Connect([neurons[0]], [neurons[1]], syn_spec=\"syn\")\n    \n"
 ]
},{
  "cell_type": "markdown",
  "metadata": {},
  "source": [
    "Finally, we simulate the configuration using the command\n`Simulate`, where the simulation time ``Tend`` is passed as the\nargument.  We plot the target neuron's membrane potential as a\nfunction of time.\n\n"
  ]
},{
 "cell_type": "code",
 "execution_count": null,
 "metadata": {
  "collapsed": false
 },
 "outputs": [],
 "source": [
   "    \n    nest.Simulate(Tend)\n    nest.voltage_trace.from_device(volts)\n    \n    \n"
 ]
},{
  "cell_type": "markdown",
  "metadata": {},
  "source": [
    "\n\n"
  ]
},{
 "cell_type": "code",
 "execution_count": null,
 "metadata": {
  "collapsed": false
 },
 "outputs": [],
 "source": [
   "\n"
 ]
}
],
 "metadata": {
  "kernelspec": {
   "display_name": "Python 2",
   "language": "python",
   "name": "python2"
  },
  "language_info": {
   "codemirror_mode": {
    "name": "ipython",
    "version": 2
   },
   "file_extension": ".py",
   "mimetype": "text/x-python",
   "name": "python",
   "nbconvert_exporter": "python",
   "pygments_lexer": "ipython2",
   "version": "2.7.3"
  }
 },
 "nbformat": 4,
 "nbformat_minor": 0
}