{
  "cells": [
    {
      "cell_type": "code",
      "execution_count": null,
      "metadata": {
        "collapsed": false
      },
      "outputs": [],
      "source": [
        "%matplotlib inline"
      ]
    },
    {
      "cell_type": "markdown",
      "metadata": {},
      "source": [
        "\nIntrinsic currents subthreshold\n-------------------------------\n\nThis example illustrates how to record from a model with multiple\nintrinsic currents and visualize the results. This is illustrated\nusing the `ht_neuron` which has four intrinsic currents: I_NaP,\nI_KNa, I_T, and I_h. It is a slightly simplified implementation of\nneuron model proposed in Hill and Tononi (2005) **Modeling Sleep\nand Wakefulness in the Thalamocortical System** *J Neurophysiol* 93:1671\nhttp://dx.doi.org/10.1152/jn.00915.2004 .\n\nThe neuron is driven by DC current, which is alternated\nbetween depolarizing and hyperpolarizing. Hyperpolarization\nintervals become increasingly longer.\n\nSee also: intrinsic_currents_spiking.py\n\n"
      ]
    },
    {
      "cell_type": "code",
      "execution_count": null,
      "metadata": {
        "collapsed": false
      },
      "outputs": [],
      "source": [
        "'''\nWe imported all necessary modules for simulation, analysis and\nplotting.\n'''\n\nimport nest\nimport numpy as np\nimport matplotlib.pyplot as plt\n\n'''\nAdditionally, we set the verbosity using `set_verbosity` to\nsuppress info messages. We also reset the kernel to be sure to start\nwith a clean NEST.\n'''\n\nnest.set_verbosity(\"M_WARNING\")\nnest.ResetKernel()\n\n'''\nWe define simulation parameters:\n\n- The length of depolarization intervals\n- The length of hyperpolarization intervals\n- The amplitude for de- and hyperpolarizing currents\n- The end of the time window to plot\n'''\n\nn_blocks = 5\nt_block = 20.\nt_dep = [t_block] * n_blocks\nt_hyp = [t_block * 2 ** n for n in range(n_blocks)]\nI_dep = 10.\nI_hyp = -5.\n\nt_end = 500.\n\n'''\nWe create the one neuron instance and the DC current generator\nand store the returned handles.\n'''\n\nnrn = nest.Create('ht_neuron')\ndc = nest.Create('dc_generator')\n\n'''\nWe create a multimeter to record\n\n- membrane potential `V_m`\n- threshold value `theta`\n- intrinsic currents `I_NaP`, `I_KNa`, `I_T`, `I_h`\n\nby passing these names in the `record_from` list.\n\nTo find out which quantities can be recorded from a given neuron,\nrun::\n\n  nest.GetDefaults('ht_neuron')['recordables']\n\nThe result will contain an entry like::\n\n  <SLILiteral: V_m>\n\nfor each recordable quantity. You need to pass the value of the `SLILiteral`,\nin this case `V_m` in the `record_from` list.\n\nWe want to record values with 0.1 ms resolution, so we set the\nrecording interval as well; the default recording resolution is 1 ms.\n'''\n\n# create multimeter and configure it to record all information\n# we want at 0.1ms resolution\nmm = nest.Create('multimeter',\n                 params={'interval': 0.1,\n                         'record_from': ['V_m', 'theta',\n                                         'I_NaP', 'I_KNa', 'I_T', 'I_h']}\n                 )\n\n'''\nWe connect the DC generator and the multimeter to the neuron.\nNote that the multimeter, just like the voltmeter is connected\nto the neuron, not the neuron to the multimeter.\n'''\n\nnest.Connect(dc, nrn)\nnest.Connect(mm, nrn)\n\n'''\nWe are ready to simulate. We alternate between driving the neuron\nwith depolarizing and hyperpolarizing currents. Before each simulation\ninterval, we set the amplitude of the DC generator to the correct value.\n'''\n\nfor t_sim_dep, t_sim_hyp in zip(t_dep, t_hyp):\n\n    nest.SetStatus(dc, {'amplitude': I_dep})\n    nest.Simulate(t_sim_dep)\n\n    nest.SetStatus(dc, {'amplitude': I_hyp})\n    nest.Simulate(t_sim_hyp)\n\n'''\nWe now fetch the data recorded by the multimeter. The data are\nreturned as a dictionary with entry ``'times'`` containing timestamps\nfor all recorded data, plus one entry per recorded quantity.\n\nAll data is contained in the ``'events'`` entry of the status dictionary\nreturned by the multimeter. Because all NEST function return arrays,\nwe need to pick out element ``0`` from the result of `GetStatus`.\n'''\n\ndata = nest.GetStatus(mm)[0]['events']\nt = data['times']\n\n'''\nThe next step is to plot the results. We create a new figure, add a\nsingle subplot and plot at first membrane potential and threshold.\n'''\n\nfig = plt.figure()\nVax = fig.add_subplot(111)\nVax.plot(t, data['V_m'], 'b-', lw=2, label=r'$V_m$')\nVax.plot(t, data['theta'], 'g-', lw=2, label=r'$\\Theta$')\nVax.set_ylim(-80., 0.)\nVax.set_ylabel('Voltageinf [mV]')\nVax.set_xlabel('Time [ms]')\n\n'''\nTo plot the input current, we need to create an input\ncurrent trace. We construct it from the durations of the de- and\nhyperpolarizing inputs and add the delay in the connection between\nDC generator and neuron:\n\n1. We find the delay by checking the status of the dc->nrn connection.\n1. We find the resolution of the simulation from the kernel status.\n1. Each current interval begins one time step after the previous interval,\nis delayed by the delay and effective for the given duration.\n1. We build the time axis incrementally. We only add the delay when adding\nthe first time point after t=0. All subsequent points are then automatically\nshifted by the delay.\n'''\n\ndelay = nest.GetStatus(nest.GetConnections(dc, nrn))[0]['delay']\ndt = nest.GetKernelStatus('resolution')\n\nt_dc, I_dc = [0], [0]\n\nfor td, th in zip(t_dep, t_hyp):\n    t_prev = t_dc[-1]\n    t_start_dep = t_prev + dt if t_prev > 0 else t_prev + dt + delay\n    t_end_dep = t_start_dep + td\n    t_start_hyp = t_end_dep + dt\n    t_end_hyp = t_start_hyp + th\n\n    t_dc.extend([t_start_dep, t_end_dep, t_start_hyp, t_end_hyp])\n    I_dc.extend([I_dep, I_dep, I_hyp, I_hyp])\n\n'''\nThe following function turns a name such as I_NaP into proper TeX code\n$I_{\\mathrm{NaP}}$ for a pretty label.\n'''\n\n\ndef texify_name(name):\n    return r'${}_{{\\mathrm{{{}}}}}$'.format(*name.split('_'))\n\n'''\nNext, we add a right vertical axis and plot the currents with respect\nto that axis.\n'''\n\nIax = Vax.twinx()\nIax.plot(t_dc, I_dc, 'k-', lw=2, label=texify_name('I_DC'))\n\nfor iname, color in (('I_h', 'maroon'), ('I_T', 'orange'),\n                     ('I_NaP', 'crimson'), ('I_KNa', 'aqua')):\n    Iax.plot(t, data[iname], color=color, lw=2, label=texify_name(iname))\n\nIax.set_xlim(0, t_end)\nIax.set_ylim(-10., 15.)\nIax.set_ylabel('Current [pA]')\nIax.set_title('ht_neuron driven by DC current')\n\n'''\nWe need to make a little extra effort to combine lines from the two axis\ninto one legend.\n'''\nlines_V, labels_V = Vax.get_legend_handles_labels()\nlines_I, labels_I = Iax.get_legend_handles_labels()\ntry:\n    Iax.legend(lines_V + lines_I, labels_V + labels_I, fontsize='small')\nexcept TypeError:\n    # work-around for older Matplotlib versions\n    Iax.legend(lines_V + lines_I, labels_V + labels_I)\n\n'''\nNote that I_KNa is not activated in this example because the neuron does\nnot spike. I_T has only a very small amplitude.\n'''"
      ]
    }
  ],
  "metadata": {
    "kernelspec": {
      "display_name": "Python 3",
      "language": "python",
      "name": "python3"
    },
    "language_info": {
      "codemirror_mode": {
        "name": "ipython",
        "version": 3
      },
      "file_extension": ".py",
      "mimetype": "text/x-python",
      "name": "python",
      "nbconvert_exporter": "python",
      "pygments_lexer": "ipython3",
      "version": "3.6.1"
    }
  },
  "nbformat": 4,
  "nbformat_minor": 0
}