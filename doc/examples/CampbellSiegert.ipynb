{
 "cells": [
   {
  "cell_type": "markdown",
  "metadata": {},
  "source": [
    "\n\n"
  ]
},{
 "cell_type": "code",
 "execution_count": null,
 "metadata": {
  "collapsed": false
 },
 "outputs": [],
 "source": [
   "    \n    \n"
 ]
},{
  "cell_type": "markdown",
  "metadata": {},
  "source": [
    "Campbell & Siegert approximation example\n----------------------------------------\n\nExample script that applies Campbell's theorem and Siegert's rate\napproximation to and integrate-and-fire neuron.\n\nThis script calculates the firing rate of an integrate-and-fire neuron\nin response to a series of Poisson generators, each specified with a\nrate and a synaptic weight. The calculated rate is compared with a\nsimulation using the iaf_psc_alpha model\n\nSven Schrader, Nov 2008, Siegert implementation by Tom Tetzlaff\n\n"
  ]
},{
 "cell_type": "code",
 "execution_count": null,
 "metadata": {
  "collapsed": false
 },
 "outputs": [],
 "source": [
   "    \n    from scipy.special import erf\n    from scipy.optimize import fmin\n    \n    import numpy as np\n    \n    import nest\n    \n"
 ]
},{
  "cell_type": "markdown",
  "metadata": {},
  "source": [
    "We first set the parameters of neurons, noise and the simulation.\nFirst settings are with a single Poisson source, second is with two\nPoisson sources with half the rate of the single source. Both should\nlead to the same results.\n\n"
  ]
},{
 "cell_type": "code",
 "execution_count": null,
 "metadata": {
  "collapsed": false
 },
 "outputs": [],
 "source": [
   "    weights = [0.1]    # (mV) psp amplitudes\n    rates = [10000.]   # (1/s) rate of Poisson sources\n    \n    C_m = 250.0       # (pF) capacitance\n    E_L = -70.0       # (mV) resting potential\n    I_e = 0.0         # (nA) external current\n    V_reset = -70.0   # (mV) reset potential\n    V_th = -55.0      # (mV) firing threshold\n    t_ref = 2.0       # (ms) refractory period\n    tau_m = 10.0      # (ms) membrane time constant\n    tau_syn_ex = .5   # (ms) excitatory synaptic time constant\n    tau_syn_in = 2.0  # (ms) inhibitory synaptic time constant\n    \n    simtime = 20000  # (ms) duration of simulation\n    n_neurons = 10   # number of simulated neurons\n    \n"
 ]
},{
  "cell_type": "markdown",
  "metadata": {},
  "source": [
    "For convenience we define some units.\n\n"
  ]
},{
 "cell_type": "code",
 "execution_count": null,
 "metadata": {
  "collapsed": false
 },
 "outputs": [],
 "source": [
   "    pF = 1e-12\n    ms = 1e-3\n    pA = 1e-12\n    mV = 1e-3\n    \n    mu = 0.0\n    sigma2 = 0.0\n    J = []\n    \n    assert(len(weights) == len(rates))\n    \n"
 ]
},{
  "cell_type": "markdown",
  "metadata": {},
  "source": [
    "In the following we analytically compute the firing rate of the\nneuron based on Campbell's theorem [1] and Siegerts approximation [2].\n\nReferences:\n[1] Papoulis A (1991) **Probability, Random Variables, and\nStochastic Processes**, *McGraw-Hill*\n[2] Siegert AJ (1951) **On the first passage time probability problem**,\n*Phys Rev 81: 617-623*\n\n"
  ]
},{
 "cell_type": "code",
 "execution_count": null,
 "metadata": {
  "collapsed": false
 },
 "outputs": [],
 "source": [
   "    for rate, weight in zip(rates, weights):\n    \n        if weight > 0:\n            tau_syn = tau_syn_ex\n        else:\n            tau_syn = tau_syn_in\n    \n        t_psp = np.arange(0., 10. * (tau_m * ms + tau_syn * ms), 0.0001)\n    \n"
 ]
},{
  "cell_type": "markdown",
  "metadata": {},
  "source": [
    "We define the form of a single PSP, which allows us to match the\nmaximal value to or chosen weight.\n\n"
  ]
},{
 "cell_type": "code",
 "execution_count": null,
 "metadata": {
  "collapsed": false
 },
 "outputs": [],
 "source": [
   "        def psp(x):\n            return - ((C_m * pF) / (tau_syn * ms) * (1 / (C_m * pF)) *\n                      (np.exp(1) / (tau_syn * ms)) *\n                      (((-x * np.exp(-x / (tau_syn * ms))) /\n                        (1 / (tau_syn * ms) - 1 / (tau_m * ms))) +\n                       (np.exp(-x / (tau_m * ms)) - np.exp(-x / (tau_syn * ms))) /\n                       ((1 / (tau_syn * ms) - 1 / (tau_m * ms)) ** 2)))\n    \n        min_result = fmin(psp, [0], full_output=1, disp=0)\n    \n"
 ]
},{
  "cell_type": "markdown",
  "metadata": {},
  "source": [
    "We need to calculate the PSC amplitude (i.e., the weight we set in NEST)\nfrom the PSP amplitude, that we have specified above.\n\n"
  ]
},{
 "cell_type": "code",
 "execution_count": null,
 "metadata": {
  "collapsed": false
 },
 "outputs": [],
 "source": [
   "        fudge = -1. / min_result[1]\n        J.append(C_m * weight / (tau_syn) * fudge)\n    \n"
 ]
},{
  "cell_type": "markdown",
  "metadata": {},
  "source": [
    "We now use Campbell's theorem to calculate mean and variance of\nthe input due to the Poisson sources. The mean and variance add up\nfor each Poisson source.\n\n"
  ]
},{
 "cell_type": "code",
 "execution_count": null,
 "metadata": {
  "collapsed": false
 },
 "outputs": [],
 "source": [
   "        mu += (rate * (J[-1] * pA) * (tau_syn * ms) *\n               np.exp(1) * (tau_m * ms) / (C_m * pF))\n    \n        sigma2 += rate * (2 * tau_m * ms + tau_syn * ms) * \\\n            (J[-1] * pA * tau_syn * ms * np.exp(1) * tau_m * ms /\n             (2 * (C_m * pF) * (tau_m * ms + tau_syn * ms))) ** 2\n    \n    mu += (E_L * mV)\n    sigma = np.sqrt(sigma2)\n    \n"
 ]
},{
  "cell_type": "markdown",
  "metadata": {},
  "source": [
    "Having calculate mean and variance of the input, we can now employ\nSiegert's rate approximation.\n\n"
  ]
},{
 "cell_type": "code",
 "execution_count": null,
 "metadata": {
  "collapsed": false
 },
 "outputs": [],
 "source": [
   "    num_iterations = 100\n    upper = (V_th * mV - mu) / sigma / np.sqrt(2)\n    lower = (E_L * mV - mu) / sigma / np.sqrt(2)\n    interval = (upper - lower) / num_iterations\n    tmpsum = 0.0\n    for cu in range(0, num_iterations + 1):\n        u = lower + cu * interval\n        f = np.exp(u ** 2) * (1 + erf(u))\n        tmpsum += interval * np.sqrt(np.pi) * f\n    r = 1. / (t_ref * ms + tau_m * ms * tmpsum)\n    \n"
 ]
},{
  "cell_type": "markdown",
  "metadata": {},
  "source": [
    "We now simulate neurons receiving Poisson spike trains as input,\nand compare the theoretical result to the empirical value.\n\n"
  ]
},{
 "cell_type": "code",
 "execution_count": null,
 "metadata": {
  "collapsed": false
 },
 "outputs": [],
 "source": [
   "    nest.ResetKernel()\n    nest.set_verbosity('M_WARNING')\n    neurondict = {'V_th': V_th, 'tau_m': tau_m, 'tau_syn_ex': tau_syn_ex,\n                  'tau_syn_in': tau_syn_in, 'C_m': C_m, 'E_L': E_L, 't_ref': t_ref,\n                  'V_m': E_L, 'V_reset': E_L}\n    \n"
 ]
},{
  "cell_type": "markdown",
  "metadata": {},
  "source": [
    "Neurons and devices are instantiated. We set a high threshold as\nwe want free membrane potential. In addition we choose a small\nresolution for recording the membrane to collect good statistics.\n\n"
  ]
},{
 "cell_type": "code",
 "execution_count": null,
 "metadata": {
  "collapsed": false
 },
 "outputs": [],
 "source": [
   "    nest.SetDefaults('iaf_psc_alpha', neurondict)\n    n = nest.Create('iaf_psc_alpha', n_neurons)\n    n_free = nest.Create('iaf_psc_alpha', 1, [{'V_th': 1e12}])\n    pg = nest.Create('poisson_generator', len(rates),\n                     [{'rate': float(rate_i)} for rate_i in rates])\n    vm = nest.Create('voltmeter', 1, [{'interval': .1}])\n    sd = nest.Create('spike_detector', 1)\n    \n"
 ]
},{
  "cell_type": "markdown",
  "metadata": {},
  "source": [
    "We connect devices and neurons and start the simulation.\n\n"
  ]
},{
 "cell_type": "code",
 "execution_count": null,
 "metadata": {
  "collapsed": false
 },
 "outputs": [],
 "source": [
   "    for i, currentpg in enumerate(pg):\n        nest.Connect([currentpg], n,\n                     syn_spec={'weight': float(J[i]), 'delay': 0.1})\n        nest.Connect([currentpg], n_free,\n                     syn_spec={'weight': J[i]})\n    \n    nest.Connect(vm, n_free)\n    nest.Connect(n, sd)\n    \n    nest.Simulate(simtime)\n    \n"
 ]
},{
  "cell_type": "markdown",
  "metadata": {},
  "source": [
    "Here we read out the recorded membrane potential. The first 500\nsteps are omitted so initial transients do not perturb our results.\nWe then print the results from theory and simulation.\n\n"
  ]
},{
 "cell_type": "code",
 "execution_count": null,
 "metadata": {
  "collapsed": false
 },
 "outputs": [],
 "source": [
   "    v_free = nest.GetStatus(vm, 'events')[0]['V_m'][500:-1]\n    print('mean membrane potential (actual / calculated): {0} / {1}'\n          .format(np.mean(v_free), mu * 1000))\n    print('variance (actual / calculated): {0} / {1}'\n          .format(np.var(v_free), sigma2 * 1e6))\n    print('firing rate (actual / calculated): {0} / {1}'\n          .format(nest.GetStatus(sd, 'n_events')[0] /\n                  (n_neurons * simtime * ms), r))\n    \n    \n"
 ]
},{
  "cell_type": "markdown",
  "metadata": {},
  "source": [
    "\n\n"
  ]
},{
 "cell_type": "code",
 "execution_count": null,
 "metadata": {
  "collapsed": false
 },
 "outputs": [],
 "source": [
   "\n"
 ]
}
],
 "metadata": {
  "kernelspec": {
   "display_name": "Python 2",
   "language": "python",
   "name": "python2"
  },
  "language_info": {
   "codemirror_mode": {
    "name": "ipython",
    "version": 2
   },
   "file_extension": ".py",
   "mimetype": "text/x-python",
   "name": "python",
   "nbconvert_exporter": "python",
   "pygments_lexer": "ipython2",
   "version": "2.7.3"
  }
 },
 "nbformat": 4,
 "nbformat_minor": 0
}