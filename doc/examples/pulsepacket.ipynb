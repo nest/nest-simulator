{
 "cells": [
   {
  "cell_type": "markdown",
  "metadata": {},
  "source": [
    "\n\n"
  ]
},{
 "cell_type": "code",
 "execution_count": null,
 "metadata": {
  "collapsed": false
 },
 "outputs": [],
 "source": [
   "    \n    \n"
 ]
},{
  "cell_type": "markdown",
  "metadata": {},
  "source": [
    "Pulse packet example\n--------------------\n\nThis script compares the average and individual membrane potential excursions\nin response to a single pulse packet with an analytically acquired voltage\ntrace (see: Diesmann M. (2002) **Conditions for Stable Propagation of\nSynchronous Spiking in Cortical Neural Networks, Single Neuron Dynamics and\nNetwork Properties**, http://d-nb.info/968772781/34).\n\nA pulse packet is a transient spike volley with a Gaussian rate profile.\nThe user can specify the neural parameters, the parameters of the\npulse-packet and the number of trials.\n\n"
  ]
},{
 "cell_type": "code",
 "execution_count": null,
 "metadata": {
  "collapsed": false
 },
 "outputs": [],
 "source": [
   "    \n"
 ]
},{
  "cell_type": "markdown",
  "metadata": {},
  "source": [
    "First, we import all necessary modules for simulation, analysis and\nplotting.\n\n"
  ]
},{
 "cell_type": "code",
 "execution_count": null,
 "metadata": {
  "collapsed": false
 },
 "outputs": [],
 "source": [
   "    \n    import nest\n    import numpy\n    import pylab\n    import array\n    \n"
 ]
},{
  "cell_type": "markdown",
  "metadata": {},
  "source": [
    "Second, parameters are assigned to variables.\n\nProperties of pulse packet:\n\n"
  ]
},{
 "cell_type": "code",
 "execution_count": null,
 "metadata": {
  "collapsed": false
 },
 "outputs": [],
 "source": [
   "    \n    a = 100            # number of spikes in one pulse packet\n    sdev = 10.         # width of pulse packet (ms)\n    weight = 0.1       # PSP amplitude (mV)\n    pulsetime = 500.   # occurrence time (center) of pulse-packet (ms)\n    \n"
 ]
},{
  "cell_type": "markdown",
  "metadata": {},
  "source": [
    "Network and neuron characteristics:\n\n"
  ]
},{
 "cell_type": "code",
 "execution_count": null,
 "metadata": {
  "collapsed": false
 },
 "outputs": [],
 "source": [
   "    \n    n_neurons = 100    # number of neurons\n    cm = 200.          # membrane capacitance (pF)\n    tau_s = 0.5        # synaptic time constant (ms)\n    tau_m = 20.        # membrane time constant (ms)\n    V0 = 0.0           # resting potential (mV)\n    Vth = numpy.inf    # firing threshold, high value to avoid spiking\n    \n"
 ]
},{
  "cell_type": "markdown",
  "metadata": {},
  "source": [
    "Simulation and analysis parameters:\n\n"
  ]
},{
 "cell_type": "code",
 "execution_count": null,
 "metadata": {
  "collapsed": false
 },
 "outputs": [],
 "source": [
   "    \n    simtime = 1000.               # how long we simulate (ms)\n    simulation_resolution = 0.1  # (ms)\n    sampling_resolution = 1.   # for voltmeter (ms)\n    convolution_resolution = 1.   # for the analytics (ms)\n    \n"
 ]
},{
  "cell_type": "markdown",
  "metadata": {},
  "source": [
    "Some parameters in base units.\n\n"
  ]
},{
 "cell_type": "code",
 "execution_count": null,
 "metadata": {
  "collapsed": false
 },
 "outputs": [],
 "source": [
   "    \n    Cm = cm * 1e-12            # convert to Farad\n    Weight = weight * 1e-12    # convert to Ampere\n    Tau_s = tau_s * 1e-3       # convert to sec\n    Tau_m = tau_m * 1e-3       # convert to sec\n    Sdev = sdev * 1e-3         # convert to sec\n    Convolution_resolution = convolution_resolution * 1e-3  # convert to sec\n    \n    \n    def make_psp(Time, Tau_s, Tau_m, Cm, Weight):\n"
 ]
},{
  "cell_type": "markdown",
  "metadata": {},
  "source": [
    "This function calculates the membrane potential excursion in response\nto a single input spike (the equation is given for example in\nDiesmann 2002, eq.2.3).\nIt expects:\nTime: a time array or a single time point (in sec)\nTau_s and Tau_m: the synaptic and the membrane time constant (in sec)\nCm: the membrane capacity (in Farad)\nWeight: the synaptic weight (in Ampere)\nIt returns the provoked membrane potential (in mV)\n\n"
  ]
},{
 "cell_type": "code",
 "execution_count": null,
 "metadata": {
  "collapsed": false
 },
 "outputs": [],
 "source": [
   "        term1 = (1 / (Tau_s) - 1 / (Tau_m))\n        term2 = numpy.exp(-Time / (Tau_s))\n        term3 = numpy.exp(-Time / (Tau_m))\n        PSP = (Weight / Cm * numpy.exp(1) / Tau_s *\n               (((-Time * term2) / term1) + (term3 - term2) / term1 ** 2))\n        return PSP * 1e3\n    \n    \n    def find_loc_pspmax(tau_s, tau_m):\n"
 ]
},{
  "cell_type": "markdown",
  "metadata": {},
  "source": [
    "This function finds the exact location of the maximum of the PSP caused\nby a single input spike. The location is obtained by setting the first\nderivative of the equation for the PSP (see `make_psp()`) to zero. The\nresulting equation can be expressed ain terms of a LambertW function. This\nfunction is implemented in nest as a .sli file. In order to access this\nfunction in pynest we called the function 'nest.sli_func()'.\nThis function expects:\nTau_s and Tau_m: the synaptic and membrane time constant (in sec)\nIt returns the location of the maximum (in sec)\n\n"
  ]
},{
 "cell_type": "code",
 "execution_count": null,
 "metadata": {
  "collapsed": false
 },
 "outputs": [],
 "source": [
   "        var = tau_m / tau_s\n        lam = nest.sli_func('LambertWm1', -numpy.exp(-1 / var) / var)\n        t_maxpsp = (-var * lam - 1) / var / (1 / tau_s - 1 / tau_m) * 1e-3\n        return t_maxpsp\n    \n"
 ]
},{
  "cell_type": "markdown",
  "metadata": {},
  "source": [
    "1. Analytically acquired voltage trace.\n\n1a) First, we construct a Gaussian kernel for a given standard derivation\n(``sig``) and mean value (``mu``). In this case the standard derivation is\nthe width of the pulse packet (see Diesmann 2002).\n\n"
  ]
},{
 "cell_type": "code",
 "execution_count": null,
 "metadata": {
  "collapsed": false
 },
 "outputs": [],
 "source": [
   "    \n    sig = Sdev\n    mu = 0.0\n    x = numpy.arange(-4 * sig, 4 * sig, Convolution_resolution)\n    term1 = 1 / (sig * numpy.sqrt(2 * numpy.pi))\n    term2 = numpy.exp(-(x - mu) ** 2 / (sig ** 2 * 2))\n    gauss = term1 * term2 * Convolution_resolution\n    \n"
 ]
},{
  "cell_type": "markdown",
  "metadata": {},
  "source": [
    "1b) Second, we calculate the PSP of a neuron due to a single spiking input.\n(see Diesmann 2002, eq. 2.3)\nSince we do that in discrete time steps, we first construct an array\n(``t_psp``) that contains the time points we want to consider. Then, the\nfunction make_psp() (that creates the PSP) takes the time array as its\nfirst argument.\n\n"
  ]
},{
 "cell_type": "code",
 "execution_count": null,
 "metadata": {
  "collapsed": false
 },
 "outputs": [],
 "source": [
   "    \n    t_psp = numpy.arange(0, 10 * (Tau_m + Tau_s), Convolution_resolution)\n    psp = make_psp(t_psp, Tau_s, Tau_m, Cm, Weight)\n    \n"
 ]
},{
  "cell_type": "markdown",
  "metadata": {},
  "source": [
    "1c) Now, we want to normalized the PSP amplitude to one. We therefore have to\ndivide the PSP by its maximum [Diesmann 2002, sec 6.1]. The function\n``find_loc_pspmax()`` returns the exact time point (``t_pspmax``) when we\nexpect the maximum to occur. The function ``make_psp()`` calculates the\ncorresponding PSP value, which is our PSP amplitude (``psp_ampl``).\n\n"
  ]
},{
 "cell_type": "code",
 "execution_count": null,
 "metadata": {
  "collapsed": false
 },
 "outputs": [],
 "source": [
   "    \n    t_pspmax = find_loc_pspmax(Tau_s, Tau_m)\n    psp_amp = make_psp(t_pspmax, Tau_s, Tau_m, Cm, Weight)\n    psp_norm = psp / psp_amp\n    \n"
 ]
},{
  "cell_type": "markdown",
  "metadata": {},
  "source": [
    "1d) Now we have all ingredients to compute the membrane potential excursion\n(``U``) This calculation implies a convolution of the Gaussian with the\nnormalized PSP (see Diesmann 2002, eq. 6.9). In order to avoid an offset in\nthe convolution we need to add a pad of zeros on the left side of the\nnormalized PSP. Later on we want to compare our analytical results with the\nsimulation outcome. Therefore we need a time vector (``t_U``) with the correct\ntemporal resolution, that places the excursion of the potential at the correct\ntime.\n\n"
  ]
},{
 "cell_type": "code",
 "execution_count": null,
 "metadata": {
  "collapsed": false
 },
 "outputs": [],
 "source": [
   "    \n    tmp = numpy.zeros(2 * len(psp_norm))\n    tmp[len(psp_norm) - 1:-1] += psp_norm\n    psp_norm = tmp\n    del tmp\n    U = a * psp_amp * pylab.convolve(gauss, psp_norm)\n    l = len(U)\n    t_U = (convolution_resolution * numpy.linspace(-l / 2., l / 2., l) +\n           pulsetime + 1.)\n    \n"
 ]
},{
  "cell_type": "markdown",
  "metadata": {},
  "source": [
    "2. Simulation. In this section we simulate a network of multiple neurons.\nAll these neurons receive an individual pulse packet that is drawn from a\nGaussian distribution.\n\n"
  ]
},{
  "cell_type": "markdown",
  "metadata": {},
  "source": [
    "2.1 We reset the Kernel, define the simulation resolution and  set the\nverbosity using `set_verbosity()` to suppress info messages.\n\n"
  ]
},{
 "cell_type": "code",
 "execution_count": null,
 "metadata": {
  "collapsed": false
 },
 "outputs": [],
 "source": [
   "    \n    nest.ResetKernel()\n    nest.SetStatus([0], [{'resolution': simulation_resolution}])\n    nest.set_verbosity(\"M_WARNING\")\n    \n"
 ]
},{
  "cell_type": "markdown",
  "metadata": {},
  "source": [
    "2.1 Afterwards we create several neurons, the same amount\nof pulse-packet-generators and a voltmeter. All these nodes/devices\nhave specific properties that are specified in device specific\ndictionaries (here: ``neuron_pars`` for the neurons, ``ppg_pars''\nfor the  and pulse-packet-generators and ``vm_pars`` for the voltmeter).\n\n"
  ]
},{
 "cell_type": "code",
 "execution_count": null,
 "metadata": {
  "collapsed": false
 },
 "outputs": [],
 "source": [
   "    \n    neuron_pars = {\n        'V_th': Vth,\n        'tau_m': tau_m,\n        'tau_syn_ex': tau_s,\n        'C_m': cm,\n        'E_L': V0,\n        'V_reset': V0,\n        'V_m': V0\n        }\n    neurons = nest.Create('iaf_psc_alpha', n_neurons, neuron_pars)\n    ppg_pars = {\n        'pulse_times': [pulsetime],\n        'activity': a,\n        'sdev': sdev\n        }\n    ppgs = nest.Create('pulsepacket_generator', n_neurons, ppg_pars)\n    vm_pars = {\n        'record_to': ['memory'],\n        'withtime': True,\n        'withgid': True,\n        'interval': sampling_resolution\n        }\n    vm = nest.Create('voltmeter', 1, vm_pars)\n    \n"
 ]
},{
  "cell_type": "markdown",
  "metadata": {},
  "source": [
    "2.2 Now, we connect each pulse generator to one neuron via static synapses.\nWe want to keep all properties of the static synapse constant except the\nsynaptic weight. Therefore we change the weight with  the help of the command\n`SetDefaults()`.\nThe command `Connect` connects all kinds of nodes/devices. Since multiple\nnodes/devices can be connected in different ways e.g. each source connects\nto all targets, each source connects to a subset of targets or each source\nconnects to exactly one target, we have to specify the connection. In our\ncase we use the ``one-to-one`` connection routine since we connect one pulse\ngenerator (source) to one neuron (target).\nIn addition we also connect the voltmeter to the neurons'\n\n"
  ]
},{
 "cell_type": "code",
 "execution_count": null,
 "metadata": {
  "collapsed": false
 },
 "outputs": [],
 "source": [
   "    \n    nest.SetDefaults('static_synapse', {'weight': weight})\n    nest.Connect(ppgs, neurons, 'one_to_one')\n    nest.Connect(vm, neurons)\n    \n"
 ]
},{
  "cell_type": "markdown",
  "metadata": {},
  "source": [
    "2.3. In the next step we run the simulation for a given duration\n( ``simtime``, unit is ms).\n\n"
  ]
},{
 "cell_type": "code",
 "execution_count": null,
 "metadata": {
  "collapsed": false
 },
 "outputs": [],
 "source": [
   "    \n    nest.Simulate(simtime)\n    \n"
 ]
},{
  "cell_type": "markdown",
  "metadata": {},
  "source": [
    "2.4 Finally, we record the membrane potential, when it occurred and to\nwhich neuron it belongs. We obtain this information using the command\n'nest.GetStatus(vm, 'events')[0]'). The sender and the time point of a\nvoltage data point at position x in the voltage array (``V_m``), can be\nfound at the same position x in the sender (``senders``) and the time\narray (``times``).\n\n"
  ]
},{
 "cell_type": "code",
 "execution_count": null,
 "metadata": {
  "collapsed": false
 },
 "outputs": [],
 "source": [
   "    \n    Vm = nest.GetStatus(vm, 'events')[0]['V_m']\n    times = nest.GetStatus(vm, 'events')[0]['times']\n    senders = nest.GetStatus(vm, 'events')[0]['senders']\n    \n"
 ]
},{
  "cell_type": "markdown",
  "metadata": {},
  "source": [
    "3. Plotting section. Here we plot the membrane potential derived\nfrom theory and from simulation. Since we simulate multiple neurons\nthat received slightly different pulse packets, we plot the individual\nand the averaged membrane potentials.\n\n"
  ]
},{
 "cell_type": "code",
 "execution_count": null,
 "metadata": {
  "collapsed": false
 },
 "outputs": [],
 "source": [
   "    \n"
 ]
},{
  "cell_type": "markdown",
  "metadata": {},
  "source": [
    "Here we plot the analytical solution U (the resting potential\nV0 shifts the membrane potential up- or downwards).\n\n"
  ]
},{
 "cell_type": "code",
 "execution_count": null,
 "metadata": {
  "collapsed": false
 },
 "outputs": [],
 "source": [
   "    pylab.plot(t_U, U + V0, 'r', lw=2, zorder=3, label='analytical solution')\n    \n"
 ]
},{
  "cell_type": "markdown",
  "metadata": {},
  "source": [
    "Here we plot all individual membrane potentials.\nThe time axes is the range of the simulation time in steps of ms.\n\n"
  ]
},{
 "cell_type": "code",
 "execution_count": null,
 "metadata": {
  "collapsed": false
 },
 "outputs": [],
 "source": [
   "    \n    Vm_single = [Vm[senders == ii] for ii in neurons]\n    simtimes = numpy.arange(1, simtime)\n    for idn in range(n_neurons):\n        if idn == 0:\n            pylab.plot(simtimes, Vm_single[idn], 'gray',\n                       zorder=1, label='single potentials')\n        else:\n            pylab.plot(simtimes, Vm_single[idn], 'gray', zorder=1)\n    \n"
 ]
},{
  "cell_type": "markdown",
  "metadata": {},
  "source": [
    "Here we plot the averaged membrane potential.\n\n"
  ]
},{
 "cell_type": "code",
 "execution_count": null,
 "metadata": {
  "collapsed": false
 },
 "outputs": [],
 "source": [
   "    \n    Vm_average = numpy.mean(Vm_single, axis=0)\n    pylab.plot(simtimes, Vm_average, 'b', lw=4,\n               zorder=2, label='averaged potential')\n    pylab.legend()\n    pylab.xlabel('time (ms)')\n    pylab.ylabel('membrane potential (mV)')\n    pylab.xlim((-5 * (tau_m + tau_s) + pulsetime,\n                10 * (tau_m + tau_s) + pulsetime))\n    \n    \n"
 ]
},{
  "cell_type": "markdown",
  "metadata": {},
  "source": [
    "\n\n"
  ]
},{
 "cell_type": "code",
 "execution_count": null,
 "metadata": {
  "collapsed": false
 },
 "outputs": [],
 "source": [
   "\n"
 ]
}
],
 "metadata": {
  "kernelspec": {
   "display_name": "Python 2",
   "language": "python",
   "name": "python2"
  },
  "language_info": {
   "codemirror_mode": {
    "name": "ipython",
    "version": 2
   },
   "file_extension": ".py",
   "mimetype": "text/x-python",
   "name": "python",
   "nbconvert_exporter": "python",
   "pygments_lexer": "ipython2",
   "version": "2.7.3"
  }
 },
 "nbformat": 4,
 "nbformat_minor": 0
}