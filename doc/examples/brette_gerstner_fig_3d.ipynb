{
 "cells": [
   {
  "cell_type": "markdown",
  "metadata": {},
  "source": [
    "\n\n"
  ]
},{
 "cell_type": "code",
 "execution_count": null,
 "metadata": {
  "collapsed": false
 },
 "outputs": [],
 "source": [
   "    \n    \n"
 ]
},{
  "cell_type": "markdown",
  "metadata": {},
  "source": [
    "Test of the adapting exponential integrate and fire model in NEST\n-----------------------------------------------------------------\n\nThis example tests the adaptive integrate and fire model (AdEx) according to\nBrette and Gerstner (2005) J. Neurophysiology and\nreproduces figure 3.D of the paper.\n\nNote that Brette&Gerstner give the value for b in nA.\nTo be consistent with the other parameters in the equations, b must be\nconverted to pA (pico Ampere).\n\n"
  ]
},{
 "cell_type": "code",
 "execution_count": null,
 "metadata": {
  "collapsed": false
 },
 "outputs": [],
 "source": [
   "    \n    import nest\n    import nest.voltage_trace\n    import pylab\n    \n    nest.ResetKernel()\n    \n"
 ]
},{
  "cell_type": "markdown",
  "metadata": {},
  "source": [
    "First we make sure that the resolution of the simulation is 0.1 ms.\nThis is important, since the slop of the action potential is very steep.\n\n"
  ]
},{
 "cell_type": "code",
 "execution_count": null,
 "metadata": {
  "collapsed": false
 },
 "outputs": [],
 "source": [
   "    res = 0.1\n    nest.SetKernelStatus({\"resolution\": res})\n    neuron = nest.Create(\"aeif_cond_exp\")\n    \n"
 ]
},{
  "cell_type": "markdown",
  "metadata": {},
  "source": [
    "Set the parameters of the neuron according to the paper.\n\n"
  ]
},{
 "cell_type": "code",
 "execution_count": null,
 "metadata": {
  "collapsed": false
 },
 "outputs": [],
 "source": [
   "    nest.SetStatus(neuron, {\"V_peak\": 20., \"E_L\": -60.0, \"a\": 80.0, \"b\": 80.5,\n                            \"tau_w\": 720.0})\n    \n"
 ]
},{
  "cell_type": "markdown",
  "metadata": {},
  "source": [
    "Create and configure the stimulus which is a step current.\n\n"
  ]
},{
 "cell_type": "code",
 "execution_count": null,
 "metadata": {
  "collapsed": false
 },
 "outputs": [],
 "source": [
   "    \n    dc = nest.Create(\"dc_generator\")\n    \n    nest.SetStatus(dc, [{\"amplitude\": -800.0, \"start\": 0.0, \"stop\": 400.0}])\n    \n"
 ]
},{
  "cell_type": "markdown",
  "metadata": {},
  "source": [
    "We connect the DC generators.\n\n"
  ]
},{
 "cell_type": "code",
 "execution_count": null,
 "metadata": {
  "collapsed": false
 },
 "outputs": [],
 "source": [
   "    \n    nest.Connect(dc, neuron, 'all_to_all')\n    \n"
 ]
},{
  "cell_type": "markdown",
  "metadata": {},
  "source": [
    "And add a voltmeter to record the membrane potentials.\n\n"
  ]
},{
 "cell_type": "code",
 "execution_count": null,
 "metadata": {
  "collapsed": false
 },
 "outputs": [],
 "source": [
   "    \n    voltmeter = nest.Create(\"voltmeter\")\n    \n"
 ]
},{
  "cell_type": "markdown",
  "metadata": {},
  "source": [
    "We set the voltmeter to record in small intervals of 0.1 ms and connect\nthe voltmeter to the neuron.\n\n"
  ]
},{
 "cell_type": "code",
 "execution_count": null,
 "metadata": {
  "collapsed": false
 },
 "outputs": [],
 "source": [
   "    nest.SetStatus(voltmeter, {\"withgid\": True, \"withtime\": True, 'interval': 0.1})\n    \n    nest.Connect(voltmeter, neuron)\n    \n"
 ]
},{
  "cell_type": "markdown",
  "metadata": {},
  "source": [
    "Finally, we simulate for 1000 ms and plot a voltage trace\nto produce the figure.\n\n"
  ]
},{
 "cell_type": "code",
 "execution_count": null,
 "metadata": {
  "collapsed": false
 },
 "outputs": [],
 "source": [
   "    nest.Simulate(1000.0)\n    \n    nest.voltage_trace.from_device(voltmeter)\n    pylab.axis([0, 1000, -85, 0])\n    \n    \n"
 ]
},{
  "cell_type": "markdown",
  "metadata": {},
  "source": [
    "\n\n"
  ]
},{
 "cell_type": "code",
 "execution_count": null,
 "metadata": {
  "collapsed": false
 },
 "outputs": [],
 "source": [
   "\n"
 ]
}
],
 "metadata": {
  "kernelspec": {
   "display_name": "Python 2",
   "language": "python",
   "name": "python2"
  },
  "language_info": {
   "codemirror_mode": {
    "name": "ipython",
    "version": 2
   },
   "file_extension": ".py",
   "mimetype": "text/x-python",
   "name": "python",
   "nbconvert_exporter": "python",
   "pygments_lexer": "ipython2",
   "version": "2.7.3"
  }
 },
 "nbformat": 4,
 "nbformat_minor": 0
}