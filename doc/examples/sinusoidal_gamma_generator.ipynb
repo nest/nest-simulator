{
 "cells": [
   {
  "cell_type": "markdown",
  "metadata": {},
  "source": [
    "\n\n"
  ]
},{
 "cell_type": "code",
 "execution_count": null,
 "metadata": {
  "collapsed": false
 },
 "outputs": [],
 "source": [
   "    \n    \n"
 ]
},{
  "cell_type": "markdown",
  "metadata": {},
  "source": [
    "Sinusoidal gamma generator example\n----------------------------------\n\nThis script demonstrates the use of the `sinusoidal_gamma_generator`\nand its different parameters and modes. The source code of the model\ncan be found in models/sinusoidal_gamma_generator.h.\n\nThe script is structured into two parts, each of which generates its\nown figure. In part 1A, two generators are created with different\norders of the underlying gamma process and their resulting PST\n(Peristiumulus time) and ISI (Inter-spike interval) histograms are\nplotted. Part 1B illustrates the effect of the\n``individual_spike_trains`` switch. In Part 2, the effects of\ndifferent settings for rate, phase and frequency are demonstrated.\n\n\n"
  ]
},{
 "cell_type": "code",
 "execution_count": null,
 "metadata": {
  "collapsed": false
 },
 "outputs": [],
 "source": [
   "    \n"
 ]
},{
  "cell_type": "markdown",
  "metadata": {},
  "source": [
    "First, we import all necessary modules for simulation, analysis and\nplotting.\n\n"
  ]
},{
 "cell_type": "code",
 "execution_count": null,
 "metadata": {
  "collapsed": false
 },
 "outputs": [],
 "source": [
   "    \n    import nest\n    import matplotlib.pyplot as plt\n    import numpy as np\n    \n    nest.ResetKernel()   # in case we run the script multiple times from iPython\n    \n"
 ]
},{
  "cell_type": "markdown",
  "metadata": {},
  "source": [
    "We first create a figure for the plot and set the resolution of NEST.\n\n"
  ]
},{
 "cell_type": "code",
 "execution_count": null,
 "metadata": {
  "collapsed": false
 },
 "outputs": [],
 "source": [
   "    \n    plt.figure()\n    nest.SetKernelStatus({'resolution': 0.01})\n    \n"
 ]
},{
  "cell_type": "markdown",
  "metadata": {},
  "source": [
    "Then we create two instances of the `sinusoidal_gamma_generator`\nwith two different orders of the underlying gamma process using\n`Create`. Moreover, we create devices to record firing rates\n(`multimeter`) and spikes (`spike_detector`) and connect them to the\ngenerators using `Connect`.\n\n\n"
  ]
},{
 "cell_type": "code",
 "execution_count": null,
 "metadata": {
  "collapsed": false
 },
 "outputs": [],
 "source": [
   "    \n    g = nest.Create('sinusoidal_gamma_generator', n=2,\n                    params=[{'rate': 10000.0, 'amplitude': 5000.0,\n                             'frequency': 10.0, 'phase': 0.0, 'order': 2.0},\n                            {'rate': 10000.0, 'amplitude': 5000.0,\n                             'frequency': 10.0, 'phase': 0.0, 'order': 10.0}])\n    \n    m = nest.Create('multimeter', n=2, params={'interval': 0.1, 'withgid': False,\n                                               'record_from': ['rate']})\n    s = nest.Create('spike_detector', n=2, params={'withgid': False})\n    \n    nest.Connect(m, g, 'one_to_one')\n    nest.Connect(g, s, 'one_to_one')\n    \n    nest.Simulate(200)\n    \n"
 ]
},{
  "cell_type": "markdown",
  "metadata": {},
  "source": [
    "After simulating, the spikes are extracted from the\n`spike_detector` using `GetStatus` and plots are created with panels\nfor the PST and ISI histograms.\n\n"
  ]
},{
 "cell_type": "code",
 "execution_count": null,
 "metadata": {
  "collapsed": false
 },
 "outputs": [],
 "source": [
   "    colors = ['b', 'g']\n    \n    for j in range(2):\n    \n        ev = nest.GetStatus([m[j]])[0]['events']\n        t = ev['times']\n        r = ev['rate']\n    \n        sp = nest.GetStatus([s[j]])[0]['events']['times']\n        plt.subplot(221)\n        h, e = np.histogram(sp, bins=np.arange(0., 201., 5.))\n        plt.plot(t, r, color=colors[j])\n        plt.step(e[:-1], h * 1000 / 5., color=colors[j], where='post')\n        plt.title('PST histogram and firing rates')\n        plt.ylabel('Spikes per second')\n    \n        plt.subplot(223)\n        plt.hist(np.diff(sp), bins=np.arange(0., 0.505, 0.01),\n                 histtype='step', color=colors[j])\n        plt.title('ISI histogram')\n    \n"
 ]
},{
  "cell_type": "markdown",
  "metadata": {},
  "source": [
    "The kernel is reset and the number of threads set to 4.\n\n"
  ]
},{
 "cell_type": "code",
 "execution_count": null,
 "metadata": {
  "collapsed": false
 },
 "outputs": [],
 "source": [
   "    \n    nest.ResetKernel()\n    nest.SetKernelStatus({'local_num_threads': 4})\n    \n"
 ]
},{
  "cell_type": "markdown",
  "metadata": {},
  "source": [
    "First, a `sinusoidal_gamma_generator` with\n`individual_spike_trains` set to ``True`` is created and connected to\n20 parrot neurons whose spikes are recorded by a spike detector. After\nsimulating, a raster plot of the spikes is created.\n\n"
  ]
},{
 "cell_type": "code",
 "execution_count": null,
 "metadata": {
  "collapsed": false
 },
 "outputs": [],
 "source": [
   "    g = nest.Create('sinusoidal_gamma_generator',\n                    params={'rate': 100.0, 'amplitude': 50.0,\n                            'frequency': 10.0, 'phase': 0.0, 'order': 3.,\n                            'individual_spike_trains': True})\n    p = nest.Create('parrot_neuron', 20)\n    s = nest.Create('spike_detector')\n    \n    nest.Connect(g, p)\n    nest.Connect(p, s)\n    \n    nest.Simulate(200)\n    ev = nest.GetStatus(s)[0]['events']\n    plt.subplot(222)\n    plt.plot(ev['times'], ev['senders'] - min(ev['senders']), 'o')\n    plt.ylim([-0.5, 19.5])\n    plt.yticks([])\n    plt.title('Individual spike trains for each target')\n    \n"
 ]
},{
  "cell_type": "markdown",
  "metadata": {},
  "source": [
    "The kernel is reset again and the whole procedure is repeated for\na `sinusoidal_gamma_generator` with `individual_spike_trains` set to ``False``.\nThe plot shows that in this case, all neurons receive the same spike train from\nthe `sinusoidal_gamma_generator`.\n\n"
  ]
},{
 "cell_type": "code",
 "execution_count": null,
 "metadata": {
  "collapsed": false
 },
 "outputs": [],
 "source": [
   "    \n    nest.ResetKernel()\n    nest.SetKernelStatus({'local_num_threads': 4})\n    \n    g = nest.Create('sinusoidal_gamma_generator',\n                    params={'rate': 100.0, 'amplitude': 50.0,\n                            'frequency': 10.0, 'phase': 0.0, 'order': 3.,\n                            'individual_spike_trains': False})\n    p = nest.Create('parrot_neuron', 20)\n    s = nest.Create('spike_detector')\n    \n    nest.Connect(g, p)\n    nest.Connect(p, s)\n    \n    nest.Simulate(200)\n    ev = nest.GetStatus(s)[0]['events']\n    plt.subplot(224)\n    plt.plot(ev['times'], ev['senders'] - min(ev['senders']), 'o')\n    plt.ylim([-0.5, 19.5])\n    plt.yticks([])\n    plt.title('One spike train for all targets')\n    \n"
 ]
},{
  "cell_type": "markdown",
  "metadata": {},
  "source": [
    "In part 2, multiple generators are created with different settings\nfor rate, phase and frequency. First, we define an auxiliary function\nwhich simulates ``n`` generators for ``t`` ms. After ``t/2``, the\nparameter dictionary of the generators is changed from initial to\nafter.\n\n"
  ]
},{
 "cell_type": "code",
 "execution_count": null,
 "metadata": {
  "collapsed": false
 },
 "outputs": [],
 "source": [
   "    \n    \n    def step(t, n, initial, after, seed=1, dt=0.05):\n"
 ]
},{
  "cell_type": "markdown",
  "metadata": {},
  "source": [
    "\nnest.ResetKernel()\nnest.SetStatus([0], [{\"resolution\": dt}])\nnest.SetStatus([0], [{\"grng_seed\": 256 * seed + 1}])\nnest.SetStatus([0], [{\"rng_seeds\": [256 * seed + 2]}])\n\ng = nest.Create('sinusoidal_gamma_generator', n, params=initial)\nsd = nest.Create('spike_detector')\nnest.Connect(g, sd)\nnest.Simulate(t / 2)\nnest.SetStatus(g, after)\nnest.Simulate(t / 2)\n\nreturn nest.GetStatus(sd, 'events')[0]\n\n\n"
  ]
},{
 "cell_type": "code",
 "execution_count": null,
 "metadata": {
  "collapsed": false
 },
 "outputs": [],
 "source": [
   "    This function serves to plot a histogram of the emitted spikes.\n"
 ]
},{
  "cell_type": "markdown",
  "metadata": {},
  "source": [
    "\n\ndef plot_hist(spikes):\n    plt.hist(spikes['times'],\n             bins=np.arange(0., max(spikes['times']) + 1.5, 1.),\n             histtype='step')\n\nt = 1000\nn = 1000\ndt = 1.0\nsteps = t / dt\noffset = t / 1000. * 2 * np.pi\n\n\n"
  ]
},{
 "cell_type": "code",
 "execution_count": null,
 "metadata": {
  "collapsed": false
 },
 "outputs": [],
 "source": [
   "    We create a figure with a 2x3 grid.\n"
 ]
},{
  "cell_type": "markdown",
  "metadata": {},
  "source": [
    "\ngrid = (2, 3)\nfig = plt.figure(figsize=(15, 10))\n\n\n"
  ]
},{
 "cell_type": "code",
 "execution_count": null,
 "metadata": {
  "collapsed": false
 },
 "outputs": [],
 "source": [
   "    Simulate a `sinusoidal_gamma_generator` with default parameter\n    values, i.e. ac=0 and the DC value being changed from 20 to 50 after\n    ``t/2`` and plot the number of spikes per second over time.\n"
 ]
},{
  "cell_type": "markdown",
  "metadata": {},
  "source": [
    "\nplt.subplot(grid[0], grid[1], 1)\nspikes = step(t, n,\n              {'rate': 20.0},\n              {'rate': 50.0, },\n              seed=123, dt=dt)\nplot_hist(spikes)\nexp = np.ones(steps)\nexp[:int(steps / 2)] *= 20\nexp[int(steps / 2):] *= 50\nplt.plot(exp, 'r')\nplt.title('DC rate: 20 -> 50')\nplt.ylabel('Spikes per second')\n\n\n"
  ]
},{
 "cell_type": "code",
 "execution_count": null,
 "metadata": {
  "collapsed": false
 },
 "outputs": [],
 "source": [
   "    Simulate a `sinusoidal_gamma_generator` with the DC value being\n    changed from 80 to 40 after ``t/2`` and plot the number of spikes per\n    second over time.\n"
 ]
},{
  "cell_type": "markdown",
  "metadata": {},
  "source": [
    "\nplt.subplot(grid[0], grid[1], 2)\nspikes = step(t, n,\n              {'order': 6.0, 'rate': 80.0, 'amplitude': 0.,\n               'frequency': 0., 'phase': 0.},\n              {'order': 6.0, 'rate': 40.0, 'amplitude': 0.,\n               'frequency': 0., 'phase': 0.},\n              seed=123, dt=dt)\nplot_hist(spikes)\nexp = np.ones(steps)\nexp[:int(steps / 2)] *= 80\nexp[int(steps / 2):] *= 40\nplt.plot(exp, 'r')\nplt.title('DC rate: 80 -> 40')\n\n\n"
  ]
},{
 "cell_type": "code",
 "execution_count": null,
 "metadata": {
  "collapsed": false
 },
 "outputs": [],
 "source": [
   "    Simulate a `sinusoidal_gamma_generator` with the AC value being\n    changed from 40 to 20 after ``t/2`` and plot the number of spikes per\n    second over time.\n"
 ]
},{
  "cell_type": "markdown",
  "metadata": {},
  "source": [
    "\nplt.subplot(grid[0], grid[1], 3)\nspikes = step(t, n,\n              {'order': 3.0, 'rate': 40.0, 'amplitude': 40.,\n               'frequency': 10., 'phase': 0.},\n              {'order': 3.0, 'rate': 40.0, 'amplitude': 20.,\n               'frequency': 10., 'phase': 0.},\n              seed=123, dt=dt)\nplot_hist(spikes)\nexp = np.zeros(int(steps))\nexp[:int(steps / 2)] = (40. +\n                        40. * np.sin(np.arange(0, t / 1000. * np.pi * 10,\n                                               t / 1000. * np.pi * 10. /\n                                               (steps / 2))))\nexp[int(steps / 2):] = (40. + 20. * np.sin(np.arange(0, t / 1000. * np.pi * 10,\n                                                     t / 1000. * np.pi * 10. /\n                                                     (steps / 2)) + offset))\nplt.plot(exp, 'r')\nplt.title('Rate Modulation: 40 -> 20')\n\n\n"
  ]
},{
 "cell_type": "code",
 "execution_count": null,
 "metadata": {
  "collapsed": false
 },
 "outputs": [],
 "source": [
   "    Simulate a `sinusoidal_gamma_generator` with a non-zero AC value\n    and the DC value being changed from 80 to 40 after ``t/2`` and plot\n    the number of spikes per second over time.\n"
 ]
},{
  "cell_type": "markdown",
  "metadata": {},
  "source": [
    "\nplt.subplot(grid[0], grid[1], 4)\nspikes = step(t, n,\n              {'order': 6.0, 'rate': 20.0, 'amplitude': 20.,\n               'frequency': 10., 'phase': 0.},\n              {'order': 6.0, 'rate': 50.0, 'amplitude': 50.,\n               'frequency': 10., 'phase': 0.},\n              seed=123, dt=dt)\nplot_hist(spikes)\nexp = np.zeros(int(steps))\nexp[:int(steps / 2)] = (20. + 20. * np.sin(np.arange(0, t / 1000. * np.pi * 10,\n                                                     t / 1000. * np.pi * 10. /\n                                                     (steps / 2))))\nexp[int(steps / 2):] = (50. + 50. * np.sin(np.arange(0, t / 1000. * np.pi * 10,\n                                                     t / 1000. * np.pi * 10. /\n                                                     (steps / 2)) + offset))\nplt.plot(exp, 'r')\nplt.title('DC Rate and Rate Modulation: 20 -> 50')\nplt.ylabel('Spikes per second')\nplt.xlabel('Time [ms]')\n\n\n"
  ]
},{
 "cell_type": "code",
 "execution_count": null,
 "metadata": {
  "collapsed": false
 },
 "outputs": [],
 "source": [
   "    Simulate a `sinusoidal_gamma_generator` with the AC value being\n    changed from 0 to 40 after ``t/2`` and plot the number of spikes per\n    second over time.\n"
 ]
},{
  "cell_type": "markdown",
  "metadata": {},
  "source": [
    "\nplt.subplot(grid[0], grid[1], 5)\nspikes = step(t, n,\n              {'rate': 40.0, },\n              {'amplitude': 40.0, 'frequency': 20.},\n              seed=123, dt=1.)\nplot_hist(spikes)\nexp = np.zeros(int(steps))\nexp[:int(steps / 2)] = 40. * np.ones(steps / 2)\nexp[int(steps / 2):] = (40. + 40. * np.sin(np.arange(0, t / 1000. * np.pi * 20,\n                                                     t / 1000. * np.pi * 20. /\n                                                     (steps / 2))))\nplt.plot(exp, 'r')\nplt.title('Rate Modulation: 0 -> 40')\nplt.xlabel('Time [ms]')\n\n\n"
  ]
},{
 "cell_type": "code",
 "execution_count": null,
 "metadata": {
  "collapsed": false
 },
 "outputs": [],
 "source": [
   "    Simulate a `sinusoidal_gamma_generator` with a phase shift at\n    ``t/2`` and plot the number of spikes per second over time.\n"
 ]
},{
  "cell_type": "markdown",
  "metadata": {},
  "source": [
    "\nplt.subplot(grid[0], grid[1], 6)\nspikes = step(t, n,\n              {'order': 6.0, 'rate': 60.0, 'amplitude': 60.,\n               'frequency': 10., 'phase': 0.},\n              {'order': 6.0, 'rate': 60.0, 'amplitude': 60.,\n               'frequency': 10., 'phase': 180.},\n              seed=123, dt=1.)\nplot_hist(spikes)\nexp = np.zeros(int(steps))\n\nexp[:int(steps / 2)] = (60. + 60. * np.sin(np.arange(0, t / 1000. * np.pi * 10,\n                                                     t / 1000. * np.pi * 10. /\n                                                     (steps / 2))))\nexp[int(steps / 2):] = (60. + 60. * np.sin(np.arange(0, t / 1000. * np.pi * 10,\n                                                     t / 1000. * np.pi * 10. /\n                                                     (steps / 2)) +\n                                           offset + np.pi))\nplt.plot(exp, 'r')\nplt.title('Modulation Phase: 0 -> Pi')\nplt.xlabel('Time [ms]')\n\n\n\n"
  ]
},{
 "cell_type": "code",
 "execution_count": null,
 "metadata": {
  "collapsed": false
 },
 "outputs": [],
 "source": [
   "    \n"
 ]
},{
  "cell_type": "markdown",
  "metadata": {},
  "source": [
    "\n\n"
  ]
}
],
 "metadata": {
  "kernelspec": {
   "display_name": "Python 2",
   "language": "python",
   "name": "python2"
  },
  "language_info": {
   "codemirror_mode": {
    "name": "ipython",
    "version": 2
   },
   "file_extension": ".py",
   "mimetype": "text/x-python",
   "name": "python",
   "nbconvert_exporter": "python",
   "pygments_lexer": "ipython2",
   "version": "2.7.3"
  }
 },
 "nbformat": 4,
 "nbformat_minor": 0
}