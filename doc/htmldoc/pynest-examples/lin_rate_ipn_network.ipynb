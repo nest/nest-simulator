{
 "cells": [
  {
   "cell_type": "code",
   "execution_count": null,
   "metadata": {
    "collapsed": false
   },
   "outputs": [],
   "source": [
    "%matplotlib inline"
   ]
  },
  {
   "cell_type": "markdown",
   "metadata": {},
   "source": [
    "\n",
    "# Network of linear rate neurons\n",
    "\n",
    "This script simulates an excitatory and an inhibitory population\n",
    "of ``lin_rate_ipn`` neurons with delayed excitatory and instantaneous\n",
    "inhibitory connections. The rate of all neurons is recorded using\n",
    "a multimeter. The resulting rate for one excitatory and one\n",
    "inhibitory neuron is plotted.\n"
   ]
  },
  {
   "cell_type": "code",
   "execution_count": null,
   "metadata": {
    "collapsed": false
   },
   "outputs": [],
   "source": [
    "import nest\n",
    "import numpy\n",
    "import matplotlib.pyplot as plt"
   ]
  },
  {
   "cell_type": "markdown",
   "metadata": {},
   "source": [
    "Assigning the simulation parameters to variables.\n",
    "\n"
   ]
  },
  {
   "cell_type": "code",
   "execution_count": null,
   "metadata": {
    "collapsed": false
   },
   "outputs": [],
   "source": [
    "dt = 0.1  # the resolution in ms\n",
    "T = 100.0  # Simulation time in ms"
   ]
  },
  {
   "cell_type": "markdown",
   "metadata": {},
   "source": [
    "Definition of the number of neurons\n",
    "\n"
   ]
  },
  {
   "cell_type": "code",
   "execution_count": null,
   "metadata": {
    "collapsed": false
   },
   "outputs": [],
   "source": [
    "order = 50\n",
    "NE = int(4 * order)    # number of excitatory neurons\n",
    "NI = int(1 * order)    # number of inhibitory neurons\n",
    "N = int(NE + NI)       # total number of neurons"
   ]
  },
  {
   "cell_type": "markdown",
   "metadata": {},
   "source": [
    "Definition of the connections\n",
    "\n"
   ]
  },
  {
   "cell_type": "code",
   "execution_count": null,
   "metadata": {
    "collapsed": false
   },
   "outputs": [],
   "source": [
    "d_e = 5.   # delay of excitatory connections in ms\n",
    "g = 5.0  # ratio inhibitory weight/excitatory weight\n",
    "epsilon = 0.1  # connection probability\n",
    "w = 0.1 / numpy.sqrt(N)  # excitatory connection strength\n",
    "\n",
    "KE = int(epsilon * NE)  # number of excitatory synapses per neuron (outdegree)\n",
    "KI = int(epsilon * NI)  # number of inhibitory synapses per neuron (outdegree)\n",
    "K_tot = int(KI + KE)  # total number of synapses per neuron\n",
    "connection_rule = 'fixed_outdegree'  # connection rule"
   ]
  },
  {
   "cell_type": "markdown",
   "metadata": {},
   "source": [
    "Definition of the neuron model and its neuron parameters\n",
    "\n"
   ]
  },
  {
   "cell_type": "code",
   "execution_count": null,
   "metadata": {
    "collapsed": false
   },
   "outputs": [],
   "source": [
    "neuron_model = 'lin_rate_ipn'  # neuron model\n",
    "neuron_params = {'linear_summation': True,\n",
    "                 # type of non-linearity (not affecting linear rate models)\n",
    "                 'tau': 10.0,\n",
    "                 # time constant of neuronal dynamics in ms\n",
    "                 'mu': 2.0,\n",
    "                 # mean input\n",
    "                 'sigma': 5.\n",
    "                 # noise parameter\n",
    "                 }"
   ]
  },
  {
   "cell_type": "markdown",
   "metadata": {},
   "source": [
    "Configuration of the simulation kernel by the previously defined time\n",
    "resolution used in the simulation. Setting ``print_time`` to True prints\n",
    "the already processed simulation time as well as its percentage of the\n",
    "total simulation time.\n",
    "\n"
   ]
  },
  {
   "cell_type": "code",
   "execution_count": null,
   "metadata": {
    "collapsed": false
   },
   "outputs": [],
   "source": [
    "nest.ResetKernel()\n",
    "nest.resolution = dt\n",
    "nest.use_wfr = False\n",
    "nest.print_time = True\n",
    "nest.overwrite_files = True\n",
    "\n",
    "print(\"Building network\")"
   ]
  },
  {
   "cell_type": "markdown",
   "metadata": {},
   "source": [
    "Creation of the nodes using ``Create``.\n",
    "\n"
   ]
  },
  {
   "cell_type": "code",
   "execution_count": null,
   "metadata": {
    "collapsed": false
   },
   "outputs": [],
   "source": [
    "n_e = nest.Create(neuron_model, NE, neuron_params)\n",
    "n_i = nest.Create(neuron_model, NI, neuron_params)"
   ]
  },
  {
   "cell_type": "markdown",
   "metadata": {},
   "source": [
    "To record from the rate neurons a ``multimeter`` is created and the parameter\n",
    "``record_from`` is set to `rate` as well as the recording interval to `dt`\n",
    "\n"
   ]
  },
  {
   "cell_type": "code",
   "execution_count": null,
   "metadata": {
    "collapsed": false
   },
   "outputs": [],
   "source": [
    "mm = nest.Create('multimeter', params={'record_from': ['rate'],\n",
    "                                       'interval': dt})"
   ]
  },
  {
   "cell_type": "markdown",
   "metadata": {},
   "source": [
    "Specify synapse and connection dictionaries:\n",
    "Connections originating from excitatory neurons are associated\n",
    "with a delay `d` (``rate_connection_delayed``).\n",
    "Connections originating from inhibitory neurons are not associated\n",
    "with a delay (``rate_connection_instantaneous``).\n",
    "\n"
   ]
  },
  {
   "cell_type": "code",
   "execution_count": null,
   "metadata": {
    "collapsed": false
   },
   "outputs": [],
   "source": [
    "syn_e = {'weight': w, 'delay': d_e, 'synapse_model': 'rate_connection_delayed'}\n",
    "syn_i = {'weight': -g * w, 'synapse_model': 'rate_connection_instantaneous'}\n",
    "conn_e = {'rule': connection_rule, 'outdegree': KE}\n",
    "conn_i = {'rule': connection_rule, 'outdegree': KI}"
   ]
  },
  {
   "cell_type": "markdown",
   "metadata": {},
   "source": [
    "Connect rate units\n",
    "\n"
   ]
  },
  {
   "cell_type": "code",
   "execution_count": null,
   "metadata": {
    "collapsed": false
   },
   "outputs": [],
   "source": [
    "nest.Connect(n_e, n_e, conn_e, syn_e)\n",
    "nest.Connect(n_i, n_i, conn_i, syn_i)\n",
    "nest.Connect(n_e, n_i, conn_i, syn_e)\n",
    "nest.Connect(n_i, n_e, conn_e, syn_i)"
   ]
  },
  {
   "cell_type": "markdown",
   "metadata": {},
   "source": [
    "Connect recording device to rate units\n",
    "\n"
   ]
  },
  {
   "cell_type": "code",
   "execution_count": null,
   "metadata": {
    "collapsed": false
   },
   "outputs": [],
   "source": [
    "nest.Connect(mm, n_e + n_i)"
   ]
  },
  {
   "cell_type": "markdown",
   "metadata": {},
   "source": [
    "Simulate the network\n",
    "\n"
   ]
  },
  {
   "cell_type": "code",
   "execution_count": null,
   "metadata": {
    "collapsed": false
   },
   "outputs": [],
   "source": [
    "nest.Simulate(T)"
   ]
  },
  {
   "cell_type": "markdown",
   "metadata": {},
   "source": [
    "Plot rates of one excitatory and one inhibitory neuron\n",
    "\n"
   ]
  },
  {
   "cell_type": "code",
   "execution_count": null,
   "metadata": {
    "collapsed": false
   },
   "outputs": [],
   "source": [
    "data = mm.events\n",
    "senders = data['senders']\n",
    "rate = data['rate']\n",
    "times = data['times']\n",
    "\n",
    "ne_0_id = n_e[0].global_id\n",
    "ni_0_id = n_i[0].global_id\n",
    "where_sender_is_ne_0 = numpy.where(senders == ne_0_id)\n",
    "where_sender_is_ni_0 = numpy.where(senders == ni_0_id)\n",
    "\n",
    "rate_ex = rate[where_sender_is_ne_0]\n",
    "rate_in = rate[where_sender_is_ni_0]\n",
    "times = times[where_sender_is_ne_0]\n",
    "\n",
    "plt.figure()\n",
    "plt.plot(times, rate_ex, label='excitatory')\n",
    "plt.plot(times, rate_in, label='inhibitory')\n",
    "plt.xlabel('time (ms)')\n",
    "plt.ylabel('rate (a.u.)')\n",
    "plt.show()"
   ]
  },
  {
   "cell_type": "markdown",
   "metadata": {},
   "source": [
    "[![EBRAINS Notebook](https://nest-simulator.org/TryItOnEBRAINS.png)](https://lab.ebrains.eu/hub/user-redirect/git-pull?repo=https%3A%2F%2Fgithub.com%2Fjessica-mitchell%2Fnest-simulator&urlpath=lab%2Ftree%2Fnest-simulator%2Fpynest%2Fexamples%2Fnotebooks%2Flin_rate_ipn_network.ipynb&branch=ebrains-button)\n"
   ]
  }
 ],
 "metadata": {
  "kernelspec": {
   "display_name": "EBRAINS-22.10",
   "language": "python",
   "name": "spack_python_kernel_release_202210"
  },
  "language_info": {
   "codemirror_mode": {
    "name": "ipython",
    "version": 3
   },
   "file_extension": ".py",
   "mimetype": "text/x-python",
   "name": "python",
   "nbconvert_exporter": "python",
   "pygments_lexer": "ipython3",
   "version": "3.9.6"
  }
 },
 "nbformat": 4,
 "nbformat_minor": 5
}
