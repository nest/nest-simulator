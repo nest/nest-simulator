{
 "cells": [
   {
  "cell_type": "markdown",
  "metadata": {},
  "source": [
    "\n\n"
  ]
},{
 "cell_type": "code",
 "execution_count": null,
 "metadata": {
  "collapsed": false
 },
 "outputs": [],
 "source": [
   "    \n    \n    \n"
 ]
},{
  "cell_type": "markdown",
  "metadata": {},
  "source": [
    "Spike synchronization through subthreshold oscillation\n------------------------------------------------------\n\nThis script reproduces the spike synchronization behavior\nof integrate-and-fire neurons in response to a subthreshold\noscillation. This phenomenon is shown in Fig. 1 of\n\n  C.D. Brody and J.J. Hopfield\n  Simple Networks for Spike-Timing-Based Computation,\n  with Application to Olfactory Processing\n  Neuron 37, 843-852 (2003)\n\nNeurons receive a weak 35 Hz oscillation, a gaussian noise current\nand an increasing DC. The time-locking capability is shown to\ndepend on the input current given. The result is then plotted using\npylab. All parameters are taken from the above paper.\n\n"
  ]
},{
 "cell_type": "code",
 "execution_count": null,
 "metadata": {
  "collapsed": false
 },
 "outputs": [],
 "source": [
   "    \n"
 ]
},{
  "cell_type": "markdown",
  "metadata": {},
  "source": [
    "First, we import all necessary modules for simulation, analysis and\nplotting.\n\n"
  ]
},{
 "cell_type": "code",
 "execution_count": null,
 "metadata": {
  "collapsed": false
 },
 "outputs": [],
 "source": [
   "    \n    import nest\n    import nest.raster_plot\n    \n"
 ]
},{
  "cell_type": "markdown",
  "metadata": {},
  "source": [
    "Second, the simulation parameters are assigned to variables.\n\n"
  ]
},{
 "cell_type": "code",
 "execution_count": null,
 "metadata": {
  "collapsed": false
 },
 "outputs": [],
 "source": [
   "    \n    N = 1000           # number of neurons\n    bias_begin = 140.  # minimal value for the bias current injection [pA]\n    bias_end = 200.    # maximal value for the bias current injection [pA]\n    T = 600            # simulation time (ms)\n    \n    driveparams = {'amplitude': 50., 'frequency': 35.}\n    noiseparams = {'mean': 0.0, 'std': 200.}\n    neuronparams = {'tau_m': 20.,  # membrane time constant\n                    'V_th': 20.,  # threshold potential\n                    'E_L': 10.,  # membrane resting potential\n                    't_ref': 2.,  # refractory period\n                    'V_reset': 0.,  # reset potential\n                    'C_m': 200.,  # membrane capacitance\n                    'V_m': 0.}      # initial membrane potential\n    \n"
 ]
},{
  "cell_type": "markdown",
  "metadata": {},
  "source": [
    "Third, the nodes are created using `Create`. We store the returned\nhandles in variables for later reference.\n\n"
  ]
},{
 "cell_type": "code",
 "execution_count": null,
 "metadata": {
  "collapsed": false
 },
 "outputs": [],
 "source": [
   "    \n    neurons = nest.Create('iaf_psc_alpha', N)\n    sd = nest.Create('spike_detector')\n    noise = nest.Create('noise_generator')\n    drive = nest.Create('ac_generator')\n    \n"
 ]
},{
  "cell_type": "markdown",
  "metadata": {},
  "source": [
    "Set the parameters specified above for the generators using `SetStatus`.\n\n"
  ]
},{
 "cell_type": "code",
 "execution_count": null,
 "metadata": {
  "collapsed": false
 },
 "outputs": [],
 "source": [
   "    \n    nest.SetStatus(drive, driveparams)\n    nest.SetStatus(noise, noiseparams)\n    \n"
 ]
},{
  "cell_type": "markdown",
  "metadata": {},
  "source": [
    "Set the parameters specified above for the neurons. Nurons getan internal\ncurrent. The first neuron additionally receives the current with amplitude\n``bias_begin``, the last neuron with amplitude ``bias_end``.\n\n"
  ]
},{
 "cell_type": "code",
 "execution_count": null,
 "metadata": {
  "collapsed": false
 },
 "outputs": [],
 "source": [
   "    \n    nest.SetStatus(neurons, neuronparams)\n    nest.SetStatus(neurons, [{'I_e':\n                              (n * (bias_end - bias_begin) / N + bias_begin)}\n                             for n in neurons])\n    \n"
 ]
},{
  "cell_type": "markdown",
  "metadata": {},
  "source": [
    "Set the parameters for the `spike_detector`: recorded data should include\nthe information about global IDs of spiking neurons and the time of\nindividual spikes.\n\n"
  ]
},{
 "cell_type": "code",
 "execution_count": null,
 "metadata": {
  "collapsed": false
 },
 "outputs": [],
 "source": [
   "    \n    nest.SetStatus(sd, {\"withgid\": True, \"withtime\": True})\n    \n"
 ]
},{
  "cell_type": "markdown",
  "metadata": {},
  "source": [
    "Connect alternative current and noise generators as well as `spike_detector`s.\nto neurons\n\n"
  ]
},{
 "cell_type": "code",
 "execution_count": null,
 "metadata": {
  "collapsed": false
 },
 "outputs": [],
 "source": [
   "    \n    nest.Connect(drive, neurons)\n    nest.Connect(noise, neurons)\n    nest.Connect(neurons, sd)\n    \n"
 ]
},{
  "cell_type": "markdown",
  "metadata": {},
  "source": [
    "Simulate the network for time T.\n\n"
  ]
},{
 "cell_type": "code",
 "execution_count": null,
 "metadata": {
  "collapsed": false
 },
 "outputs": [],
 "source": [
   "    \n    nest.Simulate(T)\n    \n"
 ]
},{
  "cell_type": "markdown",
  "metadata": {},
  "source": [
    "Plot the raster plot of the neuronal spiking activity.\n\n"
  ]
},{
 "cell_type": "code",
 "execution_count": null,
 "metadata": {
  "collapsed": false
 },
 "outputs": [],
 "source": [
   "    \n    nest.raster_plot.from_device(sd, hist=True)\n    \n    \n"
 ]
},{
  "cell_type": "markdown",
  "metadata": {},
  "source": [
    "\n\n"
  ]
},{
 "cell_type": "code",
 "execution_count": null,
 "metadata": {
  "collapsed": false
 },
 "outputs": [],
 "source": [
   "\n"
 ]
}
],
 "metadata": {
  "kernelspec": {
   "display_name": "Python 2",
   "language": "python",
   "name": "python2"
  },
  "language_info": {
   "codemirror_mode": {
    "name": "ipython",
    "version": 2
   },
   "file_extension": ".py",
   "mimetype": "text/x-python",
   "name": "python",
   "nbconvert_exporter": "python",
   "pygments_lexer": "ipython2",
   "version": "2.7.3"
  }
 },
 "nbformat": 4,
 "nbformat_minor": 0
}