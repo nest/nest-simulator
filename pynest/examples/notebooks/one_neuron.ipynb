{
 "cells": [
  {
   "cell_type": "code",
   "execution_count": null,
   "metadata": {
    "collapsed": false
   },
   "outputs": [],
   "source": [
    "%matplotlib inline"
   ]
  },
  {
   "cell_type": "markdown",
   "metadata": {},
   "source": [
    "\n",
    "# One neuron example\n",
    "\n",
    "This script simulates a neuron driven by a constant external current\n",
    "and records its membrane potential.\n",
    "\n",
    "## See Also\n",
    "\n",
    ":doc:`twoneurons`\n"
   ]
  },
  {
   "cell_type": "markdown",
   "metadata": {},
   "source": [
    "First, we import all necessary modules for simulation, analysis and\n",
    "plotting. Additionally, we set the verbosity to suppress info\n",
    "messages and reset the kernel.\n",
    "Resetting the kernel allows you to execute the script several\n",
    "times in a Python shell without interferences from previous NEST\n",
    "simulations. Thus, without resetting the kernel the network status\n",
    "including connections between nodes, status of neurons, devices and\n",
    "intrinsic time clocks, is kept and influences the next simulations.\n",
    "\n"
   ]
  },
  {
   "cell_type": "code",
   "execution_count": null,
   "metadata": {
    "collapsed": false
   },
   "outputs": [],
   "source": [
    "import nest\n",
    "import nest.voltage_trace\n",
    "import matplotlib.pyplot as plt\n",
    "\n",
    "nest.set_verbosity(\"M_WARNING\")\n",
    "nest.ResetKernel()"
   ]
  },
  {
   "cell_type": "markdown",
   "metadata": {},
   "source": [
    "Second, the nodes (neurons and devices) are created using ``Create``.\n",
    "We store the returned handles in variables for later reference.\n",
    "The ``Create`` function also allow you to create multiple nodes\n",
    "e.g. ``nest.Create('iaf_psc_alpha',5)``\n",
    "Also default parameters of the model can be configured using ``Create``\n",
    "by including a list of parameter dictionaries\n",
    "e.g. `nest.Create(\"iaf_psc_alpha\", params=[{'I_e':376.0}])`.\n",
    "In this example we will configure these parameters in an additional\n",
    "step, which is explained in the third section.\n",
    "\n"
   ]
  },
  {
   "cell_type": "code",
   "execution_count": null,
   "metadata": {
    "collapsed": false
   },
   "outputs": [],
   "source": [
    "neuron = nest.Create(\"iaf_psc_alpha\")\n",
    "voltmeter = nest.Create(\"voltmeter\")"
   ]
  },
  {
   "cell_type": "markdown",
   "metadata": {},
   "source": [
    "Third, we set the external current of the neuron.\n",
    "\n"
   ]
  },
  {
   "cell_type": "code",
   "execution_count": null,
   "metadata": {
    "collapsed": false
   },
   "outputs": [],
   "source": [
    "neuron.I_e = 376.0"
   ]
  },
  {
   "cell_type": "markdown",
   "metadata": {},
   "source": [
    "Fourth, the neuron is connected to the voltmeter. The command\n",
    "``Connect`` has different variants. Plain ``Connect`` just takes the\n",
    "handles of pre- and postsynaptic nodes and uses the default values\n",
    "for weight and delay. Note that the connection direction for the voltmeter is\n",
    "reversed compared to the spike recorder, because it observes the\n",
    "neuron instead of receiving events from it. Thus, ``Connect``\n",
    "reflects the direction of signal flow in the simulation kernel\n",
    "rather than the physical process of inserting an electrode into the\n",
    "neuron. The latter semantics is presently not available in NEST.\n",
    "\n"
   ]
  },
  {
   "cell_type": "code",
   "execution_count": null,
   "metadata": {
    "collapsed": false
   },
   "outputs": [],
   "source": [
    "nest.Connect(voltmeter, neuron)"
   ]
  },
  {
   "cell_type": "markdown",
   "metadata": {},
   "source": [
    "Now we simulate the network using ``Simulate``, which takes the\n",
    "desired simulation time in milliseconds.\n",
    "\n"
   ]
  },
  {
   "cell_type": "code",
   "execution_count": null,
   "metadata": {
    "collapsed": false
   },
   "outputs": [],
   "source": [
    "nest.Simulate(1000.0)"
   ]
  },
  {
   "cell_type": "markdown",
   "metadata": {},
   "source": [
    "Finally, we plot the neuron's membrane potential as a function of\n",
    "time and display the plot using pyplot.\n",
    "\n"
   ]
  },
  {
   "cell_type": "code",
   "execution_count": null,
   "metadata": {
    "collapsed": false
   },
   "outputs": [],
   "source": [
    "nest.voltage_trace.from_device(voltmeter)\n",
    "plt.show()"
   ]
  },
  {
   "cell_type": "markdown",
   "metadata": {},
   "source": [
    "[![EBRAINS Notebook](https://nest-simulator.org/TryItOnEBRAINS.png)](https://lab.ebrains.eu/hub/user-redirect/git-pull?repo=https%3A%2F%2Fgithub.com%2Fjessica-mitchell%2Fnest-simulator&urlpath=lab%2Ftree%2Fnest-simulator%2Fpynest%2Fexamples%2Fnotebooks%2Fnotebooks%2Fone_neuron.ipynb&branch=ebrains-button)\n"
   ]
  }
 ],
 "metadata": {
  "kernelspec": {
   "display_name": "EBRAINS-22.10",
   "language": "python",
   "name": "spack_python_kernel_release_202210"
  },
  "language_info": {
   "codemirror_mode": {
    "name": "ipython",
    "version": 3
   },
   "file_extension": ".py",
   "mimetype": "text/x-python",
   "name": "python",
   "nbconvert_exporter": "python",
   "pygments_lexer": "ipython3",
   "version": "3.9.6"
  }
 },
 "nbformat": 4,
 "nbformat_minor": 5
}
