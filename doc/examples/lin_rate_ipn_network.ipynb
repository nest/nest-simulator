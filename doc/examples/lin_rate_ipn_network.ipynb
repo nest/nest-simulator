{
 "cells": [
   {
  "cell_type": "markdown",
  "metadata": {},
  "source": [
    "\n\n"
  ]
},{
 "cell_type": "code",
 "execution_count": null,
 "metadata": {
  "collapsed": false
 },
 "outputs": [],
 "source": [
   "    \n    \n"
 ]
},{
  "cell_type": "markdown",
  "metadata": {},
  "source": [
    "Network of linear rate neurons\n------------------------------\n\nThis script simulates an excitatory and an inhibitory population\nof lin_rate_ipn neurons with delayed excitatory and instantaneous\ninhibitory connections. The rate of all neurons is recorded using\na multimeter. The resulting rate for one excitatory and one\ninhibitory neuron is plotted.\n\n"
  ]
},{
 "cell_type": "code",
 "execution_count": null,
 "metadata": {
  "collapsed": false
 },
 "outputs": [],
 "source": [
   "    \n    import nest\n    import pylab\n    import numpy\n    \n"
 ]
},{
  "cell_type": "markdown",
  "metadata": {},
  "source": [
    "Assigning the simulation parameters to variables.\n\n"
  ]
},{
 "cell_type": "code",
 "execution_count": null,
 "metadata": {
  "collapsed": false
 },
 "outputs": [],
 "source": [
   "    \n    dt = 0.1  # the resolution in ms\n    T = 100.0  # Simulation time in ms\n    \n"
 ]
},{
  "cell_type": "markdown",
  "metadata": {},
  "source": [
    "Definition of the number of neurons\n\n"
  ]
},{
 "cell_type": "code",
 "execution_count": null,
 "metadata": {
  "collapsed": false
 },
 "outputs": [],
 "source": [
   "    \n    order = 50\n    NE = int(4 * order)  # number of excitatory neurons\n    NI = int(1 * order)  # number of inhibitory neurons\n    N = int(NE+NI)       # total number of neurons\n    \n"
 ]
},{
  "cell_type": "markdown",
  "metadata": {},
  "source": [
    "Definition of the connections\n\n"
  ]
},{
 "cell_type": "code",
 "execution_count": null,
 "metadata": {
  "collapsed": false
 },
 "outputs": [],
 "source": [
   "    \n    d_e = 5.   # delay of excitatory connections in ms\n    g = 5.0  # ratio inhibitory weight/excitatory weight\n    epsilon = 0.1  # connection probability\n    w = 0.1/numpy.sqrt(N)  # excitatory connection strength\n    \n    KE = int(epsilon * NE)  # number of excitatory synapses per neuron (outdegree)\n    KI = int(epsilon * NI)  # number of inhibitory synapses per neuron (outdegree)\n    K_tot = int(KI + KE)  # total number of synapses per neuron\n    connection_rule = 'fixed_outdegree'  # connection rule\n    \n"
 ]
},{
  "cell_type": "markdown",
  "metadata": {},
  "source": [
    "Definition of the neuron model and its neuron parameters\n\n"
  ]
},{
 "cell_type": "code",
 "execution_count": null,
 "metadata": {
  "collapsed": false
 },
 "outputs": [],
 "source": [
   "    \n    neuron_model = 'lin_rate_ipn'  # neuron model\n    neuron_params = {'linear_summation': True,\n                     # type of non-linearity (not affecting linear rate models)\n                     'tau': 10.0,\n                     # time constant of neuronal dynamics in ms\n                     'mean': 2.0,\n                     # mean of Gaussian white noise input\n                     'std': 5.\n                     # standard deviation of Gaussian white noise input\n                     }\n    \n    \n"
 ]
},{
  "cell_type": "markdown",
  "metadata": {},
  "source": [
    "Configuration of the simulation kernel by the previously defined time\nresolution used in the simulation. Setting \"print_time\" to True prints\nthe already processed simulation time as well as its percentage of the\ntotal simulation time.\n\n"
  ]
},{
 "cell_type": "code",
 "execution_count": null,
 "metadata": {
  "collapsed": false
 },
 "outputs": [],
 "source": [
   "    \n    nest.ResetKernel()\n    nest.SetKernelStatus({\"resolution\": dt, \"use_wfr\": False,\n                          \"print_time\": True,\n                          \"overwrite_files\": True})\n    \n    print(\"Building network\")\n    \n"
 ]
},{
  "cell_type": "markdown",
  "metadata": {},
  "source": [
    "Configuration of the neuron model using SetDefaults().\n\n"
  ]
},{
 "cell_type": "code",
 "execution_count": null,
 "metadata": {
  "collapsed": false
 },
 "outputs": [],
 "source": [
   "    \n    nest.SetDefaults(neuron_model, neuron_params)\n    \n"
 ]
},{
  "cell_type": "markdown",
  "metadata": {},
  "source": [
    "Creation of the nodes using `Create`.\n\n"
  ]
},{
 "cell_type": "code",
 "execution_count": null,
 "metadata": {
  "collapsed": false
 },
 "outputs": [],
 "source": [
   "    \n    n_e = nest.Create(neuron_model, NE)\n    n_i = nest.Create(neuron_model, NI)\n    \n    \n"
 ]
},{
  "cell_type": "markdown",
  "metadata": {},
  "source": [
    "To record from the rate neurons a multimeter is created and the\nparameter `record_from` is set to `'rate'` as well as the recording\ninterval to `dt`\n\n"
  ]
},{
 "cell_type": "code",
 "execution_count": null,
 "metadata": {
  "collapsed": false
 },
 "outputs": [],
 "source": [
   "    \n    mm = nest.Create('multimeter', params={'record_from': ['rate'],\n                                           'interval': dt})\n    \n"
 ]
},{
  "cell_type": "markdown",
  "metadata": {},
  "source": [
    "Specify synapse and connection dictionaries:\nConnections originating from excitatory neurons are associatated\nwith a delay d (rate_connection_delayed).\nConnections originating from inhibitory neurons are not associatated\nwith a delay (rate_connection_instantaneous).\n\n"
  ]
},{
 "cell_type": "code",
 "execution_count": null,
 "metadata": {
  "collapsed": false
 },
 "outputs": [],
 "source": [
   "    \n    syn_e = {'weight': w, 'delay': d_e, 'model': 'rate_connection_delayed'}\n    syn_i = {'weight': -g*w, 'model': 'rate_connection_instantaneous'}\n    conn_e = {'rule': connection_rule, 'outdegree': KE}\n    conn_i = {'rule': connection_rule, 'outdegree': KI}\n    \n"
 ]
},{
  "cell_type": "markdown",
  "metadata": {},
  "source": [
    "Connect rate units\n\n"
  ]
},{
 "cell_type": "code",
 "execution_count": null,
 "metadata": {
  "collapsed": false
 },
 "outputs": [],
 "source": [
   "    \n    nest.Connect(n_e, n_e, conn_e, syn_e)\n    nest.Connect(n_i, n_i, conn_i, syn_i)\n    nest.Connect(n_e, n_i, conn_i, syn_e)\n    nest.Connect(n_i, n_e, conn_e, syn_i)\n    \n"
 ]
},{
  "cell_type": "markdown",
  "metadata": {},
  "source": [
    "Connect recording device to rate units\n\n"
  ]
},{
 "cell_type": "code",
 "execution_count": null,
 "metadata": {
  "collapsed": false
 },
 "outputs": [],
 "source": [
   "    nest.Connect(mm, n_e+n_i)\n    \n"
 ]
},{
  "cell_type": "markdown",
  "metadata": {},
  "source": [
    "Simulate the network\n\n"
  ]
},{
 "cell_type": "code",
 "execution_count": null,
 "metadata": {
  "collapsed": false
 },
 "outputs": [],
 "source": [
   "    \n    nest.Simulate(T)\n    \n"
 ]
},{
  "cell_type": "markdown",
  "metadata": {},
  "source": [
    "Plot rates of one excitatory and one inhibitory neuron\n\n"
  ]
},{
 "cell_type": "code",
 "execution_count": null,
 "metadata": {
  "collapsed": false
 },
 "outputs": [],
 "source": [
   "    \n    data = nest.GetStatus(mm)[0]['events']\n    rate_ex = data['rate'][numpy.where(data['senders'] == n_e[0])]\n    rate_in = data['rate'][numpy.where(data['senders'] == n_i[0])]\n    times = data['times'][numpy.where(data['senders'] == n_e[0])]\n    \n    pylab.figure()\n    pylab.plot(times, rate_ex, label='excitatory')\n    pylab.plot(times, rate_in, label='inhibitory')\n    pylab.xlabel('time (ms)')\n    pylab.ylabel('rate (a.u.)')\n    \n    \n"
 ]
},{
  "cell_type": "markdown",
  "metadata": {},
  "source": [
    "\n\n"
  ]
},{
 "cell_type": "code",
 "execution_count": null,
 "metadata": {
  "collapsed": false
 },
 "outputs": [],
 "source": [
   "\n"
 ]
}
],
 "metadata": {
  "kernelspec": {
   "display_name": "Python 2",
   "language": "python",
   "name": "python2"
  },
  "language_info": {
   "codemirror_mode": {
    "name": "ipython",
    "version": 2
   },
   "file_extension": ".py",
   "mimetype": "text/x-python",
   "name": "python",
   "nbconvert_exporter": "python",
   "pygments_lexer": "ipython2",
   "version": "2.7.3"
  }
 },
 "nbformat": 4,
 "nbformat_minor": 0
}