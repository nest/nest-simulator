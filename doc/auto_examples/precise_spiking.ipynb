{
  "cells": [
    {
      "cell_type": "code",
      "execution_count": null,
      "metadata": {
        "collapsed": false
      },
      "outputs": [],
      "source": [
        "%matplotlib inline"
      ]
    },
    {
      "cell_type": "markdown",
      "metadata": {},
      "source": [
        "\nComparing precise and grid-based neuron models\n----------------------------------------------\n\nIn traditional time-driven simulations, spikes are constrained to the\ntime grid at a user-defined resolution. The precise spiking models\novercome this by handling spikes in continuous time [1, 2].\n\nThe precise spiking neuron models in NEST include: iaf_psc_exp_ps,\niaf_psc_alpha_canon, iaf_psc_alpha_presc, and iaf_psc_delta_canon.\nMore detailed information about the precise spiking models can be\nfound here:\n  http://www.nest-simulator.org/simulations-with-precise-spike-times/\n\nThis example compares the conventional grid-constrained model and the\nprecise version for an integrate-and-fire neuron model with exponential\npost-synaptic currents [2].\n\nReferences:\n[1] Morrison A, Straube S, Plesser HE, Diesmann M (2007) Exact\n    subthreshold integration with continuous spike times in\n    discrete-time neural network simulations. Neural\n    Comput. 19(1):47-79. doi: 10.1162/neco.2007.19.1.47\n[2] Hanuschkin A, Kunkel S, Helias M, Morrison A and Diesmann M (2010)\n    A general and efficient method for incorporating precise spike\n    times in globally time-driven simulations. Front. Neuroinform.\n    4:113. doi:10.3389/fninf.2010.00113\n\n"
      ]
    },
    {
      "cell_type": "code",
      "execution_count": null,
      "metadata": {
        "collapsed": false
      },
      "outputs": [],
      "source": [
        "'''\nFirst, we import all necessary modules for simulation, analysis and\nplotting.\n'''\n\nimport nest\nimport pylab\n\n'''\nSecond, we assign the simulation parameters to variables.\n'''\n\nsimtime = 100.0           # ms\nstim_current = 700.0           # pA\nresolutions = [0.1, 0.5, 1.0]  # ms\n\n'''\nNow, we simulate the two versions of the neuron models (i.e.\ndiscrete-time: `iaf_psc_exp`; precise: `iaf_psc_exp_ps`) for each of\nthe defined resolutions. The neurons use their default parameters and\nwe stimulate them by injecting a current using a `dc_generator`\ndevice. The membrane potential is recorded by a `voltmeter`, the\nspikes are recorded by a `spike_detector`, whose property\n'precise_times' is set to True. The data is stored in a dictionary for\nlater use.\n'''\n\ndata = {}\n\nfor h in resolutions:\n    data[h] = {}\n    for model in [\"iaf_psc_exp\", \"iaf_psc_exp_ps\"]:\n        nest.ResetKernel()\n        nest.SetKernelStatus({'resolution': h})\n\n        neuron = nest.Create(model)\n        voltmeter = nest.Create(\"voltmeter\", params={\"interval\": h})\n        dc = nest.Create(\"dc_generator\", params={\"amplitude\": stim_current})\n        sd = nest.Create(\"spike_detector\", params={\"precise_times\": True})\n\n        nest.Connect(voltmeter, neuron)\n        nest.Connect(dc, neuron)\n        nest.Connect(neuron, sd)\n\n        nest.Simulate(simtime)\n\n        vm_status = nest.GetStatus(voltmeter, 'events')[0]\n        sd_status = nest.GetStatus(sd, 'events')[0]\n        data[h][model] = {\"vm_times\": vm_status['times'],\n                          \"vm_values\": vm_status['V_m'],\n                          \"spikes\": sd_status['times'],\n                          \"V_th\": nest.GetStatus(neuron, 'V_th')[0]}\n\n'''\nAfter simulation, we plot the results from the simulation. The figure\nillustrates the membrane potential excursion of the two models due to\ninjected current simulated for 100 ms for a different timestep in each\npanel. The blue line is the voltage trace of the discrete-time neuron,\nthe red line is that of the precise spiking version of the same model.\n\nPlease note that the temporal differences between the traces in the\ndifferent panels is caused by the different resolutions used.\n'''\n\ncolors = [\"#3465a4\", \"#cc0000\"]\n\nfor v, h in enumerate(sorted(data)):\n    plot = pylab.subplot(len(data), 1, v + 1)\n    plot.set_title(\"Resolution: {0} ms\".format(h))\n\n    for i, model in enumerate(data[h]):\n        times = data[h][model][\"vm_times\"]\n        potentials = data[h][model][\"vm_values\"]\n        spikes = data[h][model][\"spikes\"]\n        spikes_y = [data[h][model][\"V_th\"]] * len(spikes)\n\n        plot.plot(times, potentials, \"-\", c=colors[i], ms=5, lw=2, label=model)\n        plot.plot(spikes, spikes_y, \".\", c=colors[i], ms=5, lw=2)\n\n    if v == 2:\n        plot.legend(loc=4)\n    else:\n        plot.set_xticklabels('')"
      ]
    }
  ],
  "metadata": {
    "kernelspec": {
      "display_name": "Python 3",
      "language": "python",
      "name": "python3"
    },
    "language_info": {
      "codemirror_mode": {
        "name": "ipython",
        "version": 3
      },
      "file_extension": ".py",
      "mimetype": "text/x-python",
      "name": "python",
      "nbconvert_exporter": "python",
      "pygments_lexer": "ipython3",
      "version": "3.6.1"
    }
  },
  "nbformat": 4,
  "nbformat_minor": 0
}