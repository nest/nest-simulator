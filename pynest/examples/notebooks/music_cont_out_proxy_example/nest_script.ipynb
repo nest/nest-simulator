{
  "cells": [
    {
      "cell_type": "code",
      "execution_count": null,
      "metadata": {
        "collapsed": false
      },
      "outputs": [],
      "source": [
        "%matplotlib inline"
      ]
    },
    {
      "cell_type": "markdown",
      "metadata": {},
      "source": [
        "\n# Music example\n\nThis example runs 2 NEST instances and one receiver instance. Neurons on\nthe NEST instances are observed by the music_cont_out_proxy and their\nvalues are forwarded through MUSIC to the receiver.\n"
      ]
    },
    {
      "cell_type": "code",
      "execution_count": null,
      "metadata": {
        "collapsed": false
      },
      "outputs": [],
      "source": [
        "import nest\n\nproxy = nest.Create('music_cont_out_proxy', 1)\nproxy.port_name = 'out'\nproxy.set(record_from=[\"V_m\"], interval=0.1)\n\nneuron_grp = nest.Create('iaf_cond_exp', 2)\nproxy.targets = neuron_grp\nneuron_grp[0].I_e = 300.\nneuron_grp[1].I_e = 600.\n\nnest.Simulate(200)"
      ]
    }
  ],
  "metadata": {
    "kernelspec": {
      "display_name": "Python 3",
      "language": "python",
      "name": "python3"
    },
    "language_info": {
      "codemirror_mode": {
        "name": "ipython",
        "version": 3
      },
      "file_extension": ".py",
      "mimetype": "text/x-python",
      "name": "python",
      "nbconvert_exporter": "python",
      "pygments_lexer": "ipython3",
      "version": "3.9.13"
    }
  },
  "nbformat": 4,
  "nbformat_minor": 0
}