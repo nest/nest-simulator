{
 "cells": [
  {
   "cell_type": "code",
   "execution_count": null,
   "metadata": {
    "collapsed": false
   },
   "outputs": [],
   "source": [
    "%matplotlib inline"
   ]
  },
  {
   "cell_type": "markdown",
   "metadata": {},
   "source": [
    "\n",
    "# Circular mask and flat probability\n",
    "\n",
    "Create two populations on a 30x30 grid of iaf_psc_alpha neurons,\n",
    "connect with circular mask, flat probability,\n",
    "visualize.\n",
    "\n",
    "BCCN Tutorial @ CNS*09\n",
    "Hans Ekkehard Plesser, UMB\n"
   ]
  },
  {
   "cell_type": "code",
   "execution_count": null,
   "metadata": {
    "collapsed": false
   },
   "outputs": [],
   "source": [
    "import nest\n",
    "import matplotlib.pyplot as plt\n",
    "import numpy as np\n",
    "\n",
    "nest.ResetKernel()\n",
    "\n",
    "pos = nest.spatial.grid(shape=[30, 30], extent=[3., 3.])"
   ]
  },
  {
   "cell_type": "markdown",
   "metadata": {},
   "source": [
    "create and connect two populations\n",
    "\n"
   ]
  },
  {
   "cell_type": "code",
   "execution_count": null,
   "metadata": {
    "collapsed": false
   },
   "outputs": [],
   "source": [
    "a = nest.Create('iaf_psc_alpha', positions=pos)\n",
    "b = nest.Create('iaf_psc_alpha', positions=pos)\n",
    "\n",
    "cdict = {'rule': 'pairwise_bernoulli',\n",
    "         'p': 0.5,\n",
    "         'mask': {'circular': {'radius': 0.5}}}\n",
    "\n",
    "nest.Connect(a, b,\n",
    "             conn_spec=cdict,\n",
    "             syn_spec={'weight': nest.random.uniform(0.5, 2.)})"
   ]
  },
  {
   "cell_type": "markdown",
   "metadata": {},
   "source": [
    "plot targets of neurons in different grid locations\n",
    "\n"
   ]
  },
  {
   "cell_type": "code",
   "execution_count": null,
   "metadata": {
    "collapsed": false
   },
   "outputs": [],
   "source": [
    "# first, clear existing figure, get current figure\n",
    "plt.clf()\n",
    "fig = plt.gcf()\n",
    "\n",
    "# plot targets of two source neurons into same figure, with mask\n",
    "for src_index in [30 * 15 + 15, 0]:\n",
    "    # obtain node id for center\n",
    "    src = a[src_index:src_index + 1]\n",
    "    nest.PlotTargets(src, b, mask=cdict['mask'], fig=fig)\n",
    "\n",
    "# beautify\n",
    "plt.axes().set_xticks(np.arange(-1.5, 1.55, 0.5))\n",
    "plt.axes().set_yticks(np.arange(-1.5, 1.55, 0.5))\n",
    "plt.grid(True)\n",
    "plt.axis([-2.0, 2.0, -2.0, 2.0])\n",
    "plt.axes().set_aspect('equal', 'box')\n",
    "plt.title('Connection targets')\n",
    "\n",
    "plt.show()\n",
    "\n",
    "# plt.savefig('connex.pdf')"
   ]
  }
 ],
 "metadata": {
  "kernelspec": {
   "display_name": "EBRAINS-22.10",
   "language": "python",
   "name": "spack_python_kernel_release_202210"
  },
  "language_info": {
   "codemirror_mode": {
    "name": "ipython",
    "version": 3
   },
   "file_extension": ".py",
   "mimetype": "text/x-python",
   "name": "python",
   "nbconvert_exporter": "python",
   "pygments_lexer": "ipython3",
   "version": "3.9.13"
  }
 },
 "nbformat": 4,
 "nbformat_minor": 5
}
