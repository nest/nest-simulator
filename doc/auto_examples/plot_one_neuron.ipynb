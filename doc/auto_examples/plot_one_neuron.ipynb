{
  "cells": [
    {
      "cell_type": "code",
      "execution_count": null,
      "metadata": {
        "collapsed": false
      },
      "outputs": [],
      "source": [
        "%matplotlib inline"
      ]
    },
    {
      "cell_type": "markdown",
      "metadata": {},
      "source": [
        "\nOne neuron example\n------------------\n\nThis script simulates a neuron driven by a constant external current\nand records its membrane potential.\n\n"
      ]
    },
    {
      "cell_type": "code",
      "execution_count": null,
      "metadata": {
        "collapsed": false
      },
      "outputs": [],
      "source": [
        "# First, we import all necessary modules for simulation, analysis and\n# plotting. Additionally, we set the verbosity to suppress info\n# messages and reset the kernel.\n# Resetting the kernel allows you to execute the script several\n# times in a Python shell without interferences from previous NEST\n# simulations. Thus, without resetting the kernel the network status\n# including connections between nodes, status of neurons, devices and\n# intrinsic time clocks, is kept and influences the next simulations.\n\nimport nest\nimport nest.voltage_trace\nnest.set_verbosity(\"M_WARNING\")\nnest.ResetKernel()\n# Second, the nodes (neurons and devices) are created using `Create()`.\n# We store the returned handles in variables for later reference.\n# The `Create` function also allow you to create multiple nodes\n# e.g. nest.Create('iaf_psc_alpha',5)\n# Also default parameters of the model can be configured using 'Create'\n# by including a list of parameter dictionaries\n# e.g. `nest.Create(\"iaf_psc_alpha\", params=[{'I_e':376.0}])`\n# or `nest.Create(\"voltmeter\", [{\"withgid\": True, \"withtime\": True}])`.\n# In this example we will configure these parameters in an additional\n# step, which is explained in the third section.\n\nneuron = nest.Create(\"iaf_psc_alpha\")\nvoltmeter = nest.Create(\"voltmeter\")\n# Third, the neuron and the voltmeter are configured using\n# `SetStatus()`, which expects a list of node handles and a list of\n# parameter dictionaries.\n# In this example we use `SetStatus()` to configure the constant\n# current input to the neuron. We also want to record the global id of\n# the observed nodes and set the withgid flag of the voltmeter to\n# True.\n\nnest.SetStatus(neuron, \"I_e\", 376.0)\nnest.SetStatus(voltmeter, [{\"withgid\": True}])\n# Fourth, the neuron is connected to the voltmeter. The command\n# `Connect()` has different variants. Plain `Connect()` just takes the\n# handles of pre- and post-synaptic nodes and uses the default values\n# for weight and delay. Note that the connection direction for the voltmeter is\n# reversed compared to the spike detector, because it observes the\n# neuron instead of receiving events from it. Thus, `Connect()`\n# reflects the direction of signal flow in the simulation kernel\n# rather than the physical process of inserting an electrode into the\n# neuron. The latter semantics is presently not available in NEST.\n\nnest.Connect(voltmeter, neuron)\n# Now we simulate the network using `Simulate()`, which takes the\n# desired simulation time in milliseconds.\n\nnest.Simulate(1000.0)\n# Finally, we plot the neuron's membrane potential as a function of\n# time.\n\nnest.voltage_trace.from_device(voltmeter)"
      ]
    }
  ],
  "metadata": {
    "kernelspec": {
      "display_name": "Python 3",
      "language": "python",
      "name": "python3"
    },
    "language_info": {
      "codemirror_mode": {
        "name": "ipython",
        "version": 3
      },
      "file_extension": ".py",
      "mimetype": "text/x-python",
      "name": "python",
      "nbconvert_exporter": "python",
      "pygments_lexer": "ipython3",
      "version": "3.6.1"
    }
  },
  "nbformat": 4,
  "nbformat_minor": 0
}