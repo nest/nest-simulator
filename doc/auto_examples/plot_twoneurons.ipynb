{
  "cells": [
    {
      "cell_type": "code",
      "execution_count": null,
      "metadata": {
        "collapsed": false
      },
      "outputs": [],
      "source": [
        "%matplotlib inline"
      ]
    },
    {
      "cell_type": "markdown",
      "metadata": {},
      "source": [
        "\nTwo neurons\n-----------\n\n\n"
      ]
    },
    {
      "cell_type": "code",
      "execution_count": null,
      "metadata": {
        "collapsed": false
      },
      "outputs": [],
      "source": [
        "import pylab\n\nimport nest\nimport nest.voltage_trace\n\nweight = 20.0\ndelay = 1.0\nstim = 1000.0\n\nneuron1 = nest.Create(\"iaf_psc_alpha\")\nneuron2 = nest.Create(\"iaf_psc_alpha\")\nvoltmeter = nest.Create(\"voltmeter\")\n\nnest.SetStatus(neuron1, {\"I_e\": stim})\nnest.Connect(neuron1, neuron2, syn_spec={'weight': weight, 'delay': delay})\nnest.Connect(voltmeter, neuron2)\n\nnest.Simulate(100.0)\n\nnest.voltage_trace.from_device(voltmeter)\nnest.voltage_trace.show()"
      ]
    }
  ],
  "metadata": {
    "kernelspec": {
      "display_name": "Python 3",
      "language": "python",
      "name": "python3"
    },
    "language_info": {
      "codemirror_mode": {
        "name": "ipython",
        "version": 3
      },
      "file_extension": ".py",
      "mimetype": "text/x-python",
      "name": "python",
      "nbconvert_exporter": "python",
      "pygments_lexer": "ipython3",
      "version": "3.6.1"
    }
  },
  "nbformat": 4,
  "nbformat_minor": 0
}