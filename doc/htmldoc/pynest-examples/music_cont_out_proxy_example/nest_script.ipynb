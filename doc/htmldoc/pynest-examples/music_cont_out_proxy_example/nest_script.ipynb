{
 "cells": [
  {
   "cell_type": "code",
   "execution_count": null,
   "metadata": {
    "collapsed": false
   },
   "outputs": [],
   "source": [
    "%matplotlib inline"
   ]
  },
  {
   "cell_type": "markdown",
   "metadata": {},
   "source": [
    "\n",
    "# MUSIC example\n",
    "\n",
    "MUSIC is an API allowing large scale neuron simulators using MPI\n",
    "internally to exchange data during runtime.\n",
    "This example runs 2 NEST instances and one receiver instance. Neurons on\n",
    "the NEST instances are observed by the music_cont_out_proxy and their\n",
    "values are forwarded through MUSIC to the receiver.\n"
   ]
  },
  {
   "cell_type": "code",
   "execution_count": null,
   "metadata": {
    "collapsed": false
   },
   "outputs": [],
   "source": [
    "import nest\n",
    "\n",
    "proxy = nest.Create('music_cont_out_proxy', 1)\n",
    "proxy.port_name = 'out'\n",
    "proxy.set(record_from=[\"V_m\"], interval=0.1)\n",
    "\n",
    "neuron_grp = nest.Create('iaf_cond_exp', 2)\n",
    "proxy.targets = neuron_grp\n",
    "neuron_grp[0].I_e = 300.\n",
    "neuron_grp[1].I_e = 600.\n",
    "\n",
    "nest.Simulate(200)"
   ]
  }
 ],
 "metadata": {
  "kernelspec": {
   "display_name": "EBRAINS-22.10",
   "language": "python",
   "name": "spack_python_kernel_release_202210"
  },
  "language_info": {
   "codemirror_mode": {
    "name": "ipython",
    "version": 3
   },
   "file_extension": ".py",
   "mimetype": "text/x-python",
   "name": "python",
   "nbconvert_exporter": "python",
   "pygments_lexer": "ipython3",
   "version": "3.9.13"
  }
 },
 "nbformat": 4,
 "nbformat_minor": 5
}
