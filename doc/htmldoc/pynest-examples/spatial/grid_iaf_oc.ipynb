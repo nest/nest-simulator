{
 "cells": [
  {
   "cell_type": "code",
   "execution_count": null,
   "metadata": {
    "collapsed": false
   },
   "outputs": [],
   "source": [
    "%matplotlib inline"
   ]
  },
  {
   "cell_type": "markdown",
   "metadata": {},
   "source": [
    "\n",
    "# 4x3 grid for three populations\n",
    "\n",
    "Create three populations of iaf_psc_alpha neurons on a 4x3 grid, each with different center.\n",
    "\n",
    "BCCN Tutorial @ CNS*09\n",
    "Hans Ekkehard Plesser, UMB\n"
   ]
  },
  {
   "cell_type": "code",
   "execution_count": null,
   "metadata": {
    "collapsed": false
   },
   "outputs": [],
   "source": [
    "import nest\n",
    "import matplotlib.pyplot as plt\n",
    "import numpy as np\n",
    "\n",
    "for ctr in [(0.0, 0.0), (-2.0, 2.0), (0.5, 1.0)]:\n",
    "    plt.figure()\n",
    "    nest.ResetKernel()\n",
    "\n",
    "    l1 = nest.Create('iaf_psc_alpha',\n",
    "                     positions=nest.spatial.grid(shape=[4, 3], extent=[2., 1.5],\n",
    "                                                 center=ctr))\n",
    "\n",
    "    nest.PlotLayer(l1, nodesize=50, fig=plt.gcf())\n",
    "\n",
    "    # beautify\n",
    "    plt.axis([-3, 3, -3, 3])\n",
    "    plt.axes().set_aspect('equal', 'box')\n",
    "    plt.axes().set_xticks(np.arange(-3.0, 3.1, 1.0))\n",
    "    plt.axes().set_yticks(np.arange(-3.0, 3.1, 1.0))\n",
    "    plt.grid(True)\n",
    "    plt.xlabel(f'4 Columns, Extent: 1.5, Center: {ctr[0]:.1f}')\n",
    "    plt.ylabel(f'2 Rows, Extent: 1.0, Center: {ctr[1]:.1f}')\n",
    "\n",
    "    plt.show()\n",
    "    # plt.savefig('grid_iaf_oc_{}_{}.png'.format(ctr[0], ctr[1]))"
   ]
  },
  {
   "cell_type": "markdown",
   "metadata": {},
   "source": [
    "[![EBRAINS Notebook](https://nest-simulator.org/TryItOnEBRAINS.png)](https://lab.ebrains.eu/hub/user-redirect/git-pull?repo=https%3A%2F%2Fgithub.com%2Fjessica-mitchell%2Fnest-simulator&urlpath=lab%2Ftree%2Fnest-simulator%2Fdoc%2Fhtmldoc%2Fpynest-examples%2Fspatial%2Fgrid_iaf_oc.ipynb&branch=ebrains-button)\n"
   ]
  }
 ],
 "metadata": {
  "kernelspec": {
   "display_name": "EBRAINS-22.10",
   "language": "python",
   "name": "spack_python_kernel_release_202210"
  },
  "language_info": {
   "codemirror_mode": {
    "name": "ipython",
    "version": 3
   },
   "file_extension": ".py",
   "mimetype": "text/x-python",
   "name": "python",
   "nbconvert_exporter": "python",
   "pygments_lexer": "ipython3",
   "version": "3.9.13"
  }
 },
 "nbformat": 4,
 "nbformat_minor": 5
}
