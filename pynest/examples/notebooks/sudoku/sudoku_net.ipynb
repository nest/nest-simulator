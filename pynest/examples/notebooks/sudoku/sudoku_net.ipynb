{
  "cells": [
    {
      "cell_type": "code",
      "execution_count": null,
      "metadata": {
        "collapsed": false
      },
      "outputs": [],
      "source": [
        "%matplotlib inline"
      ]
    },
    {
      "cell_type": "markdown",
      "metadata": {},
      "source": [
        "# Class encapsulating the network for solving Sudoku\nThe class SudokuNet constructs a network of LIF neurons with static synapses\nthat due to their connectivity rules can converge on valid solutions for Sudoku.\n\n\n## Notes\nThe functionality of the network lies entirely within the inhibitory\nconnections between neuron populations. Each population of size ``n_digit``\nencodes a digit between 1 and 9 in one of the 81 cells and has outgoing\ninhibitory connections to several other populations. Namely all populations\ncoding for the same digit in the same row, column and 3x3 box of the sudoku\nfield, since a given digit can only ever occur once in any of those three. It\nalso inhibits all populations in the same cell which encode different digits\nto force the network to converge on a single digit per cell.\n\nIf the network is simulated with just this configuration and some background\nnoise, it converges naturally on states that represent valid solutions for\nSudoku.\n\nIf populations coding for specific digits in some of the cells are stimulated\nexternally (therefore inhibiting all other digits in the same cell), the\nnetwork usually converges on a solution compatible with the input\nconfiguration, thus solving the puzzle.\n\n:Authors: J Gille, S Furber, A Rowley\n"
      ]
    },
    {
      "cell_type": "code",
      "execution_count": null,
      "metadata": {
        "collapsed": false
      },
      "outputs": [],
      "source": [
        "import nest\nimport numpy as np\nimport logging\n\n\ninter_neuron_weight = -0.2   # inhibitory weight for synapses between neurons\nweight_stim = 1.3            # weight from stimulation sources to neurons\nweight_noise = 1.6           # weight for the background poisson generator\ndelay = 1.0                  # delay for all synapses\n\nneuron_params = {\n    'C_m': 0.25,        # nF    membrane capacitance\n    'I_e': 0.5,         # nA    bias current\n    'tau_m': 20.0,      # ms    membrane time constant\n    't_ref': 2.0,       # ms    refractory period\n    'tau_syn_ex': 5.0,  # ms    excitatory synapse time constant\n    'tau_syn_in': 5.0,  # ms    inhibitory synapse time constant\n    'V_reset': -70.0,   # mV    reset membrane potential\n    'E_L': -65.0,       # mV    resting membrane potential\n    'V_th': -50.0,      # mV    firing threshold voltage\n    'V_m': nest.random.uniform(min=-65, max=-55)\n}\n\n\nclass SudokuNet:\n    # number of neuron populations (rows*columns*digits)\n    n_populations = 9 ** 3\n\n    def __init__(self, pop_size=5, noise_rate=350., stim_rate=200., input=None):\n        self.stim_rate = stim_rate          # frequency for input generators\n        self.pop_size = pop_size            # number of neurons per population\n        # total number of neurons\n        self.n_total = self.n_populations * self.pop_size\n\n        logging.info(\"Creating neuron populations...\")\n        self.neurons = nest.Create(\n            'iaf_psc_exp', self.n_total, params=neuron_params)\n\n        logging.info(\"Setting up noise...\")\n        self.noise = nest.Create(\"poisson_generator\", 1, {\"rate\": noise_rate})\n        nest.Connect(self.noise, self.neurons, 'all_to_all',\n                     {'synapse_model': 'static_synapse', \"delay\": delay,\n                      'weight': weight_noise})\n\n        # one stimulation source for every digit in every cell\n        self.stim = nest.Create(\"poisson_generator\", self.n_populations,\n                                {'rate': self.stim_rate})\n\n        # one spike recorder for every digit in every cell\n        self.spikerecorders = nest.Create('spike_recorder', self.n_populations)\n\n        # Matrix that stores indices of all neurons in a structured way\n        # for easy access during connection setup.\n        # Dimensions: (row, column, digit value, individual neuron)\n        self.neuron_indices = np.reshape(np.arange(self.n_total),\n                                         (9, 9, 9, self.pop_size))\n\n        # Matrix that stores indices of inputs and outputs of the network\n        # (stimulation sources and spike recorders) to be connected to the\n        # neurons. Dimensions: (row, column, digit value)\n        self.io_indices = np.reshape(np.arange(self.n_populations), (9, 9, 9))\n\n        logging.info(\"Creating inter-neuron and IO-connections...\")\n        for row in range(9):\n            # First and last row of the current 3x3 box.\n            box_row_start = (row // 3) * 3\n            box_row_end = box_row_start + 3\n\n            for column in range(9):\n                # First and last column of the current 3x3 box.\n                box_col_start = (column // 3) * 3\n                box_col_end = box_col_start + 3\n\n                # Obtain all populations in the surrounding 3x3 box.\n                current_box = self.neuron_indices[box_row_start:box_row_end,\n                                                  box_col_start:box_col_end]\n\n                for digit in range(9):\n                    # population coding for the current row, column and digit\n                    sources = self.neuron_indices[row, column, digit]\n\n                    # populations in the same row coding for the same digit\n                    row_targets = self.neuron_indices[row, :, digit]\n                    # same as above for the current column\n                    col_targets = self.neuron_indices[:, column, digit]\n                    # populations coding for the same digit in the current box\n                    box_targets = current_box[:, :, digit]\n                    # neurons coding for different digits in the current cell\n                    digit_targets = self.neuron_indices[row, column, :]\n\n                    targets = np.concatenate(\n                        (row_targets, col_targets, box_targets, digit_targets),\n                        axis=None)\n                    # Remove duplicates to avoid multapses\n                    targets = np.unique(targets)\n                    # Remove the sources from the targets to avoid the\n                    # population inhibiting itself.\n                    targets = np.setdiff1d(targets, sources)\n\n                    # Transform indices into NodeCollections\n                    sources = self.neurons[sources]\n                    targets = self.neurons[targets]\n\n                    # Create inhibitory connections\n                    nest.Connect(\n                        sources, targets, 'all_to_all',\n                        {'synapse_model': 'static_synapse', \"delay\": delay,\n                         'weight': inter_neuron_weight})\n\n                    # connect the stimulation source to the current population.\n                    # Weights are initialized to 0 and altered in\n                    # set_input_config()\n                    nest.Connect(\n                        self.stim[self.io_indices[row, column, digit]],\n                        sources, 'all_to_all', {\"delay\": delay, \"weight\": 0.})\n\n                    # connect current population to a single spike_recorder\n                    nest.Connect(\n                        sources, self.spikerecorders\n                        [self.io_indices[row, column, digit]])\n\n        if input is not None:\n            logging.info(\"setting input...\")\n            self.set_input_config(input)\n\n        logging.info(\"Setup complete.\")\n\n    def reset_input(self):\n        \"\"\"sets all weights between input and network neurons to 0.\n        \"\"\"\n        nest.GetConnections(self.stim).set({\"weight\": 0.})\n\n    def set_input_config(self, input):\n        \"\"\"sets the connection weights from stimulation sources to populations\n        in order to stimulate the network according to a puzzle configuration.\n\n        Args:\n            input (np.array): a np.array of shape (9,9) where each entry is the value of the corresponding\n            cell in the sudoku field. Zero-valued entries are ignored.\n        \"\"\"\n        self.reset_input()\n\n        for row in range(9):\n            for column in range(9):\n                value = input[row, column]\n\n                # only apply stimulation where the input configuration dictates a number\n                if value != 0:\n                    connections = nest.GetConnections(\n                        self.stim[self.io_indices[row, column, value-1]])\n                    connections.set({\"weight\": weight_stim})\n\n    def get_spike_trains(self):\n        return np.array(self.spikerecorders.get(\"events\"))\n\n    def reset(self):\n        \"\"\"resets the network in three steps:\n                setting all input weights to 0\n                resetting all membrane potentials to their default value\n                deleting all recorded spikes\n        \"\"\"\n        self.reset_input()\n        self.reset_V_m()\n        self.reset_spike_recorders()\n\n    def reset_V_m(self):\n        \"\"\"resets membrane potential of all neurons to (uniformly random) default values.\n        \"\"\"\n        self.neurons.V_m = nest.random.uniform(-65, 55)\n\n    def reset_spike_recorders(self):\n        \"\"\"deletes all recorded spikes from the spike recorders connected to the network.\n        \"\"\"\n        self.spikerecorders.n_events = 0\n\n    def set_noise_rate(self, rate):\n        \"\"\"sets the rate of the Poisson generator that feeds noise into the network.\n\n        Args:\n            rate (float): average spike frequency in Hz\n        \"\"\"\n        self.noise.rate = rate"
      ]
    }
  ],
  "metadata": {
    "kernelspec": {
      "display_name": "Python 3",
      "language": "python",
      "name": "python3"
    },
    "language_info": {
      "codemirror_mode": {
        "name": "ipython",
        "version": 3
      },
      "file_extension": ".py",
      "mimetype": "text/x-python",
      "name": "python",
      "nbconvert_exporter": "python",
      "pygments_lexer": "ipython3",
      "version": "3.9.13"
    }
  },
  "nbformat": 4,
  "nbformat_minor": 0
}