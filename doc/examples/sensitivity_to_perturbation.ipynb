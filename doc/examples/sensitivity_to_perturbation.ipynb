{
 "cells": [
   {
  "cell_type": "markdown",
  "metadata": {},
  "source": [
    "\n\n"
  ]
},{
 "cell_type": "code",
 "execution_count": null,
 "metadata": {
  "collapsed": false
 },
 "outputs": [],
 "source": [
   "    \n    \n"
 ]
},{
  "cell_type": "markdown",
  "metadata": {},
  "source": [
    "Sensitivity to perturbation\n---------------------------\nThis script simulates a network in two successive trials, which\nare identical except for one extra input spike in the second realisation.\n(a small perturbation). The network consists of recurrent, randomly\nconnected excitatory and inhibitory neurons. Its activity is driven\nby an external Poisson input provided to all neurons independently.\nIn order to ensure that the network is reset appropriately between\nthe trials, we do the following steps:\n- resetting the network\n- resetting the random network generator\n- resetting the internal clock\n- deleting all entries in the spike detector\n- introducing a hyperpolarisation phase between the trials\n  (in order to avoid that spikes remaining in the NEST memory\n  after the first simulation are fed into the second simulation)\n\n"
  ]
},{
 "cell_type": "code",
 "execution_count": null,
 "metadata": {
  "collapsed": false
 },
 "outputs": [],
 "source": [
   "    \n"
 ]
},{
  "cell_type": "markdown",
  "metadata": {},
  "source": [
    "Importing all necessary modules for simulation, analysis and plotting.\n\n"
  ]
},{
 "cell_type": "code",
 "execution_count": null,
 "metadata": {
  "collapsed": false
 },
 "outputs": [],
 "source": [
   "    \n    import numpy\n    import pylab\n    import nest\n    \n"
 ]
},{
  "cell_type": "markdown",
  "metadata": {},
  "source": [
    "Here we define all parameters necessary for building and simulating\nthe network.\nWe start with the global network parameters.\n\n"
  ]
},{
 "cell_type": "code",
 "execution_count": null,
 "metadata": {
  "collapsed": false
 },
 "outputs": [],
 "source": [
   "    \n    NE = 1000      # number of excitatory neurons\n    NI = 250       # number of inhibitory neurons\n    N = NE + NI    # total number of neurons\n    KE = 100       # excitatory in-degree\n    KI = 25        # inhibitory in-degree\n    \n"
 ]
},{
  "cell_type": "markdown",
  "metadata": {},
  "source": [
    "Parameters specific for the neurons in the network. The  default values of\nthe reset potential \"E_L\" and the spiking threshold \"V_th\" are used to set\nthe limits of the initial potential of the neurons.\n\n"
  ]
},{
 "cell_type": "code",
 "execution_count": null,
 "metadata": {
  "collapsed": false
 },
 "outputs": [],
 "source": [
   "    \n    neuron_model = 'iaf_psc_delta'\n    neuron_params = nest.GetDefaults(neuron_model)\n    Vmin = neuron_params['E_L']   # minimum of initial potential distribution (mV)\n    Vmax = neuron_params['V_th']  # maximum of initial potential distribution (mV)\n    \n"
 ]
},{
  "cell_type": "markdown",
  "metadata": {},
  "source": [
    "Synapse parameters. Changing the weights (J) in the network can lead to\nqualitatively different behaviours. If J is small (e.g. J = 0.1) we are\nlikely to observe a non-chaotic network behaviour (after perturbation\nthe network returns to its original activity). Increasing J (e.g J = 5.5)\nleads to rather chaotic activity. Given that in this example the\ntransition to chaos is probabilistic, we sometimes observe chaotic\nbehaviour for small weights (e.g. J = 0.5) and non-chaotic behaviour\nfor strong weights (e.g. J = 5.4).\n\n"
  ]
},{
 "cell_type": "code",
 "execution_count": null,
 "metadata": {
  "collapsed": false
 },
 "outputs": [],
 "source": [
   "    \n    J = 0.5                   # excitatory synaptic weight (mV)\n    g = 6.                    # relative inhibitory weight\n    delay = 0.1               # spike transmission delay (ms)\n    \n"
 ]
},{
  "cell_type": "markdown",
  "metadata": {},
  "source": [
    "External input parameters.\n\n"
  ]
},{
 "cell_type": "code",
 "execution_count": null,
 "metadata": {
  "collapsed": false
 },
 "outputs": [],
 "source": [
   "    \n    Jext = 0.2                # PSP amplitude for external Poisson input (mV)\n    rate_ext = 6500.          # rate of the external Poisson input\n    \n"
 ]
},{
  "cell_type": "markdown",
  "metadata": {},
  "source": [
    "Perturbation parameters.\n\n"
  ]
},{
 "cell_type": "code",
 "execution_count": null,
 "metadata": {
  "collapsed": false
 },
 "outputs": [],
 "source": [
   "    \n    t_stim = 400.             # perturbation time (time of the extra spike)\n    Jstim = Jext              # perturbation amplitude (mV)\n    \n"
 ]
},{
  "cell_type": "markdown",
  "metadata": {},
  "source": [
    "Simulation parameters.\n\n"
  ]
},{
 "cell_type": "code",
 "execution_count": null,
 "metadata": {
  "collapsed": false
 },
 "outputs": [],
 "source": [
   "    \n    T = 1000.                 # simulation time per trial (ms)\n    fade_out = 2.*delay       # fade out time (ms)\n    dt = 0.01                 # simulation time resolution (ms)\n    seed_NEST = 30            # seed of random number generator in Nest\n    seed_numpy = 30           # seed of random number generator in numpy\n    \n"
 ]
},{
  "cell_type": "markdown",
  "metadata": {},
  "source": [
    "Before we build the network we reset the simulation Kernel (to make sure\nthat previous NEST simulations in the python shell will not disturb this\nsimulation), and set the simulation resolution (later defined\nsynaptic delays cannot be smaller then the simulation resolution).\n\n"
  ]
},{
 "cell_type": "code",
 "execution_count": null,
 "metadata": {
  "collapsed": false
 },
 "outputs": [],
 "source": [
   "    \n    nest.ResetKernel()\n    nest.SetStatus([0], [{\"resolution\": dt}])\n    \n"
 ]
},{
  "cell_type": "markdown",
  "metadata": {},
  "source": [
    "Now we start building the network and create excitatory and inhibitory\nnodes and connect them. According to the connectivity specification\neach neurons gets KE (KI) synapses from the excitatory (inhibitory)\npopulation assigned randomly.\n\n"
  ]
},{
 "cell_type": "code",
 "execution_count": null,
 "metadata": {
  "collapsed": false
 },
 "outputs": [],
 "source": [
   "    \n    nodes_ex = nest.Create(neuron_model, NE)\n    nodes_in = nest.Create(neuron_model, NI)\n    allnodes = nodes_ex+nodes_in\n    \n    nest.Connect(nodes_ex, allnodes,\n                 conn_spec={'rule': 'fixed_indegree', 'indegree': KE},\n                 syn_spec={'weight': J, 'delay': dt})\n    nest.Connect(nodes_in, allnodes,\n                 conn_spec={'rule': 'fixed_indegree', 'indegree': KI},\n                 syn_spec={'weight': -g*J, 'delay': dt})\n"
 ]
},{
  "cell_type": "markdown",
  "metadata": {},
  "source": [
    "Afterwards we create a Poisson generator that provides spikes (the\nexternal input) to the neurons until time 'T' is reached.\nAfterwards a DC generator, which is also connected to the\nwhole population, provides a stong hyperpolarisation step for a short\ntime period 'fade_out'. In order to suppress the firing after the\nsimulation successfully the fade out period has to last at least two\ntimes the simulation resolution.\n\n"
  ]
},{
 "cell_type": "code",
 "execution_count": null,
 "metadata": {
  "collapsed": false
 },
 "outputs": [],
 "source": [
   "    \n    ext = nest.Create(\"poisson_generator\",\n                      params={'rate': rate_ext, 'stop': T})\n    nest.Connect(ext, allnodes,\n                 syn_spec={'weight': Jext, 'delay': dt})\n    \n    suppr = nest.Create(\"dc_generator\",\n                        params={'amplitude': -1e16, 'start': T,\n                                'stop': T+fade_out})\n    nest.Connect(suppr, allnodes)\n    \n    spikedetector = nest.Create(\"spike_detector\")\n    nest.Connect(allnodes, spikedetector)\n    \n"
 ]
},{
  "cell_type": "markdown",
  "metadata": {},
  "source": [
    "Creating the spike generator that provides the extra spike (perturbation).\n\n"
  ]
},{
 "cell_type": "code",
 "execution_count": null,
 "metadata": {
  "collapsed": false
 },
 "outputs": [],
 "source": [
   "    stimulus = nest.Create(\"spike_generator\")\n    nest.SetStatus(stimulus, {'spike_times': []})\n    \n"
 ]
},{
  "cell_type": "markdown",
  "metadata": {},
  "source": [
    "Finally we run the two simulations successively. After each simulation the\nsender ids and spiketimes are stored in a list ('senders', 'spiketimes').\n\n"
  ]
},{
 "cell_type": "code",
 "execution_count": null,
 "metadata": {
  "collapsed": false
 },
 "outputs": [],
 "source": [
   "    \n    senders = []\n    spiketimes = []\n    \n    for trial in [0, 1]:\n"
 ]
},{
  "cell_type": "markdown",
  "metadata": {},
  "source": [
    "As mentioned above, we need to reset the network, the random number\ngenerator, and the clock of the simulation Kernel. In addition we make\nsure that there is no spike left in the spike detector.\n\n"
  ]
},{
 "cell_type": "code",
 "execution_count": null,
 "metadata": {
  "collapsed": false
 },
 "outputs": [],
 "source": [
   "        nest.ResetNetwork()\n        nest.SetStatus([0], [{\"rng_seeds\": [seed_NEST]}])\n        nest.SetStatus([0], {'time': 0.0})\n        nest.SetStatus(spikedetector, {'n_events': 0})\n    \n"
 ]
},{
  "cell_type": "markdown",
  "metadata": {},
  "source": [
    "We assign random initial membrane potentials to all neurons (uniform\ndisbributed between Vmin and Vthreshold)\n\n"
  ]
},{
 "cell_type": "code",
 "execution_count": null,
 "metadata": {
  "collapsed": false
 },
 "outputs": [],
 "source": [
   "    \n        numpy.random.seed(seed_numpy)\n        Vms = Vmin + (Vmax - Vmin) * numpy.random.rand(N)\n        nest.SetStatus(allnodes, \"V_m\", Vms)\n    \n"
 ]
},{
  "cell_type": "markdown",
  "metadata": {},
  "source": [
    "In the second trial we add an extra input spike at time t_stim to the\nneuron that fires first after perturbation time t_stim. Thus, we make\nsure that the perturbation is transmitted to the network before it fades\naway in the perturbed neuron. (Single IAF-neurons are not chaotic.)\n\n"
  ]
},{
 "cell_type": "code",
 "execution_count": null,
 "metadata": {
  "collapsed": false
 },
 "outputs": [],
 "source": [
   "    \n        if trial == 1:\n            id_stim = [senders[0][spiketimes[0] > t_stim][0]]\n            nest.Connect(stimulus, list(id_stim),\n                         syn_spec={'weight': Jstim, 'delay': dt})\n            nest.SetStatus(stimulus, {'spike_times': [t_stim]})\n    \n"
 ]
},{
  "cell_type": "markdown",
  "metadata": {},
  "source": [
    "Now we simulate the network and add a fade out period to get rid of the\nremaining spikes in the current NEST memory (see introduction).\n\n"
  ]
},{
 "cell_type": "code",
 "execution_count": null,
 "metadata": {
  "collapsed": false
 },
 "outputs": [],
 "source": [
   "    \n        nest.Simulate(T)\n        nest.Simulate(fade_out)\n    \n"
 ]
},{
  "cell_type": "markdown",
  "metadata": {},
  "source": [
    "Storing the data.\n\n"
  ]
},{
 "cell_type": "code",
 "execution_count": null,
 "metadata": {
  "collapsed": false
 },
 "outputs": [],
 "source": [
   "    \n        senders += [nest.GetStatus(spikedetector, 'events')[0]['senders']]\n        spiketimes += [nest.GetStatus(spikedetector, 'events')[0]['times']]\n    \n"
 ]
},{
  "cell_type": "markdown",
  "metadata": {},
  "source": [
    "Plotting the spiking activity of the network (first trial in red,\nsecond trial in black).\n\n"
  ]
},{
 "cell_type": "code",
 "execution_count": null,
 "metadata": {
  "collapsed": false
 },
 "outputs": [],
 "source": [
   "    \n    pylab.figure(1)\n    pylab.clf()\n    pylab.plot(spiketimes[0], senders[0], 'ro', ms=4.)\n    pylab.plot(spiketimes[1], senders[1], 'ko', ms=2.)\n    pylab.xlabel('time (ms)')\n    pylab.ylabel('neuron id')\n    pylab.xlim((0, T))\n    pylab.ylim((0, N))\n    \n    \n"
 ]
},{
  "cell_type": "markdown",
  "metadata": {},
  "source": [
    "\n\n"
  ]
},{
 "cell_type": "code",
 "execution_count": null,
 "metadata": {
  "collapsed": false
 },
 "outputs": [],
 "source": [
   "\n"
 ]
}
],
 "metadata": {
  "kernelspec": {
   "display_name": "Python 2",
   "language": "python",
   "name": "python2"
  },
  "language_info": {
   "codemirror_mode": {
    "name": "ipython",
    "version": 2
   },
   "file_extension": ".py",
   "mimetype": "text/x-python",
   "name": "python",
   "nbconvert_exporter": "python",
   "pygments_lexer": "ipython2",
   "version": "2.7.3"
  }
 },
 "nbformat": 4,
 "nbformat_minor": 0
}