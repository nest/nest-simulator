{
  "cells": [
    {
      "cell_type": "code",
      "execution_count": null,
      "metadata": {
        "collapsed": false
      },
      "outputs": [],
      "source": [
        "%matplotlib inline"
      ]
    },
    {
      "cell_type": "markdown",
      "metadata": {},
      "source": [
        "# PyNEST Microcircuit: Stimulus Parameters\n\nA dictionary with parameters for an optional external transient stimulation.\nThalamic input and DC input can be switched on individually.\n"
      ]
    },
    {
      "cell_type": "code",
      "execution_count": null,
      "metadata": {
        "collapsed": false
      },
      "outputs": [],
      "source": [
        "import numpy as np\n\nstim_dict = {\n    # optional thalamic input\n    # turn thalamic input on or off (True or False)\n    'thalamic_input': False,\n    # start of the thalamic input (in ms)\n    'th_start': 700.0,\n    # duration of the thalamic input (in ms)\n    'th_duration': 10.0,\n    # rate of the thalamic input (in spikes/s)\n    'th_rate': 120.0,\n    # number of thalamic neurons\n    'num_th_neurons': 902,\n    # connection probabilities of the thalamus to the different populations\n    # (same order as in 'populations' in 'net_dict')\n    'conn_probs_th':\n        np.array([0.0, 0.0, 0.0983, 0.0619, 0.0, 0.0, 0.0512, 0.0196]),\n    # mean amplitude of the thalamic postsynaptic potential (in mV),\n    # standard deviation will be taken from 'net_dict'\n    'PSP_th': 0.15,\n    # mean delay of the thalamic input (in ms)\n    'delay_th_mean': 1.5,\n    # relative standard deviation of the thalamic delay (in ms)\n    'delay_th_rel_std': 0.5,\n\n    # optional DC input\n    # turn DC input on or off (True or False)\n    'dc_input': False,\n    # start of the DC input (in ms)\n    'dc_start': 650.0,\n    # duration of the DC input (in ms)\n    'dc_dur': 100.0,\n    # amplitude of the DC input (in pA); final amplitude is population-specific\n    # and will be obtained by multiplication with 'K_ext'\n    'dc_amp': 0.3}"
      ]
    }
  ],
  "metadata": {
    "kernelspec": {
      "display_name": "Python 3",
      "language": "python",
      "name": "python3"
    },
    "language_info": {
      "codemirror_mode": {
        "name": "ipython",
        "version": 3
      },
      "file_extension": ".py",
      "mimetype": "text/x-python",
      "name": "python",
      "nbconvert_exporter": "python",
      "pygments_lexer": "ipython3",
      "version": "3.9.13"
    }
  },
  "nbformat": 4,
  "nbformat_minor": 0
}