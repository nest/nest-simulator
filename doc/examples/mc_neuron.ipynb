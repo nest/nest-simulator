{
 "cells": [
   {
  "cell_type": "markdown",
  "metadata": {},
  "source": [
    "\n\n"
  ]
},{
 "cell_type": "code",
 "execution_count": null,
 "metadata": {
  "collapsed": false
 },
 "outputs": [],
 "source": [
   "    \n    \n"
 ]
},{
  "cell_type": "markdown",
  "metadata": {},
  "source": [
    "Multi-compartment neuron example\n--------------------------------\n\nSimple example of how to use the three-compartment `iaf_cond_alpha_mc model`\nneuron.\n\nThree stimulation paradigms are illustrated:\n - externally applied current, one compartment at a time\n - spikes impinging on each compartment, one at a time\n - rheobase current injected to soma causing output spikes\n\nVoltage and synaptic conductance traces are shown for all compartments.\n\n"
  ]
},{
 "cell_type": "code",
 "execution_count": null,
 "metadata": {
  "collapsed": false
 },
 "outputs": [],
 "source": [
   "    \n"
 ]
},{
  "cell_type": "markdown",
  "metadata": {},
  "source": [
    "First, we import all necessary modules for simulation, analysis and\nplotting.\n\n"
  ]
},{
 "cell_type": "code",
 "execution_count": null,
 "metadata": {
  "collapsed": false
 },
 "outputs": [],
 "source": [
   "    \n    import nest\n    import pylab\n    \n    nest.ResetKernel()\n    \n"
 ]
},{
  "cell_type": "markdown",
  "metadata": {},
  "source": [
    "Second, extract from the dictionary with receptor types and the list of\nrecordable quantities from the neuron model. Receptor types and\nrecordable quantities uniquely define the receptor type and the compartment\nwhile establishing synaptic connections or assigning multimeters.\n\n"
  ]
},{
 "cell_type": "code",
 "execution_count": null,
 "metadata": {
  "collapsed": false
 },
 "outputs": [],
 "source": [
   "    \n    syns = nest.GetDefaults('iaf_cond_alpha_mc')['receptor_types']\n    print(\"iaf_cond_alpha_mc receptor_types: {0}\".format(syns))\n    \n    rqs = nest.GetDefaults('iaf_cond_alpha_mc')['recordables']\n    print(\"iaf_cond_alpha_mc recordables   : {0}\".format(rqs))\n    \n"
 ]
},{
  "cell_type": "markdown",
  "metadata": {},
  "source": [
    "Third, the simulation parameters are assigned to variables.\n\n"
  ]
},{
 "cell_type": "code",
 "execution_count": null,
 "metadata": {
  "collapsed": false
 },
 "outputs": [],
 "source": [
   "    \n    nest.SetDefaults('iaf_cond_alpha_mc',\n                     {'V_th': -60.0,  # threshold potential\n                      'V_reset': -65.0,  # reset potential\n                      't_ref': 10.0,  # refractory period\n                      'g_sp': 5.0,  # somato-proximal coupling conductance\n                      'soma': {'g_L': 12.0},  # somatic leak conductance\n                      # proximal excitatory and inhibitory synaptic time constants\n                      'proximal': {'tau_syn_ex': 1.0,\n                                   'tau_syn_in': 5.0},\n                      'distal': {'C_m': 90.0}  # distal capacitance\n                      })\n    \n"
 ]
},{
  "cell_type": "markdown",
  "metadata": {},
  "source": [
    "Fourth, the nodes are created using `Create`. We store the returned\nhandles in variables for later reference.\n\n"
  ]
},{
 "cell_type": "code",
 "execution_count": null,
 "metadata": {
  "collapsed": false
 },
 "outputs": [],
 "source": [
   "    \n    n = nest.Create('iaf_cond_alpha_mc')\n    \n"
 ]
},{
  "cell_type": "markdown",
  "metadata": {},
  "source": [
    "Fifth, `multimeter`s are created and connected to the neurons.\nThe parameters specified for the multimeter include the list of quantities\nthat should be recorded and the time interval at which quantities are measured.\n\n"
  ]
},{
 "cell_type": "code",
 "execution_count": null,
 "metadata": {
  "collapsed": false
 },
 "outputs": [],
 "source": [
   "    \n    mm = nest.Create('multimeter',\n                     params={'record_from': rqs,\n                             'interval': 0.1})\n    nest.Connect(mm, n)\n    \n"
 ]
},{
  "cell_type": "markdown",
  "metadata": {},
  "source": [
    "Sixth, create one current generator per compartment and configure\nstimulus regime that drives distal, proximal and soma, in that order.\nConfiguration of the current generator includes the definition of\nthe start,stop times and the amplitude of the injected current.\n\n"
  ]
},{
 "cell_type": "code",
 "execution_count": null,
 "metadata": {
  "collapsed": false
 },
 "outputs": [],
 "source": [
   "    \n    cgs = nest.Create('dc_generator', 3)\n    nest.SetStatus(cgs,\n                   [{'start': 250.0, 'stop': 300.0, 'amplitude': 50.0},   # soma\n                    {'start': 150.0, 'stop': 200.0, 'amplitude': -50.0},  # proxim.\n                    {'start': 50.0, 'stop': 100.0, 'amplitude': 100.0}])  # distal\n    \n"
 ]
},{
  "cell_type": "markdown",
  "metadata": {},
  "source": [
    "Generators are connected to the correct compartments.\nSpecification of the ``receptor_type`` uniquely defines the target\ncompartment and receptor.\n\n"
  ]
},{
 "cell_type": "code",
 "execution_count": null,
 "metadata": {
  "collapsed": false
 },
 "outputs": [],
 "source": [
   "    \n    nest.Connect([cgs[0]], n, syn_spec={'receptor_type': syns['soma_curr']})\n    nest.Connect([cgs[1]], n, syn_spec={'receptor_type': syns['proximal_curr']})\n    nest.Connect([cgs[2]], n, syn_spec={'receptor_type': syns['distal_curr']})\n    \n"
 ]
},{
  "cell_type": "markdown",
  "metadata": {},
  "source": [
    "Create one excitatory and one inhibitory spike generator per compartment.\nConfigure regime that drives distal, proximal and soma, in that order,\nexcitation and inhibition alternating.\n\n"
  ]
},{
 "cell_type": "code",
 "execution_count": null,
 "metadata": {
  "collapsed": false
 },
 "outputs": [],
 "source": [
   "    \n    sgs = nest.Create('spike_generator', 6)\n    nest.SetStatus(sgs,\n                   [{'spike_times': [600.0, 620.0]},  # soma excitatory\n                    {'spike_times': [610.0, 630.0]},  # soma inhibitory\n                    {'spike_times': [500.0, 520.0]},  # proximal excitatory\n                    {'spike_times': [510.0, 530.0]},  # proximal inhibitory\n                    {'spike_times': [400.0, 420.0]},  # distal excitatory\n                    {'spike_times': [410.0, 430.0]}])  # distal inhibitory\n    \n"
 ]
},{
  "cell_type": "markdown",
  "metadata": {},
  "source": [
    "Connect generators to correct compartments in the same way as in case of\ncurrent generator\n\n"
  ]
},{
 "cell_type": "code",
 "execution_count": null,
 "metadata": {
  "collapsed": false
 },
 "outputs": [],
 "source": [
   "    \n    nest.Connect([sgs[0]], n, syn_spec={'receptor_type': syns['soma_exc']})\n    nest.Connect([sgs[1]], n, syn_spec={'receptor_type': syns['soma_inh']})\n    nest.Connect([sgs[2]], n, syn_spec={'receptor_type': syns['proximal_exc']})\n    nest.Connect([sgs[3]], n, syn_spec={'receptor_type': syns['proximal_inh']})\n    nest.Connect([sgs[4]], n, syn_spec={'receptor_type': syns['distal_exc']})\n    nest.Connect([sgs[5]], n, syn_spec={'receptor_type': syns['distal_inh']})\n    \n"
 ]
},{
  "cell_type": "markdown",
  "metadata": {},
  "source": [
    "Run the simulation for 700ms.\n\n"
  ]
},{
 "cell_type": "code",
 "execution_count": null,
 "metadata": {
  "collapsed": false
 },
 "outputs": [],
 "source": [
   "    \n    nest.Simulate(700)\n    \n"
 ]
},{
  "cell_type": "markdown",
  "metadata": {},
  "source": [
    "Now turn on intrinsic current in soma to make neuron to spike.\n\n"
  ]
},{
 "cell_type": "code",
 "execution_count": null,
 "metadata": {
  "collapsed": false
 },
 "outputs": [],
 "source": [
   "    \n    nest.SetStatus(n, {'soma': {'I_e': 150.0}})\n    \n"
 ]
},{
  "cell_type": "markdown",
  "metadata": {},
  "source": [
    "Simulate the network for another 300ms.\n\n"
  ]
},{
 "cell_type": "code",
 "execution_count": null,
 "metadata": {
  "collapsed": false
 },
 "outputs": [],
 "source": [
   "    \n    nest.Simulate(300)\n    \n"
 ]
},{
  "cell_type": "markdown",
  "metadata": {},
  "source": [
    "Retrieve recorded data from the multimeters\n\n"
  ]
},{
 "cell_type": "code",
 "execution_count": null,
 "metadata": {
  "collapsed": false
 },
 "outputs": [],
 "source": [
   "    \n    rec = nest.GetStatus(mm)[0]['events']\n    \n"
 ]
},{
  "cell_type": "markdown",
  "metadata": {},
  "source": [
    "Create an array with the time points when the quantities were actually\nrecorded\n\n"
  ]
},{
 "cell_type": "code",
 "execution_count": null,
 "metadata": {
  "collapsed": false
 },
 "outputs": [],
 "source": [
   "    \n    t = rec['times']\n    \n"
 ]
},{
  "cell_type": "markdown",
  "metadata": {},
  "source": [
    "Plot time traces of the membrane potential measured in different compartments.\nV_m.s,V_m.p,V_m.d state for the membrane potential in soma, proximal and\ndistal dendrites.\n\n"
  ]
},{
 "cell_type": "code",
 "execution_count": null,
 "metadata": {
  "collapsed": false
 },
 "outputs": [],
 "source": [
   "    \n    pylab.figure()\n    pylab.subplot(211)\n    pylab.plot(t, rec['V_m.s'], t, rec['V_m.p'], t, rec['V_m.d'])\n    pylab.legend(('Soma', 'Proximal dendrite', 'Distal dendrite'),\n                 loc='lower right')\n    pylab.axis([0, 1000, -76, -59])\n    pylab.ylabel('Membrane potential [mV]')\n    pylab.title('Responses of iaf_cond_alpha_mc neuron')\n    \n"
 ]
},{
  "cell_type": "markdown",
  "metadata": {},
  "source": [
    "Plot time traces of the synaptic conductance measured\nin different compartments.\n\n"
  ]
},{
 "cell_type": "code",
 "execution_count": null,
 "metadata": {
  "collapsed": false
 },
 "outputs": [],
 "source": [
   "    \n    pylab.subplot(212)\n    pylab.plot(t, rec['g_ex.s'], 'b-', t, rec['g_ex.p'], 'g-',\n               t, rec['g_ex.d'], 'r-')\n    pylab.plot(t, rec['g_in.s'], 'b--', t, rec['g_in.p'], 'g--',\n               t, rec['g_in.d'], 'r--')\n    pylab.legend(('g_ex.s', 'g_ex.p', 'g_in.d', 'g_in.s', 'g_in.p', 'g_in.d'))\n    pylab.axis([350, 700, 0, 1.15])\n    pylab.xlabel('Time [ms]')\n    pylab.ylabel('Synaptic conductance [nS]')\n    \n    \n"
 ]
},{
  "cell_type": "markdown",
  "metadata": {},
  "source": [
    "\n\n"
  ]
},{
 "cell_type": "code",
 "execution_count": null,
 "metadata": {
  "collapsed": false
 },
 "outputs": [],
 "source": [
   "\n"
 ]
}
],
 "metadata": {
  "kernelspec": {
   "display_name": "Python 2",
   "language": "python",
   "name": "python2"
  },
  "language_info": {
   "codemirror_mode": {
    "name": "ipython",
    "version": 2
   },
   "file_extension": ".py",
   "mimetype": "text/x-python",
   "name": "python",
   "nbconvert_exporter": "python",
   "pygments_lexer": "ipython2",
   "version": "2.7.3"
  }
 },
 "nbformat": 4,
 "nbformat_minor": 0
}