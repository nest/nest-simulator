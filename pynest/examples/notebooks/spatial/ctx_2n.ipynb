{
 "cells": [
  {
   "cell_type": "code",
   "execution_count": null,
   "metadata": {
    "collapsed": false
   },
   "outputs": [],
   "source": [
    "%matplotlib inline"
   ]
  },
  {
   "cell_type": "markdown",
   "metadata": {},
   "source": [
    "\n",
    "# 4x3 grid with pyramidal cells and interneurons\n",
    "\n",
    "Create a 4x3 grid with one pyramidal cell and one interneuron at each position.\n",
    "\n",
    "BCCN Tutorial @ CNS*09\n",
    "Hans Ekkehard Plesser, UMB\n"
   ]
  },
  {
   "cell_type": "code",
   "execution_count": null,
   "metadata": {
    "collapsed": false
   },
   "outputs": [],
   "source": [
    "import nest\n",
    "import matplotlib.pyplot as plt\n",
    "import numpy as np\n",
    "\n",
    "nest.ResetKernel()\n",
    "\n",
    "nest.CopyModel('iaf_psc_alpha', 'pyr')\n",
    "nest.CopyModel('iaf_psc_alpha', 'in')\n",
    "\n",
    "pos = nest.spatial.grid(shape=[4, 3], extent=[2., 1.5])\n",
    "\n",
    "ctx_pyr = nest.Create('pyr', positions=pos)\n",
    "ctx_in = nest.Create('in', positions=pos)\n",
    "\n",
    "nest.PrintNodes()\n",
    "\n",
    "# extract position information\n",
    "ppyr = nest.GetPosition(ctx_pyr)\n",
    "pin = nest.GetPosition(ctx_in)\n",
    "\n",
    "ppyr_x = np.array([x for x, y in ppyr])\n",
    "ppyr_y = np.array([y for x, y in ppyr])\n",
    "\n",
    "pin_x = np.array([x for x, y in pin])\n",
    "pin_y = np.array([y for x, y in pin])\n",
    "\n",
    "# plot\n",
    "plt.clf()\n",
    "plt.plot(pin_x - 0.05, ppyr_y - 0.05, 'bo', markersize=20,\n",
    "         label='Pyramidal', zorder=2)\n",
    "plt.plot(pin_x + 0.05, pin_y + 0.05, 'ro', markersize=20,\n",
    "         label='Interneuron', zorder=2)\n",
    "plt.plot(pin_x, ppyr_y, 'o', markerfacecolor=(0.7, 0.7, 0.7),\n",
    "         markersize=60, markeredgewidth=0, zorder=1, label='_nolegend_')\n",
    "\n",
    "# beautify\n",
    "plt.axis([-1.0, 1.0, -1.0, 1.0])\n",
    "plt.axes().set_aspect('equal', 'box')\n",
    "plt.axes().set_xticks((-0.75, -0.25, 0.25, 0.75))\n",
    "plt.axes().set_yticks((-0.5, 0, 0.5))\n",
    "plt.grid(True)\n",
    "plt.xlabel('4 Columns, Extent: 1.5')\n",
    "plt.ylabel('3 Rows, Extent: 1.0')\n",
    "plt.legend(numpoints=1)\n",
    "\n",
    "plt.show()\n",
    "\n",
    "# plt.savefig('ctx_2n.png')"
   ]
  },
  {
   "cell_type": "markdown",
   "metadata": {},
   "source": [
    "[![EBRAINS Notebook](https://nest-simulator.org/TryItOnEBRAINS.png)](https://lab.ebrains.eu/hub/user-redirect/git-pull?repo=https%3A%2F%2Fgithub.com%2Fjessica-mitchell%2Fnest-simulator&urlpath=lab%2Ftree%2Fnest-simulator%2Fpynest%2Fexamples%2Fnotebooks%2Fspatial%2Fctx_2n.ipynb&branch=ebrains-button)\n"
   ]
  }
 ],
 "metadata": {
  "kernelspec": {
   "display_name": "EBRAINS-22.10",
   "language": "python",
   "name": "spack_python_kernel_release_202210"
  },
  "language_info": {
   "codemirror_mode": {
    "name": "ipython",
    "version": 3
   },
   "file_extension": ".py",
   "mimetype": "text/x-python",
   "name": "python",
   "nbconvert_exporter": "python",
   "pygments_lexer": "ipython3",
   "version": "3.9.13"
  }
 },
 "nbformat": 4,
 "nbformat_minor": 5
}
