{
 "cells": [
  {
   "cell_type": "code",
   "execution_count": null,
   "metadata": {
    "collapsed": false
   },
   "outputs": [],
   "source": [
    "%matplotlib inline"
   ]
  },
  {
   "cell_type": "markdown",
   "metadata": {},
   "source": [
    "\n",
    "# Example network using generalized IAF neuron with postsynaptic conductances\n"
   ]
  },
  {
   "cell_type": "code",
   "execution_count": null,
   "metadata": {
    "collapsed": false
   },
   "outputs": [],
   "source": [
    "import nest\n",
    "import numpy as np\n",
    "\n",
    "neuron = nest.Create('gif_cond_exp_multisynapse',\n",
    "                     params={'E_rev': [0.0, -85.0],\n",
    "                             'tau_syn': [4.0, 8.0]})\n",
    "\n",
    "spike = nest.Create('spike_generator', params={'spike_times':\n",
    "                                               np.array([10.0])})\n",
    "\n",
    "delays = [1., 30.]\n",
    "w = [1., 5.]\n",
    "for syn in range(2):\n",
    "    nest.Connect(spike, neuron, syn_spec={'synapse_model': 'static_synapse',\n",
    "                                          'receptor_type': 1 + syn,\n",
    "                                          'weight': w[syn],\n",
    "                                          'delay': delays[syn]})\n",
    "nest.Simulate(100.)"
   ]
  }
 ],
 "metadata": {
  "kernelspec": {
   "display_name": "EBRAINS-22.10",
   "language": "python",
   "name": "spack_python_kernel_release_202210"
  },
  "language_info": {
   "codemirror_mode": {
    "name": "ipython",
    "version": 3
   },
   "file_extension": ".py",
   "mimetype": "text/x-python",
   "name": "python",
   "nbconvert_exporter": "python",
   "pygments_lexer": "ipython3",
   "version": "3.9.6"
  }
 },
 "nbformat": 4,
 "nbformat_minor": 5
}
