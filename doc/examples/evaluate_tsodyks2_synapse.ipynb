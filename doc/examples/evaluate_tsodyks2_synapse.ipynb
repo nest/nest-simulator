{
 "cells": [
   {
  "cell_type": "markdown",
  "metadata": {},
  "source": [
    "\n\n"
  ]
},{
 "cell_type": "code",
 "execution_count": null,
 "metadata": {
  "collapsed": false
 },
 "outputs": [],
 "source": [
   "    \n    \n"
 ]
},{
  "cell_type": "markdown",
  "metadata": {},
  "source": [
    "Example of the tsodyks2_synapse in NEST\n---------------------------------------\nThis synapse model implements synaptic short-term depression and short-term f\naccording to [1] and [2]. It solves Eq (2) from [1] and modulates U according\n\nThis connection merely scales the synaptic weight, based on the spike history\nparameters of the kinetic model. Thus, it is suitable for all types of synapt\nthat is current or conductance based.\n\nThe parameter A_se from the publications is represented by the\nsynaptic weight. The variable x in the synapse properties is the\nfactor that scales the synaptic weight.\n\nParameters:\nThe following parameters can be set in the status dictionary:\nU          double - probability of release increment (U1) [0,1], default=0.\nu          double - Maximum probability of release (U_se) [0,1], default=0.\nx          double - current scaling factor of the weight, default=U\ntau_rec    double - time constant for depression in ms, default=800 ms\ntau_fac    double - time constant for facilitation in ms, default=0 (off)\n\nNotes:\n\nUnder identical conditions, the tsodyks2_synapse produces\nslightly lower peak amplitudes than the tsodyks_synapse. However,\nthe qualitative behavior is identical.\n\nThis compares the two synapse models.\n\n\nReferences:\n[1] Tsodyks, M. V., & Markram, H. (1997). The neural code between neocortical\ndepends on neurotransmitter release probability. PNAS, 94(2), 719-23.\n[2] Fuhrmann, G., Segev, I., Markram, H., & Tsodyks, M. V. (2002). Coding of\ninformation by activity-dependent synapses. Journal of neurophysiology, 8\n[3] Maass, W., & Markram, H. (2002). Synapses as dynamic memory buffers. Neur\n\n"
  ]
},{
 "cell_type": "code",
 "execution_count": null,
 "metadata": {
  "collapsed": false
 },
 "outputs": [],
 "source": [
   "    \n    import nest\n    import nest.voltage_trace\n    \n    nest.ResetKernel()\n    \n"
 ]
},{
  "cell_type": "markdown",
  "metadata": {},
  "source": [
    "Parameter set for depression\n\n"
  ]
},{
 "cell_type": "code",
 "execution_count": null,
 "metadata": {
  "collapsed": false
 },
 "outputs": [],
 "source": [
   "    dep_params = {\"U\": 0.67, \"u\": 0.67, 'x': 1.0, \"tau_rec\": 450.0,\n                  \"tau_fac\": 0.0, \"weight\": 250.}\n    \n"
 ]
},{
  "cell_type": "markdown",
  "metadata": {},
  "source": [
    "Parameter set for facilitation\n\n"
  ]
},{
 "cell_type": "code",
 "execution_count": null,
 "metadata": {
  "collapsed": false
 },
 "outputs": [],
 "source": [
   "    fac_params = {\"U\": 0.1, \"u\": 0.1, 'x': 1.0, \"tau_fac\": 1000.,\n                  \"tau_rec\": 100., \"weight\": 250.}\n    \n"
 ]
},{
  "cell_type": "markdown",
  "metadata": {},
  "source": [
    "Now we assign the parameter set to the synapse models.\n\n"
  ]
},{
 "cell_type": "code",
 "execution_count": null,
 "metadata": {
  "collapsed": false
 },
 "outputs": [],
 "source": [
   "    t1_params = fac_params       # for tsodyks_synapse\n    t2_params = t1_params.copy()  # for tsodyks2_synapse\n    \n    nest.SetDefaults(\"tsodyks2_synapse\", t1_params)\n    nest.SetDefaults(\"tsodyks_synapse\", t2_params)\n    nest.SetDefaults(\"iaf_psc_exp\", {\"tau_syn_ex\": 3.})\n    \n"
 ]
},{
  "cell_type": "markdown",
  "metadata": {},
  "source": [
    "Create three neurons.\n\n"
  ]
},{
 "cell_type": "code",
 "execution_count": null,
 "metadata": {
  "collapsed": false
 },
 "outputs": [],
 "source": [
   "    neuron = nest.Create(\"iaf_psc_exp\", 3)\n    \n"
 ]
},{
  "cell_type": "markdown",
  "metadata": {},
  "source": [
    "Neuron one produces spikes. Neurons 2 and 3 receive the spikes via\nthe two synapse models.\n\n"
  ]
},{
 "cell_type": "code",
 "execution_count": null,
 "metadata": {
  "collapsed": false
 },
 "outputs": [],
 "source": [
   "    \n    nest.Connect([neuron[0]], [neuron[1]], syn_spec=\"tsodyks_synapse\")\n    nest.Connect([neuron[0]], [neuron[2]], syn_spec=\"tsodyks2_synapse\")\n    \n"
 ]
},{
  "cell_type": "markdown",
  "metadata": {},
  "source": [
    "Now create two voltmeters to record the responses.\n\n"
  ]
},{
 "cell_type": "code",
 "execution_count": null,
 "metadata": {
  "collapsed": false
 },
 "outputs": [],
 "source": [
   "    voltmeter = nest.Create(\"voltmeter\", 2)\n    nest.SetStatus(voltmeter, {\"withgid\": True, \"withtime\": True})\n    \n"
 ]
},{
  "cell_type": "markdown",
  "metadata": {},
  "source": [
    "Connect the voltmeters to the neurons.\n\n"
  ]
},{
 "cell_type": "code",
 "execution_count": null,
 "metadata": {
  "collapsed": false
 },
 "outputs": [],
 "source": [
   "    nest.Connect([voltmeter[0]], [neuron[1]])\n    nest.Connect([voltmeter[1]], [neuron[2]])\n    \n"
 ]
},{
  "cell_type": "markdown",
  "metadata": {},
  "source": [
    "Now simulate the standard STP protocol: a burst of spikes,\nfollowed by a pause and a recovery response.\n\n"
  ]
},{
 "cell_type": "code",
 "execution_count": null,
 "metadata": {
  "collapsed": false
 },
 "outputs": [],
 "source": [
   "    nest.SetStatus([neuron[0]], \"I_e\", 376.0)\n    nest.Simulate(500.0)\n    nest.SetStatus([neuron[0]], \"I_e\", 0.0)\n    nest.Simulate(500.0)\n    nest.SetStatus([neuron[0]], \"I_e\", 376.0)\n    nest.Simulate(500.0)\n    \n"
 ]
},{
  "cell_type": "markdown",
  "metadata": {},
  "source": [
    "Finally, generate voltage traces. Both are shown in the same plot\nand should be almost completely overlapping.\n\n"
  ]
},{
 "cell_type": "code",
 "execution_count": null,
 "metadata": {
  "collapsed": false
 },
 "outputs": [],
 "source": [
   "    nest.voltage_trace.from_device([voltmeter[0]])\n    nest.voltage_trace.from_device([voltmeter[1]])\n    \n    \n"
 ]
},{
  "cell_type": "markdown",
  "metadata": {},
  "source": [
    "\n\n"
  ]
},{
 "cell_type": "code",
 "execution_count": null,
 "metadata": {
  "collapsed": false
 },
 "outputs": [],
 "source": [
   "\n"
 ]
}
],
 "metadata": {
  "kernelspec": {
   "display_name": "Python 2",
   "language": "python",
   "name": "python2"
  },
  "language_info": {
   "codemirror_mode": {
    "name": "ipython",
    "version": 2
   },
   "file_extension": ".py",
   "mimetype": "text/x-python",
   "name": "python",
   "nbconvert_exporter": "python",
   "pygments_lexer": "ipython2",
   "version": "2.7.3"
  }
 },
 "nbformat": 4,
 "nbformat_minor": 0
}