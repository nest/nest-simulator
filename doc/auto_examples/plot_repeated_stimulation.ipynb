{
  "cells": [
    {
      "cell_type": "code",
      "execution_count": null,
      "metadata": {
        "collapsed": false
      },
      "outputs": [],
      "source": [
        "%matplotlib inline"
      ]
    },
    {
      "cell_type": "markdown",
      "metadata": {},
      "source": [
        "\nRepeated Stimulation\n--------------------\n\nSimple example for how to repeat a stimulation protocol\nusing the 'origin' property of devices.\n\nIn this example, a poisson_generator generates a spike train that is\nrecorded directly by a spike_detector, using the following paradigm:\n\n1. A single trial last for 1000ms.\n2. Within each trial, the poisson_generator is active from 100ms to 500ms.\n\nWe achieve this by defining the 'start' and 'stop' properties of the\ngenerator to 100ms and 500ms, respectively, and setting the 'origin' to the\nsimulation time at the beginning of each trial. Start and stop are interpreted\nrelative to the origin.\n\n"
      ]
    },
    {
      "cell_type": "code",
      "execution_count": null,
      "metadata": {
        "collapsed": false
      },
      "outputs": [],
      "source": [
        "'''\nFirst the nest module is imported for simulation.\n'''\n\nimport nest\nimport nest.raster_plot\n\n'''\nSecond, the parameters are set so the poisson generator\ngenerates 1000 spikes per second and is active from 100 to 500 ms\n'''\n\nrate = 1000.0  # generator rate in spikes/s\nstart = 100.0  # start of simulation relative to trial start, in ms\nstop = 500.0  # end of simulation relative to trial start, in ms\n\n'''\nThe simulation is supposed to take 1s (1000 ms) and is repeated 5 times\n'''\n\ntrial_duration = 1000.0  # trial duration, in ms\nnum_trials = 5      # number of trials to perform\n\n'''\nThird the network is set up.  The Kernel is reset and a\npoisson_generator created and the handle is stored in pg\n\nThe parameters for rate and start and stop of activity are given as\noptional parameter in the form of a dictionary\n'''\n\nnest.ResetKernel()\npg = nest.Create('poisson_generator',\n                 params={'rate': rate,\n                         'start': start,\n                         'stop': stop}\n                 )\n\n'''\nThe spikedetector is created and the handle stored in sd\n'''\n\nsd = nest.Create('spike_detector')\n\n'''\nThe connect function connects the nodes so spikes from pg are\ncollected by the spike_detector sd\n'''\n\nnest.Connect(pg, sd)\n\n'''\nBefore each trial, we set the 'origin' of the poisson_generator to\nthe current simulation time.  This automatically sets the start and\nstop time of the poisson generator to the specified times with respect\nto the origin The simulation is then carried out for the specified\ntime in trail_duration\n'''\n\nfor n in range(num_trials):\n    nest.SetStatus(pg, {'origin': nest.GetKernelStatus()['time']})\n    nest.Simulate(trial_duration)\n\n'''\nNow we plot the result, including a histogram using the\nnest.raster_plot function note: The histogram will show spikes\nseemingly located before 100ms into each trial. This is due to\nsub-optimal automatic placement of histogram bin borders.\n'''\nnest.raster_plot.from_device(sd, hist=True, hist_binwidth=100.,\n                             title='Repeated stimulation by Poisson generator')"
      ]
    }
  ],
  "metadata": {
    "kernelspec": {
      "display_name": "Python 3",
      "language": "python",
      "name": "python3"
    },
    "language_info": {
      "codemirror_mode": {
        "name": "ipython",
        "version": 3
      },
      "file_extension": ".py",
      "mimetype": "text/x-python",
      "name": "python",
      "nbconvert_exporter": "python",
      "pygments_lexer": "ipython3",
      "version": "3.6.1"
    }
  },
  "nbformat": 4,
  "nbformat_minor": 0
}