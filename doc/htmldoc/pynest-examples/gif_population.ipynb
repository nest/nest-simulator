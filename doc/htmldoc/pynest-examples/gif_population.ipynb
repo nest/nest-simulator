{
 "cells": [
  {
   "cell_type": "code",
   "execution_count": null,
   "metadata": {
    "collapsed": false
   },
   "outputs": [],
   "source": [
    "%matplotlib inline"
   ]
  },
  {
   "cell_type": "markdown",
   "metadata": {},
   "source": [
    "\n",
    "# Population of GIF neuron model with oscillatory behavior\n",
    "\n",
    "This script simulates a population of generalized integrate-and-fire (GIF)\n",
    "model neurons driven by noise from a group of Poisson generators.\n",
    "\n",
    "Due to spike-frequency adaptation, the GIF neurons tend to show oscillatory\n",
    "behavior on the time scale comparable with the time constant of adaptation\n",
    "elements (stc and sfa).\n",
    "\n",
    "Population dynamics are visualized by raster plot and as average firing rate.\n",
    "\n",
    "## References\n",
    "\n",
    ".. [1] Schwalger T, Degert M, Gerstner W (2017). Towards a theory of cortical columns: From spiking\n",
    "       neurons to interacting neural populations of finite size. PLoS Comput Biol.\n",
    "       https://doi.org/10.1371/journal.pcbi.1005507\n",
    "\n",
    ".. [2] Mensi S, Naud R, Pozzorini C, Avermann M, Petersen CC and\n",
    "       Gerstner W (2012). Parameter extraction and classification of\n",
    "       three cortical neuron types reveals two distinct adaptation\n",
    "       mechanisms. Journal of Neurophysiology. 107(6), pp.1756-1775.\n"
   ]
  },
  {
   "cell_type": "markdown",
   "metadata": {},
   "source": [
    "Import all necessary modules for simulation and plotting.\n",
    "\n"
   ]
  },
  {
   "cell_type": "code",
   "execution_count": null,
   "metadata": {
    "collapsed": false
   },
   "outputs": [],
   "source": [
    "import nest\n",
    "import nest.raster_plot\n",
    "import matplotlib.pyplot as plt\n",
    "\n",
    "nest.ResetKernel()"
   ]
  },
  {
   "cell_type": "markdown",
   "metadata": {},
   "source": [
    "Assigning the simulation parameters to variables.\n",
    "\n"
   ]
  },
  {
   "cell_type": "code",
   "execution_count": null,
   "metadata": {
    "collapsed": false
   },
   "outputs": [],
   "source": [
    "dt = 0.1\n",
    "simtime = 2000.0"
   ]
  },
  {
   "cell_type": "markdown",
   "metadata": {},
   "source": [
    "Definition of neural parameters for the GIF model. These parameters are\n",
    "extracted by fitting the model to experimental data [2]_.\n",
    "\n"
   ]
  },
  {
   "cell_type": "code",
   "execution_count": null,
   "metadata": {
    "collapsed": false
   },
   "outputs": [],
   "source": [
    "neuron_params = {\"C_m\": 83.1,\n",
    "                 \"g_L\": 3.7,\n",
    "                 \"E_L\": -67.0,\n",
    "                 \"Delta_V\": 1.4,\n",
    "                 \"V_T_star\": -39.6,\n",
    "                 \"t_ref\": 4.0,\n",
    "                 \"V_reset\": -36.7,\n",
    "                 \"lambda_0\": 1.0,\n",
    "                 \"q_stc\": [56.7, -6.9],\n",
    "                 \"tau_stc\": [57.8, 218.2],\n",
    "                 \"q_sfa\": [11.7, 1.8],\n",
    "                 \"tau_sfa\": [53.8, 640.0],\n",
    "                 \"tau_syn_ex\": 10.0,\n",
    "                 }"
   ]
  },
  {
   "cell_type": "markdown",
   "metadata": {},
   "source": [
    "Definition of the parameters for the population of GIF neurons.\n",
    "\n"
   ]
  },
  {
   "cell_type": "code",
   "execution_count": null,
   "metadata": {
    "collapsed": false
   },
   "outputs": [],
   "source": [
    "N_ex = 100  # size of the population\n",
    "p_ex = 0.3  # connection probability inside the population\n",
    "w_ex = 30.0  # synaptic weights inside the population (pA)"
   ]
  },
  {
   "cell_type": "markdown",
   "metadata": {},
   "source": [
    "Definition of the parameters for the Poisson group and its connection with\n",
    "GIF neurons population.\n",
    "\n"
   ]
  },
  {
   "cell_type": "code",
   "execution_count": null,
   "metadata": {
    "collapsed": false
   },
   "outputs": [],
   "source": [
    "N_noise = 50  # size of Poisson group\n",
    "rate_noise = 10.0  # firing rate of Poisson neurons (Hz)\n",
    "w_noise = 20.0  # synaptic weights from Poisson to population neurons (pA)"
   ]
  },
  {
   "cell_type": "markdown",
   "metadata": {},
   "source": [
    "Configuration of the simulation kernel with the previously defined time\n",
    "resolution.\n",
    "\n"
   ]
  },
  {
   "cell_type": "code",
   "execution_count": null,
   "metadata": {
    "collapsed": false
   },
   "outputs": [],
   "source": [
    "nest.resolution = dt"
   ]
  },
  {
   "cell_type": "markdown",
   "metadata": {},
   "source": [
    "Building a population of GIF neurons, a group of Poisson neurons and a\n",
    "spike recorder device for capturing spike times of the population.\n",
    "\n"
   ]
  },
  {
   "cell_type": "code",
   "execution_count": null,
   "metadata": {
    "collapsed": false
   },
   "outputs": [],
   "source": [
    "population = nest.Create(\"gif_psc_exp\", N_ex, params=neuron_params)\n",
    "\n",
    "noise = nest.Create(\"poisson_generator\", N_noise, params={'rate': rate_noise})\n",
    "\n",
    "spike_det = nest.Create(\"spike_recorder\")"
   ]
  },
  {
   "cell_type": "markdown",
   "metadata": {},
   "source": [
    "Build connections inside the population of GIF neurons population, between\n",
    "Poisson group and the population, and also connecting spike recorder to\n",
    "the population.\n",
    "\n"
   ]
  },
  {
   "cell_type": "code",
   "execution_count": null,
   "metadata": {
    "collapsed": false
   },
   "outputs": [],
   "source": [
    "nest.Connect(\n",
    "    population, population, {'rule': 'pairwise_bernoulli', 'p': p_ex},\n",
    "    syn_spec={\"weight\": w_ex}\n",
    ")\n",
    "\n",
    "nest.Connect(noise, population, 'all_to_all', syn_spec={\"weight\": w_noise})\n",
    "\n",
    "nest.Connect(population, spike_det)"
   ]
  },
  {
   "cell_type": "markdown",
   "metadata": {},
   "source": [
    "Simulation of the network.\n",
    "\n"
   ]
  },
  {
   "cell_type": "code",
   "execution_count": null,
   "metadata": {
    "collapsed": false
   },
   "outputs": [],
   "source": [
    "nest.Simulate(simtime)"
   ]
  },
  {
   "cell_type": "markdown",
   "metadata": {},
   "source": [
    "Plotting the results of simulation including raster plot and histogram of\n",
    "population activity.\n",
    "\n"
   ]
  },
  {
   "cell_type": "code",
   "execution_count": null,
   "metadata": {
    "collapsed": false
   },
   "outputs": [],
   "source": [
    "nest.raster_plot.from_device(spike_det, hist=True)\n",
    "plt.title('Population dynamics')\n",
    "plt.show()"
   ]
  },
  {
   "cell_type": "markdown",
   "metadata": {},
   "source": [
    "[![EBRAINS Notebook](https://nest-simulator.org/TryItOnEBRAINS.png)](https://lab.ebrains.eu/hub/user-redirect/git-pull?repo=https%3A%2F%2Fgithub.com%2Fjessica-mitchell%2Fnest-simulator&urlpath=lab%2Ftree%2Fnest-simulator%2Fpynest%2Fexamples%2Fnotebooks%2Fgif_population.ipynb&branch=ebrains-button)\n"
   ]
  }
 ],
 "metadata": {
  "kernelspec": {
   "display_name": "EBRAINS-22.10",
   "language": "python",
   "name": "spack_python_kernel_release_202210"
  },
  "language_info": {
   "codemirror_mode": {
    "name": "ipython",
    "version": 3
   },
   "file_extension": ".py",
   "mimetype": "text/x-python",
   "name": "python",
   "nbconvert_exporter": "python",
   "pygments_lexer": "ipython3",
   "version": "3.9.6"
  }
 },
 "nbformat": 4,
 "nbformat_minor": 5
}
