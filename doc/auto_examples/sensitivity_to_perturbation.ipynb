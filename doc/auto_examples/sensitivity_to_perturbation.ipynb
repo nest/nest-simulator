{
  "cells": [
    {
      "cell_type": "code",
      "execution_count": null,
      "metadata": {
        "collapsed": false
      },
      "outputs": [],
      "source": [
        "%matplotlib inline"
      ]
    },
    {
      "cell_type": "markdown",
      "metadata": {},
      "source": [
        "\nSensitivity to perturbation\n---------------------------\n\nThis script simulates a network in two successive trials, which\nare identical except for one extra input spike in the second realisation.\n(a small perturbation). The network consists of recurrent, randomly\nconnected excitatory and inhibitory neurons. Its activity is driven\nby an external Poisson input provided to all neurons independently.\nIn order to ensure that the network is reset appropriately between\nthe trials, we do the following steps:\n- resetting the network\n- resetting the random network generator\n- resetting the internal clock\n- deleting all entries in the spike detector\n- introducing a hyperpolarisation phase between the trials\n  (in order to avoid that spikes remaining in the NEST memory\n  after the first simulation are fed into the second simulation)\n\n"
      ]
    },
    {
      "cell_type": "code",
      "execution_count": null,
      "metadata": {
        "collapsed": false
      },
      "outputs": [],
      "source": [
        "'''\nImporting all necessary modules for simulation, analysis and plotting.\n'''\n\nimport numpy\nimport pylab\nimport nest\n\n'''\nHere we define all parameters necessary for building and simulating\nthe network.\nWe start with the global network parameters.\n'''\n\nNE = 1000      # number of excitatory neurons\nNI = 250       # number of inhibitory neurons\nN = NE + NI    # total number of neurons\nKE = 100       # excitatory in-degree\nKI = 25        # inhibitory in-degree\n\n'''\nParameters specific for the neurons in the network. The  default values of\nthe reset potential \"E_L\" and the spiking threshold \"V_th\" are used to set\nthe limits of the initial potential of the neurons.\n'''\n\nneuron_model = 'iaf_psc_delta'\nneuron_params = nest.GetDefaults(neuron_model)\nVmin = neuron_params['E_L']   # minimum of initial potential distribution (mV)\nVmax = neuron_params['V_th']  # maximum of initial potential distribution (mV)\n\n'''\nSynapse parameters. Changing the weights (J) in the network can lead to\nqualitatively different behaviours. If J is small (e.g. J = 0.1) we are\nlikely to observe a non-chaotic network behaviour (after perturbation\nthe network returns to its original activity). Increasing J (e.g J = 5.5)\nleads to rather chaotic activity. Given that in this example the\ntransition to chaos is probabilistic, we sometimes observe chaotic\nbehaviour for small weights (e.g. J = 0.5) and non-chaotic behaviour\nfor strong weights (e.g. J = 5.4).\n'''\n\nJ = 0.5                   # excitatory synaptic weight (mV)\ng = 6.                    # relative inhibitory weight\ndelay = 0.1               # spike transmission delay (ms)\n\n'''\nExternal input parameters.\n'''\n\nJext = 0.2                # PSP amplitude for external Poisson input (mV)\nrate_ext = 6500.          # rate of the external Poisson input\n\n'''\nPerturbation parameters.\n'''\n\nt_stim = 400.             # perturbation time (time of the extra spike)\nJstim = Jext              # perturbation amplitude (mV)\n\n'''\nSimulation parameters.\n'''\n\nT = 1000.                 # simulation time per trial (ms)\nfade_out = 2.*delay       # fade out time (ms)\ndt = 0.01                 # simulation time resolution (ms)\nseed_NEST = 30            # seed of random number generator in Nest\nseed_numpy = 30           # seed of random number generator in numpy\n\n'''\nBefore we build the network we reset the simulation Kernel (to make sure\nthat previous NEST simulations in the python shell will not disturb this\nsimulation), and set the simulation resolution (later defined\nsynaptic delays cannot be smaller then the simulation resolution).\n'''\n\nnest.ResetKernel()\nnest.SetStatus([0], [{\"resolution\": dt}])\n\n'''\nNow we start building the network and create excitatory and inhibitory\nnodes and connect them. According to the connectivity specification\neach neurons gets KE (KI) synapses from the excitatory (inhibitory)\npopulation assigned randomly.\n'''\n\nnodes_ex = nest.Create(neuron_model, NE)\nnodes_in = nest.Create(neuron_model, NI)\nallnodes = nodes_ex+nodes_in\n\nnest.Connect(nodes_ex, allnodes,\n             conn_spec={'rule': 'fixed_indegree', 'indegree': KE},\n             syn_spec={'weight': J, 'delay': dt})\nnest.Connect(nodes_in, allnodes,\n             conn_spec={'rule': 'fixed_indegree', 'indegree': KI},\n             syn_spec={'weight': -g*J, 'delay': dt})\n'''\nAfterwards we create a Poisson generator that provides spikes (the\nexternal input) to the neurons until time 'T' is reached.\nAfterwards a DC generator, which is also connected to the\nwhole population, provides a stong hyperpolarisation step for a short\ntime period 'fade_out'. In order to suppress the firing after the\nsimulation successfully the fade out period has to last at least two\ntimes the simulation resolution.\n'''\n\next = nest.Create(\"poisson_generator\",\n                  params={'rate': rate_ext, 'stop': T})\nnest.Connect(ext, allnodes,\n             syn_spec={'weight': Jext, 'delay': dt})\n\nsuppr = nest.Create(\"dc_generator\",\n                    params={'amplitude': -1e16, 'start': T,\n                            'stop': T+fade_out})\nnest.Connect(suppr, allnodes)\n\nspikedetector = nest.Create(\"spike_detector\")\nnest.Connect(allnodes, spikedetector)\n\n'''\nCreating the spike generator that provides the extra spike (perturbation).\n'''\nstimulus = nest.Create(\"spike_generator\")\nnest.SetStatus(stimulus, {'spike_times': []})\n\n'''\nFinally we run the two simulations successively. After each simulation the\nsender ids and spiketimes are stored in a list ('senders', 'spiketimes').\n'''\n\nsenders = []\nspiketimes = []\n\nfor trial in [0, 1]:\n    '''\n    As mentioned above, we need to reset the network, the random number\n    generator, and the clock of the simulation Kernel. In addition we make\n    sure that there is no spike left in the spike detector.\n    '''\n    nest.ResetNetwork()\n    nest.SetStatus([0], [{\"rng_seeds\": [seed_NEST]}])\n    nest.SetStatus([0], {'time': 0.0})\n    nest.SetStatus(spikedetector, {'n_events': 0})\n\n    '''\n    We assign random initial membrane potentials to all neurons (uniform\n    disbributed between Vmin and Vthreshold)\n    '''\n\n    numpy.random.seed(seed_numpy)\n    Vms = Vmin + (Vmax - Vmin) * numpy.random.rand(N)\n    nest.SetStatus(allnodes, \"V_m\", Vms)\n\n    '''\n    In the second trial we add an extra input spike at time t_stim to the\n    neuron that fires first after perturbation time t_stim. Thus, we make\n    sure that the perturbation is transmitted to the network before it fades\n    away in the perturbed neuron. (Single IAF-neurons are not chaotic.)\n    '''\n\n    if trial == 1:\n        id_stim = [senders[0][spiketimes[0] > t_stim][0]]\n        nest.Connect(stimulus, list(id_stim),\n                     syn_spec={'weight': Jstim, 'delay': dt})\n        nest.SetStatus(stimulus, {'spike_times': [t_stim]})\n\n    '''\n    Now we simulate the network and add a fade out period to get rid of the\n    remaining spikes in the current NEST memory (see introduction).\n    '''\n\n    nest.Simulate(T)\n    nest.Simulate(fade_out)\n\n    '''\n    Storing the data.\n    '''\n\n    senders += [nest.GetStatus(spikedetector, 'events')[0]['senders']]\n    spiketimes += [nest.GetStatus(spikedetector, 'events')[0]['times']]\n\n'''\nPlotting the spiking activity of the network (first trial in red,\nsecond trial in black).\n'''\n\npylab.figure(1)\npylab.clf()\npylab.plot(spiketimes[0], senders[0], 'ro', ms=4.)\npylab.plot(spiketimes[1], senders[1], 'ko', ms=2.)\npylab.xlabel('time (ms)')\npylab.ylabel('neuron id')\npylab.xlim((0, T))\npylab.ylim((0, N))"
      ]
    }
  ],
  "metadata": {
    "kernelspec": {
      "display_name": "Python 3",
      "language": "python",
      "name": "python3"
    },
    "language_info": {
      "codemirror_mode": {
        "name": "ipython",
        "version": 3
      },
      "file_extension": ".py",
      "mimetype": "text/x-python",
      "name": "python",
      "nbconvert_exporter": "python",
      "pygments_lexer": "ipython3",
      "version": "3.6.1"
    }
  },
  "nbformat": 4,
  "nbformat_minor": 0
}