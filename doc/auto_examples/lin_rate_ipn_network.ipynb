{
  "cells": [
    {
      "cell_type": "code",
      "execution_count": null,
      "metadata": {
        "collapsed": false
      },
      "outputs": [],
      "source": [
        "%matplotlib inline"
      ]
    },
    {
      "cell_type": "markdown",
      "metadata": {},
      "source": [
        "\nNetwork of linear rate neurons\n------------------------------\n\nThis script simulates an excitatory and an inhibitory population\nof lin_rate_ipn neurons with delayed excitatory and instantaneous\ninhibitory connections. The rate of all neurons is recorded using\na multimeter. The resulting rate for one excitatory and one\ninhibitory neuron is plotted.\n\n"
      ]
    },
    {
      "cell_type": "code",
      "execution_count": null,
      "metadata": {
        "collapsed": false
      },
      "outputs": [],
      "source": [
        "import nest\nimport pylab\nimport numpy\n\n'''\nAssigning the simulation parameters to variables.\n'''\n\ndt = 0.1  # the resolution in ms\nT = 100.0  # Simulation time in ms\n\n'''\nDefinition of the number of neurons\n'''\n\norder = 50\nNE = int(4 * order)  # number of excitatory neurons\nNI = int(1 * order)  # number of inhibitory neurons\nN = int(NE+NI)       # total number of neurons\n\n'''\nDefinition of the connections\n'''\n\nd_e = 5.   # delay of excitatory connections in ms\ng = 5.0  # ratio inhibitory weight/excitatory weight\nepsilon = 0.1  # connection probability\nw = 0.1/numpy.sqrt(N)  # excitatory connection strength\n\nKE = int(epsilon * NE)  # number of excitatory synapses per neuron (outdegree)\nKI = int(epsilon * NI)  # number of inhibitory synapses per neuron (outdegree)\nK_tot = int(KI + KE)  # total number of synapses per neuron\nconnection_rule = 'fixed_outdegree'  # connection rule\n\n'''\nDefinition of the neuron model and its neuron parameters\n'''\n\nneuron_model = 'lin_rate_ipn'  # neuron model\nneuron_params = {'linear_summation': True,\n                 # type of non-linearity (not affecting linear rate models)\n                 'tau': 10.0,\n                 # time constant of neuronal dynamics in ms\n                 'mean': 2.0,\n                 # mean of Gaussian white noise input\n                 'std': 5.\n                 # standard deviation of Gaussian white noise input\n                 }\n\n\n'''\nConfiguration of the simulation kernel by the previously defined time\nresolution used in the simulation. Setting \"print_time\" to True prints\nthe already processed simulation time as well as its percentage of the\ntotal simulation time.\n'''\n\nnest.ResetKernel()\nnest.SetKernelStatus({\"resolution\": dt, \"use_wfr\": False,\n                      \"print_time\": True,\n                      \"overwrite_files\": True})\n\nprint(\"Building network\")\n\n'''\nConfiguration of the neuron model using SetDefaults().\n'''\n\nnest.SetDefaults(neuron_model, neuron_params)\n\n'''\nCreation of the nodes using `Create`.\n'''\n\nn_e = nest.Create(neuron_model, NE)\nn_i = nest.Create(neuron_model, NI)\n\n\n'''\nTo record from the rate neurons a multimeter is created and the\nparameter `record_from` is set to `'rate'` as well as the recording\ninterval to `dt`\n'''\n\nmm = nest.Create('multimeter', params={'record_from': ['rate'],\n                                       'interval': dt})\n\n'''\nSpecify synapse and connection dictionaries:\nConnections originating from excitatory neurons are associatated\nwith a delay d (rate_connection_delayed).\nConnections originating from inhibitory neurons are not associatated\nwith a delay (rate_connection_instantaneous).\n'''\n\nsyn_e = {'weight': w, 'delay': d_e, 'model': 'rate_connection_delayed'}\nsyn_i = {'weight': -g*w, 'model': 'rate_connection_instantaneous'}\nconn_e = {'rule': connection_rule, 'outdegree': KE}\nconn_i = {'rule': connection_rule, 'outdegree': KI}\n\n'''\nConnect rate units\n'''\n\nnest.Connect(n_e, n_e, conn_e, syn_e)\nnest.Connect(n_i, n_i, conn_i, syn_i)\nnest.Connect(n_e, n_i, conn_i, syn_e)\nnest.Connect(n_i, n_e, conn_e, syn_i)\n\n'''\nConnect recording device to rate units\n'''\nnest.Connect(mm, n_e+n_i)\n\n'''\nSimulate the network\n'''\n\nnest.Simulate(T)\n\n'''\nPlot rates of one excitatory and one inhibitory neuron\n'''\n\ndata = nest.GetStatus(mm)[0]['events']\nrate_ex = data['rate'][numpy.where(data['senders'] == n_e[0])]\nrate_in = data['rate'][numpy.where(data['senders'] == n_i[0])]\ntimes = data['times'][numpy.where(data['senders'] == n_e[0])]\n\npylab.figure()\npylab.plot(times, rate_ex, label='excitatory')\npylab.plot(times, rate_in, label='inhibitory')\npylab.xlabel('time (ms)')\npylab.ylabel('rate (a.u.)')\npylab.show()"
      ]
    }
  ],
  "metadata": {
    "kernelspec": {
      "display_name": "Python 3",
      "language": "python",
      "name": "python3"
    },
    "language_info": {
      "codemirror_mode": {
        "name": "ipython",
        "version": 3
      },
      "file_extension": ".py",
      "mimetype": "text/x-python",
      "name": "python",
      "nbconvert_exporter": "python",
      "pygments_lexer": "ipython3",
      "version": "3.6.1"
    }
  },
  "nbformat": 4,
  "nbformat_minor": 0
}