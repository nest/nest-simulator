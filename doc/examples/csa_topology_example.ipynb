{
 "cells": [
   {
  "cell_type": "markdown",
  "metadata": {},
  "source": [
    "\n\n"
  ]
},{
 "cell_type": "code",
 "execution_count": null,
 "metadata": {
  "collapsed": false
 },
 "outputs": [],
 "source": [
   "    \n    \n"
 ]
},{
  "cell_type": "markdown",
  "metadata": {},
  "source": [
    "Using CSA with Topology layers\n------------------------------\n\nThis example shows a brute-force way of specifying connections between\nNEST Topology layers using Connection Set Algebra instead of the\nbuilt-in connection routines.\n\nUsing the CSA requires NEST to be compiled with support for\nlibneurosim. For details, see Djurfeldt M, Davison AP and Eppler JM\n(2014) **Efficient generation of connectivity in neuronal networks\nfrom simulator-independent descriptions**, *Front. Neuroinform.*\nhttp://dx.doi.org/10.3389/fninf.2014.00043\n\nFor a related example, see csa_example.py\n\nThis example uses the function GetLeaves, which is deprecated. A deprecation\nwarning is therefore issued. For details about deprecated functions, see\ndocumentation.\n\n"
  ]
},{
 "cell_type": "code",
 "execution_count": null,
 "metadata": {
  "collapsed": false
 },
 "outputs": [],
 "source": [
   "    \n"
 ]
},{
  "cell_type": "markdown",
  "metadata": {},
  "source": [
    "First, we import all necessary modules.\n\n"
  ]
},{
 "cell_type": "code",
 "execution_count": null,
 "metadata": {
  "collapsed": false
 },
 "outputs": [],
 "source": [
   "    \n    import nest\n    import nest.topology as topo\n    \n"
 ]
},{
  "cell_type": "markdown",
  "metadata": {},
  "source": [
    "Next, we check for the availability of the CSA Python module. If it\ndoes not import, we exit with an error message.\n\n"
  ]
},{
 "cell_type": "code",
 "execution_count": null,
 "metadata": {
  "collapsed": false
 },
 "outputs": [],
 "source": [
   "    \n    try:\n        import csa\n        haveCSA = True\n    except ImportError:\n        print(\"This example requires CSA to be installed in order to run.\\n\" +\n              \"Please make sure you compiled NEST using\\n\" +\n              \"  -Dwith-libneurosim=[OFF|ON|</path/to/libneurosim>]\\n\" +\n              \"and CSA and libneurosim are available from PYTHONPATH.\")\n        import sys\n        sys.exit()\n    \n"
 ]
},{
  "cell_type": "markdown",
  "metadata": {},
  "source": [
    "We define a factory that returns a CSA-style geometry function for\nthe given layer. The function returned will return for each CSA-index\nthe position in space of the given neuron as a 2- or 3-element list.\n\nThis function stores a copy of the neuron positions internally,\nentailing memory overhead.\n\n"
  ]
},{
 "cell_type": "code",
 "execution_count": null,
 "metadata": {
  "collapsed": false
 },
 "outputs": [],
 "source": [
   "    \n    \n    def geometryFunction(topologyLayer):\n    \n        positions = topo.GetPosition(nest.GetLeaves(topologyLayer)[0])\n    \n        def geometry_function(idx):\n            return positions[idx]\n    \n        return geometry_function\n    \n"
 ]
},{
  "cell_type": "markdown",
  "metadata": {},
  "source": [
    "We create two layers that have 20x20 neurons of type `iaf_psc_alpha`.\n\n"
  ]
},{
 "cell_type": "code",
 "execution_count": null,
 "metadata": {
  "collapsed": false
 },
 "outputs": [],
 "source": [
   "    \n    pop1 = topo.CreateLayer({'elements': 'iaf_psc_alpha',\n                             'rows': 20, 'columns': 20})\n    pop2 = topo.CreateLayer({'elements': 'iaf_psc_alpha',\n                             'rows': 20, 'columns': 20})\n    \n"
 ]
},{
  "cell_type": "markdown",
  "metadata": {},
  "source": [
    "For each layer, we create a CSA-style geometry function and a CSA\nmetric based on them.\n\n"
  ]
},{
 "cell_type": "code",
 "execution_count": null,
 "metadata": {
  "collapsed": false
 },
 "outputs": [],
 "source": [
   "    \n    g1 = geometryFunction(pop1)\n    g2 = geometryFunction(pop2)\n    d = csa.euclidMetric2d(g1, g2)\n    \n"
 ]
},{
  "cell_type": "markdown",
  "metadata": {},
  "source": [
    "The connection set ``cs`` describes a Gaussian connectivity profile\nwith sigma = 0.2 and cutoff at 0.5, and two values (10000.0 and 1.0)\nused as weight and delay, respectively.\n\n"
  ]
},{
 "cell_type": "code",
 "execution_count": null,
 "metadata": {
  "collapsed": false
 },
 "outputs": [],
 "source": [
   "    \n    cs = csa.cset(csa.random * (csa.gaussian(0.2, 0.5) * d), 10000.0, 1.0)\n    \n"
 ]
},{
  "cell_type": "markdown",
  "metadata": {},
  "source": [
    "We can now connect the populations using the `CGConnect` function.\nIt takes the IDs of pre- and postsynaptic neurons (``pop1`` and\n``pop2``), the connection set (``cs``) and a dictionary that maps\nthe parameters weight and delay to positions in the value set\nassociated with the connection set.\n\n"
  ]
},{
 "cell_type": "code",
 "execution_count": null,
 "metadata": {
  "collapsed": false
 },
 "outputs": [],
 "source": [
   "    \n    pop1_gids = nest.GetLeaves(pop1)[0]\n    pop2_gids = nest.GetLeaves(pop2)[0]\n    \n    nest.CGConnect(pop1_gids, pop2_gids, cs, {\"weight\": 0, \"delay\": 1})\n    \n"
 ]
},{
  "cell_type": "markdown",
  "metadata": {},
  "source": [
    "Finally, we use the `PlotTargets` function to show all targets in\n``pop2`` starting at the center neuron of ``pop1``.\n\n"
  ]
},{
 "cell_type": "code",
 "execution_count": null,
 "metadata": {
  "collapsed": false
 },
 "outputs": [],
 "source": [
   "    \n    topo.PlotTargets(topo.FindCenterElement(pop1), pop2)\n    \n    \n"
 ]
},{
  "cell_type": "markdown",
  "metadata": {},
  "source": [
    "\n\n"
  ]
},{
 "cell_type": "code",
 "execution_count": null,
 "metadata": {
  "collapsed": false
 },
 "outputs": [],
 "source": [
   "\n"
 ]
}
],
 "metadata": {
  "kernelspec": {
   "display_name": "Python 2",
   "language": "python",
   "name": "python2"
  },
  "language_info": {
   "codemirror_mode": {
    "name": "ipython",
    "version": 2
   },
   "file_extension": ".py",
   "mimetype": "text/x-python",
   "name": "python",
   "nbconvert_exporter": "python",
   "pygments_lexer": "ipython2",
   "version": "2.7.3"
  }
 },
 "nbformat": 4,
 "nbformat_minor": 0
}