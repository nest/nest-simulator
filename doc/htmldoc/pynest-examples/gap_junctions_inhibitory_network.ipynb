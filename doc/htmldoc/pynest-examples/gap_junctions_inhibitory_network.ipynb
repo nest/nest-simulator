{
 "cells": [
  {
   "cell_type": "code",
   "execution_count": null,
   "metadata": {
    "collapsed": false
   },
   "outputs": [],
   "source": [
    "%matplotlib inline"
   ]
  },
  {
   "cell_type": "markdown",
   "metadata": {},
   "source": [
    "\n",
    "# Gap Junctions: Inhibitory network example\n",
    "\n",
    "This script simulates an inhibitory network of 500 Hodgkin-Huxley neurons.\n",
    "Without the gap junctions (meaning for ``gap_weight = 0.0``) the network shows\n",
    "an asynchronous irregular state that is caused by the external excitatory\n",
    "Poissonian drive being balanced by the inhibitory feedback within the\n",
    "network. With increasing `gap_weight` the network synchronizes:\n",
    "\n",
    "For a lower gap weight of 0.3 nS the network remains in an asynchronous\n",
    "state. With a weight of 0.54 nS the network switches randomly between the\n",
    "asynchronous to the synchronous state, while for a gap weight of 0.7 nS a\n",
    "stable synchronous state is reached.\n",
    "\n",
    "This example is also used as test case 2 (see Figure 9 and 10)\n",
    "in [1]_.\n",
    "\n",
    "## References\n",
    "\n",
    ".. [1] Hahne et al. (2015) A unified framework for spiking and gap-junction\n",
    "       interactions in distributed neuronal network simulations, Front.\n",
    "       Neuroinform. http://dx.doi.org/10.3389/neuro.11.012.2008\n"
   ]
  },
  {
   "cell_type": "code",
   "execution_count": null,
   "metadata": {
    "collapsed": false
   },
   "outputs": [],
   "source": [
    "import nest\n",
    "import matplotlib.pyplot as plt\n",
    "import numpy\n",
    "\n",
    "n_neuron = 500\n",
    "gap_per_neuron = 60\n",
    "inh_per_neuron = 50\n",
    "delay = 1.0\n",
    "j_exc = 300.\n",
    "j_inh = -50.\n",
    "threads = 8\n",
    "stepsize = 0.05\n",
    "simtime = 501.\n",
    "gap_weight = 0.3\n",
    "\n",
    "nest.ResetKernel()"
   ]
  },
  {
   "cell_type": "markdown",
   "metadata": {},
   "source": [
    "First we set the random seed, adjust the kernel settings and create\n",
    "``hh_psc_alpha_gap`` neurons, ``spike_recorder`` and ``poisson_generator``.\n",
    "\n"
   ]
  },
  {
   "cell_type": "code",
   "execution_count": null,
   "metadata": {
    "collapsed": false
   },
   "outputs": [],
   "source": [
    "numpy.random.seed(1)\n",
    "\n",
    "nest.resolution = 0.05\n",
    "nest.total_num_virtual_procs = threads\n",
    "nest.print_time = True\n",
    "\n",
    "# Settings for waveform relaxation. If 'use_wfr' is set to False,\n",
    "# communication takes place in every step instead of using an\n",
    "# iterative solution\n",
    "nest.use_wfr = True\n",
    "nest.wfr_comm_interval = 1.0\n",
    "nest.wfr_tol = 0.0001\n",
    "nest.wfr_max_iterations = 15\n",
    "nest.wfr_interpolation_order = 3\n",
    "\n",
    "neurons = nest.Create('hh_psc_alpha_gap', n_neuron)\n",
    "\n",
    "sr = nest.Create(\"spike_recorder\")\n",
    "pg = nest.Create(\"poisson_generator\", params={'rate': 500.0})"
   ]
  },
  {
   "cell_type": "markdown",
   "metadata": {},
   "source": [
    "Each neuron shall receive ``inh_per_neuron = 50`` inhibitory synaptic inputs\n",
    "that are randomly selected from all other neurons, each with synaptic\n",
    "weight ``j_inh = -50.0`` pA and a synaptic delay of 1.0 ms. Furthermore each\n",
    "neuron shall receive an excitatory external Poissonian input of 500.0 Hz\n",
    "with synaptic weight ``j_exc = 300.0`` pA and the same delay.\n",
    "The desired connections are created with the following commands:\n",
    "\n"
   ]
  },
  {
   "cell_type": "code",
   "execution_count": null,
   "metadata": {
    "collapsed": false
   },
   "outputs": [],
   "source": [
    "conn_dict = {'rule': 'fixed_indegree',\n",
    "             'indegree': inh_per_neuron,\n",
    "             'allow_autapses': False,\n",
    "             'allow_multapses': True}\n",
    "\n",
    "syn_dict = {'synapse_model': 'static_synapse',\n",
    "            'weight': j_inh,\n",
    "            'delay': delay}\n",
    "\n",
    "nest.Connect(neurons, neurons, conn_dict, syn_dict)\n",
    "\n",
    "nest.Connect(pg, neurons, 'all_to_all',\n",
    "             syn_spec={'synapse_model': 'static_synapse',\n",
    "                       'weight': j_exc,\n",
    "                       'delay': delay})"
   ]
  },
  {
   "cell_type": "markdown",
   "metadata": {},
   "source": [
    "Then the neurons are connected to the ``spike_recorder`` and the initial\n",
    "membrane potential of each neuron is set randomly between -40 and -80 mV.\n",
    "\n"
   ]
  },
  {
   "cell_type": "code",
   "execution_count": null,
   "metadata": {
    "collapsed": false
   },
   "outputs": [],
   "source": [
    "nest.Connect(neurons, sr)\n",
    "\n",
    "neurons.V_m = nest.random.uniform(min=-80., max=-40.)"
   ]
  },
  {
   "cell_type": "markdown",
   "metadata": {},
   "source": [
    "Finally gap junctions are added to the network. $(60*500)/2$ ``gap_junction``\n",
    "connections are added randomly resulting in an average of 60 gap-junction\n",
    "connections per neuron. We must not use the ``fixed_indegree`` oder\n",
    "``fixed_outdegree`` functionality of ``nest.Connect()`` to create the\n",
    "connections, as ``gap_junction`` connections are bidirectional connections\n",
    "and we need to make sure that the same neurons are connected in both ways.\n",
    "This is achieved by creating the connections on the Python level with the\n",
    "`random` module of the Python Standard Library and connecting the neurons\n",
    "using the ``make_symmetric`` flag for ``one_to_one`` connections.\n",
    "\n"
   ]
  },
  {
   "cell_type": "code",
   "execution_count": null,
   "metadata": {
    "collapsed": false
   },
   "outputs": [],
   "source": [
    "n_connection = int(n_neuron * gap_per_neuron / 2)\n",
    "neuron_list = neurons.tolist()\n",
    "connections = numpy.random.choice(neuron_list, [n_connection, 2])\n",
    "\n",
    "for source_node_id, target_node_id in connections:\n",
    "    nest.Connect(nest.NodeCollection([source_node_id]),\n",
    "                 nest.NodeCollection([target_node_id]),\n",
    "                 {'rule': 'one_to_one', 'make_symmetric': True},\n",
    "                 {'synapse_model': 'gap_junction', 'weight': gap_weight})"
   ]
  },
  {
   "cell_type": "markdown",
   "metadata": {},
   "source": [
    "In the end we start the simulation and plot the spike pattern.\n",
    "\n"
   ]
  },
  {
   "cell_type": "code",
   "execution_count": null,
   "metadata": {
    "collapsed": false
   },
   "outputs": [],
   "source": [
    "nest.Simulate(simtime)\n",
    "\n",
    "events = sr.events\n",
    "times = events['times']\n",
    "spikes = events['senders']\n",
    "n_spikes = sr.n_events\n",
    "\n",
    "hz_rate = (1000.0 * n_spikes / simtime) / n_neuron\n",
    "\n",
    "plt.figure(1)\n",
    "plt.plot(times, spikes, 'o')\n",
    "plt.title(f'Average spike rate (Hz): {hz_rate:.2f}')\n",
    "plt.xlabel('time (ms)')\n",
    "plt.ylabel('neuron no')\n",
    "plt.show()"
   ]
  }
 ],
 "metadata": {
  "kernelspec": {
   "display_name": "EBRAINS-22.10",
   "language": "python",
   "name": "spack_python_kernel_release_202210"
  },
  "language_info": {
   "codemirror_mode": {
    "name": "ipython",
    "version": 3
   },
   "file_extension": ".py",
   "mimetype": "text/x-python",
   "name": "python",
   "nbconvert_exporter": "python",
   "pygments_lexer": "ipython3",
   "version": "3.9.6"
  }
 },
 "nbformat": 4,
 "nbformat_minor": 5
}
