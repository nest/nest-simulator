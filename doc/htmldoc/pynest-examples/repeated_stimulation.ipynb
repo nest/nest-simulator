{
 "cells": [
  {
   "cell_type": "code",
   "execution_count": null,
   "metadata": {
    "collapsed": false
   },
   "outputs": [],
   "source": [
    "%matplotlib inline"
   ]
  },
  {
   "cell_type": "markdown",
   "metadata": {},
   "source": [
    "\n",
    "# Repeated Stimulation\n",
    "\n",
    "Simple example for how to repeat a stimulation protocol\n",
    "using the ``origin`` property of devices.\n",
    "\n",
    "In this example, a ``poisson_generator`` generates a spike train that is\n",
    "recorded directly by a ``spike_recorder``, using the following paradigm:\n",
    "\n",
    "1. A single trial last for 1000 ms.\n",
    "2. Within each trial, the ``poisson_generator`` is active from 100 ms to 500 ms.\n",
    "\n",
    "We achieve this by defining the `start` and `stop` properties of the\n",
    "generator to 100 ms and 500 ms, respectively, and setting the ``origin`` to the\n",
    "simulation time at the beginning of each trial. Start and stop are interpreted\n",
    "relative to the ``origin``.\n"
   ]
  },
  {
   "cell_type": "markdown",
   "metadata": {},
   "source": [
    "First, the modules needed for simulation and analysis are imported.\n",
    "\n"
   ]
  },
  {
   "cell_type": "code",
   "execution_count": null,
   "metadata": {
    "collapsed": false
   },
   "outputs": [],
   "source": [
    "import nest\n",
    "import nest.raster_plot\n",
    "import matplotlib.pyplot as plt"
   ]
  },
  {
   "cell_type": "markdown",
   "metadata": {},
   "source": [
    "Second, we set the parameters so the ``poisson_generator`` generates 1000\n",
    "spikes per second and is active from 100 to 500 ms\n",
    "\n"
   ]
  },
  {
   "cell_type": "code",
   "execution_count": null,
   "metadata": {
    "collapsed": false
   },
   "outputs": [],
   "source": [
    "rate = 1000.0  # generator rate in spikes/s\n",
    "start = 100.0  # start of simulation relative to trial start, in ms\n",
    "stop = 500.0   # end of simulation relative to trial start, in ms"
   ]
  },
  {
   "cell_type": "markdown",
   "metadata": {},
   "source": [
    "The simulation is supposed to take 1s (1000 ms) and is repeated 5 times\n",
    "\n"
   ]
  },
  {
   "cell_type": "code",
   "execution_count": null,
   "metadata": {
    "collapsed": false
   },
   "outputs": [],
   "source": [
    "trial_duration = 1000.0  # trial duration, in ms\n",
    "num_trials = 5           # number of trials to perform"
   ]
  },
  {
   "cell_type": "markdown",
   "metadata": {},
   "source": [
    "Third, the network is set up.  We reset the kernel and create a\n",
    "``poisson_generator``, in which the handle is stored in `pg`.\n",
    "\n",
    "The parameters for rate and start and stop of activity are given as optional\n",
    "parameters in the form of a dictionary.\n",
    "\n"
   ]
  },
  {
   "cell_type": "code",
   "execution_count": null,
   "metadata": {
    "collapsed": false
   },
   "outputs": [],
   "source": [
    "nest.ResetKernel()\n",
    "pg_params = {'rate': rate, 'start': start, 'stop': stop}\n",
    "pg = nest.Create('poisson_generator', params=pg_params)"
   ]
  },
  {
   "cell_type": "markdown",
   "metadata": {},
   "source": [
    "The ``spike_recorder`` is created and the handle stored in `sr`.\n",
    "\n"
   ]
  },
  {
   "cell_type": "code",
   "execution_count": null,
   "metadata": {
    "collapsed": false
   },
   "outputs": [],
   "source": [
    "sr = nest.Create('spike_recorder')"
   ]
  },
  {
   "cell_type": "markdown",
   "metadata": {},
   "source": [
    "The ``Connect`` function connects the nodes so spikes from pg are collected by\n",
    "the ``spike_recorder`` `sr`\n",
    "\n"
   ]
  },
  {
   "cell_type": "code",
   "execution_count": null,
   "metadata": {
    "collapsed": false
   },
   "outputs": [],
   "source": [
    "nest.Connect(pg, sr)"
   ]
  },
  {
   "cell_type": "markdown",
   "metadata": {},
   "source": [
    "Before each trial, we set the ``origin`` of the ``poisson_generator`` to the\n",
    "current simulation time. This automatically sets the start and stop time of\n",
    "the ``poisson_generator`` to the specified times with respect to the origin.\n",
    "The simulation is then carried out for the specified time in trial_duration.\n",
    "\n"
   ]
  },
  {
   "cell_type": "code",
   "execution_count": null,
   "metadata": {
    "collapsed": false
   },
   "outputs": [],
   "source": [
    "for n in range(num_trials):\n",
    "    pg.origin = nest.biological_time\n",
    "    nest.Simulate(trial_duration)"
   ]
  },
  {
   "cell_type": "markdown",
   "metadata": {},
   "source": [
    "Now we plot the result, including a histogram using the ``nest.raster_plot``\n",
    "function. Note: The histogram will show spikes seemingly located before\n",
    "100 ms into each trial. This is due to sub-optimal automatic placement of\n",
    "histogram bin borders.\n",
    "\n"
   ]
  },
  {
   "cell_type": "code",
   "execution_count": null,
   "metadata": {
    "collapsed": false
   },
   "outputs": [],
   "source": [
    "nest.raster_plot.from_device(sr, hist=True, hist_binwidth=100.,\n",
    "                             title='Repeated stimulation by Poisson generator')\n",
    "plt.show()"
   ]
  },
  {
   "cell_type": "markdown",
   "metadata": {},
   "source": [
    "[![EBRAINS Notebook](https://nest-simulator.org/TryItOnEBRAINS.png)](https://lab.ebrains.eu/hub/user-redirect/git-pull?repo=https%3A%2F%2Fgithub.com%2Fjessica-mitchell%2Fnest-simulator&urlpath=lab%2Ftree%2Fnest-simulator%2Fpynest%2Fexamples%2Fnotebooks%2Frepeated_stimulation.ipynb&branch=ebrains-button)\n"
   ]
  }
 ],
 "metadata": {
  "kernelspec": {
   "display_name": "EBRAINS-22.10",
   "language": "python",
   "name": "spack_python_kernel_release_202210"
  },
  "language_info": {
   "codemirror_mode": {
    "name": "ipython",
    "version": 3
   },
   "file_extension": ".py",
   "mimetype": "text/x-python",
   "name": "python",
   "nbconvert_exporter": "python",
   "pygments_lexer": "ipython3",
   "version": "3.9.6"
  }
 },
 "nbformat": 4,
 "nbformat_minor": 5
}
