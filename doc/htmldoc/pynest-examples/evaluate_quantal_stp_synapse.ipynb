{
 "cells": [
  {
   "cell_type": "code",
   "execution_count": null,
   "metadata": {
    "collapsed": false
   },
   "outputs": [],
   "source": [
    "%matplotlib inline"
   ]
  },
  {
   "cell_type": "markdown",
   "metadata": {},
   "source": [
    "\n",
    "# Example for the quantal_stp_synapse\n",
    "\n",
    "The ``quantal_stp_synapse`` is a stochastic version of the Tsodys-Markram model\n",
    "for synaptic short term plasticity (STP).\n",
    "This script compares the two variants of the Tsodyks/Markram synapse in NEST.\n",
    "\n",
    "This synapse model implements synaptic short-term depression and short-term\n",
    "facilitation according to the quantal release model described by Fuhrmann et\n",
    "al. [1]_ and Loebel et al. [2]_.\n",
    "\n",
    "Each presynaptic spike will stochastically activate a fraction of the\n",
    "available release sites.  This fraction is binomially distributed and the\n",
    "release probability per site is governed by the Fuhrmann et al. (2002) model.\n",
    "The solution of the differential equations is taken from Maass and Markram\n",
    "2002 [3]_.\n",
    "\n",
    "The connection weight is interpreted as the maximal weight that can be\n",
    "obtained if all n release sites are activated.\n",
    "\n",
    "## Parameters\n",
    "\n",
    "The following parameters can be set in the status dictionary:\n",
    "\n",
    "* U         - Maximal fraction of available resources [0,1], default=0.5\n",
    "* u         - available fraction of resources [0,1], default=0.5\n",
    "* p         - probability that a vesicle is available, default = 1.0\n",
    "* n         - total number of release sites, default = 1\n",
    "* a         - number of available release sites, default = n\n",
    "* tau_rec   - time constant for depression in ms, default=800 ms\n",
    "* tau_rec   - time constant for facilitation in ms, default=0 (off)\n",
    "\n",
    "\n",
    "## References\n",
    "\n",
    ".. [1] Fuhrmann G, Segev I, Markram H, and Tsodyks MV. (2002). Coding of\n",
    "       temporal information by activity-dependent synapses. Journal of\n",
    "       Neurophysiology, 8. https://doi.org/10.1152/jn.00258.2001\n",
    ".. [2] Loebel, A., Silberberg, G., Helbig, D., Markram, H., Tsodyks,\n",
    "       M. V, & Richardson, M. J. E. (2009). Multiquantal release underlies\n",
    "       the distribution of synaptic efficacies in the neocortex. Frontiers\n",
    "       in Computational Neuroscience, 3:27. doi:10.3389/neuro.10.027.\n",
    ".. [3] Maass W, and Markram H. (2002). Synapses as dynamic memory buffers.\n",
    "       Neural Networks, 15(2), 155-161.\n",
    "       http://dx.doi.org/10.1016/S0893-6080(01)00144-7\n"
   ]
  },
  {
   "cell_type": "code",
   "execution_count": null,
   "metadata": {
    "collapsed": false
   },
   "outputs": [],
   "source": [
    "import nest\n",
    "import numpy\n",
    "import matplotlib.pyplot as plt"
   ]
  },
  {
   "cell_type": "markdown",
   "metadata": {},
   "source": [
    "On average, the ``quantal_stp_synapse`` converges to the ``tsodyks2_synapse``,\n",
    "so we can compare the two by running multiple trials.\n",
    "\n",
    "First we define simulation time step and random seed\n",
    "\n"
   ]
  },
  {
   "cell_type": "code",
   "execution_count": null,
   "metadata": {
    "collapsed": false
   },
   "outputs": [],
   "source": [
    "resolution = 0.1  # [ms]\n",
    "seed = 12345\n",
    "\n",
    "# We define the number of trials as well as the number of release sites.\n",
    "\n",
    "n_sites = 10.0  # number of synaptic release sites\n",
    "n_trials = 500  # number of measurement trials\n",
    "\n",
    "# The pre-synaptic neuron is driven by an injected current for a part of each\n",
    "# simulation cycle. We define here the parameters for this stimulation cycle.\n",
    "\n",
    "I_stim = 376.0   # [pA] stimulation current\n",
    "T_on = 500.0     # [ms] stimulation is on\n",
    "T_off = 1000.0   # [ms] stimulation is off\n",
    "\n",
    "T_cycle = T_on + T_off   # total duration of each stimulation cycle"
   ]
  },
  {
   "cell_type": "markdown",
   "metadata": {},
   "source": [
    "Next, we define parameter sets for facilitation and initial weight.\n",
    "\n"
   ]
  },
  {
   "cell_type": "code",
   "execution_count": null,
   "metadata": {
    "collapsed": false
   },
   "outputs": [],
   "source": [
    "fac_params = {\"U\": 0.02,\n",
    "              \"u\": 0.02,\n",
    "              \"tau_fac\": 500.,\n",
    "              \"tau_rec\": 200.,\n",
    "              \"weight\": 1.}"
   ]
  },
  {
   "cell_type": "markdown",
   "metadata": {},
   "source": [
    "Then, we assign the parameter set to the synapse models\n",
    "\n"
   ]
  },
  {
   "cell_type": "code",
   "execution_count": null,
   "metadata": {
    "collapsed": false
   },
   "outputs": [],
   "source": [
    "tsyn_params = fac_params  # for tsodyks2_synapse\n",
    "qsyn_params = tsyn_params.copy()  # for quantal_stp_synapse\n",
    "\n",
    "tsyn_params[\"x\"] = tsyn_params[\"U\"]\n",
    "qsyn_params[\"n\"] = n_sites"
   ]
  },
  {
   "cell_type": "markdown",
   "metadata": {},
   "source": [
    "To make the responses comparable, we have to scale the weight by the\n",
    "number of release sites.\n",
    "\n"
   ]
  },
  {
   "cell_type": "code",
   "execution_count": null,
   "metadata": {
    "collapsed": false
   },
   "outputs": [],
   "source": [
    "qsyn_params[\"weight\"] = 1. / n_sites"
   ]
  },
  {
   "cell_type": "markdown",
   "metadata": {},
   "source": [
    "We reset NEST to have a well-defined starting point,\n",
    "make NEST less verbose, and set some kernel attributes.\n",
    "\n"
   ]
  },
  {
   "cell_type": "code",
   "execution_count": null,
   "metadata": {
    "collapsed": false
   },
   "outputs": [],
   "source": [
    "nest.ResetKernel()\n",
    "nest.set_verbosity(\"M_ERROR\")\n",
    "nest.resolution = resolution\n",
    "nest.rng_seed = seed"
   ]
  },
  {
   "cell_type": "markdown",
   "metadata": {},
   "source": [
    "We create three different neurons.\n",
    "Neuron one is the sender, the two other neurons receive the synapses.\n",
    "We exploit Python's unpacking mechanism to assign the neurons to named\n",
    "variables directly.\n",
    "\n"
   ]
  },
  {
   "cell_type": "code",
   "execution_count": null,
   "metadata": {
    "collapsed": false
   },
   "outputs": [],
   "source": [
    "pre_neuron, tsyn_neuron, qsyn_neuron = nest.Create(\"iaf_psc_exp\",\n",
    "                                                   params={\"tau_syn_ex\": 3.},\n",
    "                                                   n=3)"
   ]
  },
  {
   "cell_type": "markdown",
   "metadata": {},
   "source": [
    "We create two voltmeters, one for each of the postsynaptic neurons.\n",
    "We start recording only after a first cycle, which is used for equilibration.\n",
    "\n"
   ]
  },
  {
   "cell_type": "code",
   "execution_count": null,
   "metadata": {
    "collapsed": false
   },
   "outputs": [],
   "source": [
    "tsyn_voltmeter, qsyn_voltmeter = nest.Create(\"voltmeter\",\n",
    "                                             params={\"start\": T_cycle,\n",
    "                                                     \"interval\": resolution},\n",
    "                                             n=2)"
   ]
  },
  {
   "cell_type": "markdown",
   "metadata": {},
   "source": [
    "Connect one neuron with the deterministic tsodyks2 synapse and the other neuron\n",
    "with the stochastic quantal stp synapse; then, connect a voltmeter to each neuron.\n",
    "Here, ``**tsyn_params`` inserts the content of the ``tsyn_params`` dict into the\n",
    "dict passed to ``syn_spec``.\n",
    "\n"
   ]
  },
  {
   "cell_type": "code",
   "execution_count": null,
   "metadata": {
    "collapsed": false
   },
   "outputs": [],
   "source": [
    "nest.Connect(pre_neuron, tsyn_neuron,\n",
    "             syn_spec={\"synapse_model\": \"tsodyks2_synapse\", **tsyn_params})\n",
    "\n",
    "# For technical reasons, we currently must set the parameters of the\n",
    "# quantal_stp_synapse via default values. This will change in a future version\n",
    "# of NEST.\n",
    "nest.SetDefaults(\"quantal_stp_synapse\", qsyn_params)\n",
    "nest.Connect(pre_neuron, qsyn_neuron, syn_spec={\"synapse_model\": \"quantal_stp_synapse\"})\n",
    "\n",
    "nest.Connect(tsyn_voltmeter, tsyn_neuron)\n",
    "nest.Connect(qsyn_voltmeter, qsyn_neuron)"
   ]
  },
  {
   "cell_type": "markdown",
   "metadata": {},
   "source": [
    "This loop runs over the `n_trials` trials and performs a standard protocol\n",
    "of a high-rate response, followed by a pause and then a recovery response.\n",
    "\n",
    "We actually run over ``n_trials + 1`` rounds, since the first trial is for\n",
    "equilibration and is not recorded (see voltmeter parameters above).\n",
    "\n",
    "We use the NEST ``:class:.RunManager`` to improve performance and call ``:func:.Run``\n",
    "inside for each part of the simulation.\n",
    "\n",
    "We print a line of breadcrumbs to indicate progress.\n",
    "\n"
   ]
  },
  {
   "cell_type": "code",
   "execution_count": null,
   "metadata": {
    "collapsed": false
   },
   "outputs": [],
   "source": [
    "print(f\"Simulating {n_trials} times \", end=\"\", flush=True)\n",
    "with nest.RunManager():\n",
    "    for t in range(n_trials + 1):\n",
    "        pre_neuron.I_e = I_stim\n",
    "        nest.Run(T_on)\n",
    "\n",
    "        pre_neuron.I_e = 0.0\n",
    "        nest.Run(T_off)\n",
    "\n",
    "        if t % 10 == 0:\n",
    "            print(\".\", end=\"\", flush=True)\n",
    "print()"
   ]
  },
  {
   "cell_type": "markdown",
   "metadata": {},
   "source": [
    "Simulate one additional time step. This ensures that the\n",
    "voltage traces for all trials, including the last, have the full length, so we\n",
    "can easily transform them into a matrix below.\n",
    "\n"
   ]
  },
  {
   "cell_type": "code",
   "execution_count": null,
   "metadata": {
    "collapsed": false
   },
   "outputs": [],
   "source": [
    "nest.Simulate(nest.resolution)"
   ]
  },
  {
   "cell_type": "markdown",
   "metadata": {},
   "source": [
    "Extract voltage traces and reshape the matrix with one column per trial\n",
    "and one row per time step. NEST returns results as NumPy arrays.\n",
    "We extract times only once and keep only times for a single trial.\n",
    "\n"
   ]
  },
  {
   "cell_type": "code",
   "execution_count": null,
   "metadata": {
    "collapsed": false
   },
   "outputs": [],
   "source": [
    "vm_tsyn = tsyn_voltmeter.get(\"events\", \"V_m\")\n",
    "vm_qsyn = qsyn_voltmeter.get(\"events\", \"V_m\")\n",
    "\n",
    "steps_per_trial = round(T_cycle / tsyn_voltmeter.get(\"interval\"))\n",
    "vm_tsyn.shape = (n_trials, steps_per_trial)\n",
    "vm_qsyn.shape = (n_trials, steps_per_trial)\n",
    "\n",
    "t_vm = tsyn_voltmeter.get(\"events\", \"times\")\n",
    "t_trial = t_vm[:steps_per_trial]"
   ]
  },
  {
   "cell_type": "markdown",
   "metadata": {},
   "source": [
    "Now compute the mean of all trials and plot against trials and references.\n",
    "\n"
   ]
  },
  {
   "cell_type": "code",
   "execution_count": null,
   "metadata": {
    "collapsed": false
   },
   "outputs": [],
   "source": [
    "vm_tsyn_mean = vm_tsyn.mean(axis=0)\n",
    "vm_qsyn_mean = vm_qsyn.mean(axis=0)\n",
    "rms_error = ((vm_tsyn_mean - vm_qsyn_mean) ** 2).mean() ** 0.5\n",
    "\n",
    "plt.plot(t_trial, vm_tsyn_mean, lw=2, alpha=0.7,\n",
    "         label=\"Tsodyks-2 synapse (deterministic)\")\n",
    "plt.plot(t_trial, vm_qsyn_mean, lw=2, alpha=0.7,\n",
    "         label=\"Quantal STP synapse (stochastic)\")\n",
    "plt.xlabel(\"Time [ms]\")\n",
    "plt.ylabel(\"Membrane potential [mV]\")\n",
    "plt.title(\"Comparison of deterministic and stochastic plasicity rules\")\n",
    "plt.text(0.95, 0.05, f\"RMS error: {rms_error:.3g}\",\n",
    "         horizontalalignment=\"right\", verticalalignment=\"bottom\",\n",
    "         transform=plt.gca().transAxes)  # relative coordinates for text placement\n",
    "plt.legend()\n",
    "plt.show()"
   ]
  }
 ],
 "metadata": {
  "kernelspec": {
   "display_name": "EBRAINS-22.10",
   "language": "python",
   "name": "spack_python_kernel_release_202210"
  },
  "language_info": {
   "codemirror_mode": {
    "name": "ipython",
    "version": 3
   },
   "file_extension": ".py",
   "mimetype": "text/x-python",
   "name": "python",
   "nbconvert_exporter": "python",
   "pygments_lexer": "ipython3",
   "version": "3.9.6"
  }
 },
 "nbformat": 4,
 "nbformat_minor": 5
}
