{
 "cells": [
  {
   "cell_type": "code",
   "execution_count": null,
   "metadata": {
    "collapsed": false
   },
   "outputs": [],
   "source": [
    "%matplotlib inline"
   ]
  },
  {
   "cell_type": "markdown",
   "metadata": {},
   "source": [
    "\n",
    "# Balanced neuron example\n",
    "\n",
    "This script simulates a neuron driven by an excitatory and an\n",
    "inhibitory population of neurons firing Poisson spike trains. The aim\n",
    "is to find a firing rate for the inhibitory population that will make\n",
    "the neuron fire at the same rate as the excitatory population.\n",
    "\n",
    "Optimization is performed using the ``bisection`` method from Scipy,\n",
    "simulating the network repeatedly.\n",
    "\n",
    "This example is also shown in the article [1]_\n",
    "\n",
    "## References\n",
    "\n",
    ".. [1] Eppler JM, Helias M, Mulller E, Diesmann M, Gewaltig MO (2009). PyNEST: A convenient interface to the NEST\n",
    "       simulator, Front. Neuroinform.\n",
    "       http://dx.doi.org/10.3389/neuro.11.012.2008\n"
   ]
  },
  {
   "cell_type": "markdown",
   "metadata": {},
   "source": [
    "First, we import all necessary modules for simulation, analysis and\n",
    "plotting. Scipy should be imported before nest.\n",
    "\n"
   ]
  },
  {
   "cell_type": "code",
   "execution_count": null,
   "metadata": {
    "collapsed": false
   },
   "outputs": [],
   "source": [
    "from scipy.optimize import bisect\n",
    "\n",
    "import nest\n",
    "import nest.voltage_trace\n",
    "import matplotlib.pyplot as plt"
   ]
  },
  {
   "cell_type": "markdown",
   "metadata": {},
   "source": [
    "Additionally, we set the verbosity using ``set_verbosity`` to\n",
    "suppress info messages.\n",
    "\n"
   ]
  },
  {
   "cell_type": "code",
   "execution_count": null,
   "metadata": {
    "collapsed": false
   },
   "outputs": [],
   "source": [
    "nest.set_verbosity(\"M_WARNING\")\n",
    "nest.ResetKernel()"
   ]
  },
  {
   "cell_type": "markdown",
   "metadata": {},
   "source": [
    "Second, the simulation parameters are assigned to variables.\n",
    "\n"
   ]
  },
  {
   "cell_type": "code",
   "execution_count": null,
   "metadata": {
    "collapsed": false
   },
   "outputs": [],
   "source": [
    "t_sim = 25000.0  # how long we simulate\n",
    "n_ex = 16000     # size of the excitatory population\n",
    "n_in = 4000      # size of the inhibitory population\n",
    "r_ex = 5.0       # mean rate of the excitatory population\n",
    "r_in = 20.5      # initial rate of the inhibitory population\n",
    "epsc = 45.0      # peak amplitude of excitatory synaptic currents\n",
    "ipsc = -45.0     # peak amplitude of inhibitory synaptic currents\n",
    "d = 1.0          # synaptic delay\n",
    "lower = 15.0     # lower bound of the search interval\n",
    "upper = 25.0     # upper bound of the search interval\n",
    "prec = 0.01      # how close need the excitatory rates be"
   ]
  },
  {
   "cell_type": "markdown",
   "metadata": {},
   "source": [
    "Third, the nodes are created using ``Create``. We store the returned\n",
    "handles in variables for later reference.\n",
    "\n"
   ]
  },
  {
   "cell_type": "code",
   "execution_count": null,
   "metadata": {
    "collapsed": false
   },
   "outputs": [],
   "source": [
    "neuron = nest.Create(\"iaf_psc_alpha\")\n",
    "noise = nest.Create(\"poisson_generator\", 2)\n",
    "voltmeter = nest.Create(\"voltmeter\")\n",
    "spikerecorder = nest.Create(\"spike_recorder\")"
   ]
  },
  {
   "cell_type": "markdown",
   "metadata": {},
   "source": [
    "Fourth, the ``poisson_generator`` (`noise`) is configured.\n",
    "Note that we need not set parameters for the neuron, the spike recorder, and\n",
    "the voltmeter, since they have satisfactory defaults.\n",
    "\n"
   ]
  },
  {
   "cell_type": "code",
   "execution_count": null,
   "metadata": {
    "collapsed": false
   },
   "outputs": [],
   "source": [
    "noise.rate = [n_ex * r_ex, n_in * r_in]"
   ]
  },
  {
   "cell_type": "markdown",
   "metadata": {},
   "source": [
    "Fifth, the ``iaf_psc_alpha`` is connected to the ``spike_recorder`` and the\n",
    "``voltmeter``, as are the two Poisson generators to the neuron. The command\n",
    "``Connect`` has different variants. Plain `Connect` just takes the handles of\n",
    "pre- and postsynaptic nodes and uses the default values for weight and\n",
    "delay. It can also be called with a list of weights, as in the connection\n",
    "of the noise below.\n",
    "Note that the connection direction for the ``voltmeter`` is reversed compared\n",
    "to the ``spike_recorder``, because it observes the neuron instead of\n",
    "receiving events from it. Thus, ``Connect`` reflects the direction of signal\n",
    "flow in the simulation kernel rather than the physical process of inserting\n",
    "an electrode into the neuron. The latter semantics is presently not\n",
    "available in NEST.\n",
    "\n"
   ]
  },
  {
   "cell_type": "code",
   "execution_count": null,
   "metadata": {
    "collapsed": false
   },
   "outputs": [],
   "source": [
    "nest.Connect(neuron, spikerecorder)\n",
    "nest.Connect(voltmeter, neuron)\n",
    "nest.Connect(noise, neuron, syn_spec={'weight': [[epsc, ipsc]], 'delay': 1.0})"
   ]
  },
  {
   "cell_type": "markdown",
   "metadata": {},
   "source": [
    "To determine the optimal rate of the neurons in the inhibitory population,\n",
    "the network is simulated several times for different values of the\n",
    "inhibitory rate while measuring the rate of the target neuron. This is done\n",
    "by calling ``Simulate`` until the rate of the target neuron matches the rate\n",
    "of the neurons in the excitatory population with a certain accuracy. The\n",
    "algorithm is implemented in two steps:\n",
    "\n",
    "First, the function ``output_rate`` is defined to measure the firing rate\n",
    "of the target neuron for a given rate of the inhibitory neurons.\n",
    "\n"
   ]
  },
  {
   "cell_type": "code",
   "execution_count": null,
   "metadata": {
    "collapsed": false
   },
   "outputs": [],
   "source": [
    "def output_rate(guess):\n",
    "    print(\"Inhibitory rate estimate: %5.2f Hz\" % guess)\n",
    "    rate = float(abs(n_in * guess))\n",
    "    noise[1].rate = rate\n",
    "    spikerecorder.n_events = 0\n",
    "    nest.Simulate(t_sim)\n",
    "    out = spikerecorder.n_events * 1000.0 / t_sim\n",
    "    print(\"  -> Neuron rate: %6.2f Hz (goal: %4.2f Hz)\" % (out, r_ex))\n",
    "    return out"
   ]
  },
  {
   "cell_type": "markdown",
   "metadata": {},
   "source": [
    "The function takes the firing rate of the inhibitory neurons as an\n",
    "argument. It scales the rate with the size of the inhibitory population and\n",
    "configures the inhibitory Poisson generator (`noise[1]`) accordingly.\n",
    "Then, the spike counter of the ``spike_recorder`` is reset to zero. The\n",
    "network is simulated using ``Simulate``, which takes the desired simulation\n",
    "time in milliseconds and advances the network state by this amount of time.\n",
    "During simulation, the ``spike_recorder`` counts the spikes of the target\n",
    "neuron and the total number is read out at the end of the simulation\n",
    "period. The return value of ``output_rate()`` is the firing rate of the\n",
    "target neuron in Hz.\n",
    "\n",
    "Second, the scipy function ``bisect`` is used to determine the optimal\n",
    "firing rate of the neurons of the inhibitory population.\n",
    "\n"
   ]
  },
  {
   "cell_type": "code",
   "execution_count": null,
   "metadata": {
    "collapsed": false
   },
   "outputs": [],
   "source": [
    "in_rate = bisect(lambda x: output_rate(x) - r_ex, lower, upper, xtol=prec)\n",
    "print(\"Optimal rate for the inhibitory population: %.2f Hz\" % in_rate)"
   ]
  },
  {
   "cell_type": "markdown",
   "metadata": {},
   "source": [
    "The function ``bisect`` takes four arguments: first a function whose\n",
    "zero crossing is to be determined. Here, the firing rate of the target\n",
    "neuron should equal the firing rate of the neurons of the excitatory\n",
    "population. Thus we define an anonymous function (using `lambda`) that\n",
    "returns the difference between the actual rate of the target neuron and the\n",
    "rate of the excitatory Poisson generator, given a rate for the inhibitory\n",
    "neurons. The next two arguments are the lower and upper bound of the\n",
    "interval in which to search for the zero crossing. The fourth argument of\n",
    "``bisect`` is the desired relative precision of the zero crossing.\n",
    "\n",
    "Finally, we plot the target neuron's membrane potential as a function of\n",
    "time.\n",
    "\n"
   ]
  },
  {
   "cell_type": "code",
   "execution_count": null,
   "metadata": {
    "collapsed": false
   },
   "outputs": [],
   "source": [
    "nest.voltage_trace.from_device(voltmeter)\n",
    "plt.show()"
   ]
  }
 ],
 "metadata": {
  "kernelspec": {
   "display_name": "EBRAINS-22.10",
   "language": "python",
   "name": "spack_python_kernel_release_202210"
  },
  "language_info": {
   "codemirror_mode": {
    "name": "ipython",
    "version": 3
   },
   "file_extension": ".py",
   "mimetype": "text/x-python",
   "name": "python",
   "nbconvert_exporter": "python",
   "pygments_lexer": "ipython3",
   "version": "3.9.6"
  }
 },
 "nbformat": 4,
 "nbformat_minor": 5
}
