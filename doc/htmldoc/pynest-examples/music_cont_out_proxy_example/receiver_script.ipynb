{
 "cells": [
  {
   "cell_type": "code",
   "execution_count": null,
   "metadata": {
    "collapsed": false
   },
   "outputs": [],
   "source": [
    "%matplotlib inline"
   ]
  },
  {
   "cell_type": "markdown",
   "metadata": {},
   "source": [
    "\n",
    "# Music example receiver script\n"
   ]
  },
  {
   "cell_type": "code",
   "execution_count": null,
   "metadata": {
    "collapsed": false
   },
   "outputs": [],
   "source": [
    "import sys\n",
    "import music\n",
    "import numpy\n",
    "from itertools import takewhile, dropwhile\n",
    "\n",
    "setup = music.Setup()\n",
    "stoptime = setup.config(\"stoptime\")\n",
    "timestep = setup.config(\"timestep\")\n",
    "\n",
    "comm = setup.comm\n",
    "rank = comm.Get_rank()\n",
    "\n",
    "pin = setup.publishContInput(\"in\")\n",
    "data = numpy.array([0.0, 0.0], dtype=numpy.double)\n",
    "pin.map(data, interpolate=False)\n",
    "\n",
    "runtime = setup.runtime(timestep)\n",
    "mintime = timestep\n",
    "maxtime = stoptime+timestep\n",
    "start = dropwhile(lambda t: t < mintime, runtime)\n",
    "times = takewhile(lambda t: t < maxtime, start)\n",
    "for time in times:\n",
    "    val = data\n",
    "    sys.stdout.write(f\"t={time}\\treceiver {rank}: received {val}\\n\")"
   ]
  },
  {
   "cell_type": "markdown",
   "metadata": {},
   "source": [
    "[![EBRAINS Notebook](https://nest-simulator.org/TryItOnEBRAINS.png)](https://lab.ebrains.eu/hub/user-redirect/git-pull?repo=https%3A%2F%2Fgithub.com%2Fjessica-mitchell%2Fnest-simulator&urlpath=lab%2Ftree%2Fnest-simulator%2Fdoc%2Fhtmldoc%2Fpynest-examples%2Fmusic_cont_out_proxy_example%2Freceiver_script.ipynb&branch=ebrains-button)\n"
   ]
  }
 ],
 "metadata": {
  "kernelspec": {
   "display_name": "EBRAINS-22.10",
   "language": "python",
   "name": "spack_python_kernel_release_202210"
  },
  "language_info": {
   "codemirror_mode": {
    "name": "ipython",
    "version": 3
   },
   "file_extension": ".py",
   "mimetype": "text/x-python",
   "name": "python",
   "nbconvert_exporter": "python",
   "pygments_lexer": "ipython3",
   "version": "3.9.13"
  }
 },
 "nbformat": 4,
 "nbformat_minor": 5
}
