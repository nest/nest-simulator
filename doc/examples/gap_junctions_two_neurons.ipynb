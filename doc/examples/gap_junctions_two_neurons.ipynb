{
 "cells": [
   {
  "cell_type": "markdown",
  "metadata": {},
  "source": [
    "\n\n"
  ]
},{
 "cell_type": "code",
 "execution_count": null,
 "metadata": {
  "collapsed": false
 },
 "outputs": [],
 "source": [
   "    \n    \n"
 ]
},{
  "cell_type": "markdown",
  "metadata": {},
  "source": [
    "Gap Junctions: Two neuron example\n------------------\nThis script simulates two Hodgkin-Huxley neurons of type `hh_psc_alpha_gap`\nconnected by a gap junction. Both neurons receive a constant current of\n100.0 pA. The neurons are initialized with different membrane potentials and\nsynchronize over time due to the gap-junction connection.\n\n"
  ]
},{
 "cell_type": "code",
 "execution_count": null,
 "metadata": {
  "collapsed": false
 },
 "outputs": [],
 "source": [
   "    \n    import nest\n    import pylab as pl\n    import numpy\n    \n    nest.ResetKernel()\n    \n"
 ]
},{
  "cell_type": "markdown",
  "metadata": {},
  "source": [
    "First we set the resolution of the simulation, create two neurons and\ncreate a `voltmeter` for recording.\n\n"
  ]
},{
 "cell_type": "code",
 "execution_count": null,
 "metadata": {
  "collapsed": false
 },
 "outputs": [],
 "source": [
   "    nest.SetKernelStatus({'resolution': 0.05})\n    \n    neuron = nest.Create('hh_psc_alpha_gap', 2)\n    \n    vm = nest.Create('voltmeter', params={'to_file': False,\n                                          'withgid': True,\n                                          'withtime': True,\n                                          'interval': 0.1})\n    \n"
 ]
},{
  "cell_type": "markdown",
  "metadata": {},
  "source": [
    "Then we set the constant current input, modify the inital membrane\npotential of one of the neurons and connect the neurons to the `voltmeter`.\n\n"
  ]
},{
 "cell_type": "code",
 "execution_count": null,
 "metadata": {
  "collapsed": false
 },
 "outputs": [],
 "source": [
   "    nest.SetStatus(neuron, {'I_e': 100.})\n    nest.SetStatus([neuron[0]], {'V_m': -10.})\n    \n    nest.Connect(vm, neuron, 'all_to_all')\n    \n"
 ]
},{
  "cell_type": "markdown",
  "metadata": {},
  "source": [
    "In order to create the `gap_junction` connection we employ the `all_to_all`\nconnection rule: Gap junctions are bidirectional connections, therefore we\nneed to connect `neuron[0]` to `neuron[1]` and `neuron[1]` to `neuron[0]`:\n\n"
  ]
},{
 "cell_type": "code",
 "execution_count": null,
 "metadata": {
  "collapsed": false
 },
 "outputs": [],
 "source": [
   "    nest.Connect(neuron, neuron,\n                 {'rule': 'all_to_all', 'autapses': False},\n                 {'model': 'gap_junction', 'weight': 0.5})\n    \n"
 ]
},{
  "cell_type": "markdown",
  "metadata": {},
  "source": [
    "Finally we start the simulation and plot the membrane potentials of\nboth neurons.\n\n"
  ]
},{
 "cell_type": "code",
 "execution_count": null,
 "metadata": {
  "collapsed": false
 },
 "outputs": [],
 "source": [
   "    nest.Simulate(351.)\n    \n    senders = nest.GetStatus(vm, 'events')[0]['senders']\n    times = nest.GetStatus(vm, 'events')[0]['times']\n    V = nest.GetStatus(vm, 'events')[0]['V_m']\n    \n    pl.figure(1)\n    pl.plot(times[numpy.where(senders == 1)],\n            V[numpy.where(senders == 1)], 'r-')\n    pl.plot(times[numpy.where(senders == 2)],\n            V[numpy.where(senders == 2)], 'g-')\n    pl.xlabel('time (ms)')\n    pl.ylabel('membrane potential (mV)')\n    pl.show()\n    \n    \n"
 ]
},{
  "cell_type": "markdown",
  "metadata": {},
  "source": [
    "\n\n"
  ]
},{
 "cell_type": "code",
 "execution_count": null,
 "metadata": {
  "collapsed": false
 },
 "outputs": [],
 "source": [
   "\n"
 ]
}
],
 "metadata": {
  "kernelspec": {
   "display_name": "Python 2",
   "language": "python",
   "name": "python2"
  },
  "language_info": {
   "codemirror_mode": {
    "name": "ipython",
    "version": 2
   },
   "file_extension": ".py",
   "mimetype": "text/x-python",
   "name": "python",
   "nbconvert_exporter": "python",
   "pygments_lexer": "ipython2",
   "version": "2.7.3"
  }
 },
 "nbformat": 4,
 "nbformat_minor": 0
}