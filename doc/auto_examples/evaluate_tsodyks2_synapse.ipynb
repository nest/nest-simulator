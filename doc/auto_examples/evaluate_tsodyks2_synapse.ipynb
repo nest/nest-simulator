{
  "cells": [
    {
      "cell_type": "code",
      "execution_count": null,
      "metadata": {
        "collapsed": false
      },
      "outputs": [],
      "source": [
        "%matplotlib inline"
      ]
    },
    {
      "cell_type": "markdown",
      "metadata": {},
      "source": [
        "\nExample of the tsodyks2_synapse in NEST\n---------------------------------------\nThis synapse model implements synaptic short-term depression and short-term f\naccording to [1] and [2]. It solves Eq (2) from [1] and modulates U according\n\nThis connection merely scales the synaptic weight, based on the spike history\nparameters of the kinetic model. Thus, it is suitable for all types of synapt\nthat is current or conductance based.\n\nThe parameter A_se from the publications is represented by the\nsynaptic weight. The variable x in the synapse properties is the\nfactor that scales the synaptic weight.\n\nParameters:\nThe following parameters can be set in the status dictionary:\nU          double - probability of release increment (U1) [0,1], default=0.\nu          double - Maximum probability of release (U_se) [0,1], default=0.\nx          double - current scaling factor of the weight, default=U\ntau_rec    double - time constant for depression in ms, default=800 ms\ntau_fac    double - time constant for facilitation in ms, default=0 (off)\n\nNotes:\n\nUnder identical conditions, the tsodyks2_synapse produces\nslightly lower peak amplitudes than the tsodyks_synapse. However,\nthe qualitative behavior is identical.\n\nThis compares the two synapse models.\n\n\nReferences:\n[1] Tsodyks, M. V., & Markram, H. (1997). The neural code between neocortical\ndepends on neurotransmitter release probability. PNAS, 94(2), 719-23.\n[2] Fuhrmann, G., Segev, I., Markram, H., & Tsodyks, M. V. (2002). Coding of\ninformation by activity-dependent synapses. Journal of neurophysiology, 8\n[3] Maass, W., & Markram, H. (2002). Synapses as dynamic memory buffers. Neur\n\n"
      ]
    },
    {
      "cell_type": "code",
      "execution_count": null,
      "metadata": {
        "collapsed": false
      },
      "outputs": [],
      "source": [
        "import nest\nimport nest.voltage_trace\n\nnest.ResetKernel()\n\n'''\nParameter set for depression\n'''\ndep_params = {\"U\": 0.67, \"u\": 0.67, 'x': 1.0, \"tau_rec\": 450.0,\n              \"tau_fac\": 0.0, \"weight\": 250.}\n\n'''\nParameter set for facilitation\n'''\nfac_params = {\"U\": 0.1, \"u\": 0.1, 'x': 1.0, \"tau_fac\": 1000.,\n              \"tau_rec\": 100., \"weight\": 250.}\n\n'''\nNow we assign the parameter set to the synapse models.\n'''\nt1_params = fac_params       # for tsodyks_synapse\nt2_params = t1_params.copy()  # for tsodyks2_synapse\n\nnest.SetDefaults(\"tsodyks2_synapse\", t1_params)\nnest.SetDefaults(\"tsodyks_synapse\", t2_params)\nnest.SetDefaults(\"iaf_psc_exp\", {\"tau_syn_ex\": 3.})\n\n'''\nCreate three neurons.\n'''\nneuron = nest.Create(\"iaf_psc_exp\", 3)\n\n'''\nNeuron one produces spikes. Neurons 2 and 3 receive the spikes via\nthe two synapse models.\n'''\n\nnest.Connect([neuron[0]], [neuron[1]], syn_spec=\"tsodyks_synapse\")\nnest.Connect([neuron[0]], [neuron[2]], syn_spec=\"tsodyks2_synapse\")\n\n'''\nNow create two voltmeters to record the responses.\n'''\nvoltmeter = nest.Create(\"voltmeter\", 2)\nnest.SetStatus(voltmeter, {\"withgid\": True, \"withtime\": True})\n\n'''\nConnect the voltmeters to the neurons.\n'''\nnest.Connect([voltmeter[0]], [neuron[1]])\nnest.Connect([voltmeter[1]], [neuron[2]])\n\n'''\nNow simulate the standard STP protocol: a burst of spikes,\nfollowed by a pause and a recovery response.\n'''\nnest.SetStatus([neuron[0]], \"I_e\", 376.0)\nnest.Simulate(500.0)\nnest.SetStatus([neuron[0]], \"I_e\", 0.0)\nnest.Simulate(500.0)\nnest.SetStatus([neuron[0]], \"I_e\", 376.0)\nnest.Simulate(500.0)\n\n'''\nFinally, generate voltage traces. Both are shown in the same plot\nand should be almost completely overlapping.\n'''\nnest.voltage_trace.from_device([voltmeter[0]])\nnest.voltage_trace.from_device([voltmeter[1]])"
      ]
    }
  ],
  "metadata": {
    "kernelspec": {
      "display_name": "Python 3",
      "language": "python",
      "name": "python3"
    },
    "language_info": {
      "codemirror_mode": {
        "name": "ipython",
        "version": 3
      },
      "file_extension": ".py",
      "mimetype": "text/x-python",
      "name": "python",
      "nbconvert_exporter": "python",
      "pygments_lexer": "ipython3",
      "version": "3.6.1"
    }
  },
  "nbformat": 4,
  "nbformat_minor": 0
}