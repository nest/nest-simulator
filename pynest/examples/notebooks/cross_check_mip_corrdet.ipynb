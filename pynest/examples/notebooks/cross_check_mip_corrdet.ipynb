{
 "cells": [
  {
   "cell_type": "code",
   "execution_count": null,
   "metadata": {
    "collapsed": false
   },
   "outputs": [],
   "source": [
    "%matplotlib inline"
   ]
  },
  {
   "cell_type": "markdown",
   "metadata": {},
   "source": [
    "\n",
    "# Auto- and crosscorrelation functions for spike trains\n",
    "\n",
    "A time bin of size `tbin` is centered around the time difference it\n",
    "represents. If the correlation function is calculated for `tau` in\n",
    "`[-tau_max, tau_max]`, the pair events contributing to the left-most\n",
    "bin are those for which `tau` in `[-tau_max-tbin/2, tau_max+tbin/2)` and\n",
    "so on.\n",
    "\n",
    "Correlate two spike trains with each other assumes spike times to be ordered in\n",
    "time. `tau > 0` means spike2 is later than spike1\n",
    "\n",
    "* tau_max: maximum time lag in ms correlation function\n",
    "* tbin:    bin size\n",
    "* spike1:  first spike train [tspike...]\n",
    "* spike2:  second spike train [tspike...]\n"
   ]
  },
  {
   "cell_type": "code",
   "execution_count": null,
   "metadata": {
    "collapsed": false
   },
   "outputs": [],
   "source": [
    "import nest\n",
    "import numpy as np\n",
    "\n",
    "\n",
    "def corr_spikes_sorted(spike1, spike2, tbin, tau_max, resolution):\n",
    "    tau_max_i = int(tau_max / resolution)\n",
    "    tbin_i = int(tbin / resolution)\n",
    "\n",
    "    cross = np.zeros(int(2 * tau_max_i / tbin_i + 1), 'd')\n",
    "\n",
    "    j0 = 0\n",
    "\n",
    "    for spki in spike1:\n",
    "        j = j0\n",
    "        while j < len(spike2) and spike2[j] - spki < -tau_max_i - tbin_i / 2.0:\n",
    "            j += 1\n",
    "        j0 = j\n",
    "\n",
    "        while j < len(spike2) and spike2[j] - spki < tau_max_i + tbin_i / 2.0:\n",
    "            cross[int(\n",
    "                (spike2[j] - spki + tau_max_i + 0.5 * tbin_i) / tbin_i)] += 1.0\n",
    "            j += 1\n",
    "\n",
    "    return cross\n",
    "\n",
    "\n",
    "nest.ResetKernel()\n",
    "\n",
    "resolution = 0.1    # Computation step size in ms\n",
    "T = 100000.0        # Total duration\n",
    "delta_tau = 10.0\n",
    "tau_max = 100.0     # ms correlation window\n",
    "t_bin = 10.0        # ms bin size\n",
    "pc = 0.5\n",
    "nu = 100.0\n",
    "\n",
    "nest.local_num_threads = 1\n",
    "nest.resolution = resolution\n",
    "nest.overwrite_files = True\n",
    "nest.rng_seed = 12345\n",
    "\n",
    "# Set up network, connect and simulate\n",
    "mg = nest.Create('mip_generator')\n",
    "mg.set(rate=nu, p_copy=pc)\n",
    "\n",
    "cd = nest.Create('correlation_detector')\n",
    "cd.set(tau_max=tau_max, delta_tau=delta_tau)\n",
    "\n",
    "sr = nest.Create('spike_recorder', params={'time_in_steps': True})\n",
    "\n",
    "pn1 = nest.Create('parrot_neuron')\n",
    "pn2 = nest.Create('parrot_neuron')\n",
    "\n",
    "nest.Connect(mg, pn1)\n",
    "nest.Connect(mg, pn2)\n",
    "nest.Connect(pn1, sr)\n",
    "nest.Connect(pn2, sr)\n",
    "\n",
    "nest.Connect(pn1, cd, syn_spec={'weight': 1.0, 'receptor_type': 0})\n",
    "nest.Connect(pn2, cd, syn_spec={'weight': 1.0, 'receptor_type': 1})\n",
    "\n",
    "nest.Simulate(T)\n",
    "\n",
    "n_events_1, n_events_2 = cd.n_events\n",
    "\n",
    "lmbd1 = (n_events_1 / (T - tau_max)) * 1000.0\n",
    "lmbd2 = (n_events_2 / (T - tau_max)) * 1000.0\n",
    "\n",
    "spikes = sr.get('events', 'senders')\n",
    "\n",
    "sp1 = spikes[spikes == 4]\n",
    "sp2 = spikes[spikes == 5]\n",
    "\n",
    "# Find crosscorrelation\n",
    "cross = corr_spikes_sorted(sp1, sp2, t_bin, tau_max, resolution)\n",
    "\n",
    "print(\"Crosscorrelation:\")\n",
    "print(cross)\n",
    "print(\"Sum of crosscorrelation:\")\n",
    "print(sum(cross))"
   ]
  },
  {
   "cell_type": "markdown",
   "metadata": {},
   "source": [
    "[![EBRAINS Notebook](https://nest-simulator.org/TryItOnEBRAINS.png)](https://lab.ebrains.eu/hub/user-redirect/git-pull?repo=https%3A%2F%2Fgithub.com%2Fjessica-mitchell%2Fnest-simulator&urlpath=lab%2Ftree%2Fnest-simulator%2Fpynest%2Fexamples%2Fnotebooks%2Fnotebooks%2Fcross_check_mip_corrdet.ipynb&branch=ebrains-button)\n"
   ]
  }
 ],
 "metadata": {
  "kernelspec": {
   "display_name": "EBRAINS-22.10",
   "language": "python",
   "name": "spack_python_kernel_release_202210"
  },
  "language_info": {
   "codemirror_mode": {
    "name": "ipython",
    "version": 3
   },
   "file_extension": ".py",
   "mimetype": "text/x-python",
   "name": "python",
   "nbconvert_exporter": "python",
   "pygments_lexer": "ipython3",
   "version": "3.9.6"
  }
 },
 "nbformat": 4,
 "nbformat_minor": 5
}
