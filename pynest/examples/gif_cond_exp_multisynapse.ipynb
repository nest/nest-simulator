{
  "cells": [
    {
      "cell_type": "code",
      "execution_count": null,
      "metadata": {
        "collapsed": false
      },
      "outputs": [],
      "source": [
        "%matplotlib inline"
      ]
    },
    {
      "cell_type": "markdown",
      "metadata": {},
      "source": [
        "\n# Example network using generalized IAF neuron with postsynaptic conductances\n"
      ]
    },
    {
      "cell_type": "code",
      "execution_count": null,
      "metadata": {
        "collapsed": false
      },
      "outputs": [],
      "source": [
        "import nest\nimport numpy as np\n\nneuron = nest.Create('gif_cond_exp_multisynapse',\n                     params={'E_rev': [0.0, -85.0],\n                             'tau_syn': [4.0, 8.0]})\n\nspike = nest.Create('spike_generator', params={'spike_times':\n                                               np.array([10.0])})\n\ndelays = [1., 30.]\nw = [1., 5.]\nfor syn in range(2):\n    nest.Connect(spike, neuron, syn_spec={'synapse_model': 'static_synapse',\n                                          'receptor_type': 1 + syn,\n                                          'weight': w[syn],\n                                          'delay': delays[syn]})\nnest.Simulate(100.)"
      ]
    }
  ],
  "metadata": {
    "kernelspec": {
      "display_name": "Python 3",
      "language": "python",
      "name": "python3"
    },
    "language_info": {
      "codemirror_mode": {
        "name": "ipython",
        "version": 3
      },
      "file_extension": ".py",
      "mimetype": "text/x-python",
      "name": "python",
      "nbconvert_exporter": "python",
      "pygments_lexer": "ipython3",
      "version": "3.9.6"
    }
  },
  "nbformat": 4,
  "nbformat_minor": 0
}