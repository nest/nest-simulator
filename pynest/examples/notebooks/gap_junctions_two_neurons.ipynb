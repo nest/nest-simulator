{
 "cells": [
  {
   "cell_type": "code",
   "execution_count": null,
   "metadata": {
    "collapsed": false
   },
   "outputs": [],
   "source": [
    "%matplotlib inline"
   ]
  },
  {
   "cell_type": "markdown",
   "metadata": {},
   "source": [
    "\n",
    "# Gap Junctions: Two neuron example\n",
    "\n",
    "This script simulates two Hodgkin-Huxley neurons of type ``hh_psc_alpha_gap``\n",
    "connected by a gap junction. Both neurons receive a constant current of\n",
    "100.0 pA. The neurons are initialized with different membrane potentials and\n",
    "synchronize over time due to the gap-junction connection.\n"
   ]
  },
  {
   "cell_type": "code",
   "execution_count": null,
   "metadata": {
    "collapsed": false
   },
   "outputs": [],
   "source": [
    "import nest\n",
    "import matplotlib.pyplot as plt\n",
    "import numpy\n",
    "\n",
    "nest.ResetKernel()"
   ]
  },
  {
   "cell_type": "markdown",
   "metadata": {},
   "source": [
    "First we set the resolution of the simulation, create two neurons and\n",
    "create a ``voltmeter`` for recording.\n",
    "\n"
   ]
  },
  {
   "cell_type": "code",
   "execution_count": null,
   "metadata": {
    "collapsed": false
   },
   "outputs": [],
   "source": [
    "nest.resolution = 0.05\n",
    "\n",
    "neuron = nest.Create('hh_psc_alpha_gap', 2)\n",
    "\n",
    "vm = nest.Create('voltmeter', params={'interval': 0.1})"
   ]
  },
  {
   "cell_type": "markdown",
   "metadata": {},
   "source": [
    "Then we set the constant current input, modify the inital membrane\n",
    "potential of one of the neurons and connect the neurons to the ``voltmeter``.\n",
    "\n"
   ]
  },
  {
   "cell_type": "code",
   "execution_count": null,
   "metadata": {
    "collapsed": false
   },
   "outputs": [],
   "source": [
    "neuron.I_e = 100.\n",
    "neuron[0].V_m = -10.\n",
    "\n",
    "nest.Connect(vm, neuron, 'all_to_all')"
   ]
  },
  {
   "cell_type": "markdown",
   "metadata": {},
   "source": [
    "In order to create the ``gap_junction`` connection we employ the\n",
    "``all_to_all`` connection rule: Gap junctions are bidirectional connections,\n",
    "therefore we need to connect `neuron[0]` to `neuron[1]` and `neuron[1]` to\n",
    "`neuron[0]`:\n",
    "\n"
   ]
  },
  {
   "cell_type": "code",
   "execution_count": null,
   "metadata": {
    "collapsed": false
   },
   "outputs": [],
   "source": [
    "nest.Connect(neuron, neuron,\n",
    "             {'rule': 'all_to_all', 'allow_autapses': False},\n",
    "             {'synapse_model': 'gap_junction', 'weight': 0.5})"
   ]
  },
  {
   "cell_type": "markdown",
   "metadata": {},
   "source": [
    "Finally we start the simulation and plot the membrane potentials of both\n",
    "neurons.\n",
    "\n"
   ]
  },
  {
   "cell_type": "code",
   "execution_count": null,
   "metadata": {
    "collapsed": false
   },
   "outputs": [],
   "source": [
    "nest.Simulate(351.)\n",
    "\n",
    "senders = vm.events['senders']\n",
    "times = vm.events['times']\n",
    "v_m_values = vm.events['V_m']\n",
    "\n",
    "plt.figure(1)\n",
    "plt.plot(times[numpy.where(senders == 1)], v_m_values[numpy.where(senders == 1)], 'r-')\n",
    "plt.plot(times[numpy.where(senders == 2)], v_m_values[numpy.where(senders == 2)], 'g-')\n",
    "plt.xlabel('time (ms)')\n",
    "plt.ylabel('membrane potential (mV)')\n",
    "plt.show()"
   ]
  },
  {
   "cell_type": "markdown",
   "metadata": {},
   "source": [
    "[![EBRAINS Notebook](https://nest-simulator.org/TryItOnEBRAINS.png)](https://lab.ebrains.eu/hub/user-redirect/git-pull?repo=https%3A%2F%2Fgithub.com%2Fjessica-mitchell%2Fnest-simulator&urlpath=lab%2Ftree%2Fnest-simulator%2Fpynest%2Fexamples%2Fnotebooks%2Fnotebooks%2Fgap_junctions_two_neurons.ipynb&branch=ebrains-button)\n"
   ]
  }
 ],
 "metadata": {
  "kernelspec": {
   "display_name": "EBRAINS-22.10",
   "language": "python",
   "name": "spack_python_kernel_release_202210"
  },
  "language_info": {
   "codemirror_mode": {
    "name": "ipython",
    "version": 3
   },
   "file_extension": ".py",
   "mimetype": "text/x-python",
   "name": "python",
   "nbconvert_exporter": "python",
   "pygments_lexer": "ipython3",
   "version": "3.9.6"
  }
 },
 "nbformat": 4,
 "nbformat_minor": 5
}
