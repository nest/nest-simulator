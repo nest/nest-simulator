{
 "cells": [
  {
   "cell_type": "markdown",
   "metadata": {},
   "source": [
    "# Connection semantics prototype\n",
    "\n",
    "## Motivation and concepts\n",
    "Typically one would create connections in NEST by calling `Connect()` on two NodeCollections. However, every time `Connect()` is called, it has to go from PyNEST, through SLI and into the C++ kernel, iterate over connections, before it returns to PyNEST. One may also use multiple threads in the iteration over connections, where initiating and ending a parallel region causes an additional overhead. Therefore, if a simulation involves many `Connect()` calls, this entails a significant overhead in the connection stage.\n",
    "\n",
    "To reduce the overhead of repeated calls to `Connect()`, we introduce projections. With projections, instead of immediately creating the connections, the connection specifications are stored until the user specifies that the connections should be made, typically after specifying all projections. That way we can have only a single push from PyNEST through SLI to the C++ kernel, and reduce the number of times we enter the parallel region.\n",
    "\n",
    "## How it works\n",
    "The projections are introduced as objects based on existing connection rules, such as `OneToOne` from the `one_to_one` rule, or `FixedIndegree` from the `fixed_indegree` rule. The projection object is then added to a connection buffer on the PyNEST level, using `Connect()`. When all projections have been defined and added to the buffer, the user can call `BuildNetwork()`, which sends all projections in a single package to the C++ level. Once on the C++ level, the projections that have the same connection rule can be combined automatically, reducing the number of times we enter the parallel region when connecting.\n",
    "\n",
    "## What is currently implemented\n",
    "\n",
    "- A PyNEST interface with several projection classes, implemented in the top level of `nest`.\n",
    "- `nest.Connect()` now only works with projection objects.\n",
    "- Projections work with both normal connections, and spatially structured connections involving for example distance based probabilities or masks.\n",
    "- Classes for all synapse models, in the submodule `nest.synapsemodels`. The synapse object created can be used as the synapse specification when creating projections.\n",
    "- Synapse objects can be combined with `CollocatedSynapses`, and used instead of a single synapse model object when creating a projection.\n",
    "- Basic C++ implementation for connection, without any processing of the projections before connecting.\n",
    "\n",
    "## Remaining work and next steps\n",
    "\n",
    "- Documentation\n",
    "- Smarter C++ implementation"
   ]
  },
  {
   "cell_type": "code",
   "execution_count": 1,
   "metadata": {},
   "outputs": [],
   "source": [
    "import nest"
   ]
  },
  {
   "cell_type": "markdown",
   "metadata": {},
   "source": [
    "## Projection object\n",
    "\n",
    "Introducing the Projection object, representing projection between two populations with a certain rule. The projection object is added to a buffer with `Connect()`, and held until calling `BuildNetwork()`.\n",
    "\n",
    "### `OneToOne`"
   ]
  },
  {
   "cell_type": "code",
   "execution_count": 2,
   "metadata": {},
   "outputs": [
    {
     "name": "stdout",
     "output_type": "stream",
     "text": [
      "Connecting 1 projections...\n",
      " source   target   synapse model   weight   delay \n",
      "-------- -------- --------------- -------- -------\n",
      "      1        1  static_synapse    1.000   1.000\n",
      "      2        2  static_synapse    1.000   1.000\n",
      "      3        3  static_synapse    1.000   1.000\n",
      "      4        4  static_synapse    1.000   1.000\n",
      "      5        5  static_synapse    1.000   1.000\n"
     ]
    }
   ],
   "source": [
    "nest.ResetKernel()\n",
    "n = nest.Create('iaf_psc_alpha', 5)\n",
    "\n",
    "projection = nest.OneToOne(source=n, target=n)\n",
    "nest.Connect(projection)\n",
    "nest.BuildNetwork()\n",
    "\n",
    "conns = nest.GetConnections()\n",
    "print(conns)"
   ]
  },
  {
   "cell_type": "markdown",
   "metadata": {},
   "source": [
    "### `FixedIndegree`\n",
    "Different Projections can take different arguments, depending on the connection rule."
   ]
  },
  {
   "cell_type": "code",
   "execution_count": 3,
   "metadata": {},
   "outputs": [
    {
     "name": "stdout",
     "output_type": "stream",
     "text": [
      "Connecting 1 projections...\n",
      " source   target   synapse model   weight   delay \n",
      "-------- -------- --------------- -------- -------\n",
      "      1        2  static_synapse    1.000   1.000\n",
      "      1        2  static_synapse    1.000   1.000\n",
      "      1        5  static_synapse    1.000   1.000\n",
      "      1        3  static_synapse    1.000   1.000\n",
      "      1        5  static_synapse    1.000   1.000\n",
      "      2        5  static_synapse    1.000   1.000\n",
      "      2        4  static_synapse    1.000   1.000\n",
      "      3        1  static_synapse    1.000   1.000\n",
      "      3        1  static_synapse    1.000   1.000\n",
      "      3        2  static_synapse    1.000   1.000\n",
      "      3        3  static_synapse    1.000   1.000\n",
      "      3        3  static_synapse    1.000   1.000\n",
      "      3        4  static_synapse    1.000   1.000\n",
      "      4        5  static_synapse    1.000   1.000\n",
      "      4        5  static_synapse    1.000   1.000\n",
      "      4        1  static_synapse    1.000   1.000\n",
      "      4        2  static_synapse    1.000   1.000\n",
      "      4        2  static_synapse    1.000   1.000\n",
      "      4        4  static_synapse    1.000   1.000\n",
      "      4        4  static_synapse    1.000   1.000\n",
      "      5        3  static_synapse    1.000   1.000\n",
      "      5        4  static_synapse    1.000   1.000\n",
      "      5        3  static_synapse    1.000   1.000\n",
      "      5        1  static_synapse    1.000   1.000\n",
      "      5        1  static_synapse    1.000   1.000\n"
     ]
    }
   ],
   "source": [
    "nest.ResetKernel()\n",
    "n = nest.Create('iaf_psc_alpha', 5)\n",
    "\n",
    "projection = nest.FixedIndegree(source=n, target=n, indegree=5)\n",
    "nest.Connect(projection)\n",
    "nest.BuildNetwork()\n",
    "\n",
    "conns = nest.GetConnections()\n",
    "print(conns)"
   ]
  },
  {
   "cell_type": "markdown",
   "metadata": {},
   "source": [
    "### `FixedOutdegree`"
   ]
  },
  {
   "cell_type": "code",
   "execution_count": 4,
   "metadata": {},
   "outputs": [
    {
     "name": "stdout",
     "output_type": "stream",
     "text": [
      "Connecting 1 projections...\n",
      " source   target   synapse model   weight   delay \n",
      "-------- -------- --------------- -------- -------\n",
      "      1        1  static_synapse    1.000   1.000\n",
      "      1        4  static_synapse    1.000   1.000\n",
      "      1        5  static_synapse    1.000   1.000\n",
      "      1        5  static_synapse    1.000   1.000\n",
      "      1        3  static_synapse    1.000   1.000\n",
      "      2        5  static_synapse    1.000   1.000\n",
      "      2        4  static_synapse    1.000   1.000\n",
      "      2        3  static_synapse    1.000   1.000\n",
      "      2        2  static_synapse    1.000   1.000\n",
      "      2        4  static_synapse    1.000   1.000\n",
      "      3        4  static_synapse    1.000   1.000\n",
      "      3        3  static_synapse    1.000   1.000\n",
      "      3        3  static_synapse    1.000   1.000\n",
      "      3        1  static_synapse    1.000   1.000\n",
      "      3        1  static_synapse    1.000   1.000\n",
      "      4        5  static_synapse    1.000   1.000\n",
      "      4        4  static_synapse    1.000   1.000\n",
      "      4        3  static_synapse    1.000   1.000\n",
      "      4        3  static_synapse    1.000   1.000\n",
      "      4        1  static_synapse    1.000   1.000\n",
      "      5        5  static_synapse    1.000   1.000\n",
      "      5        5  static_synapse    1.000   1.000\n",
      "      5        1  static_synapse    1.000   1.000\n",
      "      5        5  static_synapse    1.000   1.000\n",
      "      5        1  static_synapse    1.000   1.000\n"
     ]
    }
   ],
   "source": [
    "nest.ResetKernel()\n",
    "n = nest.Create('iaf_psc_alpha', 5)\n",
    "\n",
    "projection = nest.FixedOutdegree(source=n, target=n, outdegree=5)\n",
    "nest.Connect(projection)\n",
    "nest.BuildNetwork()\n",
    "\n",
    "conns = nest.GetConnections()\n",
    "print(conns)"
   ]
  },
  {
   "cell_type": "markdown",
   "metadata": {},
   "source": [
    "### `PairwiseBernoulli`"
   ]
  },
  {
   "cell_type": "code",
   "execution_count": 5,
   "metadata": {},
   "outputs": [
    {
     "name": "stdout",
     "output_type": "stream",
     "text": [
      "Connecting 1 projections...\n",
      " source   target   synapse model   weight   delay \n",
      "-------- -------- --------------- -------- -------\n",
      "      1        7  static_synapse    1.000   1.000\n",
      "      2        3  static_synapse    1.000   1.000\n",
      "      3        5  static_synapse    1.000   1.000\n",
      "      5        2  static_synapse    1.000   1.000\n",
      "      5        3  static_synapse    1.000   1.000\n",
      "      5        8  static_synapse    1.000   1.000\n",
      "      6        7  static_synapse    1.000   1.000\n",
      "      7        1  static_synapse    1.000   1.000\n",
      "      7        4  static_synapse    1.000   1.000\n",
      "      7        5  static_synapse    1.000   1.000\n",
      "      7        9  static_synapse    1.000   1.000\n",
      "      8        7  static_synapse    1.000   1.000\n",
      "      8        8  static_synapse    1.000   1.000\n",
      "      9        1  static_synapse    1.000   1.000\n",
      "      9        6  static_synapse    1.000   1.000\n",
      "      9        7  static_synapse    1.000   1.000\n",
      "     10        3  static_synapse    1.000   1.000\n"
     ]
    }
   ],
   "source": [
    "nest.ResetKernel()\n",
    "n = nest.Create('iaf_psc_alpha', 10)\n",
    "\n",
    "projection = nest.PairwiseBernoulli(source=n, target=n, p=0.2)\n",
    "nest.Connect(projection)\n",
    "nest.BuildNetwork()\n",
    "\n",
    "conns = nest.GetConnections()\n",
    "print(conns)"
   ]
  },
  {
   "cell_type": "markdown",
   "metadata": {},
   "source": [
    "### `FixedTotalNumber`\n",
    "Can also pass arguments that controls if autapses or multapses are possible."
   ]
  },
  {
   "cell_type": "code",
   "execution_count": 6,
   "metadata": {},
   "outputs": [
    {
     "name": "stdout",
     "output_type": "stream",
     "text": [
      "Connecting 1 projections...\n",
      " source   target   synapse model   weight   delay \n",
      "-------- -------- --------------- -------- -------\n",
      "      1        4  static_synapse    1.000   1.000\n",
      "      1        3  static_synapse    1.000   1.000\n",
      "      1        4  static_synapse    1.000   1.000\n",
      "      2        3  static_synapse    1.000   1.000\n",
      "      3        4  static_synapse    1.000   1.000\n",
      "      4        3  static_synapse    1.000   1.000\n",
      "      5        5  static_synapse    1.000   1.000\n",
      "      5        3  static_synapse    1.000   1.000\n",
      "      5        3  static_synapse    1.000   1.000\n",
      "      5        4  static_synapse    1.000   1.000\n"
     ]
    }
   ],
   "source": [
    "nest.ResetKernel()\n",
    "n = nest.Create('iaf_psc_alpha', 5)\n",
    "\n",
    "projection = nest.FixedTotalNumber(source=n, target=n, N=10, \n",
    "                                   allow_autapses=True,\n",
    "                                   allow_multapses=True)\n",
    "nest.Connect(projection)\n",
    "nest.BuildNetwork()\n",
    "\n",
    "conns = nest.GetConnections()\n",
    "print(conns)"
   ]
  },
  {
   "cell_type": "markdown",
   "metadata": {},
   "source": [
    "## Multiple projections\n",
    "Multiple Projections can be added to the buffer before connecting, by calling `Connect()` multiple times."
   ]
  },
  {
   "cell_type": "code",
   "execution_count": 7,
   "metadata": {},
   "outputs": [
    {
     "name": "stdout",
     "output_type": "stream",
     "text": [
      "Connecting 2 projections...\n",
      " source   target   synapse model   weight   delay \n",
      "-------- -------- --------------- -------- -------\n",
      "      1       10  static_synapse    1.000   1.000\n",
      "      1        4  static_synapse    1.000   1.000\n",
      "      1        1  static_synapse    1.000   1.000\n",
      "      1        4  static_synapse    1.000   1.000\n",
      "      1        5  static_synapse    1.000   1.000\n",
      "      1        8  static_synapse    1.000   1.000\n",
      "      1        9  static_synapse    1.000   1.000\n",
      "      1        2  static_synapse    1.000   1.000\n",
      "      1        5  static_synapse    1.000   1.000\n",
      "      2       10  static_synapse    1.000   1.000\n",
      "      2       10  static_synapse    1.000   1.000\n",
      "      2        6  static_synapse    1.000   1.000\n",
      "      2        8  static_synapse    1.000   1.000\n",
      "      2        1  static_synapse    1.000   1.000\n",
      "      3        1  static_synapse    1.000   1.000\n",
      "     ⋮        ⋮               ⋮        ⋮       ⋮ \n",
      "      8        1  static_synapse    1.000   1.000\n",
      "      8        8  static_synapse    1.000   1.000\n",
      "      8        8  static_synapse    1.000   1.000\n",
      "      8        4  static_synapse    1.000   1.000\n",
      "      8        3  static_synapse    1.000   1.000\n",
      "      8       10  static_synapse    1.000   1.000\n",
      "      9        7  static_synapse    1.000   1.000\n",
      "      9        6  static_synapse    1.000   1.000\n",
      "      9        1  static_synapse    1.000   1.000\n",
      "     10        3  static_synapse    1.000   1.000\n",
      "     10        9  static_synapse    1.000   1.000\n",
      "     10        8  static_synapse    1.000   1.000\n",
      "     10        4  static_synapse    1.000   1.000\n",
      "     10        5  static_synapse    1.000   1.000\n",
      "     10        1  static_synapse    1.000   1.000\n"
     ]
    }
   ],
   "source": [
    "nest.ResetKernel()\n",
    "\n",
    "N = 10\n",
    "IN_A = 2\n",
    "IN_B = 5\n",
    "n = nest.Create('iaf_psc_alpha', N)\n",
    "nest.Connect(nest.FixedIndegree(source=n, target=n, indegree=IN_A))\n",
    "nest.Connect(nest.FixedIndegree(source=n, target=n, indegree=IN_B))\n",
    "nest.BuildNetwork()\n",
    "\n",
    "conns = nest.GetConnections()\n",
    "print(conns)"
   ]
  },
  {
   "cell_type": "markdown",
   "metadata": {},
   "source": [
    "Or by passing a list of Projections."
   ]
  },
  {
   "cell_type": "code",
   "execution_count": 8,
   "metadata": {},
   "outputs": [
    {
     "name": "stdout",
     "output_type": "stream",
     "text": [
      "Connecting 2 projections...\n",
      " source   target   synapse model   weight   delay \n",
      "-------- -------- --------------- -------- -------\n",
      "      1       10  static_synapse    1.000   1.000\n",
      "      1        4  static_synapse    1.000   1.000\n",
      "      1        1  static_synapse    1.000   1.000\n",
      "      1        4  static_synapse    1.000   1.000\n",
      "      1        5  static_synapse    1.000   1.000\n",
      "      1        8  static_synapse    1.000   1.000\n",
      "      1        9  static_synapse    1.000   1.000\n",
      "      1        2  static_synapse    1.000   1.000\n",
      "      1        5  static_synapse    1.000   1.000\n",
      "      2       10  static_synapse    1.000   1.000\n",
      "      2       10  static_synapse    1.000   1.000\n",
      "      2        6  static_synapse    1.000   1.000\n",
      "      2        8  static_synapse    1.000   1.000\n",
      "      2        1  static_synapse    1.000   1.000\n",
      "      3        1  static_synapse    1.000   1.000\n",
      "     ⋮        ⋮               ⋮        ⋮       ⋮ \n",
      "      8        1  static_synapse    1.000   1.000\n",
      "      8        8  static_synapse    1.000   1.000\n",
      "      8        8  static_synapse    1.000   1.000\n",
      "      8        4  static_synapse    1.000   1.000\n",
      "      8        3  static_synapse    1.000   1.000\n",
      "      8       10  static_synapse    1.000   1.000\n",
      "      9        7  static_synapse    1.000   1.000\n",
      "      9        6  static_synapse    1.000   1.000\n",
      "      9        1  static_synapse    1.000   1.000\n",
      "     10        3  static_synapse    1.000   1.000\n",
      "     10        9  static_synapse    1.000   1.000\n",
      "     10        8  static_synapse    1.000   1.000\n",
      "     10        4  static_synapse    1.000   1.000\n",
      "     10        5  static_synapse    1.000   1.000\n",
      "     10        1  static_synapse    1.000   1.000\n"
     ]
    }
   ],
   "source": [
    "nest.ResetKernel()\n",
    "\n",
    "N = 10\n",
    "IN_A = 2\n",
    "IN_B = 5\n",
    "n = nest.Create('iaf_psc_alpha', N)\n",
    "projections = [nest.FixedIndegree(source=n, target=n, indegree=IN_A),\n",
    "               nest.FixedIndegree(source=n, target=n, indegree=IN_B)]\n",
    "nest.Connect(projections)\n",
    "nest.BuildNetwork()\n",
    "\n",
    "conns = nest.GetConnections()\n",
    "print(conns)"
   ]
  },
  {
   "cell_type": "markdown",
   "metadata": {},
   "source": [
    "## Synapse model object\n",
    "We introduce synapse model objects, which hold information previously passed as a `dict` to `syn_spec`.\n",
    "\n",
    "### `static_synapse`"
   ]
  },
  {
   "cell_type": "code",
   "execution_count": 9,
   "metadata": {},
   "outputs": [
    {
     "name": "stdout",
     "output_type": "stream",
     "text": [
      "Connecting 1 projections...\n",
      " source   target   synapse model   weight   delay \n",
      "-------- -------- --------------- -------- -------\n",
      "      1        1  static_synapse   0.5000  0.7000\n",
      "      2        2  static_synapse   0.5000  0.7000\n",
      "      3        3  static_synapse   0.5000  0.7000\n",
      "      4        4  static_synapse   0.5000  0.7000\n",
      "      5        5  static_synapse   0.5000  0.7000\n"
     ]
    }
   ],
   "source": [
    "nest.ResetKernel()\n",
    "n = nest.Create('iaf_psc_alpha', 5)\n",
    "\n",
    "synapse = nest.synapsemodels.static(weight=0.5, delay=0.7)\n",
    "\n",
    "projection = nest.OneToOne(source=n, target=n, syn_spec=synapse)\n",
    "nest.Connect(projection)\n",
    "nest.BuildNetwork()\n",
    "\n",
    "conns = nest.GetConnections()\n",
    "print(conns)"
   ]
  },
  {
   "cell_type": "markdown",
   "metadata": {},
   "source": [
    "### `stdp_synapse`"
   ]
  },
  {
   "cell_type": "code",
   "execution_count": 10,
   "metadata": {},
   "outputs": [
    {
     "name": "stdout",
     "output_type": "stream",
     "text": [
      "Connecting 1 projections...\n",
      " source   target   synapse model   weight   delay \n",
      "-------- -------- --------------- -------- -------\n",
      "      1        1    stdp_synapse   0.9014   1.000\n",
      "      2        2    stdp_synapse   0.9508   1.000\n",
      "      3        3    stdp_synapse   0.8267   1.000\n",
      "      4        4    stdp_synapse   0.7670   1.000\n",
      "      5        5    stdp_synapse   0.7699   1.000\n",
      "tau_plus = [17.0, 17.0, 17.0, 17.0, 17.0]\n"
     ]
    }
   ],
   "source": [
    "nest.ResetKernel()\n",
    "n = nest.Create('iaf_psc_alpha', 5)\n",
    "\n",
    "synapse = nest.synapsemodels.stdp(weight=nest.random.uniform(0.5, 1.0), tau_plus=17.)\n",
    "\n",
    "projection = nest.OneToOne(source=n, target=n, syn_spec=synapse)\n",
    "nest.Connect(projection)\n",
    "nest.BuildNetwork()\n",
    "\n",
    "conns = nest.GetConnections()\n",
    "print(conns)\n",
    "print('tau_plus =', conns.tau_plus)"
   ]
  },
  {
   "cell_type": "markdown",
   "metadata": {},
   "source": [
    "## Usage examples"
   ]
  },
  {
   "cell_type": "markdown",
   "metadata": {},
   "source": [
    "### Generate projections iteratively, with duplicated projections\n",
    "To iteratively modify a Projection, ideally wrap a projection with `itertools.partial`."
   ]
  },
  {
   "cell_type": "code",
   "execution_count": 11,
   "metadata": {},
   "outputs": [
    {
     "name": "stdout",
     "output_type": "stream",
     "text": [
      "Connecting 4 projections...\n",
      " source   target   synapse model   weight   delay \n",
      "-------- -------- --------------- -------- -------\n",
      "      1        6  static_synapse   0.5000  0.7000\n",
      "      1        5  static_synapse   0.5000  0.7000\n",
      "      1        3  static_synapse   0.5000  0.7000\n",
      "      1        2  static_synapse   0.5000  0.7000\n",
      "      2        5  static_synapse   0.5000  0.7000\n",
      "      2        6  static_synapse   0.5000  0.7000\n",
      "      3        6  static_synapse   0.5000  0.7000\n",
      "      3        2  static_synapse   0.5000  0.7000\n",
      "      3        2  static_synapse   0.5000  0.7000\n",
      "      3        2  static_synapse   0.5000  0.7000\n",
      "      4        6  static_synapse   0.5000  0.7000\n",
      "      4        6  static_synapse   0.5000  0.7000\n",
      "      4        2  static_synapse   0.5000  0.7000\n",
      "      5        5  static_synapse   0.5000  0.7000\n",
      "      5        4  static_synapse   0.5000  0.7000\n",
      "      5        3  static_synapse   0.5000  0.7000\n",
      "      5        3  static_synapse   0.5000  0.7000\n",
      "      6        4  static_synapse   0.5000  0.7000\n",
      "      6        2  static_synapse   0.5000  0.7000\n",
      "      6        2  static_synapse   0.5000  0.7000\n",
      "Number of connections: 20\n"
     ]
    }
   ],
   "source": [
    "import itertools\n",
    "from functools import partial\n",
    "\n",
    "nest.ResetKernel()\n",
    "n1 = nest.Create('iaf_psc_alpha', 3)\n",
    "n2 = nest.Create('iaf_psc_exp', 3)\n",
    "\n",
    "synapse = nest.synapsemodels.static(weight=0.5, delay=0.7)\n",
    "base_projection = nest.FixedTotalNumber(N=5, syn_spec=synapse)\n",
    "create_projection = partial(nest.FixedTotalNumber, N=5, syn_spec=synapse) # create prototype\n",
    "\n",
    "for source, target in itertools.product((n1, n2), repeat=2): # itertools.product to map out all combinations\n",
    "    projection = create_projection(source=source, target=target) # modify a few parameters each time\n",
    "    nest.Connect(projection)\n",
    "\n",
    "nest.BuildNetwork()\n",
    "\n",
    "conns = nest.GetConnections()\n",
    "print(conns)\n",
    "print('Number of connections:', len(conns))"
   ]
  },
  {
   "cell_type": "markdown",
   "metadata": {},
   "source": [
    "### Using `CollocatedSynapses` in projections\n",
    "Projections support passing a `CollocatedSynapses` object as `syn_spec`. With `CollocatedSynapses`, connections with different synapse parameters can be created between the same nodes."
   ]
  },
  {
   "cell_type": "code",
   "execution_count": 12,
   "metadata": {},
   "outputs": [
    {
     "name": "stdout",
     "output_type": "stream",
     "text": [
      "Connecting 1 projections...\n",
      " source   target   synapse model   weight   delay \n",
      "-------- -------- --------------- -------- -------\n",
      "      2        1  static_synapse   -2.000   1.000\n",
      "      2        1  static_synapse   -2.000   1.000\n",
      "      2        1  static_synapse   -2.000   1.000\n",
      "      2        2  static_synapse   -2.000   1.000\n",
      "      2        2  static_synapse   -2.000   1.000\n",
      "      2        2  static_synapse   -2.000   1.000\n",
      "      2        1    stdp_synapse    3.000   1.000\n",
      "      2        1    stdp_synapse    3.000   1.000\n",
      "      2        1    stdp_synapse    3.000   1.000\n",
      "      2        2    stdp_synapse    3.000   1.000\n",
      "      2        2    stdp_synapse    3.000   1.000\n",
      "      2        2    stdp_synapse    3.000   1.000\n"
     ]
    }
   ],
   "source": [
    "nest.ResetKernel()\n",
    "n = nest.Create('iaf_psc_alpha', 2)\n",
    "\n",
    "syn_spec = nest.CollocatedSynapses(nest.synapsemodels.static(weight=-2.),\n",
    "                                   nest.synapsemodels.stdp(weight=3.))\n",
    "\n",
    "projection = nest.FixedIndegree(source=n, target=n, indegree=3, syn_spec=syn_spec)\n",
    "nest.Connect(projection)\n",
    "nest.BuildNetwork()\n",
    "\n",
    "conns = nest.GetConnections()\n",
    "print(conns)"
   ]
  },
  {
   "cell_type": "markdown",
   "metadata": {},
   "source": [
    "### Spatial connections\n",
    "Projections for spatial connections are created the same way as regular connections."
   ]
  },
  {
   "cell_type": "code",
   "execution_count": 13,
   "metadata": {},
   "outputs": [
    {
     "name": "stdout",
     "output_type": "stream",
     "text": [
      "Connecting 1 projections...\n",
      " source   target   synapse model   weight   delay \n",
      "-------- -------- --------------- -------- -------\n",
      "      2        7  static_synapse    1.000   1.000\n",
      "      3        1  static_synapse    1.000   1.000\n",
      "      4        2  static_synapse    1.000   1.000\n",
      "      4        3  static_synapse    1.000   1.000\n",
      "      4        9  static_synapse    1.000   1.000\n",
      "      5        4  static_synapse    1.000   1.000\n",
      "      5        5  static_synapse    1.000   1.000\n",
      "      5       15  static_synapse    1.000   1.000\n",
      "      7        6  static_synapse    1.000   1.000\n",
      "      8       12  static_synapse    1.000   1.000\n",
      "      9        8  static_synapse    1.000   1.000\n",
      "     10       10  static_synapse    1.000   1.000\n",
      "     10       14  static_synapse    1.000   1.000\n",
      "     10       19  static_synapse    1.000   1.000\n",
      "     12       11  static_synapse    1.000   1.000\n",
      "     14       13  static_synapse    1.000   1.000\n",
      "     15       18  static_synapse    1.000   1.000\n",
      "     15       20  static_synapse    1.000   1.000\n",
      "     17       16  static_synapse    1.000   1.000\n",
      "     19       17  static_synapse    1.000   1.000\n"
     ]
    }
   ],
   "source": [
    "nest.ResetKernel()\n",
    "\n",
    "dim = [4, 5]\n",
    "extent = [10., 10.]\n",
    "layer = nest.Create('iaf_psc_alpha', positions=nest.spatial.grid(dim, extent=extent))\n",
    "\n",
    "mask = {'rectangular': {\n",
    "        'lower_left': [-5., -5.],\n",
    "        'upper_right': [0., 0.]}}\n",
    "projection = nest.FixedIndegree(source=layer, target=layer, indegree=1, mask=mask)\n",
    "\n",
    "nest.Connect(projection)\n",
    "nest.BuildNetwork()\n",
    "\n",
    "conns = nest.GetConnections()\n",
    "print(conns)"
   ]
  },
  {
   "cell_type": "markdown",
   "metadata": {},
   "source": [
    "### Spatial connections with `CollocatedSynapses`"
   ]
  },
  {
   "cell_type": "code",
   "execution_count": 14,
   "metadata": {},
   "outputs": [
    {
     "name": "stdout",
     "output_type": "stream",
     "text": [
      "Connecting 1 projections...\n",
      " source   target   synapse model   weight   delay \n",
      "-------- -------- --------------- -------- -------\n",
      "      2        1  static_synapse   -2.000   1.000\n",
      "      2        2  static_synapse   -2.000   1.000\n",
      "      3        3  static_synapse   -2.000   1.000\n",
      "      3        7  static_synapse   -2.000   1.000\n",
      "      4        4  static_synapse   -2.000   1.000\n",
      "      4        5  static_synapse   -2.000   1.000\n",
      "      6        6  static_synapse   -2.000   1.000\n",
      "      8        8  static_synapse   -2.000   1.000\n",
      "      2        1    stdp_synapse    3.000   1.000\n",
      "      2        2    stdp_synapse    3.000   1.000\n",
      "      3        3    stdp_synapse    3.000   1.000\n",
      "      3        7    stdp_synapse    3.000   1.000\n",
      "      4        4    stdp_synapse    3.000   1.000\n",
      "      4        5    stdp_synapse    3.000   1.000\n",
      "      6        6    stdp_synapse    3.000   1.000\n",
      "      8        8    stdp_synapse    3.000   1.000\n"
     ]
    }
   ],
   "source": [
    "nest.ResetKernel()\n",
    "\n",
    "dim = [4, 2]\n",
    "extent = [10., 10.]\n",
    "layer = nest.Create('iaf_psc_alpha', positions=nest.spatial.grid(dim, extent=extent))\n",
    "\n",
    "mask = {'rectangular': {\n",
    "        'lower_left': [-5., -5.],\n",
    "        'upper_right': [0., 0.]}}\n",
    "\n",
    "syn_spec = nest.CollocatedSynapses(nest.synapsemodels.static(weight=-2.),\n",
    "                                   nest.synapsemodels.stdp(weight=3.))\n",
    "\n",
    "projection = nest.FixedIndegree(source=layer, target=layer, indegree=1, syn_spec=syn_spec, mask=mask)\n",
    "\n",
    "nest.Connect(projection)\n",
    "nest.BuildNetwork()\n",
    "\n",
    "conns = nest.GetConnections()\n",
    "print(conns)"
   ]
  }
 ],
 "metadata": {
  "kernelspec": {
   "display_name": "Python 3",
   "language": "python",
   "name": "python3"
  },
  "language_info": {
   "codemirror_mode": {
    "name": "ipython",
    "version": 3
   },
   "file_extension": ".py",
   "mimetype": "text/x-python",
   "name": "python",
   "nbconvert_exporter": "python",
   "pygments_lexer": "ipython3",
   "version": "3.9.12"
  }
 },
 "nbformat": 4,
 "nbformat_minor": 4
}
