{
  "cells": [
    {
      "cell_type": "code",
      "execution_count": null,
      "metadata": {
        "collapsed": false
      },
      "outputs": [],
      "source": [
        "%matplotlib inline"
      ]
    },
    {
      "cell_type": "markdown",
      "metadata": {},
      "source": [
        "\nSpike synchronization through subthreshold oscillation\n------------------------------------------------------\n\nThis script reproduces the spike synchronization behavior\nof integrate-and-fire neurons in response to a subthreshold\noscillation. This phenomenon is shown in Fig. 1 of\n\n  C.D. Brody and J.J. Hopfield\n  Simple Networks for Spike-Timing-Based Computation,\n  with Application to Olfactory Processing\n  Neuron 37, 843-852 (2003)\n\nNeurons receive a weak 35 Hz oscillation, a gaussian noise current\nand an increasing DC. The time-locking capability is shown to\ndepend on the input current given. The result is then plotted using\npylab. All parameters are taken from the above paper.\n\n"
      ]
    },
    {
      "cell_type": "code",
      "execution_count": null,
      "metadata": {
        "collapsed": false
      },
      "outputs": [],
      "source": [
        "'''\nFirst, we import all necessary modules for simulation, analysis and\nplotting.\n'''\n\nimport nest\nimport nest.raster_plot\n\n'''\nSecond, the simulation parameters are assigned to variables.\n'''\n\nN = 1000           # number of neurons\nbias_begin = 140.  # minimal value for the bias current injection [pA]\nbias_end = 200.    # maximal value for the bias current injection [pA]\nT = 600            # simulation time (ms)\n\n# parameters for the alternative-current generator\ndriveparams = {'amplitude': 50., 'frequency': 35.}\n# parameters for the noise generator\nnoiseparams = {'mean': 0.0, 'std': 200.}\nneuronparams = {'tau_m': 20.,  # membrane time constant\n                'V_th': 20.,  # threshold potential\n                'E_L': 10.,  # membrane resting potential\n                't_ref': 2.,  # refractory period\n                'V_reset': 0.,  # reset potential\n                'C_m': 200.,  # membrane capacitance\n                'V_m': 0.}      # initial membrane potential\n\n'''\nThird, the nodes are created using `Create`. We store the returned\nhandles in variables for later reference.\n'''\n\nneurons = nest.Create('iaf_psc_alpha', N)\nsd = nest.Create('spike_detector')\nnoise = nest.Create('noise_generator')\ndrive = nest.Create('ac_generator')\n\n'''\nSet the parameters specified above for the generators using `SetStatus`.\n'''\n\nnest.SetStatus(drive, driveparams)\nnest.SetStatus(noise, noiseparams)\n\n'''\nSet the parameters specified above for the neurons. Nurons getan internal\ncurrent. The first neuron additionally receives the current with amplitude\n``bias_begin``, the last neuron with amplitude ``bias_end``.\n'''\n\nnest.SetStatus(neurons, neuronparams)\nnest.SetStatus(neurons, [{'I_e':\n                          (n * (bias_end - bias_begin) / N + bias_begin)}\n                         for n in neurons])\n\n'''\nSet the parameters for the `spike_detector`: recorded data should include\nthe information about global IDs of spiking neurons and the time of\nindividual spikes.\n'''\n\nnest.SetStatus(sd, {\"withgid\": True, \"withtime\": True})\n\n'''\nConnect alternative current and noise generators as well as `spike_detector`s.\nto neurons\n'''\n\nnest.Connect(drive, neurons)\nnest.Connect(noise, neurons)\nnest.Connect(neurons, sd)\n\n'''\nSimulate the network for time T.\n'''\n\nnest.Simulate(T)\n\n'''\nPlot the raster plot of the neuronal spiking activity.\n'''\n\nnest.raster_plot.from_device(sd, hist=True)"
      ]
    }
  ],
  "metadata": {
    "kernelspec": {
      "display_name": "Python 3",
      "language": "python",
      "name": "python3"
    },
    "language_info": {
      "codemirror_mode": {
        "name": "ipython",
        "version": 3
      },
      "file_extension": ".py",
      "mimetype": "text/x-python",
      "name": "python",
      "nbconvert_exporter": "python",
      "pygments_lexer": "ipython3",
      "version": "3.6.1"
    }
  },
  "nbformat": 4,
  "nbformat_minor": 0
}