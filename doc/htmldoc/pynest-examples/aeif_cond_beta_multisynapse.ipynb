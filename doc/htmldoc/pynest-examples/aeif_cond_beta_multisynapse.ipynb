{
 "cells": [
  {
   "cell_type": "code",
   "execution_count": null,
   "metadata": {
    "collapsed": false,
    "jupyter": {
     "outputs_hidden": false
    }
   },
   "outputs": [],
   "source": [
    "%matplotlib inline"
   ]
  },
  {
   "cell_type": "markdown",
   "metadata": {},
   "source": [
    "\n",
    "# Example of an AEIF neuron with multiple synaptic rise and decay time constants\n"
   ]
  },
  {
   "cell_type": "code",
   "execution_count": null,
   "metadata": {
    "collapsed": false,
    "jupyter": {
     "outputs_hidden": false
    }
   },
   "outputs": [],
   "source": [
    "import nest\n",
    "import numpy as np\n",
    "import matplotlib.pyplot as plt\n",
    "\n",
    "neuron = nest.Create('aeif_cond_beta_multisynapse')\n",
    "nest.SetStatus(neuron, {\"V_peak\": 0.0, \"a\": 4.0, \"b\": 80.5})\n",
    "nest.SetStatus(neuron, {'E_rev': [0.0, 0.0, 0.0, -85.0],\n",
    "                        'tau_decay': [50.0, 20.0, 20.0, 20.0],\n",
    "                        'tau_rise': [10.0, 10.0, 1.0, 1.0]})\n",
    "\n",
    "spike = nest.Create('spike_generator', params={'spike_times':\n",
    "                                               np.array([10.0])})\n",
    "\n",
    "voltmeter = nest.Create('voltmeter')\n",
    "\n",
    "delays = [1.0, 300.0, 500.0, 700.0]\n",
    "w = [1.0, 1.0, 1.0, 1.0]\n",
    "for syn in range(4):\n",
    "    nest.Connect(spike, neuron, syn_spec={'synapse_model': 'static_synapse',\n",
    "                                          'receptor_type': 1 + syn,\n",
    "                                          'weight': w[syn],\n",
    "                                          'delay': delays[syn]})\n",
    "\n",
    "nest.Connect(voltmeter, neuron)\n",
    "\n",
    "nest.Simulate(1000.0)\n",
    "\n",
    "Vms = voltmeter.get(\"events\", \"V_m\")\n",
    "ts = voltmeter.get(\"events\", \"times\")\n",
    "\n",
    "plt.plot(ts, Vms)\n",
    "plt.show()"
   ]
  },
  {
   "cell_type": "markdown",
   "metadata": {},
   "source": [
    "[![EBRAINS Notebook](https://nest-simulator.org/TryItOnEBRAINS.png)](https://lab.ebrains.eu/hub/user-redirect/git-pull?repo=https%3A%2F%2Fgithub.com%2Fjessica-mitchell%2Fnest-simulator&urlpath=lab%2Ftree%2Fnest-simulator%2Fdoc%2Fhtmldoc%2Fpynest-examples%2Faeif_cond_beta_multisynapse.ipynb&branch=ebrains-button)\n"
   ]
  },
  {
   "cell_type": "code",
   "execution_count": null,
   "metadata": {},
   "outputs": [],
   "source": []
  }
 ],
 "metadata": {
  "kernelspec": {
   "display_name": "Python 3 (ipykernel)",
   "language": "python",
   "name": "python3"
  },
  "language_info": {
   "codemirror_mode": {
    "name": "ipython",
    "version": 3
   },
   "file_extension": ".py",
   "mimetype": "text/x-python",
   "name": "python",
   "nbconvert_exporter": "python",
   "pygments_lexer": "ipython3",
   "version": "3.10.8"
  }
 },
 "nbformat": 4,
 "nbformat_minor": 5
}
