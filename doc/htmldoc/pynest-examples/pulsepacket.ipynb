{
 "cells": [
  {
   "cell_type": "code",
   "execution_count": null,
   "metadata": {
    "collapsed": false
   },
   "outputs": [],
   "source": [
    "%matplotlib inline"
   ]
  },
  {
   "cell_type": "markdown",
   "metadata": {},
   "source": [
    "\n",
    "# Pulse packet example\n",
    "\n",
    "This script compares the average and individual membrane potential excursions\n",
    "in response to a single pulse packet with an analytically acquired voltage\n",
    "trace (see: Diesmann [1]_)\n",
    "A pulse packet is a transient spike volley with a Gaussian rate profile.\n",
    "The user can specify the neural parameters, the parameters of the\n",
    "pulse-packet and the number of trials.\n",
    "\n",
    "\n",
    "## References\n",
    "\n",
    ".. [1] Diesmann M. 2002. Dissertation. Conditions for stable propagation of\n",
    "       synchronous spiking in cortical neural networks: Single neuron dynamics\n",
    "       and network properties.\n",
    "       http://d-nb.info/968772781/34.\n"
   ]
  },
  {
   "cell_type": "markdown",
   "metadata": {},
   "source": [
    "First, we import all necessary modules for simulation, analysis and\n",
    "plotting.\n",
    "\n"
   ]
  },
  {
   "cell_type": "code",
   "execution_count": null,
   "metadata": {
    "collapsed": false
   },
   "outputs": [],
   "source": [
    "import scipy.special as sp\n",
    "import nest\n",
    "import numpy\n",
    "import matplotlib.pyplot as plt\n",
    "\n",
    "# Properties of pulse packet:\n",
    "\n",
    "a = 100            # number of spikes in one pulse packet\n",
    "sdev = 10.         # width of pulse packet (ms)\n",
    "weight = 0.1       # PSP amplitude (mV)\n",
    "pulsetime = 500.   # occurrence time (center) of pulse-packet (ms)\n",
    "\n",
    "\n",
    "# Network and neuron characteristics:\n",
    "\n",
    "n_neurons = 100    # number of neurons\n",
    "cm = 200.          # membrane capacitance (pF)\n",
    "tau_s = 0.5        # synaptic time constant (ms)\n",
    "tau_m = 20.        # membrane time constant (ms)\n",
    "V0 = 0.0           # resting potential (mV)\n",
    "Vth = numpy.inf    # firing threshold, high value to avoid spiking\n",
    "\n",
    "\n",
    "# Simulation and analysis parameters:\n",
    "\n",
    "simtime = 1000.               # how long we simulate (ms)\n",
    "simulation_resolution = 0.1  # (ms)\n",
    "sampling_resolution = 1.   # for voltmeter (ms)\n",
    "convolution_resolution = 1.   # for the analytics (ms)\n",
    "\n",
    "\n",
    "# Some parameters in base units.\n",
    "\n",
    "Cm = cm * 1e-12            # convert to Farad\n",
    "Weight = weight * 1e-12    # convert to Ampere\n",
    "Tau_s = tau_s * 1e-3       # convert to sec\n",
    "Tau_m = tau_m * 1e-3       # convert to sec\n",
    "Sdev = sdev * 1e-3         # convert to sec\n",
    "Convolution_resolution = convolution_resolution * 1e-3  # convert to sec"
   ]
  },
  {
   "cell_type": "markdown",
   "metadata": {},
   "source": [
    "This function calculates the membrane potential excursion in response\n",
    "to a single input spike (the equation is given for example in Diesmann [1]_,\n",
    "eq.2.3).\n",
    "It expects:\n",
    "\n",
    "* ``Time``: a time array or a single time point (in sec)\n",
    "* ``Tau_s`` and ``Tau_m``: the synaptic and the membrane time constant (in sec)\n",
    "* ``Cm``: the membrane capacity (in Farad)\n",
    "* ``Weight``: the synaptic weight (in Ampere)\n",
    "\n",
    "It returns the provoked membrane potential (in mV)\n",
    "\n"
   ]
  },
  {
   "cell_type": "code",
   "execution_count": null,
   "metadata": {
    "collapsed": false
   },
   "outputs": [],
   "source": [
    "def make_psp(Time, Tau_s, Tau_m, Cm, Weight):\n",
    "    term1 = (1 / Tau_s - 1 / Tau_m)\n",
    "    term2 = numpy.exp(-Time / Tau_s)\n",
    "    term3 = numpy.exp(-Time / Tau_m)\n",
    "    PSP = (Weight / Cm * numpy.exp(1) / Tau_s *\n",
    "           (((-Time * term2) / term1) + (term3 - term2) / term1 ** 2))\n",
    "    return PSP * 1e3"
   ]
  },
  {
   "cell_type": "markdown",
   "metadata": {},
   "source": [
    "This function finds the exact location of the maximum of the PSP caused by a\n",
    "single input spike. The location is obtained by setting the first derivative\n",
    "of the equation for the PSP (see ``make_psp()``) to zero. The resulting\n",
    "equation can be expressed in terms of a `LambertW function`.\n",
    "This function expects:\n",
    "\n",
    "* ``Tau_s`` and ``Tau_m``: the synaptic and membrane time constant (in sec)\n",
    "\n",
    "It returns the location of the maximum (in sec)\n",
    "\n"
   ]
  },
  {
   "cell_type": "code",
   "execution_count": null,
   "metadata": {
    "collapsed": false
   },
   "outputs": [],
   "source": [
    "def LambertWm1(x):\n",
    "    # Using scipy to mimic the gsl_sf_lambert_Wm1 function.\n",
    "    return sp.lambertw(x, k=-1 if x < 0 else 0).real\n",
    "\n",
    "\n",
    "def find_loc_pspmax(tau_s, tau_m):\n",
    "    var = tau_m / tau_s\n",
    "    lam = LambertWm1(-numpy.exp(-1 / var) / var)\n",
    "    t_maxpsp = (-var * lam - 1) / var / (1 / tau_s - 1 / tau_m) * 1e-3\n",
    "    return t_maxpsp"
   ]
  },
  {
   "cell_type": "markdown",
   "metadata": {},
   "source": [
    "First, we construct a Gaussian kernel for a given standard derivation\n",
    "(``sig``) and mean value (``mu``). In this case the standard derivation is\n",
    "the width of the pulse packet (see [1]_).\n",
    "\n"
   ]
  },
  {
   "cell_type": "code",
   "execution_count": null,
   "metadata": {
    "collapsed": false
   },
   "outputs": [],
   "source": [
    "sig = Sdev\n",
    "mu = 0.0\n",
    "x = numpy.arange(-4 * sig, 4 * sig, Convolution_resolution)\n",
    "term1 = 1 / (sig * numpy.sqrt(2 * numpy.pi))\n",
    "term2 = numpy.exp(-(x - mu)**2 / (sig**2 * 2))\n",
    "gauss = term1 * term2 * Convolution_resolution"
   ]
  },
  {
   "cell_type": "markdown",
   "metadata": {},
   "source": [
    "Second, we calculate the PSP of a neuron due to a single spiking input.\n",
    "(see Diesmann 2002, eq. 2.3).\n",
    "Since we do that in discrete time steps, we first construct an array\n",
    "(``t_psp``) that contains the time points we want to consider. Then, the\n",
    "function ``make_psp()`` (that creates the PSP) takes the time array as its\n",
    "first argument.\n",
    "\n"
   ]
  },
  {
   "cell_type": "code",
   "execution_count": null,
   "metadata": {
    "collapsed": false
   },
   "outputs": [],
   "source": [
    "t_psp = numpy.arange(0, 10 * (Tau_m + Tau_s), Convolution_resolution)\n",
    "psp = make_psp(t_psp, Tau_s, Tau_m, Cm, Weight)"
   ]
  },
  {
   "cell_type": "markdown",
   "metadata": {},
   "source": [
    "Now, we want to normalize the PSP amplitude to one. We therefore have to\n",
    "divide the PSP by its maximum ([1]_ sec 6.1). The function\n",
    "``find_loc_pspmax()`` returns the exact time point (``t_pspmax``) when we\n",
    "expect the maximum to occur. The function ``make_psp()`` calculates the\n",
    "corresponding PSP value, which is our PSP amplitude (``psp_amp``).\n",
    "\n"
   ]
  },
  {
   "cell_type": "code",
   "execution_count": null,
   "metadata": {
    "collapsed": false
   },
   "outputs": [],
   "source": [
    "t_pspmax = find_loc_pspmax(Tau_s, Tau_m)\n",
    "psp_amp = make_psp(t_pspmax, Tau_s, Tau_m, Cm, Weight)\n",
    "psp_norm = psp / psp_amp"
   ]
  },
  {
   "cell_type": "markdown",
   "metadata": {},
   "source": [
    "Now we have all ingredients to compute the membrane potential excursion\n",
    "(`U`). This calculation implies a convolution of the Gaussian with the\n",
    "normalized PSP (see [1]_, eq. 6.9). In order to avoid an offset in the\n",
    "convolution, we need to add a pad of zeros on the left side of the\n",
    "normalized PSP. Later on we want to compare our analytical results with the\n",
    "simulation outcome. Therefore we need a time vector (`t_U`) with the correct\n",
    "temporal resolution, which places the excursion of the potential at the\n",
    "correct time.\n",
    "\n"
   ]
  },
  {
   "cell_type": "code",
   "execution_count": null,
   "metadata": {
    "collapsed": false
   },
   "outputs": [],
   "source": [
    "psp_norm = numpy.pad(psp_norm, [len(psp_norm) - 1, 1], mode='constant')\n",
    "U = a * psp_amp * numpy.convolve(gauss, psp_norm)\n",
    "ulen = len(U)\n",
    "t_U = (convolution_resolution * numpy.linspace(-ulen / 2., ulen / 2., ulen) +\n",
    "       pulsetime + 1.)"
   ]
  },
  {
   "cell_type": "markdown",
   "metadata": {},
   "source": [
    "In this section we simulate a network of multiple neurons.\n",
    "All these neurons receive an individual pulse packet that is drawn from a\n",
    "Gaussian distribution.\n",
    "\n",
    "We reset the Kernel, define the simulation resolution and set the\n",
    "verbosity using ``set_verbosity`` to suppress info messages.\n",
    "\n"
   ]
  },
  {
   "cell_type": "code",
   "execution_count": null,
   "metadata": {
    "collapsed": false
   },
   "outputs": [],
   "source": [
    "nest.ResetKernel()\n",
    "nest.set_verbosity(\"M_WARNING\")\n",
    "nest.resolution = simulation_resolution"
   ]
  },
  {
   "cell_type": "markdown",
   "metadata": {},
   "source": [
    "Afterwards we create several neurons, the same amount of\n",
    "pulse-packet-generators and a voltmeter. All these nodes/devices\n",
    "have specific properties that are specified in device specific\n",
    "dictionaries (here: `neuron_pars` for the neurons, `ppg_pars`\n",
    "for the and pulse-packet-generators and `vm_pars` for the voltmeter).\n",
    "\n"
   ]
  },
  {
   "cell_type": "code",
   "execution_count": null,
   "metadata": {
    "collapsed": false
   },
   "outputs": [],
   "source": [
    "neuron_pars = {\n",
    "    'V_th': Vth,\n",
    "    'tau_m': tau_m,\n",
    "    'tau_syn_ex': tau_s,\n",
    "    'C_m': cm,\n",
    "    'E_L': V0,\n",
    "    'V_reset': V0,\n",
    "    'V_m': V0\n",
    "}\n",
    "neurons = nest.Create('iaf_psc_alpha', n_neurons, neuron_pars)\n",
    "ppg_pars = {\n",
    "    'pulse_times': [pulsetime],\n",
    "    'activity': a,\n",
    "    'sdev': sdev\n",
    "}\n",
    "ppgs = nest.Create('pulsepacket_generator', n_neurons, ppg_pars)\n",
    "vm_pars = {'interval': sampling_resolution}\n",
    "vm = nest.Create('voltmeter', params=vm_pars)"
   ]
  },
  {
   "cell_type": "markdown",
   "metadata": {},
   "source": [
    "Now, we connect each pulse generator to one neuron via static synapses.\n",
    "We use the default static synapse, with specified weight.\n",
    "The command ``Connect`` connects all kinds of nodes/devices. Since multiple\n",
    "nodes/devices can be connected in different ways e.g., each source connects\n",
    "to all targets, each source connects to a subset of targets or each source\n",
    "connects to exactly one target, we have to specify the connection. In our\n",
    "case we use the ``one_to_one`` connection routine since we connect one pulse\n",
    "generator (source) to one neuron (target).\n",
    "In addition we also connect the `voltmeter` to the `neurons`.\n",
    "\n"
   ]
  },
  {
   "cell_type": "code",
   "execution_count": null,
   "metadata": {
    "collapsed": false
   },
   "outputs": [],
   "source": [
    "nest.Connect(ppgs, neurons, 'one_to_one', syn_spec={'weight': weight})\n",
    "nest.Connect(vm, neurons, syn_spec={'weight': weight})"
   ]
  },
  {
   "cell_type": "markdown",
   "metadata": {},
   "source": [
    "In the next step we run the simulation for a given duration in ms.\n",
    "\n"
   ]
  },
  {
   "cell_type": "code",
   "execution_count": null,
   "metadata": {
    "collapsed": false
   },
   "outputs": [],
   "source": [
    "nest.Simulate(simtime)"
   ]
  },
  {
   "cell_type": "markdown",
   "metadata": {},
   "source": [
    "Finally, we record the membrane potential, when it occurred and to which\n",
    "neuron it belongs. The sender and the time point of a voltage\n",
    "data point at position x in the voltage array (``V_m``), can be found at the\n",
    "same position x in the sender (`senders`) and the time array (`times`).\n",
    "\n"
   ]
  },
  {
   "cell_type": "code",
   "execution_count": null,
   "metadata": {
    "collapsed": false
   },
   "outputs": [],
   "source": [
    "Vm = vm.get('events', 'V_m')\n",
    "times = vm.get('events', 'times')\n",
    "senders = vm.get('events', 'senders')"
   ]
  },
  {
   "cell_type": "markdown",
   "metadata": {},
   "source": [
    "Here we plot the membrane potential derived from the theory and from the\n",
    "simulation. Since we simulate multiple neurons that received slightly\n",
    "different pulse packets, we plot the individual and the averaged membrane\n",
    "potentials.\n",
    "\n",
    "We plot the analytical solution U (the resting potential V0 shifts the\n",
    "membrane potential up or downwards).\n",
    "\n"
   ]
  },
  {
   "cell_type": "code",
   "execution_count": null,
   "metadata": {
    "collapsed": false
   },
   "outputs": [],
   "source": [
    "plt.plot(t_U, U + V0, 'r', lw=2, zorder=3, label='analytical solution')"
   ]
  },
  {
   "cell_type": "markdown",
   "metadata": {},
   "source": [
    "Then we plot all individual membrane potentials.\n",
    "The time axes is the range of the simulation time in steps of ms.\n",
    "\n"
   ]
  },
  {
   "cell_type": "code",
   "execution_count": null,
   "metadata": {
    "collapsed": false
   },
   "outputs": [],
   "source": [
    "Vm_single = [Vm[senders == n.global_id] for n in neurons]\n",
    "simtimes = numpy.arange(1, simtime)\n",
    "for idn in range(n_neurons):\n",
    "    if idn == 0:\n",
    "        plt.plot(simtimes, Vm_single[idn], 'gray',\n",
    "                 zorder=1, label='single potentials')\n",
    "    else:\n",
    "        plt.plot(simtimes, Vm_single[idn], 'gray', zorder=1)"
   ]
  },
  {
   "cell_type": "markdown",
   "metadata": {},
   "source": [
    "Finally, we plot the averaged membrane potential.\n",
    "\n"
   ]
  },
  {
   "cell_type": "code",
   "execution_count": null,
   "metadata": {
    "collapsed": false
   },
   "outputs": [],
   "source": [
    "Vm_average = numpy.mean(Vm_single, axis=0)\n",
    "plt.plot(simtimes, Vm_average, 'b', lw=4,\n",
    "         zorder=2, label='averaged potential')\n",
    "plt.legend()\n",
    "plt.xlabel('time (ms)')\n",
    "plt.ylabel('membrane potential (mV)')\n",
    "plt.xlim((-5 * (tau_m + tau_s) + pulsetime,\n",
    "          10 * (tau_m + tau_s) + pulsetime))\n",
    "plt.show()"
   ]
  },
  {
   "cell_type": "markdown",
   "metadata": {},
   "source": [
    "[![EBRAINS Notebook](https://nest-simulator.org/TryItOnEBRAINS.png)](https://lab.ebrains.eu/hub/user-redirect/git-pull?repo=https%3A%2F%2Fgithub.com%2Fjessica-mitchell%2Fnest-simulator&urlpath=lab%2Ftree%2Fnest-simulator%2Fpynest%2Fexamples%2Fnotebooks%2Fpulsepacket.ipynb&branch=ebrains-button)\n"
   ]
  }
 ],
 "metadata": {
  "kernelspec": {
   "display_name": "EBRAINS-22.10",
   "language": "python",
   "name": "spack_python_kernel_release_202210"
  },
  "language_info": {
   "codemirror_mode": {
    "name": "ipython",
    "version": 3
   },
   "file_extension": ".py",
   "mimetype": "text/x-python",
   "name": "python",
   "nbconvert_exporter": "python",
   "pygments_lexer": "ipython3",
   "version": "3.9.6"
  }
 },
 "nbformat": 4,
 "nbformat_minor": 5
}
