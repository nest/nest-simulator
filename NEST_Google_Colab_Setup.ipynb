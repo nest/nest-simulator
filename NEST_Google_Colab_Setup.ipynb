{
 "cells": [
  {
   "cell_type": "markdown",
   "metadata": {
    "id": "nest-colab-header"
   },
   "source": [
    "# NEST Simulator in Google Colab\n",
    "\n",
    "This notebook allows you to run NEST Simulator using **Google Colab's free computational resources**.\n",
    "\n",
    "## What You Get:\n",
    "- ✅ Free CPU/RAM from Google Colab\n",
    "- ✅ No installation on your local machine\n",
    "- ✅ Access from any device with a browser\n",
    "- ✅ Easy sharing and collaboration\n",
    "\n",
    "## Quick Start:\n",
    "1. Run the installation cell below (takes ~2-3 minutes)\n",
    "2. Run the example simulations\n",
    "3. Modify and experiment!\n",
    "\n",
    "---"
   ]
  },
  {
   "cell_type": "markdown",
   "metadata": {
    "id": "install-section"
   },
   "source": [
    "## Step 1: Install NEST Simulator\n",
    "\n",
    "Run this cell to install NEST using conda. This takes about 2-3 minutes."
   ]
  },
  {
   "cell_type": "code",
   "execution_count": null,
   "metadata": {
    "id": "install-nest"
   },
   "outputs": [],
   "source": [
    "%%bash\n",
    "# Install conda if not already available\n",
    "if ! command -v conda &> /dev/null; then\n",
    "    echo \"Installing Miniconda...\"\n",
    "    wget -q https://repo.anaconda.com/miniconda/Miniconda3-latest-Linux-x86_64.sh -O miniconda.sh\n",
    "    bash miniconda.sh -b -p $HOME/miniconda\n",
    "    rm miniconda.sh\n",
    "    export PATH=\"$HOME/miniconda/bin:$PATH\"\n",
    "    conda init bash\n",
    "fi\n",
    "\n",
    "# Install NEST Simulator from conda-forge\n",
    "echo \"Installing NEST Simulator...\"\n",
    "conda install -y -c conda-forge nest-simulator -q\n",
    "\n",
    "echo \"\\n✅ NEST installation complete!\""
   ]
  },
  {
   "cell_type": "markdown",
   "metadata": {
    "id": "verify-section"
   },
   "source": [
    "## Step 2: Verify Installation\n",
    "\n",
    "Check that NEST is properly installed and import it."
   ]
  },
  {
   "cell_type": "code",
   "execution_count": null,
   "metadata": {
    "id": "verify-nest"
   },
   "outputs": [],
   "source": [
    "import nest\n",
    "import matplotlib.pyplot as plt\n",
    "import numpy as np\n",
    "\n",
    "print(f\"✅ NEST Simulator version: {nest.__version__}\")\n",
    "print(f\"✅ Available neuron models: {len(nest.node_models)}\")\n",
    "print(f\"✅ Available synapse models: {len(nest.synapse_models)}\")\n",
    "print(\"\\n🎉 NEST is ready to use!\")"
   ]
  },
  {
   "cell_type": "markdown",
   "metadata": {
    "id": "example1-section"
   },
   "source": [
    "## Example 1: Single Neuron Simulation\n",
    "\n",
    "Simple example of simulating a single integrate-and-fire neuron with constant current injection."
   ]
  },
  {
   "cell_type": "code",
   "execution_count": null,
   "metadata": {
    "id": "example1-code"
   },
   "outputs": [],
   "source": [
    "# Reset NEST kernel\n",
    "nest.ResetKernel()\n",
    "\n",
    "# Create a single integrate-and-fire neuron\n",
    "neuron = nest.Create('iaf_psc_alpha')\n",
    "\n",
    "# Create a constant current generator\n",
    "dc_generator = nest.Create('dc_generator', params={'amplitude': 500.0})\n",
    "\n",
    "# Create a voltmeter to record membrane potential\n",
    "voltmeter = nest.Create('voltmeter')\n",
    "\n",
    "# Create a spike recorder\n",
    "spike_recorder = nest.Create('spike_recorder')\n",
    "\n",
    "# Connect devices to neuron\n",
    "nest.Connect(dc_generator, neuron)\n",
    "nest.Connect(voltmeter, neuron)\n",
    "nest.Connect(neuron, spike_recorder)\n",
    "\n",
    "# Simulate for 100ms\n",
    "nest.Simulate(100.0)\n",
    "\n",
    "# Get recorded data\n",
    "vm_times = voltmeter.events['times']\n",
    "vm_values = voltmeter.events['V_m']\n",
    "spike_times = spike_recorder.events['times']\n",
    "\n",
    "# Plot results\n",
    "fig, ax = plt.subplots(figsize=(12, 5))\n",
    "ax.plot(vm_times, vm_values, 'b-', linewidth=2)\n",
    "ax.set_xlabel('Time (ms)', fontsize=12)\n",
    "ax.set_ylabel('Membrane Potential (mV)', fontsize=12)\n",
    "ax.set_title('Single Neuron with Constant Current Injection', fontsize=14, fontweight='bold')\n",
    "ax.grid(True, alpha=0.3)\n",
    "\n",
    "# Mark spike times\n",
    "for spike_time in spike_times:\n",
    "    ax.axvline(spike_time, color='r', linestyle='--', alpha=0.5, linewidth=1)\n",
    "\n",
    "plt.tight_layout()\n",
    "plt.show()\n",
    "\n",
    "print(f\"\\n📊 Number of spikes: {len(spike_times)}\")\n",
    "print(f\"📊 First spike at: {spike_times[0]:.2f} ms\")\n",
    "if len(spike_times) > 1:\n",
    "    mean_isi = np.mean(np.diff(spike_times))\n",
    "    firing_rate = 1000.0 / mean_isi\n",
    "    print(f\"📊 Mean firing rate: {firing_rate:.2f} Hz\")"
   ]
  },
  {
   "cell_type": "markdown",
   "metadata": {
    "id": "example2-section"
   },
   "source": [
    "## Example 2: Small Network - Excitatory and Inhibitory Neurons\n",
    "\n",
    "Simulate a small network with excitatory and inhibitory neurons."
   ]
  },
  {
   "cell_type": "code",
   "execution_count": null,
   "metadata": {
    "id": "example2-code"
   },
   "outputs": [],
   "source": [
    "# Reset NEST kernel\n",
    "nest.ResetKernel()\n",
    "\n",
    "# Network parameters\n",
    "n_excitatory = 80  # Number of excitatory neurons\n",
    "n_inhibitory = 20  # Number of inhibitory neurons\n",
    "simulation_time = 1000.0  # ms\n",
    "\n",
    "# Create neurons\n",
    "excitatory = nest.Create('iaf_psc_alpha', n_excitatory)\n",
    "inhibitory = nest.Create('iaf_psc_alpha', n_inhibitory)\n",
    "\n",
    "# Create Poisson noise generators for background activity\n",
    "noise = nest.Create('poisson_generator', params={'rate': 8000.0})\n",
    "\n",
    "# Create spike recorders\n",
    "spike_recorder_exc = nest.Create('spike_recorder')\n",
    "spike_recorder_inh = nest.Create('spike_recorder')\n",
    "\n",
    "# Synapse parameters\n",
    "syn_exc = {'weight': 50.0, 'delay': 1.0}\n",
    "syn_inh = {'weight': -200.0, 'delay': 1.0}\n",
    "\n",
    "# Connect noise to all neurons\n",
    "nest.Connect(noise, excitatory + inhibitory, syn_spec={'weight': 30.0, 'delay': 1.0})\n",
    "\n",
    "# Connect excitatory to all neurons (E→E and E→I)\n",
    "nest.Connect(excitatory, excitatory + inhibitory, \n",
    "             conn_spec={'rule': 'pairwise_bernoulli', 'p': 0.1},\n",
    "             syn_spec=syn_exc)\n",
    "\n",
    "# Connect inhibitory to all neurons (I→E and I→I)\n",
    "nest.Connect(inhibitory, excitatory + inhibitory,\n",
    "             conn_spec={'rule': 'pairwise_bernoulli', 'p': 0.1},\n",
    "             syn_spec=syn_inh)\n",
    "\n",
    "# Connect spike recorders\n",
    "nest.Connect(excitatory, spike_recorder_exc)\n",
    "nest.Connect(inhibitory, spike_recorder_inh)\n",
    "\n",
    "# Simulate\n",
    "print(\"🔄 Simulating network...\")\n",
    "nest.Simulate(simulation_time)\n",
    "print(\"✅ Simulation complete!\")\n",
    "\n",
    "# Get spike data\n",
    "exc_events = spike_recorder_exc.events\n",
    "inh_events = spike_recorder_inh.events\n",
    "\n",
    "# Create raster plot\n",
    "fig, (ax1, ax2) = plt.subplots(2, 1, figsize=(14, 8), sharex=True)\n",
    "\n",
    "# Plot excitatory neurons\n",
    "ax1.scatter(exc_events['times'], exc_events['senders'], \n",
    "            s=2, c='blue', alpha=0.6, label='Excitatory')\n",
    "ax1.set_ylabel('Neuron ID', fontsize=12)\n",
    "ax1.set_title('Excitatory Neurons', fontsize=12, fontweight='bold')\n",
    "ax1.grid(True, alpha=0.3)\n",
    "ax1.legend()\n",
    "\n",
    "# Plot inhibitory neurons\n",
    "ax2.scatter(inh_events['times'], inh_events['senders'],\n",
    "            s=2, c='red', alpha=0.6, label='Inhibitory')\n",
    "ax2.set_xlabel('Time (ms)', fontsize=12)\n",
    "ax2.set_ylabel('Neuron ID', fontsize=12)\n",
    "ax2.set_title('Inhibitory Neurons', fontsize=12, fontweight='bold')\n",
    "ax2.grid(True, alpha=0.3)\n",
    "ax2.legend()\n",
    "\n",
    "plt.tight_layout()\n",
    "plt.show()\n",
    "\n",
    "# Calculate and display statistics\n",
    "n_spikes_exc = len(exc_events['times'])\n",
    "n_spikes_inh = len(inh_events['times'])\n",
    "rate_exc = n_spikes_exc / (n_excitatory * simulation_time / 1000.0)\n",
    "rate_inh = n_spikes_inh / (n_inhibitory * simulation_time / 1000.0)\n",
    "\n",
    "print(f\"\\n📊 Network Statistics:\")\n",
    "print(f\"  Excitatory neurons: {n_excitatory}\")\n",
    "print(f\"  Inhibitory neurons: {n_inhibitory}\")\n",
    "print(f\"  Total spikes (E): {n_spikes_exc}\")\n",
    "print(f\"  Total spikes (I): {n_spikes_inh}\")\n",
    "print(f\"  Mean firing rate (E): {rate_exc:.2f} Hz\")\n",
    "print(f\"  Mean firing rate (I): {rate_inh:.2f} Hz\")"
   ]
  },
  {
   "cell_type": "markdown",
   "metadata": {
    "id": "example3-section"
   },
   "source": [
    "## Example 3: Balanced Random Network (Brunel Model)\n",
    "\n",
    "Implementation of a balanced random network as described in Brunel (2000)."
   ]
  },
  {
   "cell_type": "code",
   "execution_count": null,
   "metadata": {
    "id": "example3-code"
   },
   "outputs": [],
   "source": [
    "# Reset NEST kernel\n",
    "nest.ResetKernel()\n",
    "nest.set_verbosity('M_WARNING')\n",
    "\n",
    "# Network parameters (scaled down for Colab)\n",
    "N_neurons = 1000      # Total number of neurons\n",
    "gamma = 0.25          # Ratio of inhibitory to excitatory neurons\n",
    "N_E = int(N_neurons * (1 - gamma))  # Excitatory neurons\n",
    "N_I = int(N_neurons * gamma)         # Inhibitory neurons\n",
    "\n",
    "# Connectivity\n",
    "C_E = int(0.1 * N_E)  # Number of excitatory synapses per neuron\n",
    "C_I = int(0.1 * N_I)  # Number of inhibitory synapses per neuron\n",
    "\n",
    "# Synapse parameters\n",
    "J_E = 0.1    # mV (excitatory synaptic weight)\n",
    "g = 5.0      # Relative inhibitory to excitatory synaptic weight\n",
    "J_I = -g * J_E\n",
    "delay = 1.5  # ms (synaptic delay)\n",
    "\n",
    "# External input\n",
    "nu_ext = 8.0  # kHz (external input rate)\n",
    "p_rate = nu_ext * 1000.0  # Convert to Hz\n",
    "\n",
    "# Simulation parameters\n",
    "sim_time = 1000.0  # ms\n",
    "\n",
    "print(\"🔧 Building network...\")\n",
    "print(f\"  E neurons: {N_E}, I neurons: {N_I}\")\n",
    "print(f\"  Connections per neuron: {C_E} (E), {C_I} (I)\")\n",
    "\n",
    "# Create neuron populations\n",
    "neurons_E = nest.Create('iaf_psc_delta', N_E)\n",
    "neurons_I = nest.Create('iaf_psc_delta', N_I)\n",
    "all_neurons = neurons_E + neurons_I\n",
    "\n",
    "# Create external input\n",
    "poisson_generator = nest.Create('poisson_generator', params={'rate': p_rate})\n",
    "\n",
    "# Create spike recorder (record from subset for visualization)\n",
    "spike_recorder = nest.Create('spike_recorder')\n",
    "\n",
    "# Connect Poisson input to all neurons\n",
    "nest.Connect(poisson_generator, all_neurons, syn_spec={'weight': J_E, 'delay': delay})\n",
    "\n",
    "# Connect E→E and E→I\n",
    "print(\"🔗 Connecting excitatory neurons...\")\n",
    "nest.Connect(neurons_E, all_neurons,\n",
    "             conn_spec={'rule': 'fixed_indegree', 'indegree': C_E},\n",
    "             syn_spec={'weight': J_E, 'delay': delay})\n",
    "\n",
    "# Connect I→E and I→I\n",
    "print(\"🔗 Connecting inhibitory neurons...\")\n",
    "nest.Connect(neurons_I, all_neurons,\n",
    "             conn_spec={'rule': 'fixed_indegree', 'indegree': C_I},\n",
    "             syn_spec={'weight': J_I, 'delay': delay})\n",
    "\n",
    "# Connect spike recorder to first 100 neurons\n",
    "nest.Connect(all_neurons[:100], spike_recorder)\n",
    "\n",
    "# Simulate\n",
    "print(\"🔄 Simulating...\")\n",
    "nest.Simulate(sim_time)\n",
    "print(\"✅ Simulation complete!\")\n",
    "\n",
    "# Get spike data\n",
    "events = spike_recorder.events\n",
    "spike_times = events['times']\n",
    "spike_senders = events['senders']\n",
    "\n",
    "# Plot raster plot\n",
    "fig, (ax1, ax2) = plt.subplots(2, 1, figsize=(14, 8), \n",
    "                                gridspec_kw={'height_ratios': [3, 1]})\n",
    "\n",
    "# Raster plot\n",
    "ax1.scatter(spike_times, spike_senders, s=1, c='black', alpha=0.5)\n",
    "ax1.set_ylabel('Neuron ID', fontsize=12)\n",
    "ax1.set_title('Balanced Random Network - Raster Plot', fontsize=14, fontweight='bold')\n",
    "ax1.grid(True, alpha=0.3)\n",
    "\n",
    "# Population firing rate (histogram)\n",
    "bin_size = 10.0  # ms\n",
    "bins = np.arange(0, sim_time + bin_size, bin_size)\n",
    "hist, _ = np.histogram(spike_times, bins=bins)\n",
    "rate = hist / (bin_size / 1000.0) / 100  # Convert to Hz\n",
    "bin_centers = bins[:-1] + bin_size / 2\n",
    "\n",
    "ax2.plot(bin_centers, rate, 'b-', linewidth=2)\n",
    "ax2.set_xlabel('Time (ms)', fontsize=12)\n",
    "ax2.set_ylabel('Population Rate (Hz)', fontsize=12)\n",
    "ax2.set_title('Population Firing Rate', fontsize=12, fontweight='bold')\n",
    "ax2.grid(True, alpha=0.3)\n",
    "\n",
    "plt.tight_layout()\n",
    "plt.show()\n",
    "\n",
    "# Statistics\n",
    "total_spikes = len(spike_times)\n",
    "mean_rate = total_spikes / (100 * sim_time / 1000.0)\n",
    "\n",
    "print(f\"\\n📊 Network Statistics:\")\n",
    "print(f\"  Total neurons: {N_neurons} (E: {N_E}, I: {N_I})\")\n",
    "print(f\"  Total spikes recorded: {total_spikes}\")\n",
    "print(f\"  Mean firing rate: {mean_rate:.2f} Hz\")\n",
    "print(f\"  E/I ratio: {1/gamma:.2f}\")"
   ]
  },
  {
   "cell_type": "markdown",
   "metadata": {
    "id": "resources-section"
   },
   "source": [
    "## Additional Resources\n",
    "\n",
    "### NEST Documentation\n",
    "- [NEST Homepage](https://nest-simulator.org)\n",
    "- [NEST Documentation](https://nest-simulator.readthedocs.io)\n",
    "- [PyNEST Tutorial](https://nest-simulator.readthedocs.io/en/stable/tutorials/index.html)\n",
    "- [Example Networks](https://nest-simulator.readthedocs.io/en/stable/examples/index.html)\n",
    "\n",
    "### Available Models\n",
    "You can list all available neuron and synapse models:"
   ]
  },
  {
   "cell_type": "code",
   "execution_count": null,
   "metadata": {
    "id": "list-models"
   },
   "outputs": [],
   "source": [
    "import nest\n",
    "\n",
    "print(\"🧠 Neuron Models:\")\n",
    "neuron_models = [m for m in nest.node_models if 'generator' not in m and 'recorder' not in m]\n",
    "for i, model in enumerate(sorted(neuron_models[:20]), 1):  # Show first 20\n",
    "    print(f\"  {i:2d}. {model}\")\n",
    "print(f\"\\n  ... and {len(neuron_models) - 20} more models\\n\")\n",
    "\n",
    "print(\"🔗 Synapse Models:\")\n",
    "for i, model in enumerate(sorted(nest.synapse_models[:15]), 1):  # Show first 15\n",
    "    print(f\"  {i:2d}. {model}\")\n",
    "print(f\"\\n  ... and {len(nest.synapse_models) - 15} more models\")"
   ]
  },
  {
   "cell_type": "markdown",
   "metadata": {
    "id": "tips-section"
   },
   "source": [
    "## Tips for Using NEST in Colab\n",
    "\n",
    "### Resource Management\n",
    "- **Free tier limits**: Colab has RAM and runtime limits (~12GB RAM, ~12 hours)\n",
    "- **Scale your simulations**: Start with smaller networks, then scale up\n",
    "- **Save your work**: Download important results before session expires\n",
    "\n",
    "### Performance Tips\n",
    "1. Use `nest.set_verbosity('M_WARNING')` to reduce output\n",
    "2. Record from subsets of neurons, not the entire network\n",
    "3. Use `nest.SetKernelStatus({'local_num_threads': 2})` for parallel processing\n",
    "\n",
    "### Saving Results\n",
    "You can save plots and data to Google Drive:"
   ]
  },
  {
   "cell_type": "code",
   "execution_count": null,
   "metadata": {
    "id": "save-example"
   },
   "outputs": [],
   "source": [
    "# Mount Google Drive (optional)\n",
    "from google.colab import drive\n",
    "# drive.mount('/content/drive')\n",
    "\n",
    "# Save figure example\n",
    "# plt.savefig('/content/drive/MyDrive/nest_simulation.png', dpi=300, bbox_inches='tight')\n",
    "\n",
    "# Save data example\n",
    "# np.save('/content/drive/MyDrive/spike_data.npy', spike_times)\n",
    "\n",
    "print(\"💾 Uncomment the code above to save files to Google Drive\")"
   ]
  },
  {
   "cell_type": "markdown",
   "metadata": {
    "id": "next-steps"
   },
   "source": [
    "## Next Steps\n",
    "\n",
    "Try modifying the examples above:\n",
    "- Change network sizes and connectivity parameters\n",
    "- Explore different neuron models (e.g., `aeif_cond_alpha`, `hh_psc_alpha`)\n",
    "- Implement synaptic plasticity (STDP, STP)\n",
    "- Create spatially structured networks\n",
    "- Analyze network dynamics and statistics\n",
    "\n",
    "Happy simulating! 🧠⚡"
   ]
  }
 ],
 "metadata": {
  "colab": {
   "provenance": [],
   "toc_visible": true
  },
  "kernelspec": {
   "display_name": "Python 3",
   "language": "python",
   "name": "python3"
  },
  "language_info": {
   "codemirror_mode": {
    "name": "ipython",
    "version": 3
   },
   "file_extension": ".py",
   "mimetype": "text/x-python",
   "name": "python",
   "nbconvert_exporter": "python",
   "pygments_lexer": "ipython3",
   "version": "3.8.0"
  }
 },
 "nbformat": 4,
 "nbformat_minor": 0
}
