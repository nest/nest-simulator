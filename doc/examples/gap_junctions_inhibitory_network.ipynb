{
 "cells": [
   {
  "cell_type": "markdown",
  "metadata": {},
  "source": [
    "\n\n"
  ]
},{
 "cell_type": "code",
 "execution_count": null,
 "metadata": {
  "collapsed": false
 },
 "outputs": [],
 "source": [
   "    \n    \n"
 ]
},{
  "cell_type": "markdown",
  "metadata": {},
  "source": [
    "Gap Junctions: Inhibitory network example\n------------------\nThis script simulates an inhibitory network of 500 Hodgkin-Huxley neurons.\nWithout the gap junctions (meaning for `gap_weight = 0.0`) the network\nshows an asynchronous irregular state that is caused by the external\nexcitatory Poissonian drive being balanced by the inhibitory feedback\nwithin the network. With increasing `gap_weight` the network synchronizes:\nFor a lower gap weight of 0.3 nS the network remains in an asynchronous\nstate. With a weight of 0.54 nS the network switches randomly between the\nasynchronous to the synchronous state, while for a gap weight of 0.7 nS\na stable synchronous state is reached.\n\nThis example is also used as test case 2 (see figure 9 and 10)\nin Hahne et al. (2015)\n**A unified framework for spiking and gap-junction interactions\nin distributed neuronal network simulations**, *Front. Neuroinform.*\nhttp://dx.doi.org/10.3389/neuro.11.012.2008\n\n"
  ]
},{
 "cell_type": "code",
 "execution_count": null,
 "metadata": {
  "collapsed": false
 },
 "outputs": [],
 "source": [
   "    \n    import nest\n    import pylab as pl\n    import numpy\n    import random\n    \n    n_neuron = 500\n    gap_per_neuron = 60\n    inh_per_neuron = 50\n    delay = 1.0\n    j_exc = 300.\n    j_inh = -50.\n    threads = 8\n    stepsize = 0.05\n    simtime = 501.\n    gap_weight = 0.3\n    \n    nest.ResetKernel()\n    \n"
 ]
},{
  "cell_type": "markdown",
  "metadata": {},
  "source": [
    "First we set the random seed, adjust the kernel settings and create\n`hh_psc_alpha_gap` neurons, `spike_detector` and `poisson_generator`.\n\n"
  ]
},{
 "cell_type": "code",
 "execution_count": null,
 "metadata": {
  "collapsed": false
 },
 "outputs": [],
 "source": [
   "    random.seed(1)\n    \n    nest.SetKernelStatus({'resolution': 0.05,\n                          'total_num_virtual_procs': threads,\n                          'print_time': True,\n                          # Settings for waveform relaxation\n                          # 'use_wfr': False uses communication in every step\n                          # instead of an iterative solution\n                          'use_wfr': True,\n                          'wfr_comm_interval': 1.0,\n                          'wfr_tol': 0.0001,\n                          'wfr_max_iterations': 15,\n                          'wfr_interpolation_order': 3})\n    \n    neurons = nest.Create('hh_psc_alpha_gap', n_neuron)\n    \n    sd = nest.Create(\"spike_detector\", params={'to_file': False,\n                                               'to_memory': True})\n    pg = nest.Create(\"poisson_generator\", params={'rate': 500.0})\n    \n"
 ]
},{
  "cell_type": "markdown",
  "metadata": {},
  "source": [
    "Each neuron shall receive `inh_per_neuron = 50` inhibitory synaptic\ninputs that are randomly selected from all other neurons, each\nwith synaptic weight `j_inh = -50.0` pA and a synaptic delay\nof 1.0 ms. Furthermore each neuron shall receive an excitatory\nexternal Poissonian input of 500.0 Hz with synaptic weight\n`j_exc = 300.0` pA and the same delay.\nThe desired connections are created with the following commands:\n\n"
  ]
},{
 "cell_type": "code",
 "execution_count": null,
 "metadata": {
  "collapsed": false
 },
 "outputs": [],
 "source": [
   "    conn_dict = {'rule': 'fixed_indegree',\n                 'indegree': inh_per_neuron,\n                 'autapses': False,\n                 'multapses': True}\n    \n    syn_dict = {'model': 'static_synapse',\n                'weight': j_inh,\n                'delay': delay}\n    \n    nest.Connect(neurons, neurons, conn_dict, syn_dict)\n    \n    nest.Connect(pg, neurons, 'all_to_all', syn_spec={'model': 'static_synapse',\n                                                      'weight': j_exc,\n                                                      'delay': delay})\n    \n"
 ]
},{
  "cell_type": "markdown",
  "metadata": {},
  "source": [
    "Then the neurons are connected to the `spike_detector` and the initial\nmembrane potential of each neuron is set randomly between -40 and -80 mV.\n\n"
  ]
},{
 "cell_type": "code",
 "execution_count": null,
 "metadata": {
  "collapsed": false
 },
 "outputs": [],
 "source": [
   "    nest.Connect(neurons, sd)\n    \n    for i in range(n_neuron):\n        nest.SetStatus([neurons[i]], {'V_m': (-40. - 40. * random.random())})\n    \n"
 ]
},{
  "cell_type": "markdown",
  "metadata": {},
  "source": [
    "Finally gap junctions are added to the network.\n(60*500)/2 `gap_junction` connections are added randomly\nresulting in an average of 60 gap-junction connections per neuron.\nWe must not use the `fixed_indegree` oder `fixed_outdegree` functionality of\n`nest.Connect()` to create the connections, as `gap_junction` connections are\nbidirectional connections and we need to make sure that the same neurons\nare connected in both ways. This is achieved by creating the connections on\nthe Python level with the `random` module of the Python Standard Library\nand connecting the neurons using the `make_symmetric` flag for\n`one_to_one` connections.\n\n"
  ]
},{
 "cell_type": "code",
 "execution_count": null,
 "metadata": {
  "collapsed": false
 },
 "outputs": [],
 "source": [
   "    n_connection = int(n_neuron * gap_per_neuron / 2)\n    connections = numpy.transpose(\n        [random.sample(neurons, 2) for _ in range(n_connection)])\n    \n    nest.Connect(connections[0], connections[1],\n                 {'rule': 'one_to_one', 'make_symmetric': True},\n                 {'model': 'gap_junction', 'weight': gap_weight})\n    \n"
 ]
},{
  "cell_type": "markdown",
  "metadata": {},
  "source": [
    "In the end we start the simulation and plot the spike pattern.\n\n"
  ]
},{
 "cell_type": "code",
 "execution_count": null,
 "metadata": {
  "collapsed": false
 },
 "outputs": [],
 "source": [
   "    nest.Simulate(simtime)\n    \n    times = nest.GetStatus(sd, 'events')[0]['times']\n    spikes = nest.GetStatus(sd, 'events')[0]['senders']\n    n_spikes = nest.GetStatus(sd, 'n_events')[0]\n    \n    hz_rate = (1000.0 * n_spikes / simtime) / n_neuron\n    \n    pl.figure(1)\n    pl.plot(times, spikes, 'o')\n    pl.title('Average spike rate (Hz): %.2f' % hz_rate)\n    pl.xlabel('time (ms)')\n    pl.ylabel('neuron no')\n    pl.show()\n    \n    \n"
 ]
},{
  "cell_type": "markdown",
  "metadata": {},
  "source": [
    "\n\n"
  ]
},{
 "cell_type": "code",
 "execution_count": null,
 "metadata": {
  "collapsed": false
 },
 "outputs": [],
 "source": [
   "\n"
 ]
}
],
 "metadata": {
  "kernelspec": {
   "display_name": "Python 2",
   "language": "python",
   "name": "python2"
  },
  "language_info": {
   "codemirror_mode": {
    "name": "ipython",
    "version": 2
   },
   "file_extension": ".py",
   "mimetype": "text/x-python",
   "name": "python",
   "nbconvert_exporter": "python",
   "pygments_lexer": "ipython2",
   "version": "2.7.3"
  }
 },
 "nbformat": 4,
 "nbformat_minor": 0
}