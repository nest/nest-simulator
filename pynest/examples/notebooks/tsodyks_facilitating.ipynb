{
 "cells": [
  {
   "cell_type": "code",
   "execution_count": null,
   "metadata": {
    "collapsed": false
   },
   "outputs": [],
   "source": [
    "%matplotlib inline"
   ]
  },
  {
   "cell_type": "markdown",
   "metadata": {},
   "source": [
    "\n",
    "# Tsodyks facilitating example\n",
    "\n",
    "This scripts simulates two neurons. One is driven with dc-input and\n",
    "connected to the other one with a facilitating Tsodyks synapse. The\n",
    "membrane potential trace of the second neuron is recorded.\n",
    "\n",
    "This example reproduces figure 1B of [1]_\n",
    "This example is analog to ``tsodyks_depressing.py``, except that\n",
    "different synapse parameters are used. Here, a small facilitation\n",
    "parameter ``U`` causes a slow saturation of the synaptic efficacy\n",
    "(Eq. 2.2), enabling a facilitating behavior.\n",
    "\n",
    "## References\n",
    "\n",
    ".. [1] Tsodyks M, Pawelzik K, Markram H (1998). Neural networks with dynamic synapses. Neural\n",
    "       computation, http://dx.doi.org/10.1162/089976698300017502\n",
    "\n",
    "## See Also\n",
    "\n",
    ":doc:`tsodyks_depressing`\n"
   ]
  },
  {
   "cell_type": "markdown",
   "metadata": {},
   "source": [
    "First, we import all necessary modules for simulation and plotting.\n",
    "\n"
   ]
  },
  {
   "cell_type": "code",
   "execution_count": null,
   "metadata": {
    "collapsed": false
   },
   "outputs": [],
   "source": [
    "import nest\n",
    "import nest.voltage_trace\n",
    "import matplotlib.pyplot as plt\n",
    "from numpy import exp"
   ]
  },
  {
   "cell_type": "markdown",
   "metadata": {},
   "source": [
    "Second, the simulation parameters are assigned to variables. The neuron\n",
    "and synapse parameters are stored into a dictionary.\n",
    "\n"
   ]
  },
  {
   "cell_type": "code",
   "execution_count": null,
   "metadata": {
    "collapsed": false
   },
   "outputs": [],
   "source": [
    "resolution = 0.1    # simulation step size (ms)\n",
    "Tau = 40.           # membrane time constant\n",
    "Theta = 15.0        # threshold\n",
    "E_L = 0.0           # reset potential of membrane potential\n",
    "R = 1.0             # membrane resistance (GOhm)\n",
    "C = Tau / R         # Tau (ms)/R in NEST units\n",
    "TauR = 2.0          # refractory time\n",
    "Tau_psc = 1.5       # time constant of PSC (= Tau_inact)\n",
    "Tau_rec = 130.0     # recovery time\n",
    "Tau_fac = 530.0     # facilitation time\n",
    "U = 0.03            # facilitation parameter U\n",
    "A = 1540.0          # PSC weight in pA\n",
    "f = 20.0 / 1000.0   # frequency in Hz converted to 1/ms\n",
    "Tend = 1200.0       # simulation time\n",
    "TIstart = 50.0      # start time of dc\n",
    "TIend = 1050.0      # end time of dc\n",
    "I0 = Theta * C / Tau / (1 - exp(-(1 / f - TauR) / Tau))  # dc amplitude\n",
    "\n",
    "neuron_param = {\"tau_m\": Tau,\n",
    "                \"t_ref\": TauR,\n",
    "                \"tau_syn_ex\": Tau_psc,\n",
    "                \"tau_syn_in\": Tau_psc,\n",
    "                \"C_m\": C,\n",
    "                \"V_reset\": E_L,\n",
    "                \"E_L\": E_L,\n",
    "                \"V_m\": E_L,\n",
    "                \"V_th\": Theta}\n",
    "\n",
    "syn_param = {\"tau_psc\": Tau_psc,\n",
    "             \"tau_rec\": Tau_rec,\n",
    "             \"tau_fac\": Tau_fac,\n",
    "             \"U\": U,\n",
    "             \"delay\": 0.1,\n",
    "             \"weight\": A,\n",
    "             \"u\": 0.0,\n",
    "             \"x\": 1.0}"
   ]
  },
  {
   "cell_type": "markdown",
   "metadata": {},
   "source": [
    "Third, we reset the kernel and set the resolution using the corresponding\n",
    "kernel attribute.\n",
    "\n"
   ]
  },
  {
   "cell_type": "code",
   "execution_count": null,
   "metadata": {
    "collapsed": false
   },
   "outputs": [],
   "source": [
    "nest.ResetKernel()\n",
    "nest.resolution = resolution"
   ]
  },
  {
   "cell_type": "markdown",
   "metadata": {},
   "source": [
    "Fourth, the nodes are created using ``Create``. We store the returned\n",
    "handles in variables for later reference.\n",
    "\n"
   ]
  },
  {
   "cell_type": "code",
   "execution_count": null,
   "metadata": {
    "collapsed": false
   },
   "outputs": [],
   "source": [
    "neurons = nest.Create(\"iaf_psc_exp\", 2)\n",
    "dc_gen = nest.Create(\"dc_generator\")\n",
    "volts = nest.Create(\"voltmeter\")"
   ]
  },
  {
   "cell_type": "markdown",
   "metadata": {},
   "source": [
    "Fifth, the ``iaf_psc_exp`` neurons, the ``dc_generator`` and the ``voltmeter``\n",
    "are configured using ``SetStatus``, which expects a list of node handles and\n",
    "a parameter dictionary or a list of parameter dictionaries.\n",
    "\n"
   ]
  },
  {
   "cell_type": "code",
   "execution_count": null,
   "metadata": {
    "collapsed": false
   },
   "outputs": [],
   "source": [
    "neurons.set(neuron_param)\n",
    "dc_gen.set(amplitude=I0, start=TIstart, stop=TIend)\n",
    "volts.set(label=\"voltmeter\", interval=1.)"
   ]
  },
  {
   "cell_type": "markdown",
   "metadata": {},
   "source": [
    "Sixth, the ``dc_generator`` is connected to the first neuron\n",
    "(`neurons[0]`) and the `voltmeter` is connected to the second neuron\n",
    "(`neurons[1]`). The command `Connect` has different variants. Plain\n",
    "``Connect`` just takes the handles of pre- and postsynaptic nodes and\n",
    "uses the default values for weight and delay. Note that the connection\n",
    "direction for the ``voltmeter`` reflects the signal flow in the simulation\n",
    "kernel, because it observes the neuron instead of receiving events from it.\n",
    "\n"
   ]
  },
  {
   "cell_type": "code",
   "execution_count": null,
   "metadata": {
    "collapsed": false
   },
   "outputs": [],
   "source": [
    "nest.Connect(dc_gen, neurons[0])\n",
    "nest.Connect(volts, neurons[1])"
   ]
  },
  {
   "cell_type": "markdown",
   "metadata": {},
   "source": [
    "Seventh, the first neuron (`neurons[0]`) is connected to the second\n",
    "neuron (`neurons[1]`).  The command ``CopyModel`` copies the\n",
    "``tsodyks_synapse`` model to the new name ``syn`` with parameters\n",
    "``syn_param``.  The manually defined model ``syn`` is used in the\n",
    "connection routine via the ``syn_spec`` parameter.\n",
    "\n"
   ]
  },
  {
   "cell_type": "code",
   "execution_count": null,
   "metadata": {
    "collapsed": false
   },
   "outputs": [],
   "source": [
    "nest.CopyModel(\"tsodyks_synapse\", \"syn\", syn_param)\n",
    "nest.Connect(neurons[0], neurons[1], syn_spec=\"syn\")"
   ]
  },
  {
   "cell_type": "markdown",
   "metadata": {},
   "source": [
    "Finally, we simulate the configuration using the command ``Simulate``,\n",
    "where the simulation time `Tend` is passed as the argument.  We plot the\n",
    "target neuron's membrane potential as function of time.\n",
    "\n"
   ]
  },
  {
   "cell_type": "code",
   "execution_count": null,
   "metadata": {
    "collapsed": false
   },
   "outputs": [],
   "source": [
    "nest.Simulate(Tend)\n",
    "nest.voltage_trace.from_device(volts)\n",
    "plt.show()"
   ]
  },
  {
   "cell_type": "markdown",
   "metadata": {},
   "source": [
    "[![EBRAINS Notebook](https://nest-simulator.org/TryItOnEBRAINS.png)](https://lab.ebrains.eu/hub/user-redirect/git-pull?repo=https%3A%2F%2Fgithub.com%2Fjessica-mitchell%2Fnest-simulator&urlpath=lab%2Ftree%2Fnest-simulator%2Fpynest%2Fexamples%2Fnotebooks%2Fnotebooks%2Ftsodyks_facilitating.ipynb&branch=ebrains-button)\n"
   ]
  }
 ],
 "metadata": {
  "kernelspec": {
   "display_name": "EBRAINS-22.10",
   "language": "python",
   "name": "spack_python_kernel_release_202210"
  },
  "language_info": {
   "codemirror_mode": {
    "name": "ipython",
    "version": 3
   },
   "file_extension": ".py",
   "mimetype": "text/x-python",
   "name": "python",
   "nbconvert_exporter": "python",
   "pygments_lexer": "ipython3",
   "version": "3.9.6"
  }
 },
 "nbformat": 4,
 "nbformat_minor": 5
}
