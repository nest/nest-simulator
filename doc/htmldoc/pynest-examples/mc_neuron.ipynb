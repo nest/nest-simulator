{
 "cells": [
  {
   "cell_type": "code",
   "execution_count": null,
   "metadata": {
    "collapsed": false
   },
   "outputs": [],
   "source": [
    "%matplotlib inline"
   ]
  },
  {
   "cell_type": "markdown",
   "metadata": {},
   "source": [
    "\n",
    "# Multi-compartment neuron example\n",
    "\n",
    "Simple example of how to use the three-compartment ``iaf_cond_alpha_mc``\n",
    "neuron model.\n",
    "\n",
    "Three stimulation paradigms are illustrated:\n",
    "\n",
    " - externally applied current, one compartment at a time\n",
    " - spikes impinging on each compartment, one at a time\n",
    " - rheobase current injected to soma causing output spikes\n",
    "\n",
    "Voltage and synaptic conductance traces are shown for all compartments.\n"
   ]
  },
  {
   "cell_type": "markdown",
   "metadata": {},
   "source": [
    "First, we import all necessary modules to simulate, analyze and plot this\n",
    "example.\n",
    "\n"
   ]
  },
  {
   "cell_type": "code",
   "execution_count": null,
   "metadata": {
    "collapsed": false
   },
   "outputs": [],
   "source": [
    "import nest\n",
    "import matplotlib.pyplot as plt\n",
    "\n",
    "nest.ResetKernel()"
   ]
  },
  {
   "cell_type": "markdown",
   "metadata": {},
   "source": [
    "We then extract the receptor types and the list of recordable quantities\n",
    "from the neuron model. Receptor types and recordable quantities uniquely\n",
    "define the receptor type and the compartment while establishing synaptic\n",
    "connections or assigning multimeters.\n",
    "\n"
   ]
  },
  {
   "cell_type": "code",
   "execution_count": null,
   "metadata": {
    "collapsed": false
   },
   "outputs": [],
   "source": [
    "syns = nest.GetDefaults('iaf_cond_alpha_mc')['receptor_types']\n",
    "print(f\"iaf_cond_alpha_mc receptor_types: {syns}\")\n",
    "\n",
    "rqs = nest.GetDefaults('iaf_cond_alpha_mc')['recordables']\n",
    "print(f\"iaf_cond_alpha_mc recordables   : {rqs}\")"
   ]
  },
  {
   "cell_type": "markdown",
   "metadata": {},
   "source": [
    "The simulation parameters are assigned to variables.\n",
    "\n"
   ]
  },
  {
   "cell_type": "code",
   "execution_count": null,
   "metadata": {
    "collapsed": false
   },
   "outputs": [],
   "source": [
    "params = {'V_th': -60.0,  # threshold potential\n",
    "          'V_reset': -65.0,  # reset potential\n",
    "          't_ref': 10.0,  # refractory period\n",
    "          'g_sp': 5.0,  # somato-proximal coupling conductance\n",
    "          'soma': {'g_L': 12.0},  # somatic leak conductance\n",
    "          # proximal excitatory and inhibitory synaptic time constants\n",
    "          'proximal': {'tau_syn_ex': 1.0,\n",
    "                       'tau_syn_in': 5.0},\n",
    "          'distal': {'C_m': 90.0}  # distal capacitance\n",
    "          }"
   ]
  },
  {
   "cell_type": "markdown",
   "metadata": {},
   "source": [
    "The nodes are created using ``Create``. We store the returned handles\n",
    "in variables for later reference.\n",
    "\n"
   ]
  },
  {
   "cell_type": "code",
   "execution_count": null,
   "metadata": {
    "collapsed": false
   },
   "outputs": [],
   "source": [
    "n = nest.Create('iaf_cond_alpha_mc', params=params)"
   ]
  },
  {
   "cell_type": "markdown",
   "metadata": {},
   "source": [
    "A ``multimeter`` is created and connected to the neurons. The parameters\n",
    "specified for the multimeter include the list of quantities that should be\n",
    "recorded and the time interval at which quantities are measured.\n",
    "\n"
   ]
  },
  {
   "cell_type": "code",
   "execution_count": null,
   "metadata": {
    "collapsed": false
   },
   "outputs": [],
   "source": [
    "mm = nest.Create('multimeter', params={'record_from': rqs, 'interval': 0.1})\n",
    "nest.Connect(mm, n)"
   ]
  },
  {
   "cell_type": "markdown",
   "metadata": {},
   "source": [
    "We create one current generator per compartment and configure a stimulus\n",
    "regime that drives distal, proximal and soma dendrites, in that order.\n",
    "Configuration of the current generator includes the definition of the start\n",
    "and stop times and the amplitude of the injected current.\n",
    "\n"
   ]
  },
  {
   "cell_type": "code",
   "execution_count": null,
   "metadata": {
    "collapsed": false
   },
   "outputs": [],
   "source": [
    "cgs = nest.Create('dc_generator', 3)\n",
    "cgs[0].set(start=250.0, stop=300.0, amplitude=50.0)  # soma\n",
    "cgs[1].set(start=150.0, stop=200.0, amplitude=-50.0)  # proxim.\n",
    "cgs[2].set(start=50.0, stop=100.0, amplitude=100.0)  # distal"
   ]
  },
  {
   "cell_type": "markdown",
   "metadata": {},
   "source": [
    "Generators are then connected to the correct compartments. Specification of\n",
    "the ``receptor_type`` uniquely defines the target compartment and receptor.\n",
    "\n"
   ]
  },
  {
   "cell_type": "code",
   "execution_count": null,
   "metadata": {
    "collapsed": false
   },
   "outputs": [],
   "source": [
    "nest.Connect(cgs[0], n, syn_spec={'receptor_type': syns['soma_curr']})\n",
    "nest.Connect(cgs[1], n, syn_spec={'receptor_type': syns['proximal_curr']})\n",
    "nest.Connect(cgs[2], n, syn_spec={'receptor_type': syns['distal_curr']})"
   ]
  },
  {
   "cell_type": "markdown",
   "metadata": {},
   "source": [
    "We create one excitatory and one inhibitory spike generator per compartment\n",
    "and configure a regime that drives distal, proximal and soma dendrites, in\n",
    "that order, alternating the excitatory and inhibitory spike generators.\n",
    "\n"
   ]
  },
  {
   "cell_type": "code",
   "execution_count": null,
   "metadata": {
    "collapsed": false
   },
   "outputs": [],
   "source": [
    "sgs = nest.Create('spike_generator', 6)\n",
    "sgs[0].spike_times = [600.0, 620.0]  # soma excitatory\n",
    "sgs[1].spike_times = [610.0, 630.0]  # soma inhibitory\n",
    "sgs[2].spike_times = [500.0, 520.0]  # proximal excitatory\n",
    "sgs[3].spike_times = [510.0, 530.0]  # proximal inhibitory\n",
    "sgs[4].spike_times = [400.0, 420.0]  # distal excitatory\n",
    "sgs[5].spike_times = [410.0, 430.0]  # distal inhibitory"
   ]
  },
  {
   "cell_type": "markdown",
   "metadata": {},
   "source": [
    "Connect generators to correct compartments in the same way as in case of\n",
    "current generator\n",
    "\n"
   ]
  },
  {
   "cell_type": "code",
   "execution_count": null,
   "metadata": {
    "collapsed": false
   },
   "outputs": [],
   "source": [
    "nest.Connect(sgs[0], n, syn_spec={'receptor_type': syns['soma_exc']})\n",
    "nest.Connect(sgs[1], n, syn_spec={'receptor_type': syns['soma_inh']})\n",
    "nest.Connect(sgs[2], n, syn_spec={'receptor_type': syns['proximal_exc']})\n",
    "nest.Connect(sgs[3], n, syn_spec={'receptor_type': syns['proximal_inh']})\n",
    "nest.Connect(sgs[4], n, syn_spec={'receptor_type': syns['distal_exc']})\n",
    "nest.Connect(sgs[5], n, syn_spec={'receptor_type': syns['distal_inh']})"
   ]
  },
  {
   "cell_type": "markdown",
   "metadata": {},
   "source": [
    "Run the simulation for 700 ms.\n",
    "\n"
   ]
  },
  {
   "cell_type": "code",
   "execution_count": null,
   "metadata": {
    "collapsed": false
   },
   "outputs": [],
   "source": [
    "nest.Simulate(700)"
   ]
  },
  {
   "cell_type": "markdown",
   "metadata": {},
   "source": [
    "Now we set the intrinsic current of soma to 150 pA to make the neuron spike.\n",
    "\n"
   ]
  },
  {
   "cell_type": "code",
   "execution_count": null,
   "metadata": {
    "collapsed": false
   },
   "outputs": [],
   "source": [
    "n.soma = {'I_e': 150.}"
   ]
  },
  {
   "cell_type": "markdown",
   "metadata": {},
   "source": [
    "We simulate the network for another 300 ms and retrieve recorded data from\n",
    "the multimeter\n",
    "\n"
   ]
  },
  {
   "cell_type": "code",
   "execution_count": null,
   "metadata": {
    "collapsed": false
   },
   "outputs": [],
   "source": [
    "nest.Simulate(300)\n",
    "rec = mm.events"
   ]
  },
  {
   "cell_type": "markdown",
   "metadata": {},
   "source": [
    "We create an array with the time points when the quantities were actually\n",
    "recorded\n",
    "\n"
   ]
  },
  {
   "cell_type": "code",
   "execution_count": null,
   "metadata": {
    "collapsed": false
   },
   "outputs": [],
   "source": [
    "t = rec['times']"
   ]
  },
  {
   "cell_type": "markdown",
   "metadata": {},
   "source": [
    "We plot the time traces of the membrane potential and the state of each\n",
    "membrane potential for soma, proximal, and distal dendrites (`V_m.s`, `V_m.p`\n",
    "and `V_m.d`).\n",
    "\n"
   ]
  },
  {
   "cell_type": "code",
   "execution_count": null,
   "metadata": {
    "collapsed": false
   },
   "outputs": [],
   "source": [
    "plt.figure()\n",
    "plt.subplot(211)\n",
    "plt.plot(t, rec['V_m.s'], t, rec['V_m.p'], t, rec['V_m.d'])\n",
    "plt.legend(('Soma', 'Proximal dendrite', 'Distal dendrite'),\n",
    "           loc='lower right')\n",
    "plt.axis([0, 1000, -76, -59])\n",
    "plt.ylabel('Membrane potential [mV]')\n",
    "plt.title('Responses of iaf_cond_alpha_mc neuron')"
   ]
  },
  {
   "cell_type": "markdown",
   "metadata": {},
   "source": [
    "Finally, we plot the time traces of the synaptic conductance measured in\n",
    "each compartment.\n",
    "\n"
   ]
  },
  {
   "cell_type": "code",
   "execution_count": null,
   "metadata": {
    "collapsed": false
   },
   "outputs": [],
   "source": [
    "plt.subplot(212)\n",
    "plt.plot(t, rec['g_ex.s'], 'b-', t, rec['g_ex.p'], 'g-',\n",
    "         t, rec['g_ex.d'], 'r-')\n",
    "plt.plot(t, rec['g_in.s'], 'b--', t, rec['g_in.p'], 'g--',\n",
    "         t, rec['g_in.d'], 'r--')\n",
    "plt.legend(('g_ex.s', 'g_ex.p', 'g_in.d', 'g_in.s', 'g_in.p', 'g_in.d'))\n",
    "plt.axis([350, 700, 0, 1.15])\n",
    "plt.xlabel('Time [ms]')\n",
    "plt.ylabel('Synaptic conductance [nS]')\n",
    "plt.show()"
   ]
  },
  {
   "cell_type": "markdown",
   "metadata": {},
   "source": [
    "[![EBRAINS Notebook](https://nest-simulator.org/TryItOnEBRAINS.png)](https://lab.ebrains.eu/hub/user-redirect/git-pull?repo=https%3A%2F%2Fgithub.com%2Fjessica-mitchell%2Fnest-simulator&urlpath=lab%2Ftree%2Fnest-simulator%2Fdoc%2Fhtmldoc%2Fpynest-examples%2Fmc_neuron.ipynb&branch=ebrains-button)\n"
   ]
  }
 ],
 "metadata": {
  "kernelspec": {
   "display_name": "EBRAINS-22.10",
   "language": "python",
   "name": "spack_python_kernel_release_202210"
  },
  "language_info": {
   "codemirror_mode": {
    "name": "ipython",
    "version": 3
   },
   "file_extension": ".py",
   "mimetype": "text/x-python",
   "name": "python",
   "nbconvert_exporter": "python",
   "pygments_lexer": "ipython3",
   "version": "3.9.6"
  }
 },
 "nbformat": 4,
 "nbformat_minor": 5
}
