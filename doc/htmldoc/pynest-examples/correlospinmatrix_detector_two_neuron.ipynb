{
 "cells": [
  {
   "cell_type": "code",
   "execution_count": null,
   "metadata": {
    "collapsed": false
   },
   "outputs": [],
   "source": [
    "%matplotlib inline"
   ]
  },
  {
   "cell_type": "markdown",
   "metadata": {},
   "source": [
    "\n",
    "# Correlospinmatrix detector example\n",
    "\n",
    "This scripts simulates two connected binary neurons, similar\n",
    "as in [1]_. It measures and plots the auto- and cross covariance functions\n",
    "of the individual neurons and between them, repsectively.\n",
    "\n",
    "## References\n",
    "\n",
    ".. [1] Ginzburg and Sompolinsky (1994). Theory of correlations in stochastic neural networks. 50(4) p. 3175. Fig. 1.\n"
   ]
  },
  {
   "cell_type": "code",
   "execution_count": null,
   "metadata": {
    "collapsed": false
   },
   "outputs": [],
   "source": [
    "import matplotlib.pyplot as plt\n",
    "import nest\n",
    "import numpy as np\n",
    "\n",
    "m_x = 0.5\n",
    "tau_m = 10.\n",
    "h = 0.1\n",
    "T = 1000000.\n",
    "tau_max = 100.\n",
    "\n",
    "csd = nest.Create(\"correlospinmatrix_detector\")\n",
    "csd.set(N_channels=2, tau_max=tau_max, Tstart=tau_max, delta_tau=h)\n",
    "\n",
    "n1 = nest.Create(\"ginzburg_neuron\")\n",
    "n1.set(theta=0.0, tau_m=tau_m, c_1=0.0, c_2=2. * m_x, c_3=1.0)\n",
    "\n",
    "n2 = nest.Create(\"mcculloch_pitts_neuron\")\n",
    "n2.set(theta=0.5, tau_m=tau_m)\n",
    "\n",
    "nest.Connect(n1, n2, syn_spec={\"weight\": 1.0})\n",
    "\n",
    "nest.Connect(n1, csd, syn_spec={\"receptor_type\": 0})\n",
    "nest.Connect(n2, csd, syn_spec={\"receptor_type\": 1})\n",
    "\n",
    "nest.Simulate(T)\n",
    "\n",
    "count_covariance = csd.count_covariance\n",
    "\n",
    "mean_activities = np.zeros(2, dtype=float)\n",
    "for i in range(2):\n",
    "    mean_activities[i] = count_covariance[i][i][int(tau_max / h)] * (h / T)\n",
    "\n",
    "print('mean activities =', mean_activities)\n",
    "\n",
    "covariance_matrix = np.zeros((2, 2, int(2 * tau_max / h) + 1), dtype=float)\n",
    "for i in range(2):\n",
    "    for j in range(2):\n",
    "        covariance_matrix[i, j] = count_covariance[i][j] * (h / T) - mean_activities[i] * mean_activities[j]\n",
    "\n",
    "ts = np.arange(-tau_max, tau_max + h, h)\n",
    "\n",
    "plt.title(\"auto- and cross covariance functions\")\n",
    "\n",
    "plt.plot(ts, covariance_matrix[0, 1], 'r', label=r\"$c_{12}$\")\n",
    "plt.plot(ts, covariance_matrix[1, 0], 'b', label=r\"$c_{21}$\")\n",
    "plt.plot(ts, covariance_matrix[0, 0], 'g', label=r\"$c_{11}$\")\n",
    "plt.plot(ts, covariance_matrix[1, 1], 'y', label=r\"$c_{22}$\")\n",
    "plt.xlabel(r\"time $t \\; \\mathrm{ms}$\")\n",
    "plt.ylabel(r\"$c$\")\n",
    "plt.legend()\n",
    "\n",
    "plt.show()"
   ]
  },
  {
   "cell_type": "markdown",
   "metadata": {},
   "source": [
    "[![EBRAINS Notebook](https://nest-simulator.org/TryItOnEBRAINS.png)](https://lab.ebrains.eu/hub/user-redirect/git-pull?repo=https%3A%2F%2Fgithub.com%2Fjessica-mitchell%2Fnest-simulator&urlpath=lab%2Ftree%2Fnest-simulator%2Fdoc%2Fhtmldoc%2Fpynest-examples%2Fcorrelospinmatrix_detector_two_neuron.ipynb&branch=ebrains-button)\n"
   ]
  }
 ],
 "metadata": {
  "kernelspec": {
   "display_name": "EBRAINS-22.10",
   "language": "python",
   "name": "spack_python_kernel_release_202210"
  },
  "language_info": {
   "codemirror_mode": {
    "name": "ipython",
    "version": 3
   },
   "file_extension": ".py",
   "mimetype": "text/x-python",
   "name": "python",
   "nbconvert_exporter": "python",
   "pygments_lexer": "ipython3",
   "version": "3.9.6"
  }
 },
 "nbformat": 4,
 "nbformat_minor": 5
}
