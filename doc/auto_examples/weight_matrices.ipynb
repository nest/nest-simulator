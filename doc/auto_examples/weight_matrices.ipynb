{
  "cells": [
    {
      "cell_type": "code",
      "execution_count": null,
      "metadata": {
        "collapsed": false
      },
      "outputs": [],
      "source": [
        "%matplotlib inline"
      ]
    },
    {
      "cell_type": "markdown",
      "metadata": {},
      "source": [
        "\nPlot weight matrices example\n----------------------------\n\nThis example demonstrates how to extract the connection strength\nfor all the synapses among two populations of neurons and gather\nthese values in weight matrices for further analysis and visualization.\n\nAll connection types between these populations are considered, i.e.,\nfour weight matrices are created and plotted.\n\n"
      ]
    },
    {
      "cell_type": "code",
      "execution_count": null,
      "metadata": {
        "collapsed": false
      },
      "outputs": [],
      "source": [
        "'''\nFirst, we import all necessary modules to extract, handle and plot\nthe connectivity matrices\n'''\n\nimport numpy as np\nimport pylab\nimport nest\nimport matplotlib.gridspec as gridspec\nfrom mpl_toolkits.axes_grid1 import make_axes_locatable\n\n'''\nWe now specify a function which takes as arguments lists of neuron gids\ncorresponding to each population\n'''\n\n\ndef plot_weight_matrices(E_neurons, I_neurons):\n    '''\n    Function to extract and plot weight matrices for all connections\n    among E_neurons and I_neurons\n    '''\n\n    '''\n    First, we initialize all the matrices, whose dimensionality is\n    determined by the number of elements in each population\n    Since in this example, we have 2 populations (E/I), 2^2 possible\n    synaptic connections exist (EE, EI, IE, II)\n    '''\n\n    W_EE = np.zeros([len(E_neurons), len(E_neurons)])\n    W_EI = np.zeros([len(I_neurons), len(E_neurons)])\n    W_IE = np.zeros([len(E_neurons), len(I_neurons)])\n    W_II = np.zeros([len(I_neurons), len(I_neurons)])\n\n    '''\n    Using `GetConnections`, we extract the information about all the\n    connections involving the populations of interest. `GetConnections`\n    returns a list of arrays (connection objects), one per connection.\n    Each array has the following elements:\n    [source-gid target-gid target-thread synapse-model-id port]\n    '''\n\n    a_EE = nest.GetConnections(E_neurons, E_neurons)\n\n    '''\n    Using `GetStatus`, we can extract the value of the connection weight,\n    for all the connections between these populations\n    '''\n\n    c_EE = nest.GetStatus(a_EE, keys='weight')\n\n    '''\n    Repeat the two previous steps for all other connection types\n    '''\n\n    a_EI = nest.GetConnections(I_neurons, E_neurons)\n    c_EI = nest.GetStatus(a_EI, keys='weight')\n    a_IE = nest.GetConnections(E_neurons, I_neurons)\n    c_IE = nest.GetStatus(a_IE, keys='weight')\n    a_II = nest.GetConnections(I_neurons, I_neurons)\n    c_II = nest.GetStatus(a_II, keys='weight')\n\n    '''\n    We now iterate through the list of all connections of each type.\n    To populate the corresponding weight matrix, we begin by identifying\n    the source-gid (first element of each connection object, n[0])\n    and the target-gid (second element of each connection object, n[1]).\n    For each gid, we subtract the minimum gid within the corresponding\n    population, to assure the matrix indices range from 0 to the size of\n    the population.\n\n    After determining the matrix indices [i, j], for each connection\n    object, the corresponding weight is added to the entry W[i,j].\n    The procedure is then repeated for all the different connection types.\n    '''\n\n    for idx, n in enumerate(a_EE):\n        W_EE[n[0] - min(E_neurons), n[1] - min(E_neurons)] += c_EE[idx]\n    for idx, n in enumerate(a_EI):\n        W_EI[n[0] - min(I_neurons), n[1] - min(E_neurons)] += c_EI[idx]\n    for idx, n in enumerate(a_IE):\n        W_IE[n[0] - min(E_neurons), n[1] - min(I_neurons)] += c_IE[idx]\n    for idx, n in enumerate(a_II):\n        W_II[n[0] - min(I_neurons), n[1] - min(I_neurons)] += c_II[idx]\n\n    '''\n    We can now specify the figure and axes properties. For this specific\n    example, we wish to display all the weight matrices in a single\n    figure, which requires us to use ``GridSpec`` (for example)\n    to specify the spatial arrangement of the axes.\n    A subplot is subsequently created for each connection type.\n    '''\n\n    fig = pylab.figure()\n    fig.suptitle('Weight matrices', fontsize=14)\n    gs = gridspec.GridSpec(4, 4)\n    ax1 = pylab.subplot(gs[:-1, :-1])\n    ax2 = pylab.subplot(gs[:-1, -1])\n    ax3 = pylab.subplot(gs[-1, :-1])\n    ax4 = pylab.subplot(gs[-1, -1])\n\n    '''\n    Using ``imshow``, we can visualize the weight matrix in the corresponding\n    axis. We can also specify the colormap for this image.\n    '''\n\n    plt1 = ax1.imshow(W_EE, cmap='jet')\n\n    '''\n    Using the ``axis_divider`` module from ``mpl_toolkits``, we can\n    allocate a small extra space on the right of the current axis,\n    which we reserve for a colorbar.\n    '''\n\n    divider = make_axes_locatable(ax1)\n    cax = divider.append_axes(\"right\", \"5%\", pad=\"3%\")\n    pylab.colorbar(plt1, cax=cax)\n\n    '''\n    We now set the title of each axis and adjust the axis subplot parameters\n    '''\n\n    ax1.set_title('W_{EE}')\n    pylab.tight_layout()\n\n    '''\n    Finally, the last three steps are repeated for each synapse type\n    '''\n\n    plt2 = ax2.imshow(W_IE)\n    plt2.set_cmap('jet')\n    divider = make_axes_locatable(ax2)\n    cax = divider.append_axes(\"right\", \"5%\", pad=\"3%\")\n    pylab.colorbar(plt2, cax=cax)\n    ax2.set_title('W_{EI}')\n    pylab.tight_layout()\n\n    plt3 = ax3.imshow(W_EI)\n    plt3.set_cmap('jet')\n    divider = make_axes_locatable(ax3)\n    cax = divider.append_axes(\"right\", \"5%\", pad=\"3%\")\n    pylab.colorbar(plt3, cax=cax)\n    ax3.set_title('W_{IE}')\n    pylab.tight_layout()\n\n    plt4 = ax4.imshow(W_II)\n    plt4.set_cmap('jet')\n    divider = make_axes_locatable(ax4)\n    cax = divider.append_axes(\"right\", \"5%\", pad=\"3%\")\n    pylab.colorbar(plt4, cax=cax)\n    ax4.set_title('W_{II}')\n    pylab.tight_layout()"
      ]
    }
  ],
  "metadata": {
    "kernelspec": {
      "display_name": "Python 3",
      "language": "python",
      "name": "python3"
    },
    "language_info": {
      "codemirror_mode": {
        "name": "ipython",
        "version": 3
      },
      "file_extension": ".py",
      "mimetype": "text/x-python",
      "name": "python",
      "nbconvert_exporter": "python",
      "pygments_lexer": "ipython3",
      "version": "3.6.1"
    }
  },
  "nbformat": 4,
  "nbformat_minor": 0
}