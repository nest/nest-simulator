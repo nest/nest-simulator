{
  "cells": [
    {
      "cell_type": "code",
      "execution_count": null,
      "metadata": {
        "collapsed": false
      },
      "outputs": [],
      "source": [
        "%matplotlib inline"
      ]
    },
    {
      "cell_type": "markdown",
      "metadata": {},
      "source": [
        "\n# 4x3 grid for three populations\n\nCreate three populations of iaf_psc_alpha neurons on a 4x3 grid, each with different center.\n\nBCCN Tutorial @ CNS*09\nHans Ekkehard Plesser, UMB\n"
      ]
    },
    {
      "cell_type": "code",
      "execution_count": null,
      "metadata": {
        "collapsed": false
      },
      "outputs": [],
      "source": [
        "import nest\nimport matplotlib.pyplot as plt\nimport numpy as np\n\nfor ctr in [(0.0, 0.0), (-2.0, 2.0), (0.5, 1.0)]:\n    plt.figure()\n    nest.ResetKernel()\n\n    l1 = nest.Create('iaf_psc_alpha',\n                     positions=nest.spatial.grid(shape=[4, 3], extent=[2., 1.5],\n                                                 center=ctr))\n\n    nest.PlotLayer(l1, nodesize=50, fig=plt.gcf())\n\n    # beautify\n    plt.axis([-3, 3, -3, 3])\n    plt.axes().set_aspect('equal', 'box')\n    plt.axes().set_xticks(np.arange(-3.0, 3.1, 1.0))\n    plt.axes().set_yticks(np.arange(-3.0, 3.1, 1.0))\n    plt.grid(True)\n    plt.xlabel(f'4 Columns, Extent: 1.5, Center: {ctr[0]:.1f}')\n    plt.ylabel(f'2 Rows, Extent: 1.0, Center: {ctr[1]:.1f}')\n\n    plt.show()\n    # plt.savefig('grid_iaf_oc_{}_{}.png'.format(ctr[0], ctr[1]))"
      ]
    }
  ],
  "metadata": {
    "kernelspec": {
      "display_name": "Python 3",
      "language": "python",
      "name": "python3"
    },
    "language_info": {
      "codemirror_mode": {
        "name": "ipython",
        "version": 3
      },
      "file_extension": ".py",
      "mimetype": "text/x-python",
      "name": "python",
      "nbconvert_exporter": "python",
      "pygments_lexer": "ipython3",
      "version": "3.9.13"
    }
  },
  "nbformat": 4,
  "nbformat_minor": 0
}