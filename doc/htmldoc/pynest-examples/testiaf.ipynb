{
 "cells": [
  {
   "cell_type": "code",
   "execution_count": null,
   "metadata": {
    "collapsed": false,
    "jupyter": {
     "outputs_hidden": false
    }
   },
   "outputs": [],
   "source": [
    "%matplotlib inline"
   ]
  },
  {
   "cell_type": "markdown",
   "metadata": {},
   "source": [
    "\n",
    "# IAF neuron example with current generator\n",
    "\n",
    "A DC current is injected into the neuron using a current generator\n",
    "device. The membrane potential as well as the spiking activity are\n",
    "recorded by corresponding devices.\n",
    "\n",
    "It can be observed how the current charges the membrane, a spike\n",
    "is emitted, the neuron becomes absolute refractory, and finally\n",
    "starts to recover.\n"
   ]
  },
  {
   "cell_type": "markdown",
   "metadata": {},
   "source": [
    "First, we import all necessary modules for simulation and plotting\n",
    "\n"
   ]
  },
  {
   "cell_type": "code",
   "execution_count": null,
   "metadata": {
    "collapsed": false,
    "jupyter": {
     "outputs_hidden": false
    }
   },
   "outputs": [],
   "source": [
    "import nest\n",
    "import matplotlib.pyplot as plt"
   ]
  },
  {
   "cell_type": "markdown",
   "metadata": {},
   "source": [
    "Second the function ``build_network`` is defined to build the network and\n",
    "return the handles of the ``spike_recorder`` and the ``voltmeter``. The\n",
    "function takes the simulation resolution as argument\n",
    "\n",
    "The function first resets the simulation kernel and sets the number of\n",
    "threads and the simulation resolution.  The ``iaf_psc_alpha`` neuron is\n",
    "created and the handle is stored in the variable `neuron`. The status of\n",
    "the neuron is changed so it receives an external current. Next a\n",
    "``voltmeter`` and a ``spike_recorder`` are created and their handles stored\n",
    "in the variables `vm` and `sr` respectively.\n",
    "\n",
    "The voltmeter and spike recorder are then connected to the neuron. ``Connect``\n",
    "takes the device and neuron handles as input. The voltmeter is connected to the\n",
    "neuron and the neuron to the spike recorder because the neuron sends spikes\n",
    "to the recorder and the voltmeter 'observes' the neuron.\n",
    "\n"
   ]
  },
  {
   "cell_type": "code",
   "execution_count": null,
   "metadata": {
    "collapsed": false,
    "jupyter": {
     "outputs_hidden": false
    }
   },
   "outputs": [],
   "source": [
    "def build_network(dt):\n",
    "\n",
    "    nest.ResetKernel()\n",
    "    nest.local_num_threads = 1\n",
    "    nest.resolution = dt\n",
    "\n",
    "    neuron = nest.Create('iaf_psc_alpha')\n",
    "    neuron.I_e = 376.0\n",
    "\n",
    "    vm = nest.Create('voltmeter')\n",
    "    sr = nest.Create('spike_recorder')\n",
    "\n",
    "    nest.Connect(vm, neuron)\n",
    "    nest.Connect(neuron, sr)\n",
    "\n",
    "    return vm, sr"
   ]
  },
  {
   "cell_type": "markdown",
   "metadata": {},
   "source": [
    "The neuron is simulated for three different resolutions and then the\n",
    "voltage trace is plotted\n",
    "\n"
   ]
  },
  {
   "cell_type": "code",
   "execution_count": null,
   "metadata": {
    "collapsed": false,
    "jupyter": {
     "outputs_hidden": false
    }
   },
   "outputs": [],
   "source": [
    "for dt in [0.1, 0.5, 1.0]:\n",
    "    print(f\"Running simulation with dt={dt:.2f}\")\n",
    "    vm, sr = build_network(dt)\n",
    "\n",
    "    nest.Simulate(1000.0)"
   ]
  },
  {
   "cell_type": "markdown",
   "metadata": {},
   "source": [
    "The network is simulated using ``Simulate``, which takes the desired\n",
    "simulation time in milliseconds and advances the network state by this\n",
    "amount of time. During simulation, the ``spike_recorder`` counts the\n",
    "spikes of the target neuron and the total number is read out at the\n",
    "end of the simulation period.\n",
    "\n",
    "The values of the voltage recorded by the voltmeter are read out and\n",
    "the values for the membrane potential are stored in potential and the\n",
    "corresponding times in the times array\n",
    "\n"
   ]
  },
  {
   "cell_type": "code",
   "execution_count": null,
   "metadata": {
    "collapsed": false,
    "jupyter": {
     "outputs_hidden": false
    }
   },
   "outputs": [],
   "source": [
    "potentials = vm.get('events', 'V_m')\n",
    "times = vm.get('events', 'times')"
   ]
  },
  {
   "cell_type": "markdown",
   "metadata": {},
   "source": [
    "Using the matplotlib library the voltage trace is plotted over time\n",
    "\n"
   ]
  },
  {
   "cell_type": "code",
   "execution_count": null,
   "metadata": {
    "collapsed": false,
    "jupyter": {
     "outputs_hidden": false
    }
   },
   "outputs": [],
   "source": [
    "plt.plot(times, potentials, label=f\"dt={dt:.2f}\")\n",
    "print(f\"  Number of spikes: {sr.n_events}\")"
   ]
  },
  {
   "cell_type": "markdown",
   "metadata": {},
   "source": [
    "Finally the axis are labelled and a legend is generated\n",
    "\n"
   ]
  },
  {
   "cell_type": "code",
   "execution_count": null,
   "metadata": {
    "collapsed": false,
    "jupyter": {
     "outputs_hidden": false
    }
   },
   "outputs": [],
   "source": [
    "plt.legend(loc=3)\n",
    "plt.xlabel(\"time (ms)\")\n",
    "plt.ylabel(\"V_m (mV)\")\n",
    "\n",
    "plt.show()"
   ]
  },
  {
   "cell_type": "code",
   "execution_count": null,
   "metadata": {},
   "outputs": [],
   "source": []
  },
  {
   "cell_type": "markdown",
   "metadata": {},
   "source": [
    "[![EBRAINS Notebook](https://nest-simulator.org/TryItOnEBRAINS.png)](https://lab.ebrains.eu/hub/user-redirect/git-pull?repo=https%3A%2F%2Fgithub.com%2Fjessica-mitchell%2Fnest-simulator&urlpath=lab%2Ftree%2Fnest-simulator%2Fdoc%2Fhtmldoc%2Fpynest-examples%2Ftestiaf.ipynb&branch=ebrains-button)\n"
   ]
  }
 ],
 "metadata": {
  "kernelspec": {
   "display_name": "EBRAINS-22.10",
   "language": "python",
   "name": "spack_python_kernel_release_202210"
  },
  "language_info": {
   "codemirror_mode": {
    "name": "ipython",
    "version": 3
   },
   "file_extension": ".py",
   "mimetype": "text/x-python",
   "name": "python",
   "nbconvert_exporter": "python",
   "pygments_lexer": "ipython3",
   "version": "3.8.10"
  }
 },
 "nbformat": 4,
 "nbformat_minor": 4
}
