{
 "cells": [
  {
   "cell_type": "code",
   "execution_count": null,
   "metadata": {
    "collapsed": false
   },
   "outputs": [],
   "source": [
    "%matplotlib inline"
   ]
  },
  {
   "cell_type": "markdown",
   "metadata": {},
   "source": [
    "# Constructing and simulating compartmental models with active and passive dendrites\n",
    "This example demonstrates how to initialize compartmental models. It creates\n",
    "two models with two compartments, once with active channels in the dendritic\n",
    "compartment and once without. It then adds and excitatory receptors with AMPA\n",
    "and NMDA components to both the somatic and dendritic compartment.\n",
    "\n",
    "The output shows the evolution of the state variables present in the model.\n",
    "\n",
    ":Authors: WAM Wybo\n"
   ]
  },
  {
   "cell_type": "code",
   "execution_count": null,
   "metadata": {
    "collapsed": false
   },
   "outputs": [],
   "source": [
    "import nest\n",
    "import matplotlib.pyplot as plt\n",
    "\n",
    "nest.ResetKernel()\n",
    "\n",
    "soma_params = {\n",
    "    # passive parameters\n",
    "    'C_m': 89.245535,           # [pF] Capacitance\n",
    "    'g_C': 0.0,                 # soma has no parent\n",
    "    'g_L': 8.924572508,         # [nS] Leak conductance\n",
    "    'e_L': -75.0,               # [mV] leak reversal\n",
    "    # ion channel params\n",
    "    'gbar_Na': 4608.698576715,  # [nS] Na maximal conductance\n",
    "    'e_Na': 60.,                # [mV] Na reversal\n",
    "    'gbar_K': 956.112772900,    # [nS] K maximal conductance\n",
    "    'e_K': -90.                 # [mV] K reversal\n",
    "}"
   ]
  },
  {
   "cell_type": "markdown",
   "metadata": {},
   "source": [
    "by default, active conducances are set to zero, so we don't need to specify\n",
    "them explicitely\n",
    "\n"
   ]
  },
  {
   "cell_type": "code",
   "execution_count": null,
   "metadata": {
    "collapsed": false
   },
   "outputs": [],
   "source": [
    "dend_params_passive = {\n",
    "    # passive parameters\n",
    "    'C_m': 1.929929,\n",
    "    'g_C': 1.255439494,\n",
    "    'g_L': 0.192992878,\n",
    "    'e_L': -75.0,\n",
    "}\n",
    "dend_params_active = {\n",
    "    # passive parameters\n",
    "    'C_m': 1.929929,            # [pF] Capacitance\n",
    "    'g_C': 1.255439494,         # [nS] Coupling conductance to parent (soma here)\n",
    "    'g_L': 0.192992878,         # [nS] Leak conductance\n",
    "    'e_L': -70.0,               # [mV] leak reversal\n",
    "    # ion channel params\n",
    "    'gbar_Na': 17.203212493,    # [nS] Na maximal conductance\n",
    "    'e_Na': 60.,                # [mV] Na reversal\n",
    "    'gbar_K': 11.887347450,     # [nS] K maximal conductance\n",
    "    'e_K': -90.                 # [mV] K reversal\n",
    "}"
   ]
  },
  {
   "cell_type": "markdown",
   "metadata": {},
   "source": [
    "create a neuron model with a passive dendritic compartment\n",
    "\n"
   ]
  },
  {
   "cell_type": "code",
   "execution_count": null,
   "metadata": {
    "collapsed": false
   },
   "outputs": [],
   "source": [
    "cm_pas = nest.Create('cm_default')\n",
    "cm_pas.compartments = [\n",
    "    {\"parent_idx\": -1, \"params\": soma_params},\n",
    "    {\"parent_idx\":  0, \"params\": dend_params_passive}\n",
    "]"
   ]
  },
  {
   "cell_type": "markdown",
   "metadata": {},
   "source": [
    "create a neuron model with an active dendritic compartment\n",
    "\n"
   ]
  },
  {
   "cell_type": "code",
   "execution_count": null,
   "metadata": {
    "collapsed": false
   },
   "outputs": [],
   "source": [
    "cm_act = nest.Create('cm_default')\n",
    "cm_act.compartments = [\n",
    "    {\"parent_idx\": -1, \"params\": soma_params},\n",
    "    {\"parent_idx\":  0, \"params\": dend_params_active}\n",
    "]"
   ]
  },
  {
   "cell_type": "markdown",
   "metadata": {},
   "source": [
    "set spike thresholds\n",
    "\n"
   ]
  },
  {
   "cell_type": "code",
   "execution_count": null,
   "metadata": {
    "collapsed": false
   },
   "outputs": [],
   "source": [
    "cm_pas.V_th = -50.\n",
    "cm_act.V_th = -50."
   ]
  },
  {
   "cell_type": "markdown",
   "metadata": {},
   "source": [
    "add somatic and dendritic receptor to passive dendrite model\n",
    "\n"
   ]
  },
  {
   "cell_type": "code",
   "execution_count": null,
   "metadata": {
    "collapsed": false
   },
   "outputs": [],
   "source": [
    "cm_pas.receptors = [\n",
    "    {\"comp_idx\": 0, \"receptor_type\": \"AMPA_NMDA\"},\n",
    "    {\"comp_idx\": 1, \"receptor_type\": \"AMPA_NMDA\"}\n",
    "]\n",
    "syn_idx_soma_pas = 0\n",
    "syn_idx_dend_pas = 1"
   ]
  },
  {
   "cell_type": "markdown",
   "metadata": {},
   "source": [
    "add somatic and dendritic receptor to active dendrite model\n",
    "\n"
   ]
  },
  {
   "cell_type": "code",
   "execution_count": null,
   "metadata": {
    "collapsed": false
   },
   "outputs": [],
   "source": [
    "cm_act.receptors = [\n",
    "    {\"comp_idx\": 0, \"receptor_type\": \"AMPA_NMDA\"},\n",
    "    {\"comp_idx\": 1, \"receptor_type\": \"AMPA_NMDA\"}\n",
    "]\n",
    "syn_idx_soma_act = 0\n",
    "syn_idx_dend_act = 1"
   ]
  },
  {
   "cell_type": "markdown",
   "metadata": {},
   "source": [
    "create a two spike generators\n",
    "\n"
   ]
  },
  {
   "cell_type": "code",
   "execution_count": null,
   "metadata": {
    "collapsed": false
   },
   "outputs": [],
   "source": [
    "sg_soma = nest.Create('spike_generator', 1, {'spike_times': [10., 13., 16.]})\n",
    "sg_dend = nest.Create('spike_generator', 1, {'spike_times': [70., 73., 76.]})"
   ]
  },
  {
   "cell_type": "markdown",
   "metadata": {},
   "source": [
    "connect spike generators to passive dendrite model (weight in nS)\n",
    "\n"
   ]
  },
  {
   "cell_type": "code",
   "execution_count": null,
   "metadata": {
    "collapsed": false
   },
   "outputs": [],
   "source": [
    "nest.Connect(sg_soma, cm_pas, syn_spec={\n",
    "    'synapse_model': 'static_synapse', 'weight': 5., 'delay': 0.5, 'receptor_type': syn_idx_soma_pas})\n",
    "nest.Connect(sg_dend, cm_pas, syn_spec={\n",
    "    'synapse_model': 'static_synapse', 'weight': 2., 'delay': 0.5, 'receptor_type': syn_idx_dend_pas})"
   ]
  },
  {
   "cell_type": "markdown",
   "metadata": {},
   "source": [
    "connect spike generators to active dendrite model (weight in nS)\n",
    "\n"
   ]
  },
  {
   "cell_type": "code",
   "execution_count": null,
   "metadata": {
    "collapsed": false
   },
   "outputs": [],
   "source": [
    "nest.Connect(sg_soma, cm_act, syn_spec={\n",
    "    'synapse_model': 'static_synapse', 'weight': 5., 'delay': 0.5, 'receptor_type': syn_idx_soma_act})\n",
    "nest.Connect(sg_dend, cm_act, syn_spec={\n",
    "    'synapse_model': 'static_synapse', 'weight': 2., 'delay': 0.5, 'receptor_type': syn_idx_dend_act})"
   ]
  },
  {
   "cell_type": "markdown",
   "metadata": {},
   "source": [
    "create multimeters to record compartment voltages and various state variables\n",
    "\n"
   ]
  },
  {
   "cell_type": "code",
   "execution_count": null,
   "metadata": {
    "collapsed": false
   },
   "outputs": [],
   "source": [
    "rec_list = ['v_comp0', 'v_comp1',\n",
    "            'm_Na_0', 'h_Na_0', 'n_K_0', 'm_Na_1', 'h_Na_1', 'n_K_1',\n",
    "            'g_r_AN_AMPA_1', 'g_d_AN_AMPA_1', 'g_r_AN_NMDA_1', 'g_d_AN_NMDA_1']\n",
    "mm_pas = nest.Create('multimeter', 1, {'record_from': rec_list, 'interval': .1})\n",
    "mm_act = nest.Create('multimeter', 1, {'record_from': rec_list, 'interval': .1})"
   ]
  },
  {
   "cell_type": "markdown",
   "metadata": {},
   "source": [
    "connect the multimeters to the respective neurons\n",
    "\n"
   ]
  },
  {
   "cell_type": "code",
   "execution_count": null,
   "metadata": {
    "collapsed": false
   },
   "outputs": [],
   "source": [
    "nest.Connect(mm_pas, cm_pas)\n",
    "nest.Connect(mm_act, cm_act)"
   ]
  },
  {
   "cell_type": "markdown",
   "metadata": {},
   "source": [
    "simulate the models\n",
    "\n"
   ]
  },
  {
   "cell_type": "code",
   "execution_count": null,
   "metadata": {
    "collapsed": false
   },
   "outputs": [],
   "source": [
    "nest.Simulate(160.)\n",
    "res_pas = nest.GetStatus(mm_pas, 'events')[0]\n",
    "res_act = nest.GetStatus(mm_act, 'events')[0]\n",
    "\n",
    "plt.figure('voltage')"
   ]
  },
  {
   "cell_type": "markdown",
   "metadata": {},
   "source": [
    "plot voltage for somatic compartment\n",
    "\n"
   ]
  },
  {
   "cell_type": "code",
   "execution_count": null,
   "metadata": {
    "collapsed": false
   },
   "outputs": [],
   "source": [
    "ax_soma = plt.subplot(121)\n",
    "ax_soma.plot(res_pas['times'], res_pas['v_comp0'], c='b', label='passive dend')\n",
    "ax_soma.plot(res_act['times'], res_act['v_comp0'], c='r', label='active dend')\n",
    "ax_soma.set_xlabel(r'$t$ (ms)')\n",
    "ax_soma.set_ylabel(r'$v_{soma}$ (mV)')\n",
    "ax_soma.set_ylim((-90., 40.))\n",
    "ax_soma.legend(loc=0)"
   ]
  },
  {
   "cell_type": "markdown",
   "metadata": {},
   "source": [
    "plot voltage for dendritic compartment\n",
    "\n"
   ]
  },
  {
   "cell_type": "code",
   "execution_count": null,
   "metadata": {
    "collapsed": false
   },
   "outputs": [],
   "source": [
    "ax_dend = plt.subplot(122)\n",
    "ax_dend.plot(res_pas['times'], res_pas['v_comp1'], c='b', label='passive dend')\n",
    "ax_dend.plot(res_act['times'], res_act['v_comp1'], c='r', label='active dend')\n",
    "ax_dend.set_xlabel(r'$t$ (ms)')\n",
    "ax_dend.set_ylabel(r'$v_{dend}$ (mV)')\n",
    "ax_dend.set_ylim((-90., 40.))\n",
    "ax_dend.legend(loc=0)\n",
    "\n",
    "plt.figure('channel state variables')"
   ]
  },
  {
   "cell_type": "markdown",
   "metadata": {},
   "source": [
    "plot ion channel state variables for somatic compartment\n",
    "\n"
   ]
  },
  {
   "cell_type": "code",
   "execution_count": null,
   "metadata": {
    "collapsed": false
   },
   "outputs": [],
   "source": [
    "ax_soma = plt.subplot(121)\n",
    "ax_soma.plot(res_pas['times'], res_pas['m_Na_0'], c='b', label='m_Na passive dend')\n",
    "ax_soma.plot(res_pas['times'], res_pas['h_Na_0'], c='r', label='h_Na passive dend')\n",
    "ax_soma.plot(res_pas['times'], res_pas['n_K_0'], c='g', label='n_K passive dend')\n",
    "ax_soma.plot(res_act['times'], res_act['m_Na_0'], c='b', ls='--', lw=2., label='m_Na active dend')\n",
    "ax_soma.plot(res_act['times'], res_act['h_Na_0'], c='r', ls='--', lw=2., label='h_Na active dend')\n",
    "ax_soma.plot(res_act['times'], res_act['n_K_0'], c='g', ls='--', lw=2., label='n_K active dend')\n",
    "ax_soma.set_xlabel(r'$t$ (ms)')\n",
    "ax_soma.set_ylabel(r'svar')\n",
    "ax_soma.set_ylim((0., 1.))\n",
    "ax_soma.legend(loc=0)"
   ]
  },
  {
   "cell_type": "markdown",
   "metadata": {},
   "source": [
    "plot ion channel state variables for dendritic compartment\n",
    "\n"
   ]
  },
  {
   "cell_type": "code",
   "execution_count": null,
   "metadata": {
    "collapsed": false
   },
   "outputs": [],
   "source": [
    "ax_dend = plt.subplot(122)\n",
    "ax_dend.plot(res_pas['times'], res_pas['m_Na_1'], c='b', label='m_Na passive dend')\n",
    "ax_dend.plot(res_pas['times'], res_pas['h_Na_1'], c='r', label='h_Na passive dend')\n",
    "ax_dend.plot(res_pas['times'], res_pas['n_K_1'], c='g', label='n_K passive dend')\n",
    "ax_dend.plot(res_act['times'], res_act['m_Na_1'], c='b', ls='--', lw=2., label='m_Na active dend')\n",
    "ax_dend.plot(res_act['times'], res_act['h_Na_1'], c='r', ls='--', lw=2., label='h_Na active dend')\n",
    "ax_dend.plot(res_act['times'], res_act['n_K_1'], c='g', ls='--', lw=2., label='n_K active dend')\n",
    "ax_dend.set_xlabel(r'$t$ (ms)')\n",
    "ax_dend.set_ylabel(r'svar')\n",
    "ax_dend.set_ylim((0., 1.))\n",
    "ax_dend.legend(loc=0)\n",
    "\n",
    "plt.figure('dendritic synapse conductances')"
   ]
  },
  {
   "cell_type": "markdown",
   "metadata": {},
   "source": [
    "plot synapse state variables for dendritic compartment\n",
    "\n"
   ]
  },
  {
   "cell_type": "code",
   "execution_count": null,
   "metadata": {
    "collapsed": false
   },
   "outputs": [],
   "source": [
    "ax_dend = plt.gca()\n",
    "ax_dend.plot(res_pas['times'], res_pas['g_r_AN_AMPA_1'] + res_pas['g_d_AN_AMPA_1'], c='b', label='AMPA passive dend')\n",
    "ax_dend.plot(res_pas['times'], res_pas['g_r_AN_NMDA_1'] + res_pas['g_d_AN_NMDA_1'], c='r', label='NMDA passive dend')\n",
    "ax_dend.plot(res_act['times'], res_act['g_r_AN_AMPA_1'] + res_act['g_d_AN_AMPA_1'],\n",
    "             c='b', ls='--', lw=2., label='AMPA active dend')\n",
    "ax_dend.plot(res_act['times'], res_act['g_r_AN_NMDA_1'] + res_act['g_d_AN_NMDA_1'],\n",
    "             c='r', ls='--', lw=2., label='NMDA active dend')\n",
    "ax_dend.legend(loc=0)\n",
    "\n",
    "plt.tight_layout()\n",
    "plt.show()"
   ]
  },
  {
   "cell_type": "markdown",
   "metadata": {},
   "source": [
    "[![EBRAINS Notebook](https://nest-simulator.org/TryItOnEBRAINS.png)](https://lab.ebrains.eu/hub/user-redirect/git-pull?repo=https%3A%2F%2Fgithub.com%2Fjessica-mitchell%2Fnest-simulator&urlpath=lab%2Ftree%2Fnest-simulator%2Fpynest%2Fexamples%2Fnotebooks%2Fcompartmental_model%2Ftwo_comps.ipynb&branch=ebrains-button)\n"
   ]
  }
 ],
 "metadata": {
  "kernelspec": {
   "display_name": "EBRAINS-22.10",
   "language": "python",
   "name": "spack_python_kernel_release_202210"
  },
  "language_info": {
   "codemirror_mode": {
    "name": "ipython",
    "version": 3
   },
   "file_extension": ".py",
   "mimetype": "text/x-python",
   "name": "python",
   "nbconvert_exporter": "python",
   "pygments_lexer": "ipython3",
   "version": "3.9.13"
  }
 },
 "nbformat": 4,
 "nbformat_minor": 5
}
