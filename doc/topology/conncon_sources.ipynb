{
  "cells": [
    {
      "cell_type": "code",
      "execution_count": null,
      "metadata": {
        "collapsed": false
      },
      "outputs": [],
      "source": [
        "%matplotlib inline"
      ]
    },
    {
      "cell_type": "markdown",
      "metadata": {},
      "source": [
        "\nNEST Topology Module Example\n\nCreate two 30x30 layers of iaf_psc_alpha neurons,\nconnect with convergent projection and rectangular mask,\nvisualize connection from target perspective.\n\nBCCN Tutorial @ CNS*09\nHans Ekkehard Plesser, UMB\n\n"
      ]
    },
    {
      "cell_type": "code",
      "execution_count": null,
      "metadata": {
        "collapsed": false
      },
      "outputs": [],
      "source": [
        "import nest\nimport nest.topology as topo\nimport pylab\n\npylab.ion()\n\n\nnest.ResetKernel()\nnest.set_verbosity('M_WARNING')\n\n# create two test layers\na = topo.CreateLayer({'columns': 30, 'rows': 30, 'extent': [3.0, 3.0],\n                      'elements': 'iaf_psc_alpha', 'edge_wrap': True})\nb = topo.CreateLayer({'columns': 30, 'rows': 30, 'extent': [3.0, 3.0],\n                      'elements': 'iaf_psc_alpha', 'edge_wrap': True})\n\ntopo.ConnectLayers(a, b, {'connection_type': 'convergent',\n                          'mask': {'rectangular': {'lower_left': [-0.2, -0.5],\n                                                   'upper_right': [0.2, 0.5]}},\n                          'kernel': 0.5,\n                          'weights': {'uniform': {'min': 0.5, 'max': 2.0}},\n                          'delays': 1.0})\n\npylab.clf()\n\n# plot sources of neurons in different grid locations\nfor tgt_pos in [[15, 15], [0, 0]]:\n    # obtain node id for center\n    tgt = topo.GetElement(b, tgt_pos)\n\n    # obtain list of outgoing connections for ctr\n    # int() required to cast numpy.int64\n    spos = tuple(zip(*[topo.GetPosition([int(conn[0])])[0] for conn in\n                       nest.GetConnections(target=tgt)]))\n\n    # scatter-plot\n    pylab.scatter(spos[0], spos[1], 20, zorder=10)\n\n    # mark sender position with transparent red circle\n    ctrpos = pylab.array(topo.GetPosition(tgt)[0])\n    pylab.gca().add_patch(pylab.Circle(ctrpos, radius=0.1, zorder=99,\n                                       fc='r', alpha=0.4, ec='none'))\n\n    # mark mask position with open red rectangle\n    pylab.gca().add_patch(\n        pylab.Rectangle(ctrpos - (0.2, 0.5), 0.4, 1.0, zorder=1,\n                        fc='none', ec='r', lw=3))\n\n# mark layer edge\npylab.gca().add_patch(pylab.Rectangle((-1.5, -1.5), 3.0, 3.0, zorder=1,\n                                      fc='none', ec='k', lw=3))\n\n# beautify\npylab.axes().set_xticks(pylab.arange(-1.5, 1.55, 0.5))\npylab.axes().set_yticks(pylab.arange(-1.5, 1.55, 0.5))\npylab.grid(True)\npylab.axis([-2.0, 2.0, -2.0, 2.0])\npylab.axes().set_aspect('equal', 'box')\npylab.title('Connection sources')"
      ]
    }
  ],
  "metadata": {
    "kernelspec": {
      "display_name": "Python 3",
      "language": "python",
      "name": "python3"
    },
    "language_info": {
      "codemirror_mode": {
        "name": "ipython",
        "version": 3
      },
      "file_extension": ".py",
      "mimetype": "text/x-python",
      "name": "python",
      "nbconvert_exporter": "python",
      "pygments_lexer": "ipython3",
      "version": "3.6.1"
    }
  },
  "nbformat": 4,
  "nbformat_minor": 0
}