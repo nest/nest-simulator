{
 "cells": [
   {
  "cell_type": "markdown",
  "metadata": {},
  "source": [
    "\n\n"
  ]
},{
 "cell_type": "code",
 "execution_count": null,
 "metadata": {
  "collapsed": false
 },
 "outputs": [],
 "source": [
   "    \n    \n"
 ]
},{
  "cell_type": "markdown",
  "metadata": {},
  "source": [
    "Compare Tsodyks-Markram Synapse models.\n---------------------------------------\n\nThis script compares the two variants of the Tsodyks/Markram synapse in NEST.\n\n"
  ]
},{
 "cell_type": "code",
 "execution_count": null,
 "metadata": {
  "collapsed": false
 },
 "outputs": [],
 "source": [
   "    \n    import nest\n    import nest.voltage_trace\n    import numpy\n    import pylab\n    \n    nest.ResetKernel()\n    n_syn = 12.0  # number of synapses in a connection\n    n_trials = 30  # number of measurement trials\n    \n    fac_params = {\"U\": 0.03, \"u\": 0.03, \"tau_fac\": 500.,\n                  \"tau_rec\": 200., \"weight\": 1.}\n    dep_params = {\"U\": 0.5, \"u\": 0.5, \"tau_fac\": 15.,\n                  \"tau_rec\": 670., \"weight\": 1.}\n    lin_params = {\"U\": 0.3, \"u\": 0.3, \"tau_fac\": 330.,\n                  \"tau_rec\": 330., \"weight\": 1.}\n    \n    t1_params = fac_params  # for tsodyks2_synapse\n    t2_params = t1_params.copy()  # for furhmann_synapse\n    \n    t2_params['n'] = n_syn\n    t2_params['weight'] = 1. / n_syn\n    \n    nest.SetDefaults(\"tsodyks2_synapse\", t1_params)\n    nest.SetDefaults(\"quantal_stp_synapse\", t2_params)\n    nest.SetDefaults(\"iaf_psc_exp\", {\"tau_syn_ex\": 3., 'tau_m': 70.})\n    \n    source = nest.Create('spike_generator')\n    nest.SetStatus(source, {'spike_times':\n                            [30., 60., 90., 120., 150., 180., 210., 240., 270.,\n                             300., 330., 360., 390., 900.]})\n    \n    parrot = nest.Create('parrot_neuron')\n    neuron = nest.Create(\"iaf_psc_exp\", 2)\n    \n    nest.Connect(source, parrot)\n    nest.Connect(parrot, neuron[:1], syn_spec=\"tsodyks2_synapse\")\n    nest.Connect(parrot, neuron[1:], syn_spec=\"quantal_stp_synapse\")\n    \n    voltmeter = nest.Create(\"voltmeter\", 2)\n    nest.SetStatus(voltmeter, {\"withgid\": False, \"withtime\": True})\n    t_plot = 1000.\n    t_tot = 1500.\n    \n"
 ]
},{
  "cell_type": "markdown",
  "metadata": {},
  "source": [
    "the following is a dry run trial so that the synapse dynamics is\nidential in all subsequent trials.\n\n"
  ]
},{
 "cell_type": "code",
 "execution_count": null,
 "metadata": {
  "collapsed": false
 },
 "outputs": [],
 "source": [
   "    \n    nest.Simulate(t_tot)\n    \n"
 ]
},{
  "cell_type": "markdown",
  "metadata": {},
  "source": [
    "Now we connect the voltmeters\n\n"
  ]
},{
 "cell_type": "code",
 "execution_count": null,
 "metadata": {
  "collapsed": false
 },
 "outputs": [],
 "source": [
   "    nest.Connect([voltmeter[0]], [neuron[0]])\n    nest.Connect([voltmeter[1]], [neuron[1]])\n    \n"
 ]
},{
  "cell_type": "markdown",
  "metadata": {},
  "source": [
    "WE now run the specified number of trials in a loop.\n\n"
  ]
},{
 "cell_type": "code",
 "execution_count": null,
 "metadata": {
  "collapsed": false
 },
 "outputs": [],
 "source": [
   "    \n    for t in range(n_trials):\n        t_net = nest.GetKernelStatus('time')\n        nest.SetStatus(source, {'origin': t_net})\n        nest.Simulate(t_tot)\n    \n    nest.Simulate(.1)  # flush the last voltmeter events from the queue\n    \n    vm = numpy.array(nest.GetStatus([voltmeter[1]], 'events')[0]['V_m'])\n    vm_reference = numpy.array(nest.GetStatus([voltmeter[0]], 'events')[0]['V_m'])\n    \n    t_tot = int(t_tot)\n    t_plot = int(t_plot)\n    \n    vm.shape = (n_trials, t_tot)\n    vm_reference.shape = (n_trials, t_tot)\n    \n    vm_mean = numpy.array([numpy.mean(vm[:, i]) for i in range(t_tot)])\n    vm_ref_mean = numpy.array([numpy.mean(vm_reference[:, i])\n                               for i in range(t_tot)])\n    \n    for t in range(n_trials):\n        pylab.plot(vm[t][:t_plot], color='gray', lw=0.5)\n    pylab.plot(vm_mean[:t_plot], color='black', lw=2.)\n    pylab.plot(vm_reference[0][:t_plot], color='red', lw=2.)\n    \n"
 ]
},{
  "cell_type": "markdown",
  "metadata": {},
  "source": [
    "To display the results, you need to execute\npylab.show()\n\n"
  ]
},{
 "cell_type": "code",
 "execution_count": null,
 "metadata": {
  "collapsed": false
 },
 "outputs": [],
 "source": [
   "    \n    \n"
 ]
},{
  "cell_type": "markdown",
  "metadata": {},
  "source": [
    "\n\n"
  ]
},{
 "cell_type": "code",
 "execution_count": null,
 "metadata": {
  "collapsed": false
 },
 "outputs": [],
 "source": [
   "\n"
 ]
}
],
 "metadata": {
  "kernelspec": {
   "display_name": "Python 2",
   "language": "python",
   "name": "python2"
  },
  "language_info": {
   "codemirror_mode": {
    "name": "ipython",
    "version": 2
   },
   "file_extension": ".py",
   "mimetype": "text/x-python",
   "name": "python",
   "nbconvert_exporter": "python",
   "pygments_lexer": "ipython2",
   "version": "2.7.3"
  }
 },
 "nbformat": 4,
 "nbformat_minor": 0
}