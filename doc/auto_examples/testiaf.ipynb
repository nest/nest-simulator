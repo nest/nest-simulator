{
  "cells": [
    {
      "cell_type": "code",
      "execution_count": null,
      "metadata": {
        "collapsed": false
      },
      "outputs": [],
      "source": [
        "%matplotlib inline"
      ]
    },
    {
      "cell_type": "markdown",
      "metadata": {},
      "source": [
        "\nIAF Neuron example\n------------------\n\nA DC current is injected into the neuron using a current generator\ndevice. The membrane potential as well as the spiking activity are\nrecorded by corresponding devices.\n\nIt can be observed how the current charges the membrane, a spike\nis emitted, the neuron becomes absolute refractory, and finally\nstarts to recover.\n\n"
      ]
    },
    {
      "cell_type": "code",
      "execution_count": null,
      "metadata": {
        "collapsed": false
      },
      "outputs": [],
      "source": [
        "'''\nFirst, we import all necessary modules for simulation and plotting\n'''\n\nimport nest\nimport pylab\n\n'''\nSecond the Function build_network is defined to build the network and\nreturn the handles of the spike detector and the voltmeter\n'''\n\n\ndef build_network(dt):\n\n    nest.ResetKernel()\n    nest.SetKernelStatus({\"local_num_threads\": 1, \"resolution\": dt})\n\n    neuron = nest.Create('iaf_psc_alpha')\n    nest.SetStatus(neuron, \"I_e\", 376.0)\n\n    vm = nest.Create('voltmeter')\n    nest.SetStatus(vm, \"withtime\", True)\n\n    sd = nest.Create('spike_detector')\n\n    nest.Connect(vm, neuron)\n    nest.Connect(neuron, sd)\n\n    return vm, sd\n\n'''\nThe function build_network takes the resolution as argument.\nFirst the Kernel is reset and the number of threads is set to zero as\nwell as the resolution to the specified value dt.  The iaf_psc_alpha is\ncreated and the handle is stored in the variable neuron The status of\nthe neuron is changed so it receives an external current.  Next the\nvoltmeter is created and the handle stored in vm and the option\n'withtime' is set, therefore times are given in the times vector in\nevents. Now the spike_detecor is created and its handle is stored in\nsd.\n\nVoltmeter and spikedetector are then connected to the neuron.  The\nconnect function takes the handles as input.  The Voltmeter is\nconnected to the neuron and the neuron to the spikedetector because\nthe neuron sends spikes to the detector and the voltmeter 'observes'\nthe neuron.\n'''\n\n'''\nThe neuron is simulated for three different resolutions and then\nthe voltage trace is plotted\n'''\n\nfor dt in [0.1, 0.5, 1.0]:\n    print(\"Running simulation with dt=%.2f\" % dt)\n    vm, sd = build_network(dt)\n\n    '''\n    First using build_network the network is build and the handles of\n    the spike detector and the voltmeter are stored in vm and sd\n    '''\n\n    nest.Simulate(1000.0)\n\n    '''\n    The network is simulated using `Simulate`, which takes the desired\n    simulation time in milliseconds and advances the network state by\n    this amount of time. During simulation, the `spike_detector`\n    counts the spikes of the target neuron and the total number is\n    read out at the end of the simulation period.\n    '''\n\n    potentials = nest.GetStatus(vm, \"events\")[0][\"V_m\"]\n    times = nest.GetStatus(vm, \"events\")[0][\"times\"]\n\n    '''\n    The values of the voltage recorded by the voltmeter are read out\n    and the values for the membrane potential are stored in potential\n    and the corresponding times in the times array\n    '''\n\n    pylab.plot(times, potentials, label=\"dt=%.2f\" % dt)\n    print(\"  Number of spikes: {0}\".format(nest.GetStatus(sd, \"n_events\")[0]))\n\n    '''\n    Using the pylab library the voltage trace is plotted over time\n    '''\n\n    pylab.legend(loc=3)\n    pylab.xlabel(\"time (ms)\")\n    pylab.ylabel(\"V_m (mV)\")\n\n    '''\n    Finally the axis are labelled and a legend is generated\n    '''"
      ]
    }
  ],
  "metadata": {
    "kernelspec": {
      "display_name": "Python 3",
      "language": "python",
      "name": "python3"
    },
    "language_info": {
      "codemirror_mode": {
        "name": "ipython",
        "version": 3
      },
      "file_extension": ".py",
      "mimetype": "text/x-python",
      "name": "python",
      "nbconvert_exporter": "python",
      "pygments_lexer": "ipython3",
      "version": "3.6.1"
    }
  },
  "nbformat": 4,
  "nbformat_minor": 0
}