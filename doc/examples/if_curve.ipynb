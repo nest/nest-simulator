{
 "cells": [
   {
  "cell_type": "markdown",
  "metadata": {},
  "source": [
    "\n\n"
  ]
},{
 "cell_type": "code",
 "execution_count": null,
 "metadata": {
  "collapsed": false
 },
 "outputs": [],
 "source": [
   "    \n    \n"
 ]
},{
  "cell_type": "markdown",
  "metadata": {},
  "source": [
    "IF curve example\n----------------\n\nThis example illustrates how to measure the I-F curve of a neuron.\nThe program creates a small group of neurons and injects a noisy current\nI(t) = I_mean + I_std*W(t)\nwhere W(t) is a white noise process.\nThe programm systematically drives the current through a series of\nvalues in the two-dimensional (I_mean, I_std) space and measures the\nfiring rate of the neurons.\n\nIn this example, we measure the I-F curve of the adaptive exponential\nintegrate and fire neuron (aeif_cond_exp), but any other neuron model\nthat accepts current inputs is possible. The model and its parameters\nare supplied when the IF_curve object is created.\n\n"
  ]
},{
 "cell_type": "code",
 "execution_count": null,
 "metadata": {
  "collapsed": false
 },
 "outputs": [],
 "source": [
   "    \n    import numpy\n    import nest\n    import shelve\n    \n"
 ]
},{
  "cell_type": "markdown",
  "metadata": {},
  "source": [
    "Here we define which model and the neuron parameters to use for\nmeasuring the transfer function.\n\n"
  ]
},{
 "cell_type": "code",
 "execution_count": null,
 "metadata": {
  "collapsed": false
 },
 "outputs": [],
 "source": [
   "    model = 'aeif_cond_exp'\n    params = {'a': 4.0,\n              'b': 80.8,\n              'V_th': -50.4,\n              'Delta_T': 2.0,\n              'I_e': 0.0,\n              'C_m': 281.0,\n              'g_L': 30.0,\n              'V_reset': -70.6,\n              'tau_w': 144.0,\n              't_ref': 5.0,\n              'V_peak': -40.0,\n              'E_L': -70.6,\n              'E_ex': 0.,\n              'E_in': -70.}\n    \n    \n    class IF_curve():\n"
 ]
},{
  "cell_type": "markdown",
  "metadata": {},
  "source": [
    "This example illustrates how to measure the I-F curve of a neuron.\nThe program creates a small group of neurons and injects a noisy current\nI(t)= I_mean + I_std*W(t)\nwhere W(t) is a white noise process.\nThe programm systematically drives the current through a series of\nvalues in the two-dimensional (I_mean, I_std) space and measures the\nfiring rate of the neurons.\n\n"
  ]
},{
 "cell_type": "code",
 "execution_count": null,
 "metadata": {
  "collapsed": false
 },
 "outputs": [],
 "source": [
   "    \n        t_inter_trial = 200.  # Interval between two successive measurement trials\n        t_sim = 1000.         # Duration of a measurement trial\n        n_neurons = 100       # Number of neurons\n        n_threads = 4         # Nubmer of threads to run the simulation\n    \n        def __init__(self, model, params=False):\n            self.model = model\n            self.params = params\n            self.build()\n            self.connect()\n    \n        def build(self):\n"
 ]
},{
  "cell_type": "markdown",
  "metadata": {},
  "source": [
    "We reset NEST to delete information from previous simulations\nand adjust the number of threads.\n\n"
  ]
},{
 "cell_type": "code",
 "execution_count": null,
 "metadata": {
  "collapsed": false
 },
 "outputs": [],
 "source": [
   "            nest.ResetKernel()\n            nest.SetKernelStatus({'local_num_threads': self.n_threads})\n"
 ]
},{
  "cell_type": "markdown",
  "metadata": {},
  "source": [
    "We set the default parameters of the neuron model to those\ndefined above and create neurons and devices.\n\n"
  ]
},{
 "cell_type": "code",
 "execution_count": null,
 "metadata": {
  "collapsed": false
 },
 "outputs": [],
 "source": [
   "            if self.params:\n                nest.SetDefaults(self.model, self.params)\n            self.neuron = nest.Create(self.model, self.n_neurons)\n            self.noise = nest.Create('noise_generator')\n            self.spike_detector = nest.Create('spike_detector')\n    \n        def connect(self):\n"
 ]
},{
  "cell_type": "markdown",
  "metadata": {},
  "source": [
    "We connect the noisy current to the neurons and the neurons to\nthe spike detectors.\n\n"
  ]
},{
 "cell_type": "code",
 "execution_count": null,
 "metadata": {
  "collapsed": false
 },
 "outputs": [],
 "source": [
   "            nest.Connect(self.noise, self.neuron, 'all_to_all')\n            nest.Connect(self.neuron, self.spike_detector, 'all_to_all')\n    \n        def output_rate(self, mean, std):\n            self.build()\n            self.connect()\n"
 ]
},{
  "cell_type": "markdown",
  "metadata": {},
  "source": [
    "We adjust the parameters of the noise according to the current values.\n\n"
  ]
},{
 "cell_type": "code",
 "execution_count": null,
 "metadata": {
  "collapsed": false
 },
 "outputs": [],
 "source": [
   "            nest.SetStatus(self.noise, [{'mean': mean, 'std': std, 'start': 0.0,\n                                         'stop': 1000., 'origin': 0.}])\n"
 ]
},{
  "cell_type": "markdown",
  "metadata": {},
  "source": [
    "We simulate the network and calculate the rate.\n\n"
  ]
},{
 "cell_type": "code",
 "execution_count": null,
 "metadata": {
  "collapsed": false
 },
 "outputs": [],
 "source": [
   "            nest.Simulate(self.t_sim)\n            rate = nest.GetStatus(self.spike_detector, 'n_events')[0] * 1000.0 \\\n                / (1. * self.n_neurons * self.t_sim)\n            return rate\n    \n        def compute_transfer(self, i_mean=(400.0, 900.0, 50.0),\n                             i_std=(0.0, 600.0, 50.0)):\n"
 ]
},{
  "cell_type": "markdown",
  "metadata": {},
  "source": [
    "We loop through all possible combinations of (I_mean, I_sigma)\nand measure the output rate of the neuron.\n\n"
  ]
},{
 "cell_type": "code",
 "execution_count": null,
 "metadata": {
  "collapsed": false
 },
 "outputs": [],
 "source": [
   "            self.i_range = numpy.arange(*i_mean)\n            self.std_range = numpy.arange(*i_std)\n            self.rate = numpy.zeros((self.i_range.size, self.std_range.size))\n            nest.set_verbosity('M_WARNING')\n            for n, i in enumerate(self.i_range):\n                print('I  =  {0}'.format(i))\n                for m, std in enumerate(self.std_range):\n                    self.rate[n, m] = self.output_rate(i, std)\n    \n    transfer = IF_curve(model, params)\n    transfer.compute_transfer()\n"
 ]
},{
  "cell_type": "markdown",
  "metadata": {},
  "source": [
    "After the simulation is finished we store the data into a file for\nlater analysis.\n\n"
  ]
},{
 "cell_type": "code",
 "execution_count": null,
 "metadata": {
  "collapsed": false
 },
 "outputs": [],
 "source": [
   "    dat = shelve.open(model + '_transfer.dat')\n    dat['I_mean'] = transfer.i_range\n    dat['I_std'] = transfer.std_range\n    dat['rate'] = transfer.rate\n    dat.close()\n    \n    \n"
 ]
},{
  "cell_type": "markdown",
  "metadata": {},
  "source": [
    "\n\n"
  ]
},{
 "cell_type": "code",
 "execution_count": null,
 "metadata": {
  "collapsed": false
 },
 "outputs": [],
 "source": [
   "\n"
 ]
}
],
 "metadata": {
  "kernelspec": {
   "display_name": "Python 2",
   "language": "python",
   "name": "python2"
  },
  "language_info": {
   "codemirror_mode": {
    "name": "ipython",
    "version": 2
   },
   "file_extension": ".py",
   "mimetype": "text/x-python",
   "name": "python",
   "nbconvert_exporter": "python",
   "pygments_lexer": "ipython2",
   "version": "2.7.3"
  }
 },
 "nbformat": 4,
 "nbformat_minor": 0
}