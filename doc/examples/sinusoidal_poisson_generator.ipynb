{
 "cells": [
   {
  "cell_type": "markdown",
  "metadata": {},
  "source": [
    "\n\n"
  ]
},{
 "cell_type": "code",
 "execution_count": null,
 "metadata": {
  "collapsed": false
 },
 "outputs": [],
 "source": [
   "    \n    \n"
 ]
},{
  "cell_type": "markdown",
  "metadata": {},
  "source": [
    "Sinusoidal poisson generator example\n------------------------------------\n\nThis script demonstrates the use of the `sinusoidal_poisson_generator`\nand its different parameters and modes. The source code of the model\ncan be found in models/sinusoidal_poisson_generator.h.\n\nThe script is structured into two parts and creates one common figure.\nIn Part 1, two instances of the `sinusoidal_poisson_generator` are\ncreated with different parameters. Part 2 illustrates the effect of\nthe ``individual_spike_trains`` switch.\n\n"
  ]
},{
 "cell_type": "code",
 "execution_count": null,
 "metadata": {
  "collapsed": false
 },
 "outputs": [],
 "source": [
   "    \n"
 ]
},{
  "cell_type": "markdown",
  "metadata": {},
  "source": [
    "We import nest and modules required for analysis and plotting.\n\n"
  ]
},{
 "cell_type": "code",
 "execution_count": null,
 "metadata": {
  "collapsed": false
 },
 "outputs": [],
 "source": [
   "    \n    import nest\n    import matplotlib.pyplot as plt\n    import numpy as np\n    \n    nest.ResetKernel()   # in case we run the script multiple times from iPython\n    \n"
 ]
},{
  "cell_type": "markdown",
  "metadata": {},
  "source": [
    "We create two instances of the `sinusoidal_poisson_generator`\nwith two different parameter sets using `Create`. Moreover, we create\ndevices to record firing rates (`multimeter`) and spikes\n(`spike_detector`) and connect them to the generators using `Connect`.\n\n"
  ]
},{
 "cell_type": "code",
 "execution_count": null,
 "metadata": {
  "collapsed": false
 },
 "outputs": [],
 "source": [
   "    \n    nest.SetKernelStatus({'resolution': 0.01})\n    \n    g = nest.Create('sinusoidal_poisson_generator', n=2,\n                    params=[{'rate': 10000.0,\n                             'amplitude': 5000.0,\n                             'frequency': 10.0,\n                             'phase': 0.0},\n                            {'rate': 0.0,\n                             'amplitude': 10000.0,\n                             'frequency': 5.0,\n                             'phase': 90.0}])\n    \n    m = nest.Create('multimeter', n=2, params={'interval': 0.1, 'withgid': False,\n                                               'record_from': ['rate']})\n    s = nest.Create('spike_detector', n=2, params={'withgid': False})\n    \n    nest.Connect(m, g, 'one_to_one')\n    nest.Connect(g, s, 'one_to_one')\n    print(nest.GetStatus(m))\n    nest.Simulate(200)\n    \n"
 ]
},{
  "cell_type": "markdown",
  "metadata": {},
  "source": [
    "After simulating, the spikes are extracted from the\n`spike_detector` using `GetStatus` and plots are created with panels\nfor the PST and ISI histograms.\n\n"
  ]
},{
 "cell_type": "code",
 "execution_count": null,
 "metadata": {
  "collapsed": false
 },
 "outputs": [],
 "source": [
   "    \n    colors = ['b', 'g']\n    \n    for j in range(2):\n    \n        ev = nest.GetStatus([m[j]])[0]['events']\n        t = ev['times']\n        r = ev['rate']\n    \n        sp = nest.GetStatus([s[j]])[0]['events']['times']\n        plt.subplot(221)\n        h, e = np.histogram(sp, bins=np.arange(0., 201., 5.))\n        plt.plot(t, r, color=colors[j])\n        plt.step(e[:-1], h * 1000 / 5., color=colors[j], where='post')\n        plt.title('PST histogram and firing rates')\n        plt.ylabel('Spikes per second')\n    \n        plt.subplot(223)\n        plt.hist(np.diff(sp), bins=np.arange(0., 1.005, 0.02),\n                 histtype='step', color=colors[j])\n        plt.title('ISI histogram')\n    \n"
 ]
},{
  "cell_type": "markdown",
  "metadata": {},
  "source": [
    "The kernel is reset and the number of threads set to 4.\n\n"
  ]
},{
 "cell_type": "code",
 "execution_count": null,
 "metadata": {
  "collapsed": false
 },
 "outputs": [],
 "source": [
   "    \n    nest.ResetKernel()\n    nest.SetKernelStatus({'local_num_threads': 4})\n    \n"
 ]
},{
  "cell_type": "markdown",
  "metadata": {},
  "source": [
    "First, a `sinusoidal_poisson_generator` with\n`individual_spike_trains` set to ``True`` is created and connected to\n20 parrot neurons whose spikes are recorded by a spike detector. After\nsimulating, a raster plot of the spikes is created.\n\n"
  ]
},{
 "cell_type": "code",
 "execution_count": null,
 "metadata": {
  "collapsed": false
 },
 "outputs": [],
 "source": [
   "    \n    g = nest.Create('sinusoidal_poisson_generator',\n                    params={'rate': 100.0, 'amplitude': 50.0,\n                            'frequency': 10.0, 'phase': 0.0,\n                            'individual_spike_trains': True})\n    p = nest.Create('parrot_neuron', 20)\n    s = nest.Create('spike_detector')\n    \n    nest.Connect(g, p, 'all_to_all')\n    nest.Connect(p, s, 'all_to_all')\n    \n    nest.Simulate(200)\n    ev = nest.GetStatus(s)[0]['events']\n    plt.subplot(222)\n    plt.plot(ev['times'], ev['senders'] - min(ev['senders']), 'o')\n    plt.ylim([-0.5, 19.5])\n    plt.yticks([])\n    plt.title('Individual spike trains for each target')\n    \n"
 ]
},{
  "cell_type": "markdown",
  "metadata": {},
  "source": [
    "The kernel is reset again and the whole procedure is repeated for\na `sinusoidal_poisson_generator` with `individual_spike_trains`\nset to ``False``. The plot shows that in this case, all neurons\nreceive the same spike train from the `sinusoidal_poisson_generator`.\n\n"
  ]
},{
 "cell_type": "code",
 "execution_count": null,
 "metadata": {
  "collapsed": false
 },
 "outputs": [],
 "source": [
   "    \n    nest.ResetKernel()\n    nest.SetKernelStatus({'local_num_threads': 4})\n    \n    g = nest.Create('sinusoidal_poisson_generator',\n                    params={'rate': 100.0, 'amplitude': 50.0,\n                            'frequency': 10.0, 'phase': 0.0,\n                            'individual_spike_trains': False})\n    p = nest.Create('parrot_neuron', 20)\n    s = nest.Create('spike_detector')\n    \n    nest.Connect(g, p, 'all_to_all')\n    nest.Connect(p, s, 'all_to_all')\n    \n    nest.Simulate(200)\n    ev = nest.GetStatus(s)[0]['events']\n    plt.subplot(224)\n    plt.plot(ev['times'], ev['senders'] - min(ev['senders']), 'o')\n    plt.ylim([-0.5, 19.5])\n    plt.yticks([])\n    plt.title('One spike train for all targets')\n    \n    \n"
 ]
},{
  "cell_type": "markdown",
  "metadata": {},
  "source": [
    "\n\n"
  ]
},{
 "cell_type": "code",
 "execution_count": null,
 "metadata": {
  "collapsed": false
 },
 "outputs": [],
 "source": [
   "\n"
 ]
}
],
 "metadata": {
  "kernelspec": {
   "display_name": "Python 2",
   "language": "python",
   "name": "python2"
  },
  "language_info": {
   "codemirror_mode": {
    "name": "ipython",
    "version": 2
   },
   "file_extension": ".py",
   "mimetype": "text/x-python",
   "name": "python",
   "nbconvert_exporter": "python",
   "pygments_lexer": "ipython2",
   "version": "2.7.3"
  }
 },
 "nbformat": 4,
 "nbformat_minor": 0
}