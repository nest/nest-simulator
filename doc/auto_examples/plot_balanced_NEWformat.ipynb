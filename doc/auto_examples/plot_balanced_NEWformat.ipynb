{
  "cells": [
    {
      "cell_type": "code",
      "execution_count": null,
      "metadata": {
        "collapsed": false
      },
      "outputs": [],
      "source": [
        "%matplotlib inline"
      ]
    },
    {
      "cell_type": "markdown",
      "metadata": {},
      "source": [
        "Balanced neuron example\n------------------------------\n\nThis script simulates a neuron driven by an excitatory and an\ninhibitory population of neurons firing Poisson spike trains. The aim\nis to find a firing rate for the inhibitory population that will make\nthe neuron fire at the same rate as the excitatory population.\n\nOptimization is performed using the ``bisection`` method from Scipy,\nsimulating the network repeatedly.\n\nThis example is also shown in the article by Eppler et al. [1]_.\n\nReferences\n~~~~~~~~~~\n\n.. [1] Eppler et al. 2009. PyNEST: A convenient interface to the NEST simulator,\n  Frontiers in Neuroinformatics. http://dx.doi.org/10.3389/neuro.11.012.2008\n\nKEYWORDS: balanced, inhibitory, excitatory, poisson spike train \n\n\n"
      ]
    },
    {
      "cell_type": "markdown",
      "metadata": {},
      "source": [
        "First, we import all necessary modules for simulation, analysis and\nplotting. Scipy should be imported before nest.\n\n"
      ]
    },
    {
      "cell_type": "code",
      "execution_count": null,
      "metadata": {
        "collapsed": false
      },
      "outputs": [],
      "source": [
        "from scipy.optimize import bisect\n\nimport nest\nimport nest.voltage_trace"
      ]
    },
    {
      "cell_type": "markdown",
      "metadata": {},
      "source": [
        "Additionally, we set the verbosity using ``set_verbosity`` to\nsuppress info messages.\n\n"
      ]
    },
    {
      "cell_type": "code",
      "execution_count": null,
      "metadata": {
        "collapsed": false
      },
      "outputs": [],
      "source": [
        "nest.set_verbosity(\"M_WARNING\")\nnest.ResetKernel()"
      ]
    },
    {
      "cell_type": "markdown",
      "metadata": {},
      "source": [
        "Second, the simulation parameters are assigned to variables.\n\n"
      ]
    },
    {
      "cell_type": "code",
      "execution_count": null,
      "metadata": {
        "collapsed": false
      },
      "outputs": [],
      "source": [
        "t_sim = 25000.0  # how long we simulate\nn_ex = 16000     # size of the excitatory population\nn_in = 4000      # size of the inhibitory population\nr_ex = 5.0       # mean rate of the excitatory population\nr_in = 20.5      # initial rate of the inhibitory population\nepsc = 45.0      # peak amplitude of excitatory synaptic currents\nipsc = -45.0     # peak amplitude of inhibitory synaptic currents\nd = 1.0          # synaptic delay\nlower = 15.0     # lower bound of the search interval\nupper = 25.0     # upper bound of the search interval\nprec = 0.01      # how close need the excitatory rates be"
      ]
    },
    {
      "cell_type": "markdown",
      "metadata": {},
      "source": [
        "Third, the nodes are created using ``Create``. We store the returned\nhandles in variables for later reference.\n\n"
      ]
    },
    {
      "cell_type": "code",
      "execution_count": null,
      "metadata": {
        "collapsed": false
      },
      "outputs": [],
      "source": [
        "neuron = nest.Create(\"iaf_psc_alpha\")\nnoise = nest.Create(\"poisson_generator\", 2)\nvoltmeter = nest.Create(\"voltmeter\")\nspikedetector = nest.Create(\"spike_detector\")"
      ]
    },
    {
      "cell_type": "markdown",
      "metadata": {},
      "source": [
        "Fourth, the excitatory ``poisson_generator`` (``noise[0]``) and the\n``voltmeter`` are configured using ``SetStatus``, which expects a list of\nnode handles and a list of parameter dictionaries. The rate of the\ninhibitory Poisson generator is set later. Note that we need not set\nparameters for the neuron and the spike detector, since they have\nsatisfactory defaults.\n\n"
      ]
    },
    {
      "cell_type": "code",
      "execution_count": null,
      "metadata": {
        "collapsed": false
      },
      "outputs": [],
      "source": [
        "nest.SetStatus(noise, [{\"rate\": n_ex * r_ex}, {\"rate\": n_in * r_in}])\nnest.SetStatus(voltmeter, {\"withgid\": True, \"withtime\": True})"
      ]
    },
    {
      "cell_type": "markdown",
      "metadata": {},
      "source": [
        "Fifth, the ``iaf_psc_alpha`` is connected to the ``spike_detector`` and the\n``voltmeter``, as are the two Poisson generators to the neuron. The\ncommand ``Connect`` has different variants. Plain ``Connect`` just takes\nthe handles of pre- and post-synaptic nodes and uses the default\nvalues for weight and delay. It can also be called with a list of\nweights, as in the connection of the noise below.\nNote that the connection direction for the ``voltmeter`` is\nreversed compared to the ``spike_detector``, because it observes the\nneuron instead of receiving events from it. Thus, ``Connect`` reflects\nthe direction of signal flow in the simulation kernel rather than the\nphysical process of inserting an electrode into the neuron. The latter\nsemantics is presently not available in NEST.\n\n"
      ]
    },
    {
      "cell_type": "code",
      "execution_count": null,
      "metadata": {
        "collapsed": false
      },
      "outputs": [],
      "source": [
        "nest.Connect(neuron, spikedetector)\nnest.Connect(voltmeter, neuron)\nnest.Connect(noise, neuron, syn_spec={'weight': [[epsc, ipsc]], 'delay': 1.0})"
      ]
    },
    {
      "cell_type": "markdown",
      "metadata": {},
      "source": [
        "To determine the optimal rate of the neurons in the inhibitory\npopulation, the network is simulated several times for different\nvalues of the inhibitory rate while measuring the rate of the target\nneuron. This is done by calling ``Simulate`` until the rate of the\ntarget neuron matches the rate of the neurons in the excitatory\npopulation with a certain accuracy. The algorithm is implemented in\ntwo steps:\n\nFirst, the function ``output_rate`` is defined to measure the firing\nrate of the target neuron for a given rate of the inhibitory neurons.\n\n"
      ]
    },
    {
      "cell_type": "code",
      "execution_count": null,
      "metadata": {
        "collapsed": false
      },
      "outputs": [],
      "source": [
        "def output_rate(guess):\n    print(\"Inhibitory rate estimate: %5.2f Hz\" % guess)\n    rate = float(abs(n_in * guess))\n    nest.SetStatus([noise[1]], \"rate\", rate)\n    nest.SetStatus(spikedetector, \"n_events\", 0)\n    nest.Simulate(t_sim)\n    out = nest.GetStatus(spikedetector, \"n_events\")[0] * 1000.0 / t_sim\n    print(\"  -> Neuron rate: %6.2f Hz (goal: %4.2f Hz)\" % (out, r_ex))\n    return out"
      ]
    },
    {
      "cell_type": "markdown",
      "metadata": {},
      "source": [
        "The function takes the firing rate of the inhibitory neurons as an\nargument. It scales the rate with the size of the inhibitory\npopulation and configures the inhibitory Poisson generator\n(``noise[1]``) accordingly. Then, the spike counter of the\n``spike_detector`` is reset to zero. The network is simulated using\n``Simulate``, which takes the desired simulation time in milliseconds\nand advances the network state by this amount of time. During\nsimulation, the ``spike_detector`` counts the spikes of the target\nneuron and the total number is read out at the end of the simulation\nperiod. The return value of ``output_rate()`` is the firing rate of\nthe target neuron in Hz.\n\nSecond, the scipy function ``bisect`` is used to determine the optimal\nfiring rate of the neurons of the inhibitory population.\n\n"
      ]
    },
    {
      "cell_type": "code",
      "execution_count": null,
      "metadata": {
        "collapsed": false
      },
      "outputs": [],
      "source": [
        "in_rate = bisect(lambda x: output_rate(x) - r_ex, lower, upper, xtol=prec)\nprint(\"Optimal rate for the inhibitory population: %.2f Hz\" % in_rate)"
      ]
    },
    {
      "cell_type": "markdown",
      "metadata": {},
      "source": [
        "The function ``bisect`` takes four arguments: first a function whose\nzero crossing is to be determined. Here, the firing rate of the target\nneuron should equal the firing rate of the neurons of the excitatory\npopulation. Thus we define an anonymous function (using ``lambda``)\nthat returns the difference between the actual rate of the target\nneuron and the rate of the excitatory Poisson generator, given a rate\nfor the inhibitory neurons. The next two arguments are the lower and\nupper bound of the interval in which to search for the zero\ncrossing. The fourth argument of ``bisect`` is the desired relative\nprecision of the zero crossing.\n\nFinally, we plot the target neuron's membrane potential as a function\nof time.\n\n"
      ]
    },
    {
      "cell_type": "code",
      "execution_count": null,
      "metadata": {
        "collapsed": false
      },
      "outputs": [],
      "source": [
        "nest.voltage_trace.from_device(voltmeter)"
      ]
    }
  ],
  "metadata": {
    "kernelspec": {
      "display_name": "Python 3",
      "language": "python",
      "name": "python3"
    },
    "language_info": {
      "codemirror_mode": {
        "name": "ipython",
        "version": 3
      },
      "file_extension": ".py",
      "mimetype": "text/x-python",
      "name": "python",
      "nbconvert_exporter": "python",
      "pygments_lexer": "ipython3",
      "version": "3.6.1"
    }
  },
  "nbformat": 4,
  "nbformat_minor": 0
}