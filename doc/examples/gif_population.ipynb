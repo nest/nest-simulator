{
 "cells": [
   {
  "cell_type": "markdown",
  "metadata": {},
  "source": [
    "\n\n"
  ]
},{
 "cell_type": "code",
 "execution_count": null,
 "metadata": {
  "collapsed": false
 },
 "outputs": [],
 "source": [
   "    \n    \n"
 ]
},{
  "cell_type": "markdown",
  "metadata": {},
  "source": [
    "Population of GIF neuron model with oscillatory behavior\n--------------------------------------------------------\n\nThis script simulates a population of generalized integrate-and-fire (GIF)\nmodel neurons driven by noise from a group of Poisson generators.\n\nDue to spike-frequency adaptation, the GIF neurons tend to show oscillatory\nbehavior on the time scale comparable with the time constant of adaptation\nelements (stc and sfa).\n\nPopulation dynamics are visualized by raster plot and as average firing rate.\n\n"
  ]
},{
 "cell_type": "code",
 "execution_count": null,
 "metadata": {
  "collapsed": false
 },
 "outputs": [],
 "source": [
   "    \n"
 ]
},{
  "cell_type": "markdown",
  "metadata": {},
  "source": [
    "Import all necessary modules for simulation and plotting.\n\n"
  ]
},{
 "cell_type": "code",
 "execution_count": null,
 "metadata": {
  "collapsed": false
 },
 "outputs": [],
 "source": [
   "    \n    import nest\n    import nest.raster_plot\n    import matplotlib.pyplot as plt\n    \n    nest.ResetKernel()\n    \n"
 ]
},{
  "cell_type": "markdown",
  "metadata": {},
  "source": [
    "Assigning the simulation parameters to variables.\n\n"
  ]
},{
 "cell_type": "code",
 "execution_count": null,
 "metadata": {
  "collapsed": false
 },
 "outputs": [],
 "source": [
   "    \n    dt = 0.1\n    simtime = 2000.0\n    \n"
 ]
},{
  "cell_type": "markdown",
  "metadata": {},
  "source": [
    "Definition of neural parameters for the GIF model. These parameters are\nextracted by fitting the model to experimental data: Mensi, S., Naud, R.,\nPozzorini, C., Avermann, M., Petersen, C.C. and Gerstner, W., 2012. Parameter\nextraction and classification of three cortical neuron types reveals two\ndistinct adaptation mechanisms. Journal of Neurophysiology, 107(6),\npp.1756-1775.\n\n"
  ]
},{
 "cell_type": "code",
 "execution_count": null,
 "metadata": {
  "collapsed": false
 },
 "outputs": [],
 "source": [
   "    \n    neuron_params = {\"C_m\": 83.1,\n                     \"g_L\": 3.7,\n                     \"E_L\": -67.0,\n                     \"Delta_V\": 1.4,\n                     \"V_T_star\": -39.6,\n                     \"t_ref\": 4.0,\n                     \"V_reset\": -36.7,\n                     \"lambda_0\": 1.0,\n                     \"q_stc\": [56.7, -6.9],\n                     \"tau_stc\": [57.8, 218.2],\n                     \"q_sfa\": [11.7, 1.8],\n                     \"tau_sfa\": [53.8, 640.0],\n                     \"tau_syn_ex\": 10.0,\n                     }\n    \n"
 ]
},{
  "cell_type": "markdown",
  "metadata": {},
  "source": [
    "Definition of the parameters for the population of GIF neurons.\n\n"
  ]
},{
 "cell_type": "code",
 "execution_count": null,
 "metadata": {
  "collapsed": false
 },
 "outputs": [],
 "source": [
   "    \n    N_ex = 100  # size of the population\n    p_ex = 0.3  # connection probability inside the population\n    w_ex = 30.0  # synaptic weights inside the population (pA)\n    \n"
 ]
},{
  "cell_type": "markdown",
  "metadata": {},
  "source": [
    "Definition of the parameters for the Poisson group and its connection with GIF\nneurons population.\n\n"
  ]
},{
 "cell_type": "code",
 "execution_count": null,
 "metadata": {
  "collapsed": false
 },
 "outputs": [],
 "source": [
   "    \n    N_noise = 50  # size of Poisson group\n    rate_noise = 10.0  # firing rate of Poisson neurons (Hz)\n    w_noise = 20.0  # synaptic weights from Poisson to population neurons (pA)\n    \n"
 ]
},{
  "cell_type": "markdown",
  "metadata": {},
  "source": [
    "Configuration of the simulation kernel with the previously defined time\nresolution.\n\n"
  ]
},{
 "cell_type": "code",
 "execution_count": null,
 "metadata": {
  "collapsed": false
 },
 "outputs": [],
 "source": [
   "    \n    nest.SetKernelStatus({\"resolution\": dt})\n    \n"
 ]
},{
  "cell_type": "markdown",
  "metadata": {},
  "source": [
    "Building a population of GIF neurons, a group of Poisson neurons and a\nspike detector device for capturing spike times of the population.\n\n"
  ]
},{
 "cell_type": "code",
 "execution_count": null,
 "metadata": {
  "collapsed": false
 },
 "outputs": [],
 "source": [
   "    \n    population = nest.Create(\"gif_psc_exp\", N_ex, params=neuron_params)\n    \n    noise = nest.Create(\"poisson_generator\", N_noise, params={'rate': rate_noise})\n    \n    spike_det = nest.Create(\"spike_detector\")\n    \n    \n"
 ]
},{
  "cell_type": "markdown",
  "metadata": {},
  "source": [
    "Build connections inside the population of GIF neurons population, between\nPoisson group and the population, and also connecting spike detector to the\npopulation.\n\n"
  ]
},{
 "cell_type": "code",
 "execution_count": null,
 "metadata": {
  "collapsed": false
 },
 "outputs": [],
 "source": [
   "    \n    nest.Connect(\n        population, population, {'rule': 'pairwise_bernoulli', 'p': p_ex},\n        syn_spec={\"weight\": w_ex}\n        )\n    \n    nest.Connect(noise, population, 'all_to_all', syn_spec={\"weight\": w_noise})\n    \n    nest.Connect(population, spike_det)\n    \n"
 ]
},{
  "cell_type": "markdown",
  "metadata": {},
  "source": [
    "Simulation of the network.\n\n"
  ]
},{
 "cell_type": "code",
 "execution_count": null,
 "metadata": {
  "collapsed": false
 },
 "outputs": [],
 "source": [
   "    \n    nest.Simulate(simtime)\n    \n"
 ]
},{
  "cell_type": "markdown",
  "metadata": {},
  "source": [
    "Plotting the results of simulation including raster plot and histogram of\npopulation activity.\n\n"
  ]
},{
 "cell_type": "code",
 "execution_count": null,
 "metadata": {
  "collapsed": false
 },
 "outputs": [],
 "source": [
   "    \n    nest.raster_plot.from_device(spike_det, hist=True)\n    plt.title('Population dynamics')\n    \n    \n"
 ]
},{
  "cell_type": "markdown",
  "metadata": {},
  "source": [
    "\n\n"
  ]
},{
 "cell_type": "code",
 "execution_count": null,
 "metadata": {
  "collapsed": false
 },
 "outputs": [],
 "source": [
   "\n"
 ]
}
],
 "metadata": {
  "kernelspec": {
   "display_name": "Python 2",
   "language": "python",
   "name": "python2"
  },
  "language_info": {
   "codemirror_mode": {
    "name": "ipython",
    "version": 2
   },
   "file_extension": ".py",
   "mimetype": "text/x-python",
   "name": "python",
   "nbconvert_exporter": "python",
   "pygments_lexer": "ipython2",
   "version": "2.7.3"
  }
 },
 "nbformat": 4,
 "nbformat_minor": 0
}