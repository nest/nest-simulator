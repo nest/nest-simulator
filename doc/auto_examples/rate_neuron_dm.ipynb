{
  "cells": [
    {
      "cell_type": "code",
      "execution_count": null,
      "metadata": {
        "collapsed": false
      },
      "outputs": [],
      "source": [
        "%matplotlib inline"
      ]
    },
    {
      "cell_type": "markdown",
      "metadata": {},
      "source": [
        "\nrate_neuron decision making\n------------------\n\nA binary decision is implemented in the form of two rate neurons\nengaging in mutual inhibition.\n\nEvidence for each decision is reflected by the mean of Gaussian\nwhite noise experienced by the respective neuron.\nThe activity of each neuron is recorded using multimeter devices.\n\nIt can be observed how noise as well as the difference in evidence\naffects which neuron exhibits larger activity and hence which\ndecision will be made.\n\n"
      ]
    },
    {
      "cell_type": "code",
      "execution_count": null,
      "metadata": {
        "collapsed": false
      },
      "outputs": [],
      "source": [
        "import nest\nimport pylab\nimport numpy\n\n'''\nFirst, the Function build_network is defined to build the network and\nreturn the handles of two decision units and the mutimeter\n'''\n\n\ndef build_network(sigma, dt):\n    nest.ResetKernel()\n    nest.SetKernelStatus({'resolution': dt, 'use_wfr': False})\n    Params = {'lambda': 0.1, 'std': sigma, 'tau': 1., 'rectify_output': True}\n    D1 = nest.Create('lin_rate_ipn', params=Params)\n    D2 = nest.Create('lin_rate_ipn', params=Params)\n\n    nest.Connect(D1, D2, 'all_to_all', {\n        'model': 'rate_connection_instantaneous', 'weight': -0.2})\n    nest.Connect(D2, D1, 'all_to_all', {\n        'model': 'rate_connection_instantaneous', 'weight': -0.2})\n\n    mm = nest.Create('multimeter')\n    nest.SetStatus(mm, {'interval': dt, 'record_from': ['rate']})\n    nest.Connect(mm, D1, syn_spec={'delay': dt})\n    nest.Connect(mm, D2, syn_spec={'delay': dt})\n\n    return D1, D2, mm\n\n\n'''\nThe function build_network takes the standard deviation of Gaussian\nwhite noise and the time resolution as arguments.\nFirst the Kernel is reset and the use_wfr (waveform-relaxation) is set to\nfalse while the resolution is set to the specified value dt.\nTwo rate neurons with linear activation functions are created and the\nhandle is stored in the variables D1 and D2. The output of both decision\nunits is rectified at zero.\nThe two decisions units are coupled via mutual inhibition.\nNext the multimeter is created and the handle stored in mm and the option\n'record_from' is set. The multimeter is then connected to the two units\nin order to 'observe' them.  The connect function takes the handles as input.\n'''\n\n'''\nThe decision making process is simulated for three different levels of noise\nand three differences in evidence for a given decision. The activity of both\ndecision units is plotted for each scenario.\n'''\n\nfig_size = [14, 8]\nfig_rows = 3\nfig_cols = 3\nfig_plots = fig_rows * fig_cols\nface = 'white'\nedge = 'white'\n\nax = [None] * fig_plots\nfig = pylab.figure(facecolor=face, edgecolor=edge, figsize=fig_size)\n\ndt = 1e-3\nsigma = [0.0, 0.1, 0.2]\ndE = [0.0, 0.004, 0.008]\nT = numpy.linspace(0, 200, 200 / dt - 1)\nfor i in range(9):\n\n    c = i % 3\n    r = int(i / 3)\n    D1, D2, mm = build_network(sigma[r], dt)\n\n    '''\n    First using build_network the network is build and the handles of\n    the decision units and the multimeter are stored in D1, D2 and mm\n    '''\n\n    nest.Simulate(100.0)\n    nest.SetStatus(D1, {'mean': 1. + dE[c]})\n    nest.SetStatus(D2, {'mean': 1. - dE[c]})\n    nest.Simulate(100.0)\n    '''\n    The network is simulated using `Simulate`, which takes the desired\n    simulation time in milliseconds and advances the network state by\n    this amount of time. After an initial period in the absence of evidence\n    for either decision, evidence is given by changing the state of each\n    decision unit. Note that both units receive evidence.\n    '''\n\n    data = nest.GetStatus(mm)\n    senders = data[0]['events']['senders']\n    voltages = data[0]['events']['rate']\n\n    '''\n    The activity values ('voltages') are read out by the multimeter\n    '''\n\n    ax[i] = fig.add_subplot(fig_rows, fig_cols, i + 1)\n    ax[i].plot(T, voltages[numpy.where(senders == D1)],\n               'b', linewidth=2, label=\"D1\")\n    ax[i].plot(T, voltages[numpy.where(senders == D2)],\n               'r', linewidth=2, label=\"D2\")\n    ax[i].set_ylim([-.5, 12.])\n    ax[i].get_xaxis().set_ticks([])\n    ax[i].get_yaxis().set_ticks([])\n    if c == 0:\n        ax[i].set_ylabel(\"activity ($\\sigma=%.1f$) \" % (sigma[r]))\n        ax[i].get_yaxis().set_ticks([0, 3, 6, 9, 12])\n\n    if r == 0:\n        ax[i].set_title(\"$\\Delta E=%.3f$ \" % (dE[c]))\n        if c == 2:\n            pylab.legend(loc=0)\n    if r == 2:\n        ax[i].get_xaxis().set_ticks([0, 50, 100, 150, 200])\n        ax[i].set_xlabel('time (ms)')\n\n    '''\n    The activity of the two units is plottedin each scenario.\n\n    In the absence of noise, the network will not make a decision if evidence\n    for both choices is equal. With noise, this symmetry can be broken and a\n    decision wil be taken despite identical evidence.\n\n    As evidence for D1 relative to D2 increases, it becomes more likely that\n    the corresponding decision will be taken. For small differences in the\n    evidence for the two decisions, noise can lead to the 'wrong' decision.\n\n    '''\n\npylab.show()"
      ]
    }
  ],
  "metadata": {
    "kernelspec": {
      "display_name": "Python 3",
      "language": "python",
      "name": "python3"
    },
    "language_info": {
      "codemirror_mode": {
        "name": "ipython",
        "version": 3
      },
      "file_extension": ".py",
      "mimetype": "text/x-python",
      "name": "python",
      "nbconvert_exporter": "python",
      "pygments_lexer": "ipython3",
      "version": "3.6.1"
    }
  },
  "nbformat": 4,
  "nbformat_minor": 0
}