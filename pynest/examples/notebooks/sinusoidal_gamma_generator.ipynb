{
 "cells": [
  {
   "cell_type": "code",
   "execution_count": null,
   "metadata": {
    "collapsed": false
   },
   "outputs": [],
   "source": [
    "%matplotlib inline"
   ]
  },
  {
   "cell_type": "markdown",
   "metadata": {},
   "source": [
    "\n",
    "# Sinusoidal gamma generator example\n",
    "\n",
    "This script demonstrates the use of the ``sinusoidal_gamma_generator`` and its\n",
    "different parameters and modes. The source code of the model can be found in\n",
    "``models/sinusoidal_gamma_generator.h``.\n",
    "\n",
    "The script is structured into two parts, each of which generates its own\n",
    "figure. In part 1A, two generators are created with different orders of the\n",
    "underlying gamma process and their resulting PST (Peristiumulus time) and ISI\n",
    "(Inter-spike interval) histograms are plotted. Part 1B illustrates the effect\n",
    "of the ``individual_spike_trains`` switch. In Part 2, the effects of\n",
    "different settings for rate, phase and frequency are demonstrated.\n"
   ]
  },
  {
   "cell_type": "markdown",
   "metadata": {},
   "source": [
    "First, we import all necessary modules to simulate, analyze and\n",
    "plot this example.\n",
    "\n"
   ]
  },
  {
   "cell_type": "code",
   "execution_count": null,
   "metadata": {
    "collapsed": false
   },
   "outputs": [],
   "source": [
    "import nest\n",
    "import matplotlib.pyplot as plt\n",
    "import numpy as np\n",
    "\n",
    "nest.ResetKernel()   # in case we run the script multiple times from iPython"
   ]
  },
  {
   "cell_type": "markdown",
   "metadata": {},
   "source": [
    "We first create a figure for the plot and set the resolution of NEST.\n",
    "\n"
   ]
  },
  {
   "cell_type": "code",
   "execution_count": null,
   "metadata": {
    "collapsed": false
   },
   "outputs": [],
   "source": [
    "plt.figure()\n",
    "nest.resolution = 0.01"
   ]
  },
  {
   "cell_type": "markdown",
   "metadata": {},
   "source": [
    "Then we create two instances of the ``sinusoidal_gamma_generator`` with two\n",
    "different orders of the underlying gamma process using ``Create``. Moreover,\n",
    "we create devices to record firing rates (``multimeter``) and spikes\n",
    "(``spike_recorder``) and connect them to the generators using ``Connect``.\n",
    "\n"
   ]
  },
  {
   "cell_type": "code",
   "execution_count": null,
   "metadata": {
    "collapsed": false
   },
   "outputs": [],
   "source": [
    "num_nodes = 2\n",
    "g = nest.Create('sinusoidal_gamma_generator', n=num_nodes,\n",
    "                params={'rate': 10000.0,\n",
    "                        'amplitude': 5000.0,\n",
    "                        'frequency': 10.0,\n",
    "                        'phase': 0.0,\n",
    "                        'order': [2.0, 10.0]})   # note the syntax for different order parameter of the two nodes\n",
    "\n",
    "m = nest.Create('multimeter', num_nodes, {'interval': 0.1, 'record_from': ['rate']})\n",
    "s = nest.Create('spike_recorder', num_nodes)\n",
    "\n",
    "nest.Connect(m, g, 'one_to_one')\n",
    "nest.Connect(g, s, 'one_to_one')\n",
    "\n",
    "nest.Simulate(200)"
   ]
  },
  {
   "cell_type": "markdown",
   "metadata": {},
   "source": [
    "After simulating, the spikes are extracted from the ``spike_recorder`` and\n",
    "plots are created with panels for the PST and ISI histograms.\n",
    "\n"
   ]
  },
  {
   "cell_type": "code",
   "execution_count": null,
   "metadata": {
    "collapsed": false
   },
   "outputs": [],
   "source": [
    "colors = ['b', 'g']\n",
    "\n",
    "for j in range(num_nodes):\n",
    "\n",
    "    ev = m[j].events\n",
    "    t = ev['times']\n",
    "    r = ev['rate']\n",
    "\n",
    "    spike_times = s[j].events['times']\n",
    "    plt.subplot(221)\n",
    "    h, e = np.histogram(spike_times, bins=np.arange(0., 201., 5.))\n",
    "    plt.plot(t, r, color=colors[j])\n",
    "    plt.step(e[:-1], h * 1000 / 5., color=colors[j], where='post')\n",
    "    plt.title('PST histogram and firing rates')\n",
    "    plt.ylabel('Spikes per second')\n",
    "\n",
    "    plt.subplot(223)\n",
    "    plt.hist(np.diff(spike_times), bins=np.arange(0., 0.505, 0.01),\n",
    "             histtype='step', color=colors[j])\n",
    "    plt.title('ISI histogram')"
   ]
  },
  {
   "cell_type": "markdown",
   "metadata": {},
   "source": [
    "The kernel is reset and the number of threads set to 4.\n",
    "\n"
   ]
  },
  {
   "cell_type": "code",
   "execution_count": null,
   "metadata": {
    "collapsed": false
   },
   "outputs": [],
   "source": [
    "nest.ResetKernel()\n",
    "nest.local_num_threads = 4"
   ]
  },
  {
   "cell_type": "markdown",
   "metadata": {},
   "source": [
    "First, a ``sinusoidal_gamma_generator`` with ``individual_spike_trains`` set to\n",
    "`True` is created and connected to 20 parrot neurons whose spikes are\n",
    "recorded by a spike recorder. After simulating, a raster plot of the spikes\n",
    "is created.\n",
    "\n"
   ]
  },
  {
   "cell_type": "code",
   "execution_count": null,
   "metadata": {
    "collapsed": false
   },
   "outputs": [],
   "source": [
    "g = nest.Create('sinusoidal_gamma_generator',\n",
    "                params={'rate': 100.0, 'amplitude': 50.0,\n",
    "                        'frequency': 10.0, 'phase': 0.0, 'order': 3.,\n",
    "                        'individual_spike_trains': True})\n",
    "p = nest.Create('parrot_neuron', 20)\n",
    "s = nest.Create('spike_recorder')\n",
    "\n",
    "nest.Connect(g, p)\n",
    "nest.Connect(p, s)\n",
    "\n",
    "nest.Simulate(200)\n",
    "ev = s.events\n",
    "plt.subplot(222)\n",
    "plt.plot(ev['times'], ev['senders'] - min(ev['senders']), 'o')\n",
    "plt.ylim([-0.5, 19.5])\n",
    "plt.yticks([])\n",
    "plt.title('Individual spike trains for each target')"
   ]
  },
  {
   "cell_type": "markdown",
   "metadata": {},
   "source": [
    "The kernel is reset again and the whole procedure is repeated for a\n",
    "``sinusoidal_gamma_generator`` with ``individual_spike_trains`` set to `False`.\n",
    "The plot shows that in this case, all neurons receive the same spike train\n",
    "from the ``sinusoidal_gamma_generator``.\n",
    "\n"
   ]
  },
  {
   "cell_type": "code",
   "execution_count": null,
   "metadata": {
    "collapsed": false
   },
   "outputs": [],
   "source": [
    "nest.ResetKernel()\n",
    "nest.local_num_threads = 4\n",
    "\n",
    "g = nest.Create('sinusoidal_gamma_generator',\n",
    "                params={'rate': 100.0, 'amplitude': 50.0,\n",
    "                        'frequency': 10.0, 'phase': 0.0, 'order': 3.,\n",
    "                        'individual_spike_trains': False})\n",
    "p = nest.Create('parrot_neuron', 20)\n",
    "s = nest.Create('spike_recorder')\n",
    "\n",
    "nest.Connect(g, p)\n",
    "nest.Connect(p, s)\n",
    "\n",
    "nest.Simulate(200)\n",
    "ev = s.events\n",
    "plt.subplot(224)\n",
    "plt.plot(ev['times'], ev['senders'] - min(ev['senders']), 'o')\n",
    "plt.ylim([-0.5, 19.5])\n",
    "plt.yticks([])\n",
    "plt.title('One spike train for all targets')"
   ]
  },
  {
   "cell_type": "markdown",
   "metadata": {},
   "source": [
    "In part 2, multiple generators are created with different settings for rate,\n",
    "phase and frequency. First, we define an auxiliary function, which simulates\n",
    "`n` generators for `t` ms. After `t/2`, the parameter dictionary of the\n",
    "generators is changed from initial to after.\n",
    "\n"
   ]
  },
  {
   "cell_type": "code",
   "execution_count": null,
   "metadata": {
    "collapsed": false
   },
   "outputs": [],
   "source": [
    "def step(t, n, initial, after, seed=1, dt=0.05):\n",
    "\n",
    "    nest.ResetKernel()\n",
    "    nest.resolution = dt\n",
    "    nest.rng_seed = seed\n",
    "\n",
    "    g = nest.Create('sinusoidal_gamma_generator', n, params=initial)\n",
    "    sr = nest.Create('spike_recorder')\n",
    "    nest.Connect(g, sr)\n",
    "    nest.Simulate(t / 2)\n",
    "    g.set(after)\n",
    "    nest.Simulate(t / 2)\n",
    "\n",
    "    return sr.events"
   ]
  },
  {
   "cell_type": "markdown",
   "metadata": {},
   "source": [
    "This function serves to plot a histogram of the emitted spikes.\n",
    "\n"
   ]
  },
  {
   "cell_type": "code",
   "execution_count": null,
   "metadata": {
    "collapsed": false
   },
   "outputs": [],
   "source": [
    "def plot_hist(spikes):\n",
    "    plt.hist(spikes['times'],\n",
    "             bins=np.arange(0., max(spikes['times']) + 1.5, 1.),\n",
    "             histtype='step')\n",
    "\n",
    "\n",
    "t = 1000\n",
    "n = 1000\n",
    "dt = 1.0\n",
    "steps = int(t / dt)\n",
    "offset = t / 1000. * 2 * np.pi\n",
    "\n",
    "\n",
    "# We create a figure with a 2x3 grid.\n",
    "\n",
    "\n",
    "grid = (2, 3)\n",
    "fig = plt.figure(figsize=(15, 10))"
   ]
  },
  {
   "cell_type": "markdown",
   "metadata": {},
   "source": [
    "We simulate a ``sinusoidal_gamma_generator`` with default parameter values,\n",
    "i.e. ``ac=0`` and the DC value being changed from 20 to 50 after `t/2` and\n",
    "plot the number of spikes per second over time.\n",
    "\n"
   ]
  },
  {
   "cell_type": "code",
   "execution_count": null,
   "metadata": {
    "collapsed": false
   },
   "outputs": [],
   "source": [
    "plt.subplot(grid[0], grid[1], 1)\n",
    "spikes = step(t, n,\n",
    "              {'rate': 20.0},\n",
    "              {'rate': 50.0, },\n",
    "              seed=123, dt=dt)\n",
    "plot_hist(spikes)\n",
    "exp = np.ones(int(steps))\n",
    "exp[:int(steps / 2)] *= 20\n",
    "exp[int(steps / 2):] *= 50\n",
    "plt.plot(exp, 'r')\n",
    "plt.title('DC rate: 20 -> 50')\n",
    "plt.ylabel('Spikes per second')"
   ]
  },
  {
   "cell_type": "markdown",
   "metadata": {},
   "source": [
    "We simulate a ``sinusoidal_gamma_generator`` with the DC value being changed\n",
    "from 80 to 40 after `t/2` and plot the number of spikes per second over\n",
    "time.\n",
    "\n"
   ]
  },
  {
   "cell_type": "code",
   "execution_count": null,
   "metadata": {
    "collapsed": false
   },
   "outputs": [],
   "source": [
    "plt.subplot(grid[0], grid[1], 2)\n",
    "spikes = step(t, n,\n",
    "              {'order': 6.0, 'rate': 80.0, 'amplitude': 0.,\n",
    "               'frequency': 0., 'phase': 0.},\n",
    "              {'order': 6.0, 'rate': 40.0, 'amplitude': 0.,\n",
    "               'frequency': 0., 'phase': 0.},\n",
    "              seed=123, dt=dt)\n",
    "plot_hist(spikes)\n",
    "exp = np.ones(int(steps))\n",
    "exp[:int(steps / 2)] *= 80\n",
    "exp[int(steps / 2):] *= 40\n",
    "plt.plot(exp, 'r')\n",
    "plt.title('DC rate: 80 -> 40')"
   ]
  },
  {
   "cell_type": "markdown",
   "metadata": {},
   "source": [
    "Next, we simulate a ``sinusoidal_gamma_generator`` with the AC value being\n",
    "changed from 40 to 20 after `t/2` and plot the number of spikes per\n",
    "second over time.\n",
    "\n"
   ]
  },
  {
   "cell_type": "code",
   "execution_count": null,
   "metadata": {
    "collapsed": false
   },
   "outputs": [],
   "source": [
    "plt.subplot(grid[0], grid[1], 3)\n",
    "spikes = step(t, n,\n",
    "              {'order': 3.0, 'rate': 40.0, 'amplitude': 40.,\n",
    "               'frequency': 10., 'phase': 0.},\n",
    "              {'order': 3.0, 'rate': 40.0, 'amplitude': 20.,\n",
    "               'frequency': 10., 'phase': 0.},\n",
    "              seed=123, dt=dt)\n",
    "plot_hist(spikes)\n",
    "exp = np.zeros(int(steps))\n",
    "exp[:int(steps / 2)] = (40. + 40. * np.sin(np.arange(\n",
    "    0, t / 1000. * np.pi * 10, t / 1000. * np.pi * 10. / (steps / 2))))\n",
    "exp[int(steps / 2):] = (40. + 20. * np.sin(np.arange(\n",
    "    0, t / 1000. * np.pi * 10, t / 1000. * np.pi * 10. / (steps / 2)) + offset))\n",
    "plt.plot(exp, 'r')\n",
    "plt.title('Rate Modulation: 40 -> 20')"
   ]
  },
  {
   "cell_type": "markdown",
   "metadata": {},
   "source": [
    "Finally, we simulate a ``sinusoidal_gamma_generator`` with a non-zero AC value\n",
    "and the DC value being changed from 80 to 40 after `t/2` and plot the\n",
    "number of spikes per second over time.\n",
    "\n"
   ]
  },
  {
   "cell_type": "code",
   "execution_count": null,
   "metadata": {
    "collapsed": false
   },
   "outputs": [],
   "source": [
    "plt.subplot(grid[0], grid[1], 4)\n",
    "spikes = step(t, n,\n",
    "              {'order': 6.0, 'rate': 20.0, 'amplitude': 20.,\n",
    "               'frequency': 10., 'phase': 0.},\n",
    "              {'order': 6.0, 'rate': 50.0, 'amplitude': 50.,\n",
    "               'frequency': 10., 'phase': 0.},\n",
    "              seed=123, dt=dt)\n",
    "plot_hist(spikes)\n",
    "exp = np.zeros(int(steps))\n",
    "exp[:int(steps / 2)] = (20. + 20. * np.sin(np.arange(\n",
    "    0, t / 1000. * np.pi * 10, t / 1000. * np.pi * 10. / (steps / 2))))\n",
    "exp[int(steps / 2):] = (50. + 50. * np.sin(np.arange(\n",
    "    0, t / 1000. * np.pi * 10, t / 1000. * np.pi * 10. / (steps / 2)) + offset))\n",
    "plt.plot(exp, 'r')\n",
    "plt.title('DC Rate and Rate Modulation: 20 -> 50')\n",
    "plt.ylabel('Spikes per second')\n",
    "plt.xlabel('Time [ms]')"
   ]
  },
  {
   "cell_type": "markdown",
   "metadata": {},
   "source": [
    "Simulate a ``sinusoidal_gamma_generator`` with the AC value being\n",
    "changed from 0 to 40 after `t/2` and plot the number of spikes per\n",
    "second over time.\n",
    "\n"
   ]
  },
  {
   "cell_type": "code",
   "execution_count": null,
   "metadata": {
    "collapsed": false
   },
   "outputs": [],
   "source": [
    "plt.subplot(grid[0], grid[1], 5)\n",
    "spikes = step(t, n,\n",
    "              {'rate': 40.0, },\n",
    "              {'amplitude': 40.0, 'frequency': 20.},\n",
    "              seed=123, dt=1.)\n",
    "plot_hist(spikes)\n",
    "exp = np.zeros(int(steps))\n",
    "exp[:int(steps / 2)] = 40. * np.ones(int(steps / 2))\n",
    "exp[int(steps / 2):] = (40. + 40. * np.sin(np.arange(\n",
    "    0, t / 1000. * np.pi * 20, t / 1000. * np.pi * 20. / (steps / 2))))\n",
    "plt.plot(exp, 'r')\n",
    "plt.title('Rate Modulation: 0 -> 40')\n",
    "plt.xlabel('Time [ms]')"
   ]
  },
  {
   "cell_type": "markdown",
   "metadata": {},
   "source": [
    "Simulate a ``sinusoidal_gamma_generator`` with a phase shift at\n",
    "`t/2` and plot the number of spikes per second over time.\n",
    "\n"
   ]
  },
  {
   "cell_type": "code",
   "execution_count": null,
   "metadata": {
    "collapsed": false
   },
   "outputs": [],
   "source": [
    "# Phase shift\n",
    "plt.subplot(grid[0], grid[1], 6)\n",
    "spikes = step(t, n,\n",
    "              {'order': 6.0, 'rate': 60.0, 'amplitude': 60.,\n",
    "               'frequency': 10., 'phase': 0.},\n",
    "              {'order': 6.0, 'rate': 60.0, 'amplitude': 60.,\n",
    "               'frequency': 10., 'phase': 180.},\n",
    "              seed=123, dt=1.)\n",
    "plot_hist(spikes)\n",
    "exp = np.zeros(int(steps))\n",
    "\n",
    "exp[:int(steps / 2)] = (60. + 60. * np.sin(np.arange(\n",
    "    0, t / 1000. * np.pi * 10, t / 1000. * np.pi * 10. / (steps / 2))))\n",
    "exp[int(steps / 2):] = (60. + 60. * np.sin(np.arange(\n",
    "    0, t / 1000. * np.pi * 10, t / 1000. * np.pi * 10. / (steps / 2)) + offset + np.pi))\n",
    "plt.plot(exp, 'r')\n",
    "plt.title('Modulation Phase: 0 -> Pi')\n",
    "plt.xlabel('Time [ms]')\n",
    "plt.show()"
   ]
  },
  {
   "cell_type": "markdown",
   "metadata": {},
   "source": [
    "[![EBRAINS Notebook](https://nest-simulator.org/TryItOnEBRAINS.png)](https://lab.ebrains.eu/hub/user-redirect/git-pull?repo=https%3A%2F%2Fgithub.com%2Fjessica-mitchell%2Fnest-simulator&urlpath=lab%2Ftree%2Fnest-simulator%2Fpynest%2Fexamples%2Fnotebooks%2Fnotebooks%2Fsinusoidal_gamma_generator.ipynb&branch=ebrains-button)\n"
   ]
  }
 ],
 "metadata": {
  "kernelspec": {
   "display_name": "EBRAINS-22.10",
   "language": "python",
   "name": "spack_python_kernel_release_202210"
  },
  "language_info": {
   "codemirror_mode": {
    "name": "ipython",
    "version": 3
   },
   "file_extension": ".py",
   "mimetype": "text/x-python",
   "name": "python",
   "nbconvert_exporter": "python",
   "pygments_lexer": "ipython3",
   "version": "3.9.6"
  }
 },
 "nbformat": 4,
 "nbformat_minor": 5
}
