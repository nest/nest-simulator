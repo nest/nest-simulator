{
 "cells": [
   {
  "cell_type": "markdown",
  "metadata": {},
  "source": [
    "\n\n"
  ]
},{
 "cell_type": "code",
 "execution_count": null,
 "metadata": {
  "collapsed": false
 },
 "outputs": [],
 "source": [
   "    \n    \n"
 ]
},{
  "cell_type": "markdown",
  "metadata": {},
  "source": [
    "Using CSA for connection setup\n------------------------------\n\nThis example sets up a simple network in NEST using the Connection Set\nAlgebra (CSA) instead of using the built-in connection routines.\n\nUsing the CSA requires NEST to be compiled with support for\nlibneurosim. For details, see Djurfeldt M, Davison AP and Eppler JM\n(2014) **Efficient generation of connectivity in neuronal networks\nfrom simulator-independent descriptions**, *Front. Neuroinform.*\nhttp://dx.doi.org/10.3389/fninf.2014.00043\n\nFor a related example, see csa_topology_example.py\n\n"
  ]
},{
 "cell_type": "code",
 "execution_count": null,
 "metadata": {
  "collapsed": false
 },
 "outputs": [],
 "source": [
   "    \n"
 ]
},{
  "cell_type": "markdown",
  "metadata": {},
  "source": [
    "First, we import all necessary modules for simulation and plotting.\n\n"
  ]
},{
 "cell_type": "code",
 "execution_count": null,
 "metadata": {
  "collapsed": false
 },
 "outputs": [],
 "source": [
   "    \n    import nest\n    from nest import voltage_trace\n    from nest import visualization\n    \n"
 ]
},{
  "cell_type": "markdown",
  "metadata": {},
  "source": [
    "Next, we check for the availability of the CSA Python module. If it\ndoes not import, we exit with an error message.\n\n"
  ]
},{
 "cell_type": "code",
 "execution_count": null,
 "metadata": {
  "collapsed": false
 },
 "outputs": [],
 "source": [
   "    \n    try:\n        import csa\n        haveCSA = True\n    except ImportError:\n        print(\"This example requires CSA to be installed in order to run.\\n\" +\n              \"Please make sure you compiled NEST using\\n\" +\n              \"  -Dwith-libneurosim=[OFF|ON|</path/to/libneurosim>]\\n\" +\n              \"and CSA and libneurosim are available from PYTHONPATH.\")\n        import sys\n        sys.exit()\n    \n"
 ]
},{
  "cell_type": "markdown",
  "metadata": {},
  "source": [
    "To set up the connectivity, We create a ``random`` connection set\nwith a probability of 0.1 and two associated values (10000.0 and 1.0)\nused as weight and delay, respectively.\n\n"
  ]
},{
 "cell_type": "code",
 "execution_count": null,
 "metadata": {
  "collapsed": false
 },
 "outputs": [],
 "source": [
   "    \n    cs = csa.cset(csa.random(0.1), 10000.0, 1.0)\n    \n"
 ]
},{
  "cell_type": "markdown",
  "metadata": {},
  "source": [
    "Using the `Create` command from PyNEST, we create the neurons of\nthe pre- and postsynaptic populations, each of which containing 16\nneurons.\n\n"
  ]
},{
 "cell_type": "code",
 "execution_count": null,
 "metadata": {
  "collapsed": false
 },
 "outputs": [],
 "source": [
   "    \n    pre = nest.Create(\"iaf_psc_alpha\", 16)\n    post = nest.Create(\"iaf_psc_alpha\", 16)\n    \n"
 ]
},{
  "cell_type": "markdown",
  "metadata": {},
  "source": [
    "We can now connect the populations using the `CGConnect` function.\nIt takes the IDs of pre- and postsynaptic neurons (``pre`` and\n``post``), the connection set (``cs``) and a dictionary that maps\nthe parameters weight and delay to positions in the value set\nassociated with the connection set.\n\n"
  ]
},{
 "cell_type": "code",
 "execution_count": null,
 "metadata": {
  "collapsed": false
 },
 "outputs": [],
 "source": [
   "    \n    nest.CGConnect(pre, post, cs, {\"weight\": 0, \"delay\": 1})\n    \n"
 ]
},{
  "cell_type": "markdown",
  "metadata": {},
  "source": [
    "To stimulate the network, we create a `poisson_generator` and set it\nup to fire with a rate of 100000 spikes per second. It is connected to\nthe neurons of the pre-synaptic population.\n\n"
  ]
},{
 "cell_type": "code",
 "execution_count": null,
 "metadata": {
  "collapsed": false
 },
 "outputs": [],
 "source": [
   "    \n    pg = nest.Create(\"poisson_generator\", params={\"rate\": 100000.0})\n    nest.Connect(pg, pre, \"all_to_all\")\n    \n"
 ]
},{
  "cell_type": "markdown",
  "metadata": {},
  "source": [
    "To measure and record the membrane potentials of the neurons, we\ncreate a `voltmeter` and connect it to all post-synaptic nodes.\n\n"
  ]
},{
 "cell_type": "code",
 "execution_count": null,
 "metadata": {
  "collapsed": false
 },
 "outputs": [],
 "source": [
   "    \n    vm = nest.Create(\"voltmeter\")\n    nest.Connect(vm, post, \"all_to_all\")\n    \n"
 ]
},{
  "cell_type": "markdown",
  "metadata": {},
  "source": [
    "We save the whole connection graph of the network as a PNG image\nusing the `plot_network` function of the `visualization` submodule of\nPyNEST.\n\n"
  ]
},{
 "cell_type": "code",
 "execution_count": null,
 "metadata": {
  "collapsed": false
 },
 "outputs": [],
 "source": [
   "    \n    allnodes = pg + pre + post + vm\n    visualization.plot_network(allnodes, \"csa_example_graph.png\")\n    \n"
 ]
},{
  "cell_type": "markdown",
  "metadata": {},
  "source": [
    "Finally, we simulate the network for 50 ms. The voltage traces of\nthe post-synaptic nodes are plotted.\n\n"
  ]
},{
 "cell_type": "code",
 "execution_count": null,
 "metadata": {
  "collapsed": false
 },
 "outputs": [],
 "source": [
   "    \n    nest.Simulate(50.0)\n    voltage_trace.from_device(vm)\n    \n    \n"
 ]
},{
  "cell_type": "markdown",
  "metadata": {},
  "source": [
    "\n\n"
  ]
},{
 "cell_type": "code",
 "execution_count": null,
 "metadata": {
  "collapsed": false
 },
 "outputs": [],
 "source": [
   "\n"
 ]
}
],
 "metadata": {
  "kernelspec": {
   "display_name": "Python 2",
   "language": "python",
   "name": "python2"
  },
  "language_info": {
   "codemirror_mode": {
    "name": "ipython",
    "version": 2
   },
   "file_extension": ".py",
   "mimetype": "text/x-python",
   "name": "python",
   "nbconvert_exporter": "python",
   "pygments_lexer": "ipython2",
   "version": "2.7.3"
  }
 },
 "nbformat": 4,
 "nbformat_minor": 0
}