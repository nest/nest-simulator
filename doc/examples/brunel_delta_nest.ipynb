{
 "cells": [
   {
  "cell_type": "markdown",
  "metadata": {},
  "source": [
    "\n\n"
  ]
},{
 "cell_type": "code",
 "execution_count": null,
 "metadata": {
  "collapsed": false
 },
 "outputs": [],
 "source": [
   "    \n    \n"
 ]
},{
  "cell_type": "markdown",
  "metadata": {},
  "source": [
    "Random balanced network (delta synapses)\n----------------------------------------\n\nThis script simulates an excitatory and an inhibitory population on\nthe basis of the network used in\n\nBrunel N, Dynamics of Sparsely Connected Networks of Excitatory and\nInhibitory Spiking Neurons, Journal of Computational Neuroscience 8,\n183-208 (2000).\n\nWhen connecting the network customary synapse models are used, which\nallow for querying the number of created synapses. Using spike\ndetectors the average firing rates of the neurons in the populations\nare established. The building as well as the simulation time of the\nnetwork are recorded.\n\n"
  ]
},{
 "cell_type": "code",
 "execution_count": null,
 "metadata": {
  "collapsed": false
 },
 "outputs": [],
 "source": [
   "    \n"
 ]
},{
  "cell_type": "markdown",
  "metadata": {},
  "source": [
    "Import all necessary modules for simulation, analysis and plotting.\n\n"
  ]
},{
 "cell_type": "code",
 "execution_count": null,
 "metadata": {
  "collapsed": false
 },
 "outputs": [],
 "source": [
   "    \n    import nest\n    import nest.raster_plot\n    \n    import time\n    from numpy import exp\n    \n    nest.ResetKernel()\n    \n"
 ]
},{
  "cell_type": "markdown",
  "metadata": {},
  "source": [
    "Assigning the current time to a variable in order to determine the\nbuild time of the network.\n\n"
  ]
},{
 "cell_type": "code",
 "execution_count": null,
 "metadata": {
  "collapsed": false
 },
 "outputs": [],
 "source": [
   "    \n    startbuild = time.time()\n    \n"
 ]
},{
  "cell_type": "markdown",
  "metadata": {},
  "source": [
    "Assigning the simulation parameters to variables.\n\n"
  ]
},{
 "cell_type": "code",
 "execution_count": null,
 "metadata": {
  "collapsed": false
 },
 "outputs": [],
 "source": [
   "    \n    dt = 0.1  # the resolution in ms\n    simtime = 1000.0  # Simulation time in ms\n    delay = 1.5  # synaptic delay in ms\n    \n"
 ]
},{
  "cell_type": "markdown",
  "metadata": {},
  "source": [
    "Definition of the parameters crucial for asynchronous irregular firing\nof the neurons.\n\n"
  ]
},{
 "cell_type": "code",
 "execution_count": null,
 "metadata": {
  "collapsed": false
 },
 "outputs": [],
 "source": [
   "    \n    g = 5.0  # ratio inhibitory weight/excitatory weight\n    eta = 2.0  # external rate relative to threshold rate\n    epsilon = 0.1  # connection probability\n    \n"
 ]
},{
  "cell_type": "markdown",
  "metadata": {},
  "source": [
    "Definition of the number of neurons in the network and the number of\nneuron recorded from\n\n"
  ]
},{
 "cell_type": "code",
 "execution_count": null,
 "metadata": {
  "collapsed": false
 },
 "outputs": [],
 "source": [
   "    \n    order = 2500\n    NE = 4 * order  # number of excitatory neurons\n    NI = 1 * order  # number of inhibitory neurons\n    N_neurons = NE + NI  # number of neurons in total\n    N_rec = 50  # record from 50 neurons\n    \n"
 ]
},{
  "cell_type": "markdown",
  "metadata": {},
  "source": [
    "Definition of connectivity parameter\n\n"
  ]
},{
 "cell_type": "code",
 "execution_count": null,
 "metadata": {
  "collapsed": false
 },
 "outputs": [],
 "source": [
   "    \n    CE = int(epsilon * NE)  # number of excitatory synapses per neuron\n    CI = int(epsilon * NI)  # number of inhibitory synapses per neuron\n    C_tot = int(CI + CE)  # total number of synapses per neuron\n    \n"
 ]
},{
  "cell_type": "markdown",
  "metadata": {},
  "source": [
    "Initialization of the parameters of the integrate and fire neuron and\nthe synapses. The parameter of the neuron are stored in a dictionary.\n\n"
  ]
},{
 "cell_type": "code",
 "execution_count": null,
 "metadata": {
  "collapsed": false
 },
 "outputs": [],
 "source": [
   "    \n    tauMem = 20.0  # time constant of membrane potential in ms\n    theta = 20.0  # membrane threshold potential in mV\n    neuron_params = {\"C_m\": 1.0,\n                     \"tau_m\": tauMem,\n                     \"t_ref\": 2.0,\n                     \"E_L\": 0.0,\n                     \"V_reset\": 0.0,\n                     \"V_m\": 0.0,\n                     \"V_th\": theta}\n    J = 0.1  # postsynaptic amplitude in mV\n    J_ex = J  # amplitude of excitatory postsynaptic potential\n    J_in = -g * J_ex  # amplitude of inhibitory postsynaptic potential\n    \n"
 ]
},{
  "cell_type": "markdown",
  "metadata": {},
  "source": [
    "Definition of threshold rate, which is the external rate needed to fix\nthe membrane potential around its threshold, the external firing rate\nand the rate of the poisson generator which is multiplied by the\nin-degree CE and converted to Hz by multiplication by 1000.\n\n"
  ]
},{
 "cell_type": "code",
 "execution_count": null,
 "metadata": {
  "collapsed": false
 },
 "outputs": [],
 "source": [
   "    \n    nu_th = theta / (J * CE * tauMem)\n    nu_ex = eta * nu_th\n    p_rate = 1000.0 * nu_ex * CE\n    \n"
 ]
},{
  "cell_type": "markdown",
  "metadata": {},
  "source": [
    "Configuration of the simulation kernel by the previously defined time\nresolution used in the simulation. Setting \"print_time\" to True prints\nthe already processed simulation time as well as its percentage of the\ntotal simulation time.\n\n"
  ]
},{
 "cell_type": "code",
 "execution_count": null,
 "metadata": {
  "collapsed": false
 },
 "outputs": [],
 "source": [
   "    \n    nest.SetKernelStatus({\"resolution\": dt, \"print_time\": True,\n                          \"overwrite_files\": True})\n    \n    print(\"Building network\")\n    \n"
 ]
},{
  "cell_type": "markdown",
  "metadata": {},
  "source": [
    "Configuration of the model `iaf_psc_delta` and `poisson_generator`\nusing SetDefaults(). This function expects the model to be the\ninserted as a string and the parameter to be specified in a\ndictionary. All instances of theses models created after this point\nwill have the properties specified in the dictionary by default.\n\n"
  ]
},{
 "cell_type": "code",
 "execution_count": null,
 "metadata": {
  "collapsed": false
 },
 "outputs": [],
 "source": [
   "    \n    nest.SetDefaults(\"iaf_psc_delta\", neuron_params)\n    nest.SetDefaults(\"poisson_generator\", {\"rate\": p_rate})\n    \n"
 ]
},{
  "cell_type": "markdown",
  "metadata": {},
  "source": [
    "Creation of the nodes using `Create`. We store the returned handles in\nvariables for later reference. Here the excitatory and inhibitory, as\nwell as the poisson generator and two spike detectors. The spike\ndetectors will later be used to record excitatory and inhibitory\nspikes.\n\n"
  ]
},{
 "cell_type": "code",
 "execution_count": null,
 "metadata": {
  "collapsed": false
 },
 "outputs": [],
 "source": [
   "    \n    nodes_ex = nest.Create(\"iaf_psc_delta\", NE)\n    nodes_in = nest.Create(\"iaf_psc_delta\", NI)\n    noise = nest.Create(\"poisson_generator\")\n    espikes = nest.Create(\"spike_detector\")\n    ispikes = nest.Create(\"spike_detector\")\n    \n"
 ]
},{
  "cell_type": "markdown",
  "metadata": {},
  "source": [
    "Configuration of the spike detectors recording excitatory and\ninhibitory spikes using `SetStatus`, which expects a list of node\nhandles and a list of parameter dictionaries. Setting the variable\n\"to_file\" to True ensures that the spikes will be recorded in a .gdf\nfile starting with the string assigned to label. Setting \"withtime\"\nand \"withgid\" to True ensures that each spike is saved to file by\nstating the gid of the spiking neuron and the spike time in one line.\n\n"
  ]
},{
 "cell_type": "code",
 "execution_count": null,
 "metadata": {
  "collapsed": false
 },
 "outputs": [],
 "source": [
   "    \n    nest.SetStatus(espikes, [{\"label\": \"brunel-py-ex\",\n                              \"withtime\": True,\n                              \"withgid\": True,\n                              \"to_file\": True}])\n    \n    nest.SetStatus(ispikes, [{\"label\": \"brunel-py-in\",\n                              \"withtime\": True,\n                              \"withgid\": True,\n                              \"to_file\": True}])\n    \n    print(\"Connecting devices\")\n    \n"
 ]
},{
  "cell_type": "markdown",
  "metadata": {},
  "source": [
    "Definition of a synapse using `CopyModel`, which expects the model\nname of a pre-defined synapse, the name of the customary synapse and\nan optional parameter dictionary. The parameters defined in the\ndictionary will be the default parameter for the customary\nsynapse. Here we define one synapse for the excitatory and one for the\ninhibitory connections giving the previously defined weights and equal\ndelays.\n\n"
  ]
},{
 "cell_type": "code",
 "execution_count": null,
 "metadata": {
  "collapsed": false
 },
 "outputs": [],
 "source": [
   "    \n    nest.CopyModel(\"static_synapse\", \"excitatory\",\n                   {\"weight\": J_ex, \"delay\": delay})\n    nest.CopyModel(\"static_synapse\", \"inhibitory\",\n                   {\"weight\": J_in, \"delay\": delay})\n    \n"
 ]
},{
  "cell_type": "markdown",
  "metadata": {},
  "source": [
    "Connecting the previously defined poisson generator to the excitatory\nand inhibitory neurons using the excitatory synapse. Since the poisson\ngenerator is connected to all neurons in the population the default\nrule ('all_to_all') of Connect() is used. The synaptic properties are\ninserted via syn_spec which expects a dictionary when defining\nmultiple variables or a string when simply using a pre-defined\nsynapse.\n\n"
  ]
},{
 "cell_type": "code",
 "execution_count": null,
 "metadata": {
  "collapsed": false
 },
 "outputs": [],
 "source": [
   "    \n    nest.Connect(noise, nodes_ex, syn_spec=\"excitatory\")\n    nest.Connect(noise, nodes_in, syn_spec=\"excitatory\")\n    \n"
 ]
},{
  "cell_type": "markdown",
  "metadata": {},
  "source": [
    "Connecting the first N_rec nodes of the excitatory and inhibitory\npopulation to the associated spike detectors using excitatory\nsynapses. Here the same shortcut for the specification of the synapse\nas defined above is used.\n\n"
  ]
},{
 "cell_type": "code",
 "execution_count": null,
 "metadata": {
  "collapsed": false
 },
 "outputs": [],
 "source": [
   "    \n    nest.Connect(nodes_ex[:N_rec], espikes, syn_spec=\"excitatory\")\n    nest.Connect(nodes_in[:N_rec], ispikes, syn_spec=\"excitatory\")\n    \n    print(\"Connecting network\")\n    \n    print(\"Excitatory connections\")\n    \n"
 ]
},{
  "cell_type": "markdown",
  "metadata": {},
  "source": [
    "Connecting the excitatory population to all neurons using the\npre-defined excitatory synapse. Beforehand, the connection parameter\nare defined in a dictionary. Here we use the connection rule\n'fixed_indegree', which requires the definition of the indegree. Since\nthe synapse specification is reduced to assigning the pre-defined\nexcitatory synapse it suffices to insert a string.\n\n"
  ]
},{
 "cell_type": "code",
 "execution_count": null,
 "metadata": {
  "collapsed": false
 },
 "outputs": [],
 "source": [
   "    \n    conn_params_ex = {'rule': 'fixed_indegree', 'indegree': CE}\n    nest.Connect(nodes_ex, nodes_ex + nodes_in, conn_params_ex, \"excitatory\")\n    \n    print(\"Inhibitory connections\")\n    \n"
 ]
},{
  "cell_type": "markdown",
  "metadata": {},
  "source": [
    "Connecting the inhibitory population to all neurons using the\npre-defined inhibitory synapse. The connection parameter as well as\nthe synapse paramtere are defined analogously to the connection from\nthe excitatory population defined above.\n\n"
  ]
},{
 "cell_type": "code",
 "execution_count": null,
 "metadata": {
  "collapsed": false
 },
 "outputs": [],
 "source": [
   "    \n    conn_params_in = {'rule': 'fixed_indegree', 'indegree': CI}\n    nest.Connect(nodes_in, nodes_ex + nodes_in, conn_params_in, \"inhibitory\")\n    \n"
 ]
},{
  "cell_type": "markdown",
  "metadata": {},
  "source": [
    "Storage of the time point after the buildup of the network in a\nvariable.\n\n"
  ]
},{
 "cell_type": "code",
 "execution_count": null,
 "metadata": {
  "collapsed": false
 },
 "outputs": [],
 "source": [
   "    \n    endbuild = time.time()\n    \n"
 ]
},{
  "cell_type": "markdown",
  "metadata": {},
  "source": [
    "Simulation of the network.\n\n"
  ]
},{
 "cell_type": "code",
 "execution_count": null,
 "metadata": {
  "collapsed": false
 },
 "outputs": [],
 "source": [
   "    \n    print(\"Simulating\")\n    \n    nest.Simulate(simtime)\n    \n"
 ]
},{
  "cell_type": "markdown",
  "metadata": {},
  "source": [
    "Storage of the time point after the simulation of the network in a\nvariable.\n\n"
  ]
},{
 "cell_type": "code",
 "execution_count": null,
 "metadata": {
  "collapsed": false
 },
 "outputs": [],
 "source": [
   "    \n    endsimulate = time.time()\n    \n"
 ]
},{
  "cell_type": "markdown",
  "metadata": {},
  "source": [
    "Reading out the total number of spikes received from the spike\ndetector connected to the excitatory population and the inhibitory\npopulation.\n\n"
  ]
},{
 "cell_type": "code",
 "execution_count": null,
 "metadata": {
  "collapsed": false
 },
 "outputs": [],
 "source": [
   "    \n    events_ex = nest.GetStatus(espikes, \"n_events\")[0]\n    events_in = nest.GetStatus(ispikes, \"n_events\")[0]\n    \n"
 ]
},{
  "cell_type": "markdown",
  "metadata": {},
  "source": [
    "Calculation of the average firing rate of the excitatory and the\ninhibitory neurons by dividing the total number of recorded spikes by\nthe number of neurons recorded from and the simulation time. The\nmultiplication by 1000.0 converts the unit 1/ms to 1/s=Hz.\n\n"
  ]
},{
 "cell_type": "code",
 "execution_count": null,
 "metadata": {
  "collapsed": false
 },
 "outputs": [],
 "source": [
   "    \n    rate_ex = events_ex / simtime * 1000.0 / N_rec\n    rate_in = events_in / simtime * 1000.0 / N_rec\n    \n"
 ]
},{
  "cell_type": "markdown",
  "metadata": {},
  "source": [
    "Reading out the number of connections established using the excitatory\nand inhibitory synapse model. The numbers are summed up resulting in\nthe total number of synapses.\n\n"
  ]
},{
 "cell_type": "code",
 "execution_count": null,
 "metadata": {
  "collapsed": false
 },
 "outputs": [],
 "source": [
   "    \n    num_synapses = (nest.GetDefaults(\"excitatory\")[\"num_connections\"] +\n                    nest.GetDefaults(\"inhibitory\")[\"num_connections\"])\n    \n"
 ]
},{
  "cell_type": "markdown",
  "metadata": {},
  "source": [
    "Establishing the time it took to build and simulate the network by\ntaking the difference of the pre-defined time variables.\n\n"
  ]
},{
 "cell_type": "code",
 "execution_count": null,
 "metadata": {
  "collapsed": false
 },
 "outputs": [],
 "source": [
   "    \n    build_time = endbuild - startbuild\n    sim_time = endsimulate - endbuild\n    \n"
 ]
},{
  "cell_type": "markdown",
  "metadata": {},
  "source": [
    "Printing the network properties, firing rates and building times.\n\n"
  ]
},{
 "cell_type": "code",
 "execution_count": null,
 "metadata": {
  "collapsed": false
 },
 "outputs": [],
 "source": [
   "    \n    print(\"Brunel network simulation (Python)\")\n    print(\"Number of neurons : {0}\".format(N_neurons))\n    print(\"Number of synapses: {0}\".format(num_synapses))\n    print(\"       Exitatory  : {0}\".format(int(CE * N_neurons) + N_neurons))\n    print(\"       Inhibitory : {0}\".format(int(CI * N_neurons)))\n    print(\"Excitatory rate   : %.2f Hz\" % rate_ex)\n    print(\"Inhibitory rate   : %.2f Hz\" % rate_in)\n    print(\"Building time     : %.2f s\" % build_time)\n    print(\"Simulation time   : %.2f s\" % sim_time)\n    \n"
 ]
},{
  "cell_type": "markdown",
  "metadata": {},
  "source": [
    "Plot a raster of the excitatory neurons and a histogram.\n\n"
  ]
},{
 "cell_type": "code",
 "execution_count": null,
 "metadata": {
  "collapsed": false
 },
 "outputs": [],
 "source": [
   "    \n    nest.raster_plot.from_device(espikes, hist=True)\n    \n    \n"
 ]
},{
  "cell_type": "markdown",
  "metadata": {},
  "source": [
    "\n\n"
  ]
},{
 "cell_type": "code",
 "execution_count": null,
 "metadata": {
  "collapsed": false
 },
 "outputs": [],
 "source": [
   "\n"
 ]
}
],
 "metadata": {
  "kernelspec": {
   "display_name": "Python 2",
   "language": "python",
   "name": "python2"
  },
  "language_info": {
   "codemirror_mode": {
    "name": "ipython",
    "version": 2
   },
   "file_extension": ".py",
   "mimetype": "text/x-python",
   "name": "python",
   "nbconvert_exporter": "python",
   "pygments_lexer": "ipython2",
   "version": "2.7.3"
  }
 },
 "nbformat": 4,
 "nbformat_minor": 0
}