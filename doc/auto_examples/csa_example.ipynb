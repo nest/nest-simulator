{
  "cells": [
    {
      "cell_type": "code",
      "execution_count": null,
      "metadata": {
        "collapsed": false
      },
      "outputs": [],
      "source": [
        "%matplotlib inline"
      ]
    },
    {
      "cell_type": "markdown",
      "metadata": {},
      "source": [
        "\nUsing CSA for connection setup\n------------------------------\n\nThis example sets up a simple network in NEST using the Connection Set\nAlgebra (CSA) instead of using the built-in connection routines.\n\nUsing the CSA requires NEST to be compiled with support for\nlibneurosim. For details, see Djurfeldt M, Davison AP and Eppler JM\n(2014) **Efficient generation of connectivity in neuronal networks\nfrom simulator-independent descriptions**, *Front. Neuroinform.*\nhttp://dx.doi.org/10.3389/fninf.2014.00043\n\nFor a related example, see csa_topology_example.py\n\n"
      ]
    },
    {
      "cell_type": "code",
      "execution_count": null,
      "metadata": {
        "collapsed": false
      },
      "outputs": [],
      "source": [
        "\"\"\"\nFirst, we import all necessary modules for simulation and plotting.\n\"\"\"\n\nimport nest\nfrom nest import voltage_trace\nfrom nest import visualization\n\n\"\"\"\nNext, we check for the availability of the CSA Python module. If it\ndoes not import, we exit with an error message.\n\"\"\"\n\ntry:\n    import csa\n    haveCSA = True\nexcept ImportError:\n    print(\"This example requires CSA to be installed in order to run.\\n\" +\n          \"Please make sure you compiled NEST using\\n\" +\n          \"  -Dwith-libneurosim=[OFF|ON|</path/to/libneurosim>]\\n\" +\n          \"and CSA and libneurosim are available from PYTHONPATH.\")\n    import sys\n    sys.exit()\n\n\"\"\"\nTo set up the connectivity, We create a ``random`` connection set\nwith a probability of 0.1 and two associated values (10000.0 and 1.0)\nused as weight and delay, respectively.\n\"\"\"\n\ncs = csa.cset(csa.random(0.1), 10000.0, 1.0)\n\n\"\"\"\nUsing the `Create` command from PyNEST, we create the neurons of\nthe pre- and postsynaptic populations, each of which containing 16\nneurons.\n\"\"\"\n\npre = nest.Create(\"iaf_psc_alpha\", 16)\npost = nest.Create(\"iaf_psc_alpha\", 16)\n\n\"\"\"\nWe can now connect the populations using the `CGConnect` function.\nIt takes the IDs of pre- and postsynaptic neurons (``pre`` and\n``post``), the connection set (``cs``) and a dictionary that maps\nthe parameters weight and delay to positions in the value set\nassociated with the connection set.\n\"\"\"\n\nnest.CGConnect(pre, post, cs, {\"weight\": 0, \"delay\": 1})\n\n\"\"\"\nTo stimulate the network, we create a `poisson_generator` and set it\nup to fire with a rate of 100000 spikes per second. It is connected to\nthe neurons of the pre-synaptic population.\n\"\"\"\n\npg = nest.Create(\"poisson_generator\", params={\"rate\": 100000.0})\nnest.Connect(pg, pre, \"all_to_all\")\n\n\"\"\"\nTo measure and record the membrane potentials of the neurons, we\ncreate a `voltmeter` and connect it to all post-synaptic nodes.\n\"\"\"\n\nvm = nest.Create(\"voltmeter\")\nnest.Connect(vm, post, \"all_to_all\")\n\n\"\"\"\nWe save the whole connection graph of the network as a PNG image\nusing the `plot_network` function of the `visualization` submodule of\nPyNEST.\n\"\"\"\n\nallnodes = pg + pre + post + vm\nvisualization.plot_network(allnodes, \"csa_example_graph.png\")\n\n\"\"\"\nFinally, we simulate the network for 50 ms. The voltage traces of\nthe post-synaptic nodes are plotted.\n\"\"\"\n\nnest.Simulate(50.0)\nvoltage_trace.from_device(vm)"
      ]
    }
  ],
  "metadata": {
    "kernelspec": {
      "display_name": "Python 3",
      "language": "python",
      "name": "python3"
    },
    "language_info": {
      "codemirror_mode": {
        "name": "ipython",
        "version": 3
      },
      "file_extension": ".py",
      "mimetype": "text/x-python",
      "name": "python",
      "nbconvert_exporter": "python",
      "pygments_lexer": "ipython3",
      "version": "3.6.1"
    }
  },
  "nbformat": 4,
  "nbformat_minor": 0
}