{
 "cells": [
   {
  "cell_type": "markdown",
  "metadata": {},
  "source": [
    "\n\n"
  ]
},{
 "cell_type": "code",
 "execution_count": null,
 "metadata": {
  "collapsed": false
 },
 "outputs": [],
 "source": [
   "    \n    \n"
 ]
},{
  "cell_type": "markdown",
  "metadata": {},
  "source": [
    "Two neurons\n-----------\n\n\n"
  ]
},{
 "cell_type": "code",
 "execution_count": null,
 "metadata": {
  "collapsed": false
 },
 "outputs": [],
 "source": [
   "    \n    import pylab\n    \n    import nest\n    import nest.voltage_trace\n    \n    weight = 20.0\n    delay = 1.0\n    stim = 1000.0\n    \n    neuron1 = nest.Create(\"iaf_psc_alpha\")\n    neuron2 = nest.Create(\"iaf_psc_alpha\")\n    voltmeter = nest.Create(\"voltmeter\")\n    \n    nest.SetStatus(neuron1, {\"I_e\": stim})\n    nest.Connect(neuron1, neuron2, syn_spec={'weight': weight, 'delay': delay})\n    nest.Connect(voltmeter, neuron2)\n    \n    nest.Simulate(100.0)\n    \n    nest.voltage_trace.from_device(voltmeter)\n    nest.voltage_trace.show()\n    \n    \n"
 ]
},{
  "cell_type": "markdown",
  "metadata": {},
  "source": [
    "\n\n"
  ]
},{
 "cell_type": "code",
 "execution_count": null,
 "metadata": {
  "collapsed": false
 },
 "outputs": [],
 "source": [
   "\n"
 ]
}
],
 "metadata": {
  "kernelspec": {
   "display_name": "Python 2",
   "language": "python",
   "name": "python2"
  },
  "language_info": {
   "codemirror_mode": {
    "name": "ipython",
    "version": 2
   },
   "file_extension": ".py",
   "mimetype": "text/x-python",
   "name": "python",
   "nbconvert_exporter": "python",
   "pygments_lexer": "ipython2",
   "version": "2.7.3"
  }
 },
 "nbformat": 4,
 "nbformat_minor": 0
}