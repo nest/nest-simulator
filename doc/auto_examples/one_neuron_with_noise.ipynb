{
  "cells": [
    {
      "cell_type": "code",
      "execution_count": null,
      "metadata": {
        "collapsed": false
      },
      "outputs": [],
      "source": [
        "%matplotlib inline"
      ]
    },
    {
      "cell_type": "markdown",
      "metadata": {},
      "source": [
        "\nOne neuron with noise\n---------------------\n\n\n"
      ]
    },
    {
      "cell_type": "code",
      "execution_count": null,
      "metadata": {
        "collapsed": false
      },
      "outputs": [],
      "source": [
        "import nest\nimport nest.voltage_trace\n\nnest.ResetKernel()\n\nneuron = nest.Create(\"iaf_psc_alpha\")\n\nnoise = nest.Create(\"poisson_generator\", 2)\nnest.SetStatus(noise, [{\"rate\": 80000.0}, {\"rate\": 15000.0}])\n\nvoltmeter = nest.Create(\"voltmeter\")\nnest.SetStatus(voltmeter, {\"withgid\": True, \"withtime\": True})\n\nnest.Connect(noise, neuron, syn_spec={'weight': [[1.2, -1.0]], 'delay': 1.0})\nnest.Connect(voltmeter, neuron)\n\nnest.Simulate(1000.0)\n\nnest.voltage_trace.from_device(voltmeter)"
      ]
    }
  ],
  "metadata": {
    "kernelspec": {
      "display_name": "Python 3",
      "language": "python",
      "name": "python3"
    },
    "language_info": {
      "codemirror_mode": {
        "name": "ipython",
        "version": 3
      },
      "file_extension": ".py",
      "mimetype": "text/x-python",
      "name": "python",
      "nbconvert_exporter": "python",
      "pygments_lexer": "ipython3",
      "version": "3.6.1"
    }
  },
  "nbformat": 4,
  "nbformat_minor": 0
}